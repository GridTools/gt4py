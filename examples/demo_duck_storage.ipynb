{
 "cells": [
  {
   "cell_type": "markdown",
   "metadata": {},
   "source": [
    "# Examples of Using the gt4py Storages and Calling Stencils with Custom Data Containers "
   ]
  },
  {
   "cell_type": "markdown",
   "metadata": {},
   "source": [
    "## State of The implementation"
   ]
  },
  {
   "cell_type": "markdown",
   "metadata": {},
   "source": [
    "In its current state, this branch is not yet a full implementation of the GDP-3.Noteable gaps are\n",
    "\n",
    "* Storages are still assumed to be in IJK order when passed to stencils, since the generated code is not yet able to flexibly handle nonstandard layouts and this functionality would be very limited.\n",
    "* As a consequence of the last point, the xarray `__gt_data_interface__` property has not been implemented yet, since without the \"dims\", this functionality would be very restrictive on how the DataArray can be used. \n",
    "* The raising of errors for incompatible or inconsistent parameters is in largely untested. Given valid parameters, this should be working, though.\n"
   ]
  },
  {
   "cell_type": "code",
   "execution_count": 1,
   "metadata": {},
   "outputs": [],
   "source": [
    "from types import SimpleNamespace\n",
    "\n",
    "import numpy as np\n",
    "import cupy as cp\n",
    "\n",
    "from gt4py.gtscript import stencil, Field \n",
    "import gt4py.storage as gt_storage"
   ]
  },
  {
   "cell_type": "code",
   "execution_count": 2,
   "metadata": {},
   "outputs": [],
   "source": [
    "def copy_stencil(field_a: Field[np.float64], field_b: Field[np.float64]):\n",
    "    with computation(PARALLEL), interval(...):\n",
    "        field_b = field_a[0, 0, 0]\n",
    "        \n",
    "copy_stencil_debug = stencil(definition=copy_stencil, backend=\"debug\")\n",
    "copy_stencil_gtcuda = stencil(definition=copy_stencil, backend=\"gtcuda\")"
   ]
  },
  {
   "cell_type": "markdown",
   "metadata": {},
   "source": [
    "## Creating Storages"
   ]
  },
  {
   "cell_type": "markdown",
   "metadata": {},
   "source": [
    "Storages can be constructed through the functions `empty`, `zeros`, `ones`, `full` with the parameters specified in GDP-3"
   ]
  },
  {
   "cell_type": "code",
   "execution_count": 3,
   "metadata": {},
   "outputs": [],
   "source": [
    "in_f = gt_storage.full((3, 3, 3), 3.0, defaults=\"gtmc\")\n",
    "out_f = gt_storage.full((5, 5, 5), 3.0, defaults=\"gtmc\", halo=(1, 1, 1))"
   ]
  },
  {
   "cell_type": "markdown",
   "metadata": {},
   "source": [
    "Creating by wrapping an existing buffer can be achieved through `gt_storage.as_storage` "
   ]
  },
  {
   "cell_type": "code",
   "execution_count": 4,
   "metadata": {},
   "outputs": [
    {
     "name": "stdout",
     "output_type": "stream",
     "text": [
      "[[[0 0 0]\n",
      "  [0 0 0]\n",
      "  [0 0 0]]\n",
      "\n",
      " [[0 0 0]\n",
      "  [0 1 0]\n",
      "  [0 0 0]]\n",
      "\n",
      " [[0 0 0]\n",
      "  [0 0 0]\n",
      "  [0 0 0]]]\n"
     ]
    }
   ],
   "source": [
    "array = np.zeros((3,3,3), dtype=np.int32)\n",
    "storage = gt_storage.as_storage(array)\n",
    "storage[1,1,1] = 1\n",
    "print(array)"
   ]
  },
  {
   "cell_type": "markdown",
   "metadata": {},
   "source": [
    "Creating from existing buffer with copying remains possible through `gt_storage.storage`"
   ]
  },
  {
   "cell_type": "code",
   "execution_count": 5,
   "metadata": {},
   "outputs": [
    {
     "name": "stdout",
     "output_type": "stream",
     "text": [
      "[[[0 0 0]\n",
      "  [0 0 0]\n",
      "  [0 0 0]]\n",
      "\n",
      " [[0 0 0]\n",
      "  [0 0 0]\n",
      "  [0 0 0]]\n",
      "\n",
      " [[0 0 0]\n",
      "  [0 0 0]\n",
      "  [0 0 0]]]\n"
     ]
    }
   ],
   "source": [
    "array = np.zeros((3,3,3), dtype=np.int32)\n",
    "storage = gt_storage.storage(array)\n",
    "storage[1,1,1] = 2\n",
    "print(array)"
   ]
  },
  {
   "cell_type": "markdown",
   "metadata": {},
   "source": [
    "## Buffers as `ndarray`"
   ]
  },
  {
   "cell_type": "markdown",
   "metadata": {},
   "source": [
    "The storages do not support ufuncs, i.e. additions, comparisons, reductions etc. To perform those they need to be converted e.g. to numpy or cupy arrays, there are a number of ways to achieve this. "
   ]
  },
  {
   "cell_type": "markdown",
   "metadata": {},
   "source": [
    "If no copy is desired, either `np.asarray` (`cp.asarray`) as well as the method `as_numpy` (`as_cupy`) will do the trick, if any of the buffers in the storage can be used on cpu (gpu)."
   ]
  },
  {
   "cell_type": "code",
   "execution_count": 6,
   "metadata": {},
   "outputs": [
    {
     "name": "stdout",
     "output_type": "stream",
     "text": [
      "[[[1. 1. 1.]\n",
      "  [1. 1. 1.]\n",
      "  [1. 1. 1.]]\n",
      "\n",
      " [[1. 1. 1.]\n",
      "  [1. 3. 1.]\n",
      "  [1. 1. 1.]]\n",
      "\n",
      " [[1. 1. 1.]\n",
      "  [1. 1. 1.]\n",
      "  [1. 1. 1.]]]\n",
      "[[[1. 1. 1.]\n",
      "  [1. 1. 1.]\n",
      "  [1. 1. 1.]]\n",
      "\n",
      " [[1. 1. 1.]\n",
      "  [1. 2. 1.]\n",
      "  [1. 1. 1.]]\n",
      "\n",
      " [[1. 1. 1.]\n",
      "  [1. 1. 1.]\n",
      "  [1. 1. 1.]]]\n"
     ]
    }
   ],
   "source": [
    "cpu_only_storage = gt_storage.ones((3, 3, 3), device=\"cpu\", managed=False)\n",
    "gpu_only_storage = gt_storage.ones((3, 3, 3), device=\"gpu\", managed=False)\n",
    "\n",
    "cp_array = cp.asarray(gpu_only_storage)\n",
    "np_array = np.asarray(cpu_only_storage)\n",
    "\n",
    "cpu_only_storage[1,1,1] = 2\n",
    "gpu_only_storage[1,1,1] = 3\n",
    "\n",
    "print(cp_array)\n",
    "print(np_array)"
   ]
  },
  {
   "cell_type": "markdown",
   "metadata": {},
   "source": [
    "Be wary of using `np.asarray` on a storage without cpu buffer, since it will return a scalar ndarray with \"object\" dtype, which is likely not what you want. (A similar problem applies in the other direction, since cupy triggers a copy.)\n",
    "\n",
    "Depending on the use case, a platform portable option may be to use `cp.asnumpy` (`cp.asarray`), which will only do a copy when moving from gpu to cpu (cpu to gpu). This will however prevent changes to the resulting buffer to be applied to the storage as well, if the storage does not contain a CPU (GPU) buffer itself. "
   ]
  },
  {
   "cell_type": "code",
   "execution_count": 7,
   "metadata": {},
   "outputs": [
    {
     "data": {
      "text/plain": [
       "array([[[1., 1., 1.],\n",
       "        [1., 1., 1.],\n",
       "        [1., 1., 1.]],\n",
       "\n",
       "       [[1., 1., 1.],\n",
       "        [1., 2., 1.],\n",
       "        [1., 1., 1.]],\n",
       "\n",
       "       [[1., 1., 1.],\n",
       "        [1., 1., 1.],\n",
       "        [1., 1., 1.]]])"
      ]
     },
     "execution_count": 7,
     "metadata": {},
     "output_type": "execute_result"
    }
   ],
   "source": [
    "#probably not what you want:\n",
    "np.asarray(gpu_only_storage) # results in 0-d \"object\" array\n",
    "\n",
    "#possibly, depending on context:\n",
    "cp.asnumpy(gpu_only_storage) # triggers copy\n",
    "cp.asarray(cpu_only_storage) # triggers copy\n"
   ]
  },
  {
   "cell_type": "markdown",
   "metadata": {},
   "source": [
    "If a copy is acceptable or desired, either `np.array` (`cp.array`) as well as the method `to_numpy` (`to_cupy`) will do the trick, if any of the buffers in the storage can be used on CPU (GPU). Again, be wary of using `np.array` on a storage without CPU buffer. The method `to_numpy` (`to_cupy`) will always perform a copy and works even if the storage does not hold a buffer on the respective device."
   ]
  },
  {
   "cell_type": "code",
   "execution_count": 8,
   "metadata": {},
   "outputs": [
    {
     "name": "stdout",
     "output_type": "stream",
     "text": [
      "[[[1. 1. 1.]\n",
      "  [1. 1. 1.]\n",
      "  [1. 1. 1.]]\n",
      "\n",
      " [[1. 1. 1.]\n",
      "  [1. 1. 1.]\n",
      "  [1. 1. 1.]]\n",
      "\n",
      " [[1. 1. 1.]\n",
      "  [1. 1. 1.]\n",
      "  [1. 1. 1.]]]\n",
      "[[[1. 1. 1.]\n",
      "  [1. 1. 1.]\n",
      "  [1. 1. 1.]]\n",
      "\n",
      " [[1. 1. 1.]\n",
      "  [1. 1. 1.]\n",
      "  [1. 1. 1.]]\n",
      "\n",
      " [[1. 1. 1.]\n",
      "  [1. 1. 1.]\n",
      "  [1. 1. 1.]]]\n"
     ]
    }
   ],
   "source": [
    "cpu_only_storage = gt_storage.ones((3, 3, 3), device=\"cpu\", managed=False)\n",
    "gpu_only_storage = gt_storage.ones((3, 3, 3), device=\"gpu\", managed=False)\n",
    "\n",
    "cp_array = gpu_only_storage.to_cupy()\n",
    "np_array = cpu_only_storage.to_numpy()\n",
    "\n",
    "cpu_only_storage[1,1,1] = 2\n",
    "gpu_only_storage[1,1,1] = 3\n",
    "\n",
    "print(cp_array)\n",
    "print(np_array)"
   ]
  },
  {
   "cell_type": "markdown",
   "metadata": {},
   "source": [
    "## Passing non-storage objects to stencil computations"
   ]
  },
  {
   "cell_type": "markdown",
   "metadata": {},
   "source": [
    "It is possible to pass objects to stencils that support the `__array_interface__` (`__cuda_array_interface__`). If there is no buffer on the same device as the computation will run, a copy is issued, s.t. it is e.g. possible to pass GPU buffers to the `\"debug\"` backend."
   ]
  },
  {
   "cell_type": "code",
   "execution_count": 9,
   "metadata": {},
   "outputs": [],
   "source": [
    "cp_in = cp.ones((3,3,3), dtype=np.float64)\n",
    "np_out = np.zeros((3,3,3), dtype=np.float64)\n",
    "\n",
    "copy_stencil_debug(cp_in, np_out)\n",
    "np.testing.assert_equal(cp.asnumpy(cp_in), np_out)"
   ]
  },
  {
   "cell_type": "markdown",
   "metadata": {},
   "source": [
    "Further, objects can alternatively implement the `__gt_data_interface__`. Note that the `\"dims\"` key is not supported yet. "
   ]
  },
  {
   "cell_type": "code",
   "execution_count": 10,
   "metadata": {},
   "outputs": [],
   "source": [
    "in_storage = gt_storage.ones((3,3,3), defaults=\"gtcuda\")\n",
    "out_storage = gt_storage.zeros_like(in_storage, defaults=\"gtcuda\")\n",
    "\n",
    "in_obj=SimpleNamespace(__gt_data_interface__=in_storage.__gt_data_interface__)\n",
    "out_obj=SimpleNamespace(__gt_data_interface__=out_storage.__gt_data_interface__)\n",
    "\n",
    "copy_stencil_gtcuda(in_obj, out_obj)\n",
    "np.testing.assert_equal(in_storage.to_numpy(), out_storage.to_numpy())"
   ]
  }
 ],
 "metadata": {
  "kernelspec": {
   "display_name": "Python 3",
   "language": "python",
   "name": "python3"
  },
  "language_info": {
   "codemirror_mode": {
    "name": "ipython",
    "version": 3
   },
   "file_extension": ".py",
   "mimetype": "text/x-python",
   "name": "python",
   "nbconvert_exporter": "python",
   "pygments_lexer": "ipython3",
   "version": "3.8.5"
  }
 },
 "nbformat": 4,
 "nbformat_minor": 4
}

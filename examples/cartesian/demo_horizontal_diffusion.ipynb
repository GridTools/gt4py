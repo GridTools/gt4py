{
 "cells": [
  {
   "cell_type": "markdown",
   "metadata": {},
   "source": [
    "GT4Py - GridTools Framework\n",
    "\n",
    "Copyright (c) 2014-2024, ETH Zurich\n",
    "All rights reserved.\n",
    "\n",
    "Please, refer to the LICENSE file in the root directory.\n",
    "SPDX-License-Identifier: BSD-3-Clause\n"
   ]
  },
  {
   "cell_type": "markdown",
   "metadata": {},
   "source": [
    "## Horizontal Diffusion Example"
   ]
  },
  {
   "cell_type": "markdown",
   "metadata": {},
   "source": [
    "### Imports and utilities"
   ]
  },
  {
   "cell_type": "code",
   "execution_count": 1,
   "metadata": {},
   "outputs": [
    {
     "data": {
      "text/html": [
       "<link href=\"https://fonts.googleapis.com/icon?family=Material+Icons\" rel=\"stylesheet\"><script src=\"https://spcl.github.io/dace/webclient2/dist/sdfv.js\"></script>\n",
       "<link href=\"https://spcl.github.io/dace/webclient2/sdfv.css\" rel=\"stylesheet\">\n"
      ],
      "text/plain": [
       "<IPython.core.display.HTML object>"
      ]
     },
     "metadata": {},
     "output_type": "display_data"
    }
   ],
   "source": [
    "import numpy as np\n",
    "import matplotlib.pyplot as plt\n",
    "\n",
    "import gt4py.storage\n",
    "import gt4py.cartesian.gtscript as gtscript"
   ]
  },
  {
   "cell_type": "markdown",
   "metadata": {},
   "source": [
    "### Global definitions"
   ]
  },
  {
   "cell_type": "code",
   "execution_count": 2,
   "metadata": {},
   "outputs": [],
   "source": [
    "backend = \"numpy\"  # options: \"numpy\", \"gt:cpu_ifirst\", \"gt:cpu_kfirst\", \"gt:gpu\", \"dace:cpu\", \"dace:gpu\"\n",
    "dtype = np.float64"
   ]
  },
  {
   "cell_type": "markdown",
   "metadata": {},
   "source": [
    "### Define GTScript stencil"
   ]
  },
  {
   "cell_type": "code",
   "execution_count": 3,
   "metadata": {},
   "outputs": [],
   "source": [
    "\n",
    "@gtscript.stencil(backend) # this decorator triggers compilation of the stencil\n",
    "def horizontal_diffusion(\n",
    "    in_field: gtscript.Field[dtype],\n",
    "    out_field: gtscript.Field[dtype],\n",
    "    coeff: gtscript.Field[dtype],\n",
    "):\n",
    "    with computation(PARALLEL), interval(...):\n",
    "        lap_field = 4.0 * in_field[0, 0, 0] - (\n",
    "            in_field[1, 0, 0] + in_field[-1, 0, 0] + in_field[0, 1, 0] + in_field[0, -1, 0]\n",
    "        )\n",
    "        res = lap_field[1, 0, 0] - lap_field[0, 0, 0]\n",
    "        flx_field = 0 if (res * (in_field[1, 0, 0] - in_field[0, 0, 0])) > 0 else res\n",
    "        res = lap_field[0, 1, 0] - lap_field[0, 0, 0]\n",
    "        fly_field = 0 if (res * (in_field[0, 1, 0] - in_field[0, 0, 0])) > 0 else res\n",
    "        out_field = in_field[0, 0, 0] - coeff[0, 0, 0] * (\n",
    "            flx_field[0, 0, 0] - flx_field[-1, 0, 0] + fly_field[0, 0, 0] - fly_field[0, -1, 0]\n",
    "        )\n"
   ]
  },
  {
   "cell_type": "markdown",
   "metadata": {},
   "source": [
    "### Initialize Fields"
   ]
  },
  {
   "cell_type": "code",
   "execution_count": 4,
   "metadata": {},
   "outputs": [
    {
     "data": {
      "text/plain": [
       "<matplotlib.image.AxesImage at 0x13a978310>"
      ]
     },
     "execution_count": 4,
     "metadata": {},
     "output_type": "execute_result"
    },
    {
     "data": {
      "image/png": "[encoded data removed]",
      "text/plain": [
       "<Figure size 640x480 with 1 Axes>"
      ]
     },
     "metadata": {},
     "output_type": "display_data"
    }
   ],
   "source": [
    "# Initialize example data\n",
    "N = 30\n",
    "shape = (N, N, N)\n",
    "origin = (2, 2, 0)\n",
    "\n",
    "indices = np.arange(N)\n",
    "ii = np.zeros((N, N, N)) + np.reshape(indices, (N, 1, 1))\n",
    "jj = np.zeros((N, N, N)) + np.reshape(indices, (1, N, 1))\n",
    "kk = np.zeros((N, N, N)) + np.reshape(indices, (1, 1, N))\n",
    "\n",
    "xx = ii / N\n",
    "yy = jj / N\n",
    "zz = kk / N\n",
    "\n",
    "in_data = 5. + 8. * (2. + np.cos(np.pi * (xx + 1.5 * yy)) + np.sin(2 * np.pi * (xx + 1.5 * yy))) / 4.\n",
    "out_data = np.zeros(shape)\n",
    "coeff_data = 0.025 * np.ones(shape)\n",
    "\n",
    "# Plot initialization\n",
    "projection = np.array(np.sum(in_data, axis=2))\n",
    "plt.imshow(projection)\n"
   ]
  },
  {
   "cell_type": "markdown",
   "metadata": {},
   "source": [
    "### Copy input data from numpy arrays to gt4py storages\n"
   ]
  },
  {
   "cell_type": "code",
   "execution_count": 5,
   "metadata": {},
   "outputs": [],
   "source": [
    "in_storage = gt4py.storage.from_array(\n",
    "    in_data, dtype, backend=backend, aligned_index=origin\n",
    ")\n",
    "out_storage = gt4py.storage.from_array(\n",
    "    out_data, dtype, backend=backend, aligned_index=origin\n",
    ")\n",
    "coeff_storage = gt4py.storage.from_array(\n",
    "    coeff_data, dtype, backend=backend, aligned_index=origin\n",
    ")"
   ]
  },
  {
   "cell_type": "markdown",
   "metadata": {},
   "source": [
    "### Run computation"
   ]
  },
  {
   "cell_type": "code",
   "execution_count": 6,
   "metadata": {},
   "outputs": [],
   "source": [
    "horizontal_diffusion(in_storage, out_storage, coeff_storage, origin=origin)"
   ]
  },
  {
   "cell_type": "markdown",
   "metadata": {},
   "source": [
    "### Plot results"
   ]
  },
  {
   "cell_type": "code",
   "execution_count": 7,
   "metadata": {},
   "outputs": [
    {
     "data": {
      "text/plain": [
       "<matplotlib.image.AxesImage at 0x13aad2c10>"
      ]
     },
     "execution_count": 7,
     "metadata": {},
     "output_type": "execute_result"
    },
    {
     "data": {
      "image/png": "[encoded data removed]",
      "text/plain": [
       "<Figure size 640x480 with 1 Axes>"
      ]
     },
     "metadata": {},
     "output_type": "display_data"
    }
   ],
   "source": [
    "projection = np.asarray(np.sum(out_storage, axis=2))\n",
    "plt.imshow(projection)"
   ]
  }
 ],
 "metadata": {
  "kernelspec": {
   "display_name": "Python 3 (ipykernel)",
   "language": "python",
   "name": "python3"
  },
  "language_info": {
   "codemirror_mode": {
    "name": "ipython",
    "version": 3
   },
   "file_extension": ".py",
   "mimetype": "text/x-python",
   "name": "python",
   "nbconvert_exporter": "python",
   "pygments_lexer": "ipython3",
   "version": "3.8.13"
  }
 },
 "nbformat": 4,
 "nbformat_minor": 4
}

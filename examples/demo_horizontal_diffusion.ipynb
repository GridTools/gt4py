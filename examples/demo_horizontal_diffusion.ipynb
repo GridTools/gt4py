{
 "cells": [
  {
   "cell_type": "markdown",
   "metadata": {},
   "source": [
    "GT4Py - GridTools4Py - GridTools for Python\n",
    "\n",
    "Copyright (c) 2014-2019, ETH Zurich\n",
    "All rights reserved.\n",
    "\n",
    "This file is part the GT4Py project and the GridTools framework.\n",
    "GT4Py is free software: you can redistribute it and/or modify it under\n",
    "the terms of the GNU General Public License as published by the\n",
    "Free Software Foundation, either version 3 of the License, or any later\n",
    "version. See the LICENSE.txt file at the top-level directory of this\n",
    "distribution for a copy of the license or check <https://www.gnu.org/licenses/>.\n",
    "\n",
    "SPDX-License-Identifier: GPL-3.0-or-later\n"
   ]
  },
  {
   "cell_type": "markdown",
   "metadata": {},
   "source": [
    "## Horizontal Diffusion Example"
   ]
  },
  {
   "cell_type": "markdown",
   "metadata": {},
   "source": [
    "### Imports and utilities"
   ]
  },
  {
   "cell_type": "code",
   "execution_count": 1,
   "metadata": {},
   "outputs": [],
   "source": [
    "import matplotlib.pyplot as plt\n",
    "import numpy as np\n",
    "\n",
    "import gt4py\n",
    "import gt4py.gtscript as gtscript\n",
    "import gt4py.storage as gt_storage"
   ]
  },
  {
   "cell_type": "markdown",
   "metadata": {},
   "source": [
    "### Global definitions"
   ]
  },
  {
   "cell_type": "code",
   "execution_count": 2,
   "metadata": {},
   "outputs": [],
   "source": [
    "backend=\"gtcuda\" # \"numpy\", \"gt:cpu_ifirst\", \"gt:gpu\"\n",
    "dtype = np.float64"
   ]
  },
  {
   "cell_type": "markdown",
   "metadata": {},
   "source": [
    "### Define GTScript stencil"
   ]
  },
  {
   "cell_type": "code",
   "execution_count": 3,
   "metadata": {},
   "outputs": [],
   "source": [
    "\n",
    "@gtscript.stencil(backend=backend) # this decorator triggers compilation of the stencil\n",
    "def horizontal_diffusion(\n",
    "    in_field: gtscript.Field[dtype],\n",
    "    out_field: gtscript.Field[dtype],\n",
    "    coeff: gtscript.Field[dtype],\n",
    "):\n",
    "    with computation(PARALLEL), interval(...):\n",
    "        lap_field = 4.0 * in_field[0, 0, 0] - (\n",
    "            in_field[1, 0, 0] + in_field[-1, 0, 0] + in_field[0, 1, 0] + in_field[0, -1, 0]\n",
    "        )\n",
    "        res = lap_field[1, 0, 0] - lap_field[0, 0, 0]\n",
    "        flx_field = 0 if (res * (in_field[1, 0, 0] - in_field[0, 0, 0])) > 0 else res\n",
    "        res = lap_field[0, 1, 0] - lap_field[0, 0, 0]\n",
    "        fly_field = 0 if (res * (in_field[0, 1, 0] - in_field[0, 0, 0])) > 0 else res\n",
    "        out_field = in_field[0, 0, 0] - coeff[0, 0, 0] * (\n",
    "            flx_field[0, 0, 0] - flx_field[-1, 0, 0] + fly_field[0, 0, 0] - fly_field[0, -1, 0]\n",
    "        )\n"
   ]
  },
  {
   "cell_type": "markdown",
   "metadata": {},
   "source": [
    "### Initialize Fields"
   ]
  },
  {
   "cell_type": "code",
   "execution_count": 4,
   "metadata": {},
   "outputs": [
    {
     "data": {
      "text/plain": [
       "<matplotlib.image.AxesImage at 0x2aab5c26ab00>"
      ]
     },
     "execution_count": 4,
     "metadata": {},
     "output_type": "execute_result"
    },
    {
     "data": {
      "image/png": "[encoded data removed]",
      "text/plain": [
       "<Figure size 432x288 with 1 Axes>"
      ]
     },
     "metadata": {
      "needs_background": "light"
     },
     "output_type": "display_data"
    }
   ],
   "source": [
    "# Initialize example data\n",
    "N = 30\n",
    "shape = [N] * 3\n",
    "origin = (2, 2, 0)\n",
    "\n",
    "indices = np.arange(N)\n",
    "ii = np.zeros((N, N, N)) + np.reshape(indices, (N, 1, 1))\n",
    "jj = np.zeros((N, N, N)) + np.reshape(indices, (1, N, 1))\n",
    "kk = np.zeros((N, N, N)) + np.reshape(indices, (1, 1, N))\n",
    "\n",
    "xx = ii / N\n",
    "yy = jj / N\n",
    "zz = kk / N\n",
    "\n",
    "in_data = 5. + 8. * (2. + np.cos(np.pi * (xx + 1.5 * yy)) + np.sin(2 * np.pi * (xx + 1.5 * yy))) / 4.\n",
    "out_data = np.zeros(shape)\n",
    "coeff_data = 0.025 * np.ones(shape)\n",
    "\n",
    "# Plot initialization\n",
    "projection = np.array(np.sum(in_data, axis=2))\n",
    "plt.imshow(projection)\n"
   ]
  },
  {
   "cell_type": "markdown",
   "metadata": {},
   "source": [
    "### Copy input data from numpy arrays to gt4py storages\n"
   ]
  },
  {
   "cell_type": "code",
   "execution_count": 5,
   "metadata": {},
   "outputs": [],
   "source": [
    "in_storage = gt_storage.from_array(\n",
    "    in_data, backend, default_origin=origin, dtype=dtype \n",
    ")\n",
    "out_storage = gt_storage.from_array(\n",
    "    out_data, backend, default_origin=origin, dtype=dtype, \n",
    ")\n",
    "coeff_storage = gt_storage.from_array(\n",
    "    coeff_data, backend, default_origin=origin, dtype=dtype, \n",
    ")"
   ]
  },
  {
   "cell_type": "markdown",
   "metadata": {},
   "source": [
    "### Run computation"
   ]
  },
  {
   "cell_type": "code",
   "execution_count": 6,
   "metadata": {},
   "outputs": [],
   "source": [
    "horizontal_diffusion(in_storage, out_storage, coeff_storage)"
   ]
  },
  {
   "cell_type": "markdown",
   "metadata": {},
   "source": [
    "### Plot results"
   ]
  },
  {
   "cell_type": "code",
   "execution_count": 7,
   "metadata": {},
   "outputs": [
    {
     "data": {
      "text/plain": [
       "<matplotlib.image.AxesImage at 0x2aab63c0d4a8>"
      ]
     },
     "execution_count": 7,
     "metadata": {},
     "output_type": "execute_result"
    },
    {
     "data": {
      "image/png": "[encoded data removed]",
      "text/plain": [
       "<Figure size 432x288 with 1 Axes>"
      ]
     },
     "metadata": {
      "needs_background": "light"
     },
     "output_type": "display_data"
    }
   ],
   "source": [
    "if backend==\"gtcuda\":\n",
    "    out_storage.synchronize() # does a copy if the cpu or gpu buffer is modified.\n",
    "    \n",
    "projection = np.asarray(np.sum(out_storage, axis=2))\n",
    "plt.imshow(projection)"
   ]
  }
 ],
 "metadata": {
  "kernelspec": {
   "display_name": "Python 3",
   "language": "python",
   "name": "python3"
  },
  "language_info": {
   "codemirror_mode": {
    "name": "ipython",
    "version": 3
   },
   "file_extension": ".py",
   "mimetype": "text/x-python",
   "name": "python",
   "nbconvert_exporter": "python",
   "pygments_lexer": "ipython3",
   "version": "3.6.5"
  }
 },
 "nbformat": 4,
 "nbformat_minor": 4
}

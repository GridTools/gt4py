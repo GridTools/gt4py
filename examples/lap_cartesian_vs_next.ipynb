{
 "cells": [
  {
   "cell_type": "markdown",
   "metadata": {},
   "source": [
    "GT4Py - GridTools for Python\n",
    "\n",
    "Copyright (c) 2014-2023, ETH Zurich\n",
    "All rights reserved.\n",
    "\n",
    "This file is part the GT4Py project and the GridTools framework.\n",
    "GT4Py is free software: you can redistribute it and/or modify it under\n",
    "the terms of the GNU General Public License as published by the\n",
    "Free Software Foundation, either version 3 of the License, or any later\n",
    "version. See the LICENSE.txt file at the top-level directory of this\n",
    "distribution for a copy of the license or check <https://www.gnu.org/licenses/>.\n",
    "\n",
    "SPDX-License-Identifier: GPL-3.0-or-later"
   ]
  },
  {
   "attachments": {},
   "cell_type": "markdown",
   "metadata": {},
   "source": [
    "# Comparison gt4py.cartesian vs. gt4py.next"
   ]
  },
  {
   "attachments": {},
   "cell_type": "markdown",
   "metadata": {},
   "source": [
    "Imports"
   ]
  },
  {
   "cell_type": "code",
   "execution_count": 4,
   "metadata": {},
   "outputs": [],
   "source": [
    "import numpy as np\n",
    "\n",
    "nx = 32\n",
    "ny = 32\n",
    "nz = 1\n",
    "dtype = np.float64"
   ]
  },
  {
   "attachments": {},
   "cell_type": "markdown",
   "metadata": {},
   "source": [
    "gt4py.cartesian\n",
    "--"
   ]
  },
  {
   "cell_type": "code",
   "execution_count": 5,
   "metadata": {},
   "outputs": [],
   "source": [
    "import gt4py.storage as storage\n",
    "import gt4py.cartesian.gtscript as gtscript\n",
    "\n",
    "backend = \"numpy\"\n",
    "# backend = \"gt:cpu_ifirst\"\n",
    "\n",
    "@gtscript.stencil(backend=backend)\n",
    "def lap_cartesian(\n",
    "    inp: gtscript.Field[dtype],\n",
    "    out: gtscript.Field[dtype],\n",
    "):\n",
    "    with computation(PARALLEL), interval(...):\n",
    "        out = -4.0 * inp[0, 0, 0] + inp[-1, 0, 0] + inp[1, 0, 0] + inp[0, -1, 0] + inp[0, 1, 0]\n",
    "\n",
    "inp = storage.from_array(np.fromfunction(lambda x, y, z: x**2+y**2, shape=(nx, ny, nz)), dtype, backend=backend)\n",
    "out_cartesian = storage.zeros((nx, ny, nz), dtype, backend=backend)\n",
    "\n",
    "lap_cartesian(inp=inp, out=out_cartesian, origin=(1, 1, 0), domain=(nx-2, ny-2, nz))"
   ]
  },
  {
   "cell_type": "code",
   "execution_count": 6,
   "metadata": {},
   "outputs": [],
   "source": [
    "from gt4py.next.common import Dimension, Field\n",
    "from gt4py.next.ffront.decorator import field_operator, program\n",
    "from gt4py.next.ffront.fbuiltins import FieldOffset\n",
    "from gt4py.next.iterator.embedded import np_as_located_field as with_dimensions\n",
    "from gt4py.next.program_processors.runners.roundtrip import executor as itir_embedded\n",
    "from gt4py.next.program_processors.runners.gtfn_cpu import run_gtfn as cpu_backend\n",
    "\n",
    "backend = itir_embedded\n",
    "# backend = cpu_backend\n",
    "\n",
    "IDim = Dimension(\"IDim\")\n",
    "JDim = Dimension(\"JDim\")\n",
    "KDim = Dimension(\"KDim\")\n",
    "\n",
    "I = FieldOffset(\"I\", source=IDim, target=(IDim,))\n",
    "J = FieldOffset(\"J\", source=JDim, target=(JDim,))\n",
    "\n",
    "@field_operator\n",
    "def lap_next(inp: Field[[IDim, JDim, KDim], dtype]) -> Field[[IDim, JDim, KDim], dtype]:\n",
    "    return -4.0 * inp + inp(I[-1]) + inp(I[1]) + inp(J[-1]) + inp(J[1])\n",
    "\n",
    "@program(backend=backend)\n",
    "def lap_next_program(inp: Field[[IDim, JDim, KDim], dtype], out: Field[[IDim, JDim, KDim], dtype]):\n",
    "    lap_next(inp, out=out[1:-1, 1:-1, :])\n",
    "\n",
    "inp_next = with_dimensions(IDim,JDim,KDim)(inp)\n",
    "out_next = with_dimensions(IDim, JDim, KDim)(np.zeros(shape=(nx, ny, nz)))\n",
    "\n",
    "lap_next_program(inp_next, out_next, offset_provider={\"I\": IDim, \"J\": JDim})"
   ]
  },
  {
   "cell_type": "code",
   "execution_count": 7,
   "metadata": {},
   "outputs": [],
   "source": [
    "assert np.allclose(out_cartesian, out_next)"
   ]
  }
 ],
 "metadata": {
  "kernelspec": {
   "display_name": "Python 3 (ipykernel)",
   "language": "python",
   "name": "python3"
  },
  "language_info": {
   "codemirror_mode": {
    "name": "ipython",
    "version": 3
   },
   "file_extension": ".py",
   "mimetype": "text/x-python",
   "name": "python",
   "nbconvert_exporter": "python",
   "pygments_lexer": "ipython3",
   "version": "3.10.2"
  }
 },
 "nbformat": 4,
 "nbformat_minor": 4
}

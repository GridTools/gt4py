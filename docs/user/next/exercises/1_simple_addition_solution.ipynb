{
 "cells": [
  {
   "cell_type": "markdown",
   "id": "2ead8b70",
   "metadata": {},
   "source": [
    "# 1. Simple Addition"
   ]
  },
  {
   "cell_type": "code",
   "execution_count": null,
   "id": "e7b501e0",
   "metadata": {},
   "outputs": [],
   "source": [
    "import numpy as np\n",
    "\n",
    "import gt4py.next as gtx"
   ]
  },
  {
   "cell_type": "markdown",
   "id": "06113a1f",
   "metadata": {},
   "source": [
    "Next we implement the stencil and a numpy reference version, in order to verify them against each other."
   ]
  },
  {
   "cell_type": "code",
   "execution_count": null,
   "id": "4c9f3427",
   "metadata": {},
   "outputs": [],
   "source": [
    "C = gtx.Dimension(\"C\")\n",
    "n_cells = 5"
   ]
  },
  {
   "cell_type": "code",
   "execution_count": null,
   "id": "8272b87c",
   "metadata": {},
   "outputs": [],
   "source": [
    "def addition_numpy(a: np.array, b: np.array) -> np.array:\n",
    "    c = a + b\n",
    "    return c"
   ]
  },
  {
   "cell_type": "code",
   "execution_count": null,
   "id": "05f2d09d",
   "metadata": {},
   "outputs": [],
   "source": [
    "@gtx.field_operator\n",
    "def addition(\n",
    "    a: gtx.Field[[C], float], b: gtx.Field[[C], float]\n",
    ") -> gtx.Field[[C], float]:\n",
    "    return a + b"
   ]
  },
  {
   "cell_type": "code",
   "execution_count": null,
   "id": "db95ed00",
   "metadata": {},
   "outputs": [],
   "source": [
    "def test_addition():\n",
    "    backend = None\n",
    "    # backend = gtx.gtfn_cpu\n",
    "    # backend = gtx.gtfn_gpu\n",
    "\n",
    "    domain = gtx.domain({C: n_cells})\n",
    "\n",
    "    a = gtx.full(domain, 42., allocator=backend)\n",
    "    b = gtx.full(domain, 1., allocator=backend)\n",
    "\n",
    "    c_numpy = addition_numpy(a.asnumpy(), b.asnumpy())\n",
    "\n",
    "    c = gtx.zeros(domain, allocator=backend)\n",
    "\n",
    "    addition(a, b, out=c, offset_provider={})\n",
    "\n",
    "    assert np.allclose(c.asnumpy(), c_numpy)\n",
    "\n",
    "    print(\"Result:\")\n",
    "    print(c)\n",
    "    print(c.asnumpy())\n",
    "\n",
    "    print(\"\\nTest successful!\")"
   ]
  },
  {
   "cell_type": "code",
   "execution_count": null,
   "id": "08502c34",
   "metadata": {},
   "outputs": [],
   "source": [
    "test_addition()"
   ]
  }
 ],
 "metadata": {
  "jupytext": {
   "formats": "ipynb,md:myst"
  },
  "kernelspec": {
   "display_name": "Python 3 (ipykernel)",
   "language": "python",
   "name": "python3"
  }
 },
 "nbformat": 4,
 "nbformat_minor": 5
}

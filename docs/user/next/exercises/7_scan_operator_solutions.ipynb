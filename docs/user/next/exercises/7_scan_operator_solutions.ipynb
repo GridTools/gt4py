{
  "cells": [
    {
      "cell_type": "markdown",
      "id": "9ba87bfb",
      "metadata": {},
      "source": [
        "## Scan operator"
      ]
    },
    {
      "cell_type": "markdown",
      "id": "2ee9d989",
      "metadata": {},
      "source": [
        "The unique feature of this operator is that it provides the return state of the previous iteration as its first argument (i.e., the result from the previous grid point). In other words, all the arguments of the current `return` will be available (as a tuple) in the next iteration from the first argument of the defined function.  \n",
        "\n",
        "Example: A FORTRAN pseudocode for integrating a moisture variable (e.g., cloud water or water vapour) over a column could look as follows:\n",
        "\n",
        "\n",
        "```FORTRAN\n",
        "SUBROUTINE column_integral( var_in, rho, dz, var_out, ie, je, ke )\n",
        "    ! Return the column integral of a moist species.\n",
        "    INTEGER, INTENT (IN) :: &\n",
        "      ie, je, ke         ! array dimensions of the I/O-fields (horizontal, horizontal, vertical)\n",
        "\n",
        "    REAL (KIND=wp), INTENT (OUT) :: &\n",
        "      q_colsum (ie,je) ! Vertically-integrated mass of water species\n",
        "\n",
        "    REAL (KIND=wp), INTENT (IN) ::  &\n",
        "      rho (ie,je,ke),  & \n",
        "      dz (ie,je,ke),   & ! height of model half levels\n",
        "      var_in  (ie,je,ke) ! humidity mass concentration at time-level nnow\n",
        "    \n",
        "    !$acc parallel present( iq ) if (lzacc)\n",
        "    !$acc loop gang\n",
        "    DO j=1,je\n",
        "      !$acc loop vector\n",
        "      DO i=1,ie\n",
        "        q_sum(i,j) = 0.0\n",
        "      END DO\n",
        "    END DO\n",
        "    !$acc end parallel\n",
        "    \n",
        "    \n",
        "    !$acc parallel present( iq, rho, hhl, q ) if (lzacc)\n",
        "    DO k = 1, ke ! Vertical loop\n",
        "      !$acc loop gang\n",
        "      DO j=1,je\n",
        "        !$acc loop vector\n",
        "        DO i=1,ie\n",
        "          q_colsum(i,j) = q_colsum(i,j) + var_in(i,j,k) * rho(i,j,k)* dz(i,j,k)\n",
        "        END DO\n",
        "      END DO\n",
        "    END DO\n",
        "    !$acc end parallel\n",
        "END SUBROUTINE column_integral\n",
        "```\n",
        "\n",
        "Where:\n",
        "- `var_in` is the 3D variable that will be summed up\n",
        "- `q_colsum` is the resulting 2D variable\n",
        "- `rho` the air density\n",
        "- `dz`the thickness of the vertical layers\n",
        "\n",
        "In the first loop nest, `column_sum` is set to zero for all grid columns. The vertical dependency enters on the RHS of the second loop nest `q_colsum(i,j) = q_colsum(i,j) + ...`\n",
        "\n",
        "Using the `scan_operator` this operation would be written like this:\n",
        "\n",
        "```python\n",
        "@scan_operator(axis=KDim, forward=True, init=0.0)\n",
        "def column_integral(float: state, float: var, float: rho, float: dz)\n",
        "    \"\"\"Return the column integral of a moist species.\"\"\"\n",
        "    return var * rho * dz + state\n",
        "```\n",
        "\n",
        "Here the vertical dependency is expressed by the first function argument (`state`).  This argument carries the return from the previous k-level and does not need to be specified when the function is called (similar to the `self` argument of Python classes). The argument is intialized to `init=0.0` in the function decorator (first loop nest above) and the dimension of the integral is specified with `axis=KDim`.\n",
        "\n",
        "\n",
        "```python\n",
        "q_colsum = column_integral(qv, rho, dz)\n",
        "```"
      ]
    },
    {
      "cell_type": "markdown",
      "id": "c9e31bff",
      "metadata": {},
      "source": [
        "#### Exercise: port a toy cloud microphysics scheme from python/numpy using the template of a `scan_operator` below"
      ]
    },
    {
      "cell_type": "code",
      "execution_count": 1,
      "id": "bd2fd309",
      "metadata": {},
      "outputs": [
        {
          "data": {
            "text/html": [
              "<link href=\"https://fonts.googleapis.com/icon?family=Material+Icons\" rel=\"stylesheet\"><script src=\"https://spcl.github.io/dace/webclient2/dist/sdfv.js\"></script>\n",
              "<link href=\"https://spcl.github.io/dace/webclient2/sdfv.css\" rel=\"stylesheet\">\n"
            ],
            "text/plain": [
              "<IPython.core.display.HTML object>"
            ]
          },
          "metadata": {},
          "output_type": "display_data"
        }
      ],
      "source": [
        "from helpers import *\n",
        "\n",
        "import gt4py.next as gtx\n",
        "\n",
        "backend = None\n",
        "# backend = gtfn_cpu\n",
        "# backend = gtfn_gpu"
      ]
    },
    {
      "cell_type": "code",
      "execution_count": 2,
      "id": "74338168",
      "metadata": {},
      "outputs": [],
      "source": [
        "def toy_microphysics_numpy(qc, qr, autoconversion_rate=0.1, sedimentaion_constant=0.05):\n",
        "    \"\"\"A toy model of a microphysics scheme contaning autoconversion and scavenging\"\"\"\n",
        "\n",
        "    sedimentation_flux = 0.0\n",
        "\n",
        "    for cell, k in np.ndindex(qc.shape):\n",
        "        # Autoconversion: Cloud Drops -> Rain Drops\n",
        "        autoconversion_tendency = qc[cell, k] * autoconversion_rate\n",
        "\n",
        "        qc[cell, k] -= autoconversion_tendency\n",
        "        qr[cell, k] += autoconversion_tendency\n",
        "\n",
        "        ## Apply sedimentation flux from level above\n",
        "        qr[cell, k] += sedimentation_flux\n",
        "\n",
        "        ## Remove mass due to sedimentation flux from the current cell\n",
        "        qr[cell, k] -= sedimentation_flux"
      ]
    },
    {
      "cell_type": "code",
      "execution_count": 3,
      "id": "69bf6022",
      "metadata": {},
      "outputs": [],
      "source": [
        "@gtx.scan_operator(axis=K, forward=True, init=(0.0, 0.0, 0.0))\n",
        "def _graupel_toy_scan(\n",
        "    state: tuple[float, float, float], qc_in: float, qr_in: float\n",
        ") -> tuple[float, float, float]:\n",
        "    autoconversion_rate = 0.1\n",
        "    sedimentaion_constant = 0.05\n",
        "\n",
        "    # unpack state of previous iteration\n",
        "    _, _, sedimentation_flux = state\n",
        "\n",
        "    # Autoconversion: Cloud Drops -> Rain Drops\n",
        "    autoconv_t = qc_in * autoconversion_rate\n",
        "    qc = qc_in - autoconv_t\n",
        "    qr = qr_in + autoconv_t\n",
        "\n",
        "    ## Add sedimentation flux from level above\n",
        "    qr = qr + sedimentation_flux\n",
        "\n",
        "    # Remove mass due to sedimentation flux\n",
        "    qr = qr - sedimentation_flux\n",
        "\n",
        "    return qc, qr, sedimentation_flux"
      ]
    },
    {
      "cell_type": "code",
      "execution_count": 4,
      "id": "0de41cb8",
      "metadata": {},
      "outputs": [],
      "source": [
        "@gtx.field_operator(backend=backend)\n",
        "def graupel_toy_scan(\n",
        "    qc: gtx.Field[[C, K], float], qr: gtx.Field[[C, K], float]\n",
        ") -> tuple[\n",
        "    gtx.Field[[C, K], float],\n",
        "    gtx.Field[[C, K], float]\n",
        "]:\n",
        "    qc, qr, _ = _graupel_toy_scan(qc, qr)\n",
        "\n",
        "    return qc, qr"
      ]
    },
    {
      "cell_type": "code",
      "execution_count": 5,
      "id": "4e0dc8d2",
      "metadata": {},
      "outputs": [],
      "source": [
        "def test_scan_operator():\n",
        "    cell_k_domain = gtx.domain({C: n_cells, K: n_levels})\n",
        "    \n",
        "    qc = random_field(cell_k_domain, allocator=backend)\n",
        "    qr = random_field(cell_k_domain, allocator=backend)\n",
        "\n",
        "    qc_new = gtx.zeros(cell_k_domain, allocator=backend)\n",
        "    qr_new = gtx.zeros(cell_k_domain, allocator=backend)\n",
        "\n",
        "    # Initialize Numpy fields from GT4Py fields\n",
        "    qc_numpy = qc.asnumpy().copy()\n",
        "    qr_numpy = qr.asnumpy().copy()\n",
        "\n",
        "    # Execute the Numpy version of scheme\n",
        "    toy_microphysics_numpy(qc_numpy, qr_numpy)\n",
        "\n",
        "    # Execute the GT4Py version of scheme\n",
        "    graupel_toy_scan(qc, qr, out=(qc_new, qr_new), offset_provider={})\n",
        "\n",
        "    # Compare results\n",
        "    assert np.allclose(qc_new.asnumpy(), qc_numpy)\n",
        "    assert np.allclose(qr_new.asnumpy(), qr_numpy)"
      ]
    },
    {
      "cell_type": "code",
      "execution_count": 6,
      "id": "a76a6be7",
      "metadata": {},
      "outputs": [
        {
          "name": "stdout",
          "output_type": "stream",
          "text": [
            "Test successful\n"
          ]
        }
      ],
      "source": [
        "test_scan_operator()\n",
        "print(\"Test successful\")"
      ]
    },
    {
      "cell_type": "code",
      "execution_count": null,
      "id": "db590d8a",
      "metadata": {},
      "outputs": [],
      "source": []
    }
  ],
  "metadata": {
    "jupytext": {
      "formats": "ipynb,md:myst"
    },
    "kernelspec": {
      "display_name": "Python 3 (ipykernel)",
      "language": "python",
      "name": "python3"
    },
    "language_info": {
      "codemirror_mode": {
        "name": "ipython",
        "version": 3
      },
      "file_extension": ".py",
      "mimetype": "text/x-python",
      "name": "python",
      "nbconvert_exporter": "python",
      "pygments_lexer": "ipython3",
      "version": "3.10.2"
    }
  },
  "nbformat": 4,
  "nbformat_minor": 5
}

{
 "cells": [
  {
   "cell_type": "markdown",
   "id": "c841c53b",
   "metadata": {},
   "source": [
    "# 3. Divergence"
   ]
  },
  {
   "cell_type": "markdown",
   "id": "bcac0f9b",
   "metadata": {},
   "source": [
    "Next we will translate a divergence stencil. We approximate the divergence of a vector field $\\mathbf{v}$ at the middle point of a cell $\\mathbf{P}$ in the following way: We take the dot product of the normal velocity $\\mathbf{n}_e$ of each direct neighbor edge of $\\mathbf{P}$  with $\\mathbf{v}_e$ which is multipled with the edge length $L_e$. The contributions from all three edges of a cell are summed up and then divided by the area of the cell $A_P$. In the next pictures we can see a graphical representation of all of the quantities involved:\n",
    "\n",
    "![](../images/divergence_picture.png \"Divergence\")\n",
    "\n",
    "And the equation:\n",
    "\n",
    "![](../images/divergence_formula.png \"Divergence\")\n",
    "\n",
    "The orientation of the edge has to factor in, since we do not know, in general, if the normal of an edge is pointed inwards or outwards of any cell we are looking at. We cannot have only outwards pointing edge normals, because if we look at two neighboring cells, the normal of their shared edge has to point outwards for one of the cells, but inwards for the other.\n",
    "\n",
    "![](../images/edge_orientation.png \"Edge Orientation\")\n"
   ]
  },
  {
   "cell_type": "code",
   "execution_count": 9,
   "id": "4eba62c1",
   "metadata": {},
   "outputs": [],
   "source": [
    "from helpers import *"
   ]
  },
  {
   "cell_type": "code",
   "execution_count": 10,
   "id": "0cb870eb",
   "metadata": {},
   "outputs": [],
   "source": [
    "def divergence_numpy(\n",
    "    c2e: np.array,\n",
    "    u: np.array,\n",
    "    v: np.array,\n",
    "    nx: np.array,\n",
    "    ny: np.array,\n",
    "    L: np.array,\n",
    "    A: np.array,\n",
    "    edge_orientation: np.array,\n",
    ") -> np.array:\n",
    "    uv_div = (\n",
    "        np.sum(\n",
    "            (u[c2e] * nx[c2e] + v[c2e] * ny[c2e]) * L[c2e] * edge_orientation, axis=1\n",
    "        )\n",
    "        / A\n",
    "    )\n",
    "    return uv_div"
   ]
  },
  {
   "cell_type": "code",
   "execution_count": 11,
   "id": "8fc6416f",
   "metadata": {},
   "outputs": [],
   "source": [
    "@gtx.field_operator\n",
    "def divergence(\n",
    "    u: gtx.Field[Dims[E], float],\n",
    "    v: gtx.Field[Dims[E], float],\n",
    "    nx: gtx.Field[Dims[E], float],\n",
    "    ny: gtx.Field[Dims[E], float],\n",
    "    L: gtx.Field[Dims[E], float],\n",
    "    A: gtx.Field[Dims[C], float],\n",
    "    edge_orientation: gtx.Field[Dims[C, C2EDim], float],\n",
    ") -> gtx.Field[Dims[C], float]:\n",
    "    uv_div = (\n",
    "        neighbor_sum(\n",
    "            (u(C2E) * nx(C2E) + v(C2E) * ny(C2E)) * L(C2E) * edge_orientation,\n",
    "            axis=C2EDim,\n",
    "        )\n",
    "        / A\n",
    "    )\n",
    "    return uv_div"
   ]
  },
  {
   "cell_type": "code",
   "execution_count": 12,
   "id": "5dbd2f62",
   "metadata": {},
   "outputs": [],
   "source": [
    "def test_divergence():\n",
    "    backend = None\n",
    "    # backend = gtfn_cpu\n",
    "    # backend = gtfn_gpu\n",
    "\n",
    "    cell_domain = gtx.domain({C: n_cells})\n",
    "    edge_domain = gtx.domain({E: n_edges})\n",
    "\n",
    "    u = random_field(edge_domain, allocator=backend)\n",
    "    v = random_field(edge_domain, allocator=backend)\n",
    "    nx = random_field(edge_domain, allocator=backend)\n",
    "    ny = random_field(edge_domain, allocator=backend)\n",
    "    L = random_field(edge_domain, allocator=backend)\n",
    "    A = random_field(cell_domain, allocator=backend)\n",
    "    edge_orientation = random_sign(\n",
    "        gtx.domain({C: n_cells, C2EDim: 3}), allocator=backend\n",
    "    )\n",
    "\n",
    "    divergence_ref = divergence_numpy(\n",
    "        c2e_table,\n",
    "        u.asnumpy(),\n",
    "        v.asnumpy(),\n",
    "        nx.asnumpy(),\n",
    "        ny.asnumpy(),\n",
    "        L.asnumpy(),\n",
    "        A.asnumpy(),\n",
    "        edge_orientation.asnumpy(),\n",
    "    )\n",
    "\n",
    "    c2e_connectivity = gtx.NeighborTableOffsetProvider(\n",
    "        c2e_table, C, E, 3, has_skip_values=False\n",
    "    )\n",
    "\n",
    "    divergence_gt4py = gtx.zeros(cell_domain, allocator=backend)\n",
    "\n",
    "    divergence(\n",
    "        u,\n",
    "        v,\n",
    "        nx,\n",
    "        ny,\n",
    "        L,\n",
    "        A,\n",
    "        edge_orientation,\n",
    "        out=divergence_gt4py,\n",
    "        offset_provider={C2E.value: c2e_connectivity},\n",
    "    )\n",
    "\n",
    "    assert np.allclose(divergence_gt4py.asnumpy(), divergence_ref)"
   ]
  },
  {
   "cell_type": "code",
   "execution_count": 13,
   "id": "bbcb9bf5",
   "metadata": {},
   "outputs": [
    {
     "name": "stdout",
     "output_type": "stream",
     "text": [
      "Test successful\n"
     ]
    }
   ],
   "source": [
    "test_divergence()\n",
    "print(\"Test successful\")"
   ]
  },
  {
   "cell_type": "markdown",
   "id": "5cd78463",
   "metadata": {},
   "source": [
    "## 3. Divergence in ICON"
   ]
  },
  {
   "cell_type": "markdown",
   "id": "b9a35e28",
   "metadata": {},
   "source": [
    "In ICON we can find a divergence in diffusion which looks somewhat like this, but also quite a bit different:\n",
    "\n",
    "```fortran\n",
    "      DO jb = i_startblk,i_endblk\n",
    "\n",
    "        CALL get_indices_c(p_patch, jb, i_startblk, i_endblk, &\n",
    "                           i_startidx, i_endidx, rl_start, rl_end)\n",
    "        DO jk = 1, nlev\n",
    "          DO jc = i_startidx, i_endidx\n",
    "\n",
    "            div(jc,jk) = p_nh_prog%vn(ieidx(jc,jb,1),jk,ieblk(jc,jb,1))*p_int%geofac_div(jc,1,jb) + &\n",
    "                         p_nh_prog%vn(ieidx(jc,jb,2),jk,ieblk(jc,jb,2))*p_int%geofac_div(jc,2,jb) + &\n",
    "                         p_nh_prog%vn(ieidx(jc,jb,3),jk,ieblk(jc,jb,3))*p_int%geofac_div(jc,3,jb)\n",
    "          ENDDO\n",
    "        ENDDO\n",
    "      ENDDO\n",
    "```\n",
    "\n",
    "Two assumptions are necessary to derive the ICON version of the divergence starting from our version above:\n",
    "* Assume that the velocity components $u$ is always orthogonal and the velocity component $v$ is always parallel to the edge, in ICON these are called $vn$ and $vt$ where the n stands for normal and the t for tangential.\n",
    "* At ICON startup time merge all constants (such as cell area $A_P$ and edge length $L_e$) into one array of geometrical factors `p_int%geofac_div`, which are constant during time stepping:\n",
    "\n",
    "```fortran\n",
    "    DO jb = i_startblk, i_endblk\n",
    "\n",
    "      CALL get_indices_c(ptr_patch, jb, i_startblk, i_endblk, &\n",
    "        & i_startidx, i_endidx, rl_start, rl_end)\n",
    "\n",
    "      DO je = 1, ptr_patch%geometry_info%cell_type\n",
    "        DO jc = i_startidx, i_endidx\n",
    "\n",
    "          ile = ptr_patch%cells%edge_idx(jc,jb,je)\n",
    "          ibe = ptr_patch%cells%edge_blk(jc,jb,je)\n",
    "\n",
    "          ptr_int%geofac_div(jc,je,jb) = &\n",
    "            & ptr_patch%edges%primal_edge_length(ile,ibe) * &\n",
    "            & ptr_patch%cells%edge_orientation(jc,jb,je)  / &\n",
    "            & ptr_patch%cells%area(jc,jb)\n",
    "\n",
    "        ENDDO !cell loop\n",
    "      ENDDO\n",
    "\n",
    "    END DO !block loop\n",
    "\n",
    "```"
   ]
  },
  {
   "cell_type": "code",
   "execution_count": null,
   "id": "5a5856c0-0b96-4fe5-87b1-a43dcd05991d",
   "metadata": {},
   "outputs": [],
   "source": []
  }
 ],
 "metadata": {
  "kernelspec": {
   "display_name": "Python 3 (ipykernel)",
   "language": "python",
   "name": "python3"
  },
  "language_info": {
   "codemirror_mode": {
    "name": "ipython",
    "version": 3
   },
   "file_extension": ".py",
   "mimetype": "text/x-python",
   "name": "python",
   "nbconvert_exporter": "python",
   "pygments_lexer": "ipython3",
   "version": "3.10.0"
  }
 },
 "nbformat": 4,
 "nbformat_minor": 5
}

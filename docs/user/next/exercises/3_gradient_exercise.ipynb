{
 "cells": [
  {
   "cell_type": "markdown",
   "id": "8cfd1e20",
   "metadata": {},
   "source": [
    "# 4. Gradient"
   ]
  },
  {
   "cell_type": "markdown",
   "id": "72aa4c96",
   "metadata": {},
   "source": [
    "Another example is the gradient defined at the center of a Cell $\\mathbf{P}$ of a scalar function $f$. We approximate this by taking the sum over the three edges and multiplying $f(e)$ with the edge normal $\\mathbf{n}_e$ and the edge length $L_e$ and dividing the resulting sum with the cell area $A_P$.\n",
    "The result will be the two components of the gradient vector.\n",
    "\n",
    "![](../images/gradient_picture.png \"Divergence\")\n",
    "\n",
    "![](../images/gradient_formula.png \"Divergence\")"
   ]
  },
  {
   "cell_type": "code",
   "execution_count": null,
   "id": "1bddcf59",
   "metadata": {},
   "outputs": [],
   "source": [
    "from helpers import *\n",
    "\n",
    "\n",
    "import gt4py.next as gtx"
   ]
  },
  {
   "cell_type": "code",
   "execution_count": null,
   "id": "37b0bc43",
   "metadata": {},
   "outputs": [],
   "source": [
    "def gradient_numpy(\n",
    "    c2e: np.array,\n",
    "    f: np.array,\n",
    "    nx: np.array,\n",
    "    ny: np.array,\n",
    "    L: np.array,\n",
    "    A: np.array,\n",
    "    edge_orientation: np.array,\n",
    ") -> gtx.tuple[np.array, np.array]:\n",
    "    # edge_orientation = np.expand_dims(edge_orientation, axis=-1)\n",
    "    f_x = np.sum(f[c2e] * nx[c2e] * L[c2e] * edge_orientation, axis=1) / A\n",
    "    f_y = np.sum(f[c2e] * ny[c2e] * L[c2e] * edge_orientation, axis=1) / A\n",
    "    return f_x, f_y"
   ]
  },
  {
   "cell_type": "code",
   "execution_count": 1,
   "id": "afa80e49",
   "metadata": {},
   "outputs": [
    {
     "ename": "NameError",
     "evalue": "name 'gtx' is not defined",
     "output_type": "error",
     "traceback": [
      "\u001b[0;31m---------------------------------------------------------------------------\u001b[0m",
      "\u001b[0;31mNameError\u001b[0m                                 Traceback (most recent call last)",
      "Cell \u001b[0;32mIn[1], line 1\u001b[0m\n\u001b[0;32m----> 1\u001b[0m \u001b[38;5;129m@gtx\u001b[39m\u001b[38;5;241m.\u001b[39mfield_operator\n\u001b[1;32m      2\u001b[0m \u001b[38;5;28;01mdef\u001b[39;00m \u001b[38;5;21mgradient\u001b[39m(\n\u001b[1;32m      3\u001b[0m     f: gtx\u001b[38;5;241m.\u001b[39mField[[E], \u001b[38;5;28mfloat\u001b[39m],\n\u001b[1;32m      4\u001b[0m     nx: gtx\u001b[38;5;241m.\u001b[39mField[[E], \u001b[38;5;28mfloat\u001b[39m],\n\u001b[1;32m      5\u001b[0m     ny: gtx\u001b[38;5;241m.\u001b[39mField[[E], \u001b[38;5;28mfloat\u001b[39m],\n\u001b[1;32m      6\u001b[0m     L: gtx\u001b[38;5;241m.\u001b[39mField[[E], \u001b[38;5;28mfloat\u001b[39m],\n\u001b[1;32m      7\u001b[0m     A: gtx\u001b[38;5;241m.\u001b[39mField[[C], \u001b[38;5;28mfloat\u001b[39m],\n\u001b[1;32m      8\u001b[0m     edge_orientation: gtx\u001b[38;5;241m.\u001b[39mField[[C, C2EDim], \u001b[38;5;28mfloat\u001b[39m],\n\u001b[1;32m      9\u001b[0m ) \u001b[38;5;241m-\u001b[39m\u001b[38;5;241m>\u001b[39m gtx\u001b[38;5;241m.\u001b[39mtuple[gtx\u001b[38;5;241m.\u001b[39mField[[C], \u001b[38;5;28mfloat\u001b[39m], gtx\u001b[38;5;241m.\u001b[39mField[[C], \u001b[38;5;28mfloat\u001b[39m]]:\n\u001b[1;32m     10\u001b[0m     \u001b[38;5;66;03m# TODO: fix components of gradient\u001b[39;00m\n\u001b[1;32m     11\u001b[0m     f_x \u001b[38;5;241m=\u001b[39m A\n\u001b[1;32m     12\u001b[0m     f_y \u001b[38;5;241m=\u001b[39m A\n",
      "\u001b[0;31mNameError\u001b[0m: name 'gtx' is not defined"
     ]
    }
   ],
   "source": [
    "@gtx.field_operator\n",
    "def gradient(\n",
    "    f: gtx.Field[[E], float],\n",
    "    nx: gtx.Field[[E], float],\n",
    "    ny: gtx.Field[[E], float],\n",
    "    L: gtx.Field[[E], float],\n",
    "    A: gtx.Field[[C], float],\n",
    "    edge_orientation: gtx.Field[[C, C2EDim], float],\n",
    ") -> gtx.tuple[gtx.Field[[C], float], gtx.Field[[C], float]]:\n",
    "    # TODO: fix components of gradient\n",
    "    f_x = A\n",
    "    f_y = A\n",
    "    return f_x, f_y"
   ]
  },
  {
   "cell_type": "code",
   "execution_count": null,
   "id": "84b02762",
   "metadata": {},
   "outputs": [],
   "source": [
    "def test_gradient():\n",
    "    backend = None\n",
    "    # backend = gtfn_cpu\n",
    "    # backend = gtfn_gpu\n",
    "\n",
    "    cell_domain = gtx.domain({C: n_cells})\n",
    "    edge_domain = gtx.domain({E: n_edges})\n",
    "    \n",
    "    f = random_field(edge_domain, allocator=backend)\n",
    "    nx = random_field(edge_domain, allocator=backend)\n",
    "    ny = random_field(edge_domain, allocator=backend)\n",
    "    L = random_field(edge_domain, allocator=backend)\n",
    "    A = random_field(cell_domain, allocator=backend)\n",
    "    edge_orientation = random_sign(\n",
    "        gtx.domain({C: n_cells, C2EDim: 3}), allocator=backend\n",
    "    )\n",
    "\n",
    "    gradient_numpy_x, gradient_numpy_y = gradient_numpy(\n",
    "        c2e_table,\n",
    "        f.asnumpy(),\n",
    "        nx.asnumpy(),\n",
    "        ny.asnumpy(),\n",
    "        L.asnumpy(),\n",
    "        A.asnumpy(),\n",
    "        edge_orientation.asnumpy(),\n",
    "    )\n",
    "\n",
    "    c2e_connectivity = gtx.NeighborTableOffsetProvider(c2e_table, C, E, 3, has_skip_values=False)\n",
    "\n",
    "    gradient_gt4py_x = gtx.zeros(cell_domain, allocator=backend) \n",
    "    gradient_gt4py_y = gtx.zeros(cell_domain, allocator=backend) \n",
    "\n",
    "    gradient(\n",
    "        f,\n",
    "        nx,\n",
    "        ny,\n",
    "        L,\n",
    "        A,\n",
    "        edge_orientation,\n",
    "        out=(gradient_gt4py_x, gradient_gt4py_y),\n",
    "        offset_provider={C2E.value: c2e_connectivity},\n",
    "    )\n",
    "\n",
    "    assert np.allclose(gradient_gt4py_x.asnumpy(), gradient_numpy_x)\n",
    "    assert np.allclose(gradient_gt4py_y.asnumpy(), gradient_numpy_y)"
   ]
  },
  {
   "cell_type": "code",
   "execution_count": null,
   "id": "9267fe99",
   "metadata": {},
   "outputs": [],
   "source": [
    "test_gradient()\n",
    "print(\"Test successful\")"
   ]
  }
 ],
 "metadata": {
  "jupytext": {
   "formats": "ipynb,md:myst"
  },
  "kernelspec": {
   "display_name": "Python 3 (ipykernel)",
   "language": "python",
   "name": "python3"
  },
  "language_info": {
   "codemirror_mode": {
    "name": "ipython",
    "version": 3
   },
   "file_extension": ".py",
   "mimetype": "text/x-python",
   "name": "python",
   "nbconvert_exporter": "python",
   "pygments_lexer": "ipython3",
   "version": "3.10.12"
  }
 },
 "nbformat": 4,
 "nbformat_minor": 5
}

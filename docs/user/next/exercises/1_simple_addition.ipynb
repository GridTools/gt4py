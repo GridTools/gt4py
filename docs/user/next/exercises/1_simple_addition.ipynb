{
 "cells": [
  {
   "cell_type": "markdown",
   "id": "65b15722",
   "metadata": {},
   "source": [
    "# 1. Simple Addition"
   ]
  },
  {
   "cell_type": "code",
   "execution_count": null,
   "id": "23733b39",
   "metadata": {},
   "outputs": [],
   "source": [
    "from helpers import *"
   ]
  },
  {
   "cell_type": "markdown",
   "id": "e5f0f777",
   "metadata": {},
   "source": [
    "Next we implement the stencil and a numpy reference version, in order to verify them against each other."
   ]
  },
  {
   "cell_type": "code",
   "execution_count": null,
   "id": "e89b3cca",
   "metadata": {},
   "outputs": [],
   "source": [
    "def addition_numpy(\n",
    "    a: np.array, b: np.array,\n",
    ") -> np.array:\n",
    "    c = a + b\n",
    "    return c"
   ]
  },
  {
   "cell_type": "code",
   "execution_count": null,
   "id": "e8151a08",
   "metadata": {},
   "outputs": [],
   "source": [
    "@gtx.field_operator\n",
    "def addition(\n",
    "    a: gtx.Field[[C], float],\n",
    "    b: gtx.Field[[C], float],\n",
    ") -> gtx.Field[[C], float]:\n",
    "    c = a\n",
    "    return c"
   ]
  },
  {
   "cell_type": "code",
   "execution_count": null,
   "id": "bbec46f0",
   "metadata": {},
   "outputs": [],
   "source": [
    "def test_mo_nh_diffusion_stencil_06():\n",
    "    \n",
    "    a = random_field((n_cells), C)\n",
    "    b = random_field((n_cells), C)\n",
    "    \n",
    "    c_numpy = addition_numpy(\n",
    "        a.asnumpy(), b.asnumpy()\n",
    "    )\n",
    "\n",
    "    c = zero_field((n_cells), C)\n",
    "\n",
    "    addition(\n",
    "        a, b, out=c, offset_provider={}\n",
    "    )\n",
    "    \n",
    "    assert np.allclose(c.asnumpy(), c_numpy)\n",
    "\n",
    "    print(\"Test successful!\")"
   ]
  },
  {
   "cell_type": "code",
   "execution_count": null,
   "id": "306bd584",
   "metadata": {},
   "outputs": [],
   "source": [
    "test_mo_nh_diffusion_stencil_06()"
   ]
  }
 ],
 "metadata": {
  "jupytext": {
   "formats": "ipynb,md:myst"
  },
  "kernelspec": {
   "display_name": "Python 3 (ipykernel)",
   "language": "python",
   "name": "python3"
  },
  "language_info": {
   "codemirror_mode": {
    "name": "ipython",
    "version": 3
   },
   "file_extension": ".py",
   "mimetype": "text/x-python",
   "name": "python",
   "nbconvert_exporter": "python",
   "pygments_lexer": "ipython3",
   "version": "3.10.4"
  }
 },
 "nbformat": 4,
 "nbformat_minor": 5
}

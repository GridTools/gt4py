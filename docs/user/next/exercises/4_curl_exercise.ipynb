{
 "cells": [
  {
   "cell_type": "markdown",
   "id": "9e5abeda",
   "metadata": {},
   "source": [
    "# 5. Curl"
   ]
  },
  {
   "cell_type": "markdown",
   "id": "0bc751b1",
   "metadata": {},
   "source": [
    "As the last example of the easier operations, we take a look at the curl of a vector field $\\mathbf{v}$ defined at a vertex $\\mathbf{N}$.\n",
    "To approximate this, we once again iterate over all of the direct neighboring edges of the vertex in the center and for each edge take the dot product of the vector field $\\mathbf{v}_e$ with the edge normals $\\mathbf{n}_f$ and multiply that by the dual edge length $\\hat{L}_e$. The resulting neighbor sum is then divided by the dual area $\\hat{A}_N$, which is the area of the Voronoi cell around the Vertex $\\mathbf{N}$.\n",
    "\n",
    "\n",
    "![](../images/curl_picture.png \"Divergence\")\n",
    "\n",
    "\n",
    "![](../images/curl_formula.png \"Divergence\")"
   ]
  },
  {
   "cell_type": "code",
   "execution_count": null,
   "id": "1c1af88b",
   "metadata": {},
   "outputs": [],
   "source": [
    "from helpers import *\n",
    "\n",
    "import gt4py.next as gtx"
   ]
  },
  {
   "cell_type": "code",
   "execution_count": null,
   "id": "ce333ad2",
   "metadata": {},
   "outputs": [],
   "source": [
    "def curl_numpy(\n",
    "    v2e: np.array,\n",
    "    u: np.array,\n",
    "    v: np.array,\n",
    "    nx: np.array,\n",
    "    ny: np.array,\n",
    "    dualL: np.array,\n",
    "    dualA: np.array,\n",
    "    edge_orientation: np.array,\n",
    ") -> np.array:\n",
    "    uv_curl = (\n",
    "        np.sum(\n",
    "            (u[v2e] * nx[v2e] + v[v2e] * ny[v2e]) * dualL[v2e] * edge_orientation,\n",
    "            axis=1,\n",
    "        )\n",
    "        / dualA\n",
    "    )\n",
    "\n",
    "    return uv_curl"
   ]
  },
  {
   "cell_type": "code",
   "execution_count": 1,
   "id": "0925bdb0",
   "metadata": {},
   "outputs": [
    {
     "ename": "NameError",
     "evalue": "name 'gtx' is not defined",
     "output_type": "error",
     "traceback": [
      "\u001b[0;31m---------------------------------------------------------------------------\u001b[0m",
      "\u001b[0;31mNameError\u001b[0m                                 Traceback (most recent call last)",
      "Cell \u001b[0;32mIn[1], line 1\u001b[0m\n\u001b[0;32m----> 1\u001b[0m \u001b[38;5;129m@gtx\u001b[39m\u001b[38;5;241m.\u001b[39mfield_operator\n\u001b[1;32m      2\u001b[0m \u001b[38;5;28;01mdef\u001b[39;00m \u001b[38;5;21mcurl\u001b[39m(\n\u001b[1;32m      3\u001b[0m     u: gtx\u001b[38;5;241m.\u001b[39mField[[E], \u001b[38;5;28mfloat\u001b[39m],\n\u001b[1;32m      4\u001b[0m     v: gtx\u001b[38;5;241m.\u001b[39mField[[E], \u001b[38;5;28mfloat\u001b[39m],\n\u001b[1;32m      5\u001b[0m     nx: gtx\u001b[38;5;241m.\u001b[39mField[[E], \u001b[38;5;28mfloat\u001b[39m],\n\u001b[1;32m      6\u001b[0m     ny: gtx\u001b[38;5;241m.\u001b[39mField[[E], \u001b[38;5;28mfloat\u001b[39m],\n\u001b[1;32m      7\u001b[0m     dualL: gtx\u001b[38;5;241m.\u001b[39mField[[E], \u001b[38;5;28mfloat\u001b[39m],\n\u001b[1;32m      8\u001b[0m     dualA: gtx\u001b[38;5;241m.\u001b[39mField[[V], \u001b[38;5;28mfloat\u001b[39m],\n\u001b[1;32m      9\u001b[0m     edge_orientation: gtx\u001b[38;5;241m.\u001b[39mField[[V, V2EDim], \u001b[38;5;28mfloat\u001b[39m],\n\u001b[1;32m     10\u001b[0m ) \u001b[38;5;241m-\u001b[39m\u001b[38;5;241m>\u001b[39m gtx\u001b[38;5;241m.\u001b[39mField[[V], \u001b[38;5;28mfloat\u001b[39m]:\n\u001b[1;32m     11\u001b[0m     \u001b[38;5;66;03m# TODO: fix curl\u001b[39;00m\n\u001b[1;32m     12\u001b[0m     uv_curl \u001b[38;5;241m=\u001b[39m dualA\n\u001b[1;32m     14\u001b[0m     \u001b[38;5;28;01mreturn\u001b[39;00m uv_curl\n",
      "\u001b[0;31mNameError\u001b[0m: name 'gtx' is not defined"
     ]
    }
   ],
   "source": [
    "@gtx.field_operator\n",
    "def curl(\n",
    "    u: gtx.Field[[E], float],\n",
    "    v: gtx.Field[[E], float],\n",
    "    nx: gtx.Field[[E], float],\n",
    "    ny: gtx.Field[[E], float],\n",
    "    dualL: gtx.Field[[E], float],\n",
    "    dualA: gtx.Field[[V], float],\n",
    "    edge_orientation: gtx.Field[[V, V2EDim], float],\n",
    ") -> gtx.Field[[V], float]:\n",
    "    # TODO: fix curl\n",
    "    uv_curl = dualA\n",
    "\n",
    "    return uv_curl"
   ]
  },
  {
   "cell_type": "code",
   "execution_count": null,
   "id": "5b6ffc9e",
   "metadata": {},
   "outputs": [],
   "source": [
    "def test_curl():\n",
    "    backend = None\n",
    "    # backend = gtfn_cpu\n",
    "    # backend = gtfn_gpu\n",
    "\n",
    "    edge_domain = gtx.domain({E: n_edges})\n",
    "    vertex_domain = gtx.domain({V: n_vertices})\n",
    "    \n",
    "    u = random_field(edge_domain, allocator=backend)\n",
    "    v = random_field(edge_domain, allocator=backend)\n",
    "    nx = random_field(edge_domain, allocator=backend)\n",
    "    ny = random_field(edge_domain, allocator=backend)\n",
    "    dualL = random_field(edge_domain, allocator=backend)\n",
    "    dualA = random_field(vertex_domain, allocator=backend)\n",
    "    edge_orientation = random_sign(\n",
    "        gtx.domain({V: n_vertices, V2EDim: 6}), allocator=backend\n",
    "    )\n",
    "\n",
    "    divergence_ref = curl_numpy(\n",
    "        v2e_table,\n",
    "        u.asnumpy(),\n",
    "        v.asnumpy(),\n",
    "        nx.asnumpy(),\n",
    "        ny.asnumpy(),\n",
    "        dualL.asnumpy(),\n",
    "        dualA.asnumpy(),\n",
    "        edge_orientation.asnumpy(),\n",
    "    )\n",
    "\n",
    "    v2e_connectivity = gtx.NeighborTableOffsetProvider(v2e_table, V, E, 6, has_skip_values=False)\n",
    "\n",
    "    curl_gt4py = gtx.zeros(vertex_domain, allocator=backend)  \n",
    "\n",
    "    curl(\n",
    "        u, v, nx, ny, dualL, dualA, edge_orientation, out = curl_gt4py, offset_provider = {V2E.value: v2e_connectivity}\n",
    "    )\n",
    "    \n",
    "    assert np.allclose(curl_gt4py.asnumpy(), divergence_ref)"
   ]
  },
  {
   "cell_type": "code",
   "execution_count": null,
   "id": "ae651445",
   "metadata": {},
   "outputs": [],
   "source": [
    "test_curl()\n",
    "print(\"Test successful\")"
   ]
  }
 ],
 "metadata": {
  "jupytext": {
   "formats": "ipynb,md:myst"
  },
  "kernelspec": {
   "display_name": "Python 3 (ipykernel)",
   "language": "python",
   "name": "python3"
  },
  "language_info": {
   "codemirror_mode": {
    "name": "ipython",
    "version": 3
   },
   "file_extension": ".py",
   "mimetype": "text/x-python",
   "name": "python",
   "nbconvert_exporter": "python",
   "pygments_lexer": "ipython3",
   "version": "3.10.12"
  }
 },
 "nbformat": 4,
 "nbformat_minor": 5
}

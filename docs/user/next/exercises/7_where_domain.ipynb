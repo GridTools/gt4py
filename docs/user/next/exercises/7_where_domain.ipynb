{
 "cells": [
  {
   "cell_type": "code",
   "execution_count": 28,
   "id": "18201d82",
   "metadata": {},
   "outputs": [],
   "source": [
    "import numpy as np\n",
    "\n",
    "import gt4py.next as gtx\n",
    "from gt4py.next.iterator.embedded import MutableLocatedField \n",
    "from gt4py.next import float64, neighbor_sum, where\n",
    "from gt4py.next import Dimension, DimensionKind, FieldOffset"
   ]
  },
  {
   "cell_type": "code",
   "execution_count": 29,
   "id": "ff080b52",
   "metadata": {},
   "outputs": [],
   "source": [
    "def random_field(\n",
    "    sizes, *dims, low: float = -1.0, high: float = 1.0\n",
    ") -> MutableLocatedField:\n",
    "    return gtx.as_field([*dims],\n",
    "        np.random.default_rng().uniform(\n",
    "            low=low, high=high, size=sizes\n",
    "        )\n",
    "    )\n",
    "\n",
    "def zero_field(\n",
    "    sizes, *dims: Dimension, dtype=float\n",
    ") -> MutableLocatedField:\n",
    "    return gtx.as_field([*dims], \n",
    "        np.zeros(shape=sizes, dtype=dtype)\n",
    "    )"
   ]
  },
  {
   "cell_type": "code",
   "execution_count": 30,
   "id": "05fc5266",
   "metadata": {},
   "outputs": [],
   "source": [
    "CellDim = Dimension(\"C\")"
   ]
  },
  {
   "cell_type": "markdown",
   "id": "c3925af6",
   "metadata": {},
   "source": [
    "## Conditional: where"
   ]
  },
  {
   "cell_type": "markdown",
   "id": "2db5b1af-78d8-4bc1-9f92-bf3848e46e0c",
   "metadata": {},
   "source": [
    "The `where` builtin works analogously to the numpy version (https://numpy.org/doc/stable/reference/generated/numpy.where.html)\n",
    "\n",
    "Both require the same 3 input arguments:\n",
    "- mask: a field of booleans or an expression evaluating to this type\n",
    "- true branch: a tuple, a field, or a scalar\n",
    "- false branch: a tuple, a field, of a scalar"
   ]
  },
  {
   "cell_type": "markdown",
   "id": "996fc78e-0f7c-41ee-b823-49440da119a9",
   "metadata": {},
   "source": [
    "Take a simple numpy example, the `mask` here is a condition:"
   ]
  },
  {
   "cell_type": "code",
   "execution_count": 44,
   "id": "25876fe9-2868-445d-8039-8148f52bee6f",
   "metadata": {},
   "outputs": [
    {
     "name": "stdout",
     "output_type": "stream",
     "text": [
      "a_np array: [0. 1. 2. 3. 4. 5. 6. 7. 8. 9.]\n",
      "b_np array: [ 0.  1.  2.  3.  4.  5. 60. 70. 80. 90.]\n"
     ]
    }
   ],
   "source": [
    "a_np = np.arange(10.0)\n",
    "b_np = np.where(a_np < 6.0, a_np, a_np*10.0)\n",
    "print(\"a_np array: {}\".format(a_np))\n",
    "print(\"b_np array: {}\".format(b_np))"
   ]
  },
  {
   "cell_type": "markdown",
   "id": "91aaea02-d7f5-4f52-89a0-221edafb34fc",
   "metadata": {},
   "source": [
    "### **Task**: replicate this example in gt4py"
   ]
  },
  {
   "cell_type": "code",
   "execution_count": 38,
   "id": "01492c4e-97b8-4587-9f73-48b45f923f55",
   "metadata": {},
   "outputs": [],
   "source": [
    "@gtx.field_operator\n",
    "def fieldop_where(a: gtx.Field[[CellDim], float64]) -> gtx.Field[[CellDim], float64]:\n",
    "    return where(a < 6.0, a, a*10.0)\n",
    "\n",
    "@gtx.program\n",
    "def program_where(a: gtx.Field[[CellDim], float64],\n",
    "            b: gtx.Field[[CellDim], float64]):\n",
    "    fieldop_where(a, out=b) "
   ]
  },
  {
   "cell_type": "code",
   "execution_count": 39,
   "id": "7c1bfa7a-89c8-419b-8a4a-f2663bd24114",
   "metadata": {},
   "outputs": [],
   "source": [
    "def test_where():\n",
    "    a = gtx.as_field([CellDim], np.arange(10.0))\n",
    "    b = gtx.as_field([CellDim], np.zeros(shape=10))\n",
    "    program_where(a, b, offset_provider={})\n",
    "    \n",
    "    assert np.allclose(b_np, b)"
   ]
  },
  {
   "cell_type": "code",
   "execution_count": 40,
   "id": "a43b9443-0720-4425-ba7b-1961342f9766",
   "metadata": {},
   "outputs": [
    {
     "ename": "AttributeError",
     "evalue": "module 'gt4py.next' has no attribute 'as_field'",
     "output_type": "error",
     "traceback": [
      "\u001b[0;31m---------------------------------------------------------------------------\u001b[0m",
      "\u001b[0;31mAttributeError\u001b[0m                            Traceback (most recent call last)",
      "Cell \u001b[0;32mIn[40], line 1\u001b[0m\n\u001b[0;32m----> 1\u001b[0m \u001b[43mtest_where\u001b[49m\u001b[43m(\u001b[49m\u001b[43m)\u001b[49m\n\u001b[1;32m      2\u001b[0m \u001b[38;5;28mprint\u001b[39m(\u001b[38;5;124m\"\u001b[39m\u001b[38;5;124mTest successful\u001b[39m\u001b[38;5;124m\"\u001b[39m)\n",
      "Cell \u001b[0;32mIn[39], line 2\u001b[0m, in \u001b[0;36mtest_where\u001b[0;34m()\u001b[0m\n\u001b[1;32m      1\u001b[0m \u001b[38;5;28;01mdef\u001b[39;00m \u001b[38;5;21mtest_where\u001b[39m():\n\u001b[0;32m----> 2\u001b[0m     a \u001b[38;5;241m=\u001b[39m \u001b[43mgtx\u001b[49m\u001b[38;5;241;43m.\u001b[39;49m\u001b[43mas_field\u001b[49m([CellDim], np\u001b[38;5;241m.\u001b[39marange(\u001b[38;5;241m10.0\u001b[39m))\n\u001b[1;32m      3\u001b[0m     b \u001b[38;5;241m=\u001b[39m gtx\u001b[38;5;241m.\u001b[39mas_field([CellDim], np\u001b[38;5;241m.\u001b[39mzeros(shape\u001b[38;5;241m=\u001b[39m\u001b[38;5;241m10\u001b[39m))\n\u001b[1;32m      4\u001b[0m     program_where(a, b, offset_provider\u001b[38;5;241m=\u001b[39m{})\n",
      "\u001b[0;31mAttributeError\u001b[0m: module 'gt4py.next' has no attribute 'as_field'"
     ]
    }
   ],
   "source": [
    "test_where()\n",
    "print(\"Test successful\")"
   ]
  },
  {
   "cell_type": "markdown",
   "id": "cf5c03d4-c43c-408a-8cf3-82d88e04680b",
   "metadata": {},
   "source": [
    "## Domain"
   ]
  },
  {
   "cell_type": "markdown",
   "id": "65ef790d-cd2d-4d00-9051-1dab2237c999",
   "metadata": {},
   "source": [
    "The same operation can be performed in gt4py by including the `domain` keyowrd argument on `field_operator` call\n",
    "\n",
    "### **Task**: implement the same operation as above using `domain` instead of `where`"
   ]
  },
  {
   "cell_type": "code",
   "execution_count": 32,
   "id": "f853be0d-0e26-4928-aeb1-461d33184548",
   "metadata": {},
   "outputs": [],
   "source": [
    "@gtx.field_operator\n",
    "def fieldop_domain(a: gtx.Field[[CellDim], float64]) -> gtx.Field[[CellDim], float64]:\n",
    "    return a*10.0\n",
    "\n",
    "@gtx.program\n",
    "def program_domain(a: gtx.Field[[CellDim], float64],\n",
    "            b: gtx.Field[[CellDim], float64]):\n",
    "    fieldop_domain(a, out=b, domain={CellDim: (0, 5)}) "
   ]
  },
  {
   "cell_type": "code",
   "execution_count": 33,
   "id": "72a96858-bd59-437c-ac2c-e0ce7c2c171a",
   "metadata": {},
   "outputs": [
    {
     "ename": "AttributeError",
     "evalue": "module 'gt4py.next' has no attribute 'as_field'",
     "output_type": "error",
     "traceback": [
      "\u001b[0;31m---------------------------------------------------------------------------\u001b[0m",
      "\u001b[0;31mAttributeError\u001b[0m                            Traceback (most recent call last)",
      "Cell \u001b[0;32mIn[33], line 1\u001b[0m\n\u001b[0;32m----> 1\u001b[0m a \u001b[38;5;241m=\u001b[39m \u001b[43mgtx\u001b[49m\u001b[38;5;241;43m.\u001b[39;49m\u001b[43mas_field\u001b[49m([CellDim], np\u001b[38;5;241m.\u001b[39marange(\u001b[38;5;241m10.0\u001b[39m))\n\u001b[1;32m      2\u001b[0m b \u001b[38;5;241m=\u001b[39m gtx\u001b[38;5;241m.\u001b[39mas_field([CellDim], np\u001b[38;5;241m.\u001b[39mzeros(shape\u001b[38;5;241m=\u001b[39m\u001b[38;5;241m10\u001b[39m))\n\u001b[1;32m      3\u001b[0m run_add_domain(a, b, offset_provider\u001b[38;5;241m=\u001b[39m{})\n",
      "\u001b[0;31mAttributeError\u001b[0m: module 'gt4py.next' has no attribute 'as_field'"
     ]
    }
   ],
   "source": [
    "def test_domain():\n",
    "    a = gtx.as_field([CellDim], np.arange(10.0))\n",
    "    b = gtx.as_field([CellDim], np.zeros(shape=10))\n",
    "    program_domain(a, b, offset_provider={})\n",
    "    \n",
    "    assert np.allclose(b_np, b)"
   ]
  },
  {
   "cell_type": "code",
   "execution_count": 41,
   "id": "42b65679-58af-455a-b443-43a0f0df30ae",
   "metadata": {},
   "outputs": [
    {
     "ename": "NameError",
     "evalue": "name 'test_domain' is not defined",
     "output_type": "error",
     "traceback": [
      "\u001b[0;31m---------------------------------------------------------------------------\u001b[0m",
      "\u001b[0;31mNameError\u001b[0m                                 Traceback (most recent call last)",
      "Cell \u001b[0;32mIn[41], line 1\u001b[0m\n\u001b[0;32m----> 1\u001b[0m \u001b[43mtest_domain\u001b[49m()\n\u001b[1;32m      2\u001b[0m \u001b[38;5;28mprint\u001b[39m(\u001b[38;5;124m\"\u001b[39m\u001b[38;5;124mTest successful\u001b[39m\u001b[38;5;124m\"\u001b[39m)\n",
      "\u001b[0;31mNameError\u001b[0m: name 'test_domain' is not defined"
     ]
    }
   ],
   "source": [
    "test_domain()\n",
    "print(\"Test successful\")"
   ]
  },
  {
   "cell_type": "markdown",
   "id": "7c226506-89bd-46d8-a058-6b1f7b303ebb",
   "metadata": {},
   "source": [
    "## where and domain\n",
    "\n",
    "A combination of `where` and `domain` is useful in cases when a certain domain exceeds the field size\n",
    "\n",
    "e.g. a field `a: gtx.Field[[CellDim], float64]` with shape (10,) is applied `domain={CellDim: (0, 13)}`"
   ]
  },
  {
   "cell_type": "markdown",
   "id": "d37bb640-502d-470f-89e5-a358f714b5c8",
   "metadata": {},
   "source": [
    "### **Task**: combine `domain` and `where` to account for extra indices\n",
    "\n",
    "Edit the code below such that operations on field `a` are performed only up until the 10th index "
   ]
  },
  {
   "cell_type": "code",
   "execution_count": null,
   "id": "920b49d8-02ec-449a-bf67-a469f29b82bc",
   "metadata": {},
   "outputs": [],
   "source": [
    "@gtx.field_operator\n",
    "def fieldop_domain_where(a: gtx.Field[[CellDim], float64]) -> gtx.Field[[CellDim], float64]:\n",
    "    return a*10.0\n",
    "\n",
    "@gtx.program\n",
    "def program_domain_where(a: gtx.Field[[CellDim], float64],\n",
    "            b: gtx.Field[[CellDim], float64]):\n",
    "    fieldop_domain_where(a, out=b, domain={CellDim: (0, 13)}) "
   ]
  },
  {
   "cell_type": "code",
   "execution_count": null,
   "id": "7766fc19-800e-43f8-a570-86810b0d2f20",
   "metadata": {},
   "outputs": [],
   "source": [
    "def test_domain_where():\n",
    "    a = gtx.as_field([CellDim], np.arange(10.0))\n",
    "    b = gtx.as_field([CellDim], np.zeros(shape=10))\n",
    "    program_domain_where(a, b, offset_provider={})\n",
    "    \n",
    "    assert np.allclose(a_np*10, b[:10])"
   ]
  },
  {
   "cell_type": "code",
   "execution_count": null,
   "id": "320bfeff-4127-484d-b637-c1e05a45ab5c",
   "metadata": {},
   "outputs": [],
   "source": [
    "test_domain_where()\n",
    "print(\"Test successful\")"
   ]
  }
 ],
 "metadata": {
  "jupytext": {
   "formats": "ipynb,md:myst"
  },
  "kernelspec": {
   "display_name": "Python 3 (ipykernel)",
   "language": "python",
   "name": "python3"
  },
  "language_info": {
   "codemirror_mode": {
    "name": "ipython",
    "version": 3
   },
   "file_extension": ".py",
   "mimetype": "text/x-python",
   "name": "python",
   "nbconvert_exporter": "python",
   "pygments_lexer": "ipython3",
   "version": "3.10.4"
  }
 },
 "nbformat": 4,
 "nbformat_minor": 5
}

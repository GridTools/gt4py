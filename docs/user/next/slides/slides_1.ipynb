{
 "cells": [
  {
   "cell_type": "markdown",
   "id": "4598486a",
   "metadata": {},
   "source": [
    "<img src=\"logos/cscs_logo.jpeg\" alt=\"cscs\" style=\"width:270px;\"/> <img src=\"logos/c2sm_logo.gif\" alt=\"c2sm\" style=\"width:220px;\"/>\n",
    "<img src=\"logos/exclaim_logo.png\" alt=\"exclaim\" style=\"width:270px;\"/> <img src=\"logos/mch_logo.svg\" alt=\"mch\" style=\"width:270px;\"/>"
   ]
  },
  {
   "cell_type": "markdown",
   "id": "c5abdaa5",
   "metadata": {},
   "source": [
    "# GT4Py workshop"
   ]
  },
  {
   "cell_type": "markdown",
   "id": "64c0b236",
   "metadata": {},
   "source": [
    "## GT4Py: GridTools for Python\n",
    "\n",
    "GT4Py is a Python library for generating high performance implementations of stencil kernels from a high-level definition using regular Python functions.\n",
    "\n",
    "GT4Py is part of the GridTools framework: a set of libraries and utilities to develop performance portable applications in the area of weather and climate modeling.\n",
    "\n",
    "**NOTE:** The `gt4py.next` subpackage contains a new and currently experimental version of GT4Py.\n",
    "\n",
    "## Description\n",
    "\n",
    "GT4Py is a Python library for expressing computational motifs as found in weather and climate applications.\n",
    "\n",
    "These computations are expressed in a domain specific language (DSL) which is translated to high-performance implementations for CPUs and GPUs.\n",
    "\n",
    "In addition, GT4Py provides functions to allocate arrays with memory layout suited for a particular backend.\n",
    "\n",
    "The following backends are supported:\n",
    "\n",
    "- `None` aka _embedded_: runs the DSL code directly via the Python interpreter (experimental)\n",
    "- `gtfn_cpu` and `gtfn_gpu`: transpiles the DSL to C++ code using the GridTools library\n",
    "- `dace`: uses the DaCe library to generate optimized code (experimental)\n",
    "\n",
    "In this workshop we will mainly use the _embedded_ backend.\n",
    "\n",
    "## Current efforts\n",
    "\n",
    "GT4Py is being used to port the ICON model from FORTRAN. Currently the **dycore**, **diffusion**, and **microphysics** are complete.\n",
    "\n",
    "The ultimate goal is to have a more flexible and modularized model that can be run on CSCS Alps infrastructure as well as other hardware.\n",
    "\n",
    "Other models ported using GT4Py are ECMWF's FVM, in global (with `gt4py.next` and local area configuration (with `gt4py.cartesian`) and GFDL's FV3 (with `gt4py.cartesian`; original port by AI2)."
   ]
  },
  {
   "cell_type": "markdown",
   "id": "d84571cc",
   "metadata": {},
   "source": [
    "## Installation and setup\n",
    "\n",
    "Get an account from https://docs.google.com/document/d/1SuMr2sEdsGHGcnSFczNLGdTVYvNuuXBpCqB-3zL1E9c/edit?usp=sharing and mark with your name.\n",
    "\n",
    "After cloning the repository to $SCRATCH and setting a symlink to your home-directory\n",
    "\n",
    "```\n",
    "cd $SCRATCH\n",
    "git clone --branch gt4py-workshop https://github.com/GridTools/gt4py.git\n",
    "cd $HOME\n",
    "ln -s $SCRATCH/gt4py\n",
    "```\n",
    "\n",
    "you can install the library with pip.\n",
    "\n",
    "Make sure that GT4Py is in the expected location, remove `#` and run the cell)"
   ]
  },
  {
   "cell_type": "code",
   "execution_count": null,
   "id": "d55089eb",
   "metadata": {},
   "outputs": [],
   "source": [
    "#! pip install $HOME/gt4py"
   ]
  },
  {
   "cell_type": "code",
   "execution_count": 1,
   "id": "e25b300a",
   "metadata": {},
   "outputs": [],
   "source": [
    "import warnings\n",
    "warnings.filterwarnings('ignore')"
   ]
  },
  {
   "cell_type": "code",
   "execution_count": 3,
   "id": "4ac0ca57",
   "metadata": {},
   "outputs": [
    {
     "data": {
      "text/html": [
       "<link href=\"https://fonts.googleapis.com/icon?family=Material+Icons\" rel=\"stylesheet\"><script src=\"https://spcl.github.io/dace/webclient2/dist/sdfv.js\"></script>\n",
       "<link href=\"https://spcl.github.io/dace/webclient2/sdfv.css\" rel=\"stylesheet\">\n"
      ],
      "text/plain": [
       "<IPython.core.display.HTML object>"
      ]
     },
     "metadata": {},
     "output_type": "display_data"
    },
    {
     "ename": "AttributeError",
     "evalue": "partially initialized module 'gt4py' has no attribute 'eve' (most likely due to a circular import)",
     "output_type": "error",
     "traceback": [
      "\u001b[0;31m---------------------------------------------------------------------------\u001b[0m",
      "\u001b[0;31mAttributeError\u001b[0m                            Traceback (most recent call last)",
      "Cell \u001b[0;32mIn[3], line 2\u001b[0m\n\u001b[1;32m      1\u001b[0m \u001b[38;5;28;01mimport\u001b[39;00m \u001b[38;5;21;01mnumpy\u001b[39;00m \u001b[38;5;28;01mas\u001b[39;00m \u001b[38;5;21;01mnp\u001b[39;00m\n\u001b[0;32m----> 2\u001b[0m \u001b[38;5;28;01mimport\u001b[39;00m \u001b[38;5;21;01mgt4py\u001b[39;00m\u001b[38;5;21;01m.\u001b[39;00m\u001b[38;5;21;01mnext\u001b[39;00m \u001b[38;5;28;01mas\u001b[39;00m \u001b[38;5;21;01mgtx\u001b[39;00m\n\u001b[1;32m      3\u001b[0m \u001b[38;5;28;01mfrom\u001b[39;00m \u001b[38;5;21;01mgt4py\u001b[39;00m\u001b[38;5;21;01m.\u001b[39;00m\u001b[38;5;21;01mnext\u001b[39;00m \u001b[38;5;28;01mimport\u001b[39;00m float64, neighbor_sum, where, Dims\n",
      "File \u001b[0;32m~/gt4py-update_types/gt4py/src/gt4py/__init__.py:19\u001b[0m\n\u001b[1;32m     15\u001b[0m \u001b[38;5;124;03m\"\"\"Python library for generating high-performance implementations of stencil kernels for weather and climate modeling.\"\"\"\u001b[39;00m\n\u001b[1;32m     17\u001b[0m \u001b[38;5;28;01mimport\u001b[39;00m \u001b[38;5;21;01msys\u001b[39;00m \u001b[38;5;28;01mas\u001b[39;00m \u001b[38;5;21;01m_sys\u001b[39;00m\n\u001b[0;32m---> 19\u001b[0m \u001b[38;5;28;01mfrom\u001b[39;00m \u001b[38;5;21;01m.\u001b[39;00m \u001b[38;5;28;01mimport\u001b[39;00m cartesian, eve, storage\n\u001b[1;32m     20\u001b[0m \u001b[38;5;28;01mfrom\u001b[39;00m \u001b[38;5;21;01m.\u001b[39;00m\u001b[38;5;21;01m__about__\u001b[39;00m \u001b[38;5;28;01mimport\u001b[39;00m __author__, __copyright__, __license__, __version__, __version_info__\n\u001b[1;32m     23\u001b[0m __all__ \u001b[38;5;241m=\u001b[39m [\n\u001b[1;32m     24\u001b[0m     \u001b[38;5;124m\"\u001b[39m\u001b[38;5;124m__author__\u001b[39m\u001b[38;5;124m\"\u001b[39m,\n\u001b[1;32m     25\u001b[0m     \u001b[38;5;124m\"\u001b[39m\u001b[38;5;124m__copyright__\u001b[39m\u001b[38;5;124m\"\u001b[39m,\n\u001b[0;32m   (...)\u001b[0m\n\u001b[1;32m     31\u001b[0m     \u001b[38;5;124m\"\u001b[39m\u001b[38;5;124mstorage\u001b[39m\u001b[38;5;124m\"\u001b[39m,\n\u001b[1;32m     32\u001b[0m ]\n",
      "File \u001b[0;32m~/gt4py-update_types/gt4py/src/gt4py/cartesian/__init__.py:19\u001b[0m\n\u001b[1;32m     15\u001b[0m \u001b[38;5;124;03m\"\"\"Python API to develop performance portable applications for weather and climate.\"\"\"\u001b[39;00m\n\u001b[1;32m     17\u001b[0m \u001b[38;5;28;01mimport\u001b[39;00m \u001b[38;5;21;01mtyping\u001b[39;00m\n\u001b[0;32m---> 19\u001b[0m \u001b[38;5;28;01mfrom\u001b[39;00m \u001b[38;5;21;01m.\u001b[39;00m \u001b[38;5;28;01mimport\u001b[39;00m (\n\u001b[1;32m     20\u001b[0m     caching,\n\u001b[1;32m     21\u001b[0m     cli,\n\u001b[1;32m     22\u001b[0m     config,\n\u001b[1;32m     23\u001b[0m     definitions,\n\u001b[1;32m     24\u001b[0m     frontend,\n\u001b[1;32m     25\u001b[0m     gt_cache_manager,\n\u001b[1;32m     26\u001b[0m     gtscript,\n\u001b[1;32m     27\u001b[0m     loader,\n\u001b[1;32m     28\u001b[0m     stencil_builder,\n\u001b[1;32m     29\u001b[0m     stencil_object,\n\u001b[1;32m     30\u001b[0m     type_hints,\n\u001b[1;32m     31\u001b[0m )\n\u001b[1;32m     32\u001b[0m \u001b[38;5;28;01mfrom\u001b[39;00m \u001b[38;5;21;01m.\u001b[39;00m\u001b[38;5;21;01mstencil_object\u001b[39;00m \u001b[38;5;28;01mimport\u001b[39;00m StencilObject\n\u001b[1;32m     35\u001b[0m __all__ \u001b[38;5;241m=\u001b[39m [\n\u001b[1;32m     36\u001b[0m     \u001b[38;5;124m\"\u001b[39m\u001b[38;5;124mtyping\u001b[39m\u001b[38;5;124m\"\u001b[39m,\n\u001b[1;32m     37\u001b[0m     \u001b[38;5;124m\"\u001b[39m\u001b[38;5;124mcaching\u001b[39m\u001b[38;5;124m\"\u001b[39m,\n\u001b[0;32m   (...)\u001b[0m\n\u001b[1;32m     48\u001b[0m     \u001b[38;5;124m\"\u001b[39m\u001b[38;5;124mStencilObject\u001b[39m\u001b[38;5;124m\"\u001b[39m,\n\u001b[1;32m     49\u001b[0m ]\n",
      "File \u001b[0;32m~/gt4py-update_types/gt4py/src/gt4py/cartesian/cli.py:41\u001b[0m\n\u001b[1;32m     39\u001b[0m \u001b[38;5;28;01mfrom\u001b[39;00m \u001b[38;5;21;01mgt4py\u001b[39;00m \u001b[38;5;28;01mimport\u001b[39;00m cartesian \u001b[38;5;28;01mas\u001b[39;00m gt4pyc\n\u001b[1;32m     40\u001b[0m \u001b[38;5;28;01mfrom\u001b[39;00m \u001b[38;5;21;01mgt4py\u001b[39;00m\u001b[38;5;21;01m.\u001b[39;00m\u001b[38;5;21;01mcartesian\u001b[39;00m \u001b[38;5;28;01mimport\u001b[39;00m gtscript_imports\n\u001b[0;32m---> 41\u001b[0m \u001b[38;5;28;01mfrom\u001b[39;00m \u001b[38;5;21;01mgt4py\u001b[39;00m\u001b[38;5;21;01m.\u001b[39;00m\u001b[38;5;21;01mcartesian\u001b[39;00m\u001b[38;5;21;01m.\u001b[39;00m\u001b[38;5;21;01mbackend\u001b[39;00m\u001b[38;5;21;01m.\u001b[39;00m\u001b[38;5;21;01mbase\u001b[39;00m \u001b[38;5;28;01mimport\u001b[39;00m CLIBackendMixin\n\u001b[1;32m     42\u001b[0m \u001b[38;5;28;01mfrom\u001b[39;00m \u001b[38;5;21;01mgt4py\u001b[39;00m\u001b[38;5;21;01m.\u001b[39;00m\u001b[38;5;21;01mcartesian\u001b[39;00m\u001b[38;5;21;01m.\u001b[39;00m\u001b[38;5;21;01mlazy_stencil\u001b[39;00m \u001b[38;5;28;01mimport\u001b[39;00m LazyStencil\n\u001b[1;32m     45\u001b[0m \u001b[38;5;28;01mclass\u001b[39;00m \u001b[38;5;21;01mBackendChoice\u001b[39;00m(click\u001b[38;5;241m.\u001b[39mChoice):\n",
      "File \u001b[0;32m~/gt4py-update_types/gt4py/src/gt4py/cartesian/backend/__init__.py:15\u001b[0m\n\u001b[1;32m      1\u001b[0m \u001b[38;5;66;03m# GT4Py - GridTools Framework\u001b[39;00m\n\u001b[1;32m      2\u001b[0m \u001b[38;5;66;03m#\u001b[39;00m\n\u001b[1;32m      3\u001b[0m \u001b[38;5;66;03m# Copyright (c) 2014-2023, ETH Zurich\u001b[39;00m\n\u001b[0;32m   (...)\u001b[0m\n\u001b[1;32m     12\u001b[0m \u001b[38;5;66;03m#\u001b[39;00m\n\u001b[1;32m     13\u001b[0m \u001b[38;5;66;03m# SPDX-License-Identifier: GPL-3.0-or-later\u001b[39;00m\n\u001b[0;32m---> 15\u001b[0m \u001b[38;5;28;01mfrom\u001b[39;00m \u001b[38;5;21;01m.\u001b[39;00m\u001b[38;5;21;01mbase\u001b[39;00m \u001b[38;5;28;01mimport\u001b[39;00m (\n\u001b[1;32m     16\u001b[0m     REGISTRY,\n\u001b[1;32m     17\u001b[0m     Backend,\n\u001b[1;32m     18\u001b[0m     BaseBackend,\n\u001b[1;32m     19\u001b[0m     BasePyExtBackend,\n\u001b[1;32m     20\u001b[0m     CLIBackendMixin,\n\u001b[1;32m     21\u001b[0m     PurePythonBackendCLIMixin,\n\u001b[1;32m     22\u001b[0m     from_name,\n\u001b[1;32m     23\u001b[0m     register,\n\u001b[1;32m     24\u001b[0m )\n\u001b[1;32m     27\u001b[0m \u001b[38;5;28;01mtry\u001b[39;00m:\n\u001b[1;32m     28\u001b[0m     \u001b[38;5;28;01mfrom\u001b[39;00m \u001b[38;5;21;01m.\u001b[39;00m\u001b[38;5;21;01mdace_backend\u001b[39;00m \u001b[38;5;28;01mimport\u001b[39;00m DaceCPUBackend, DaceGPUBackend\n",
      "File \u001b[0;32m~/gt4py-update_types/gt4py/src/gt4py/cartesian/backend/base.py:28\u001b[0m\n\u001b[1;32m     25\u001b[0m \u001b[38;5;28;01mfrom\u001b[39;00m \u001b[38;5;21;01mgt4py\u001b[39;00m\u001b[38;5;21;01m.\u001b[39;00m\u001b[38;5;21;01mcartesian\u001b[39;00m \u001b[38;5;28;01mimport\u001b[39;00m definitions \u001b[38;5;28;01mas\u001b[39;00m gt_definitions, utils \u001b[38;5;28;01mas\u001b[39;00m gt_utils\n\u001b[1;32m     27\u001b[0m \u001b[38;5;28;01mfrom\u001b[39;00m \u001b[38;5;21;01m.\u001b[39;00m \u001b[38;5;28;01mimport\u001b[39;00m pyext_builder\n\u001b[0;32m---> 28\u001b[0m \u001b[38;5;28;01mfrom\u001b[39;00m \u001b[38;5;21;01m.\u001b[39;00m\u001b[38;5;21;01mmodule_generator\u001b[39;00m \u001b[38;5;28;01mimport\u001b[39;00m BaseModuleGenerator, ModuleData, make_args_data_from_gtir\n\u001b[1;32m     31\u001b[0m \u001b[38;5;28;01mif\u001b[39;00m TYPE_CHECKING:\n\u001b[1;32m     32\u001b[0m     \u001b[38;5;28;01mfrom\u001b[39;00m \u001b[38;5;21;01mgt4py\u001b[39;00m\u001b[38;5;21;01m.\u001b[39;00m\u001b[38;5;21;01mcartesian\u001b[39;00m\u001b[38;5;21;01m.\u001b[39;00m\u001b[38;5;21;01mstencil_builder\u001b[39;00m \u001b[38;5;28;01mimport\u001b[39;00m StencilBuilder\n",
      "File \u001b[0;32m~/gt4py-update_types/gt4py/src/gt4py/cartesian/backend/module_generator.py:32\u001b[0m\n\u001b[1;32m     30\u001b[0m \u001b[38;5;28;01mfrom\u001b[39;00m \u001b[38;5;21;01mgt4py\u001b[39;00m\u001b[38;5;21;01m.\u001b[39;00m\u001b[38;5;21;01mcartesian\u001b[39;00m \u001b[38;5;28;01mimport\u001b[39;00m utils \u001b[38;5;28;01mas\u001b[39;00m gt_utils\n\u001b[1;32m     31\u001b[0m \u001b[38;5;28;01mfrom\u001b[39;00m \u001b[38;5;21;01mgt4py\u001b[39;00m\u001b[38;5;21;01m.\u001b[39;00m\u001b[38;5;21;01mcartesian\u001b[39;00m\u001b[38;5;21;01m.\u001b[39;00m\u001b[38;5;21;01mdefinitions\u001b[39;00m \u001b[38;5;28;01mimport\u001b[39;00m AccessKind, DomainInfo, FieldInfo, ParameterInfo, StencilID\n\u001b[0;32m---> 32\u001b[0m \u001b[38;5;28;01mfrom\u001b[39;00m \u001b[38;5;21;01mgt4py\u001b[39;00m\u001b[38;5;21;01m.\u001b[39;00m\u001b[38;5;21;01mcartesian\u001b[39;00m\u001b[38;5;21;01m.\u001b[39;00m\u001b[38;5;21;01mgtc\u001b[39;00m \u001b[38;5;28;01mimport\u001b[39;00m gtir, gtir_to_oir\n\u001b[1;32m     33\u001b[0m \u001b[38;5;28;01mfrom\u001b[39;00m \u001b[38;5;21;01mgt4py\u001b[39;00m\u001b[38;5;21;01m.\u001b[39;00m\u001b[38;5;21;01mcartesian\u001b[39;00m\u001b[38;5;21;01m.\u001b[39;00m\u001b[38;5;21;01mgtc\u001b[39;00m\u001b[38;5;21;01m.\u001b[39;00m\u001b[38;5;21;01mdefinitions\u001b[39;00m \u001b[38;5;28;01mimport\u001b[39;00m Boundary\n\u001b[1;32m     34\u001b[0m \u001b[38;5;28;01mfrom\u001b[39;00m \u001b[38;5;21;01mgt4py\u001b[39;00m\u001b[38;5;21;01m.\u001b[39;00m\u001b[38;5;21;01mcartesian\u001b[39;00m\u001b[38;5;21;01m.\u001b[39;00m\u001b[38;5;21;01mgtc\u001b[39;00m\u001b[38;5;21;01m.\u001b[39;00m\u001b[38;5;21;01mpasses\u001b[39;00m\u001b[38;5;21;01m.\u001b[39;00m\u001b[38;5;21;01mgtir_k_boundary\u001b[39;00m \u001b[38;5;28;01mimport\u001b[39;00m compute_k_boundary, compute_min_k_size\n",
      "File \u001b[0;32m~/gt4py-update_types/gt4py/src/gt4py/cartesian/gtc/gtir_to_oir.py:21\u001b[0m\n\u001b[1;32m     19\u001b[0m \u001b[38;5;28;01mfrom\u001b[39;00m \u001b[38;5;21;01mgt4py\u001b[39;00m\u001b[38;5;21;01m.\u001b[39;00m\u001b[38;5;21;01mcartesian\u001b[39;00m\u001b[38;5;21;01m.\u001b[39;00m\u001b[38;5;21;01mgtc\u001b[39;00m \u001b[38;5;28;01mimport\u001b[39;00m common, gtir, oir, utils\n\u001b[1;32m     20\u001b[0m \u001b[38;5;28;01mfrom\u001b[39;00m \u001b[38;5;21;01mgt4py\u001b[39;00m\u001b[38;5;21;01m.\u001b[39;00m\u001b[38;5;21;01mcartesian\u001b[39;00m\u001b[38;5;21;01m.\u001b[39;00m\u001b[38;5;21;01mgtc\u001b[39;00m\u001b[38;5;21;01m.\u001b[39;00m\u001b[38;5;21;01mcommon\u001b[39;00m \u001b[38;5;28;01mimport\u001b[39;00m CartesianOffset, DataType, LogicalOperator, UnaryOperator\n\u001b[0;32m---> 21\u001b[0m \u001b[38;5;28;01mfrom\u001b[39;00m \u001b[38;5;21;01mgt4py\u001b[39;00m\u001b[38;5;21;01m.\u001b[39;00m\u001b[38;5;21;01mcartesian\u001b[39;00m\u001b[38;5;21;01m.\u001b[39;00m\u001b[38;5;21;01mgtc\u001b[39;00m\u001b[38;5;21;01m.\u001b[39;00m\u001b[38;5;21;01mpasses\u001b[39;00m\u001b[38;5;21;01m.\u001b[39;00m\u001b[38;5;21;01moir_optimizations\u001b[39;00m\u001b[38;5;21;01m.\u001b[39;00m\u001b[38;5;21;01mutils\u001b[39;00m \u001b[38;5;28;01mimport\u001b[39;00m compute_fields_extents\n\u001b[1;32m     24\u001b[0m \u001b[38;5;28;01mdef\u001b[39;00m \u001b[38;5;21mvalidate_stencil_memory_accesses\u001b[39m(node: oir\u001b[38;5;241m.\u001b[39mStencil) \u001b[38;5;241m-\u001b[39m\u001b[38;5;241m>\u001b[39m oir\u001b[38;5;241m.\u001b[39mStencil:\n\u001b[1;32m     25\u001b[0m \u001b[38;5;250m    \u001b[39m\u001b[38;5;124;03m\"\"\"Check that no memory races occur in GridTools backends.\u001b[39;00m\n\u001b[1;32m     26\u001b[0m \n\u001b[1;32m     27\u001b[0m \u001b[38;5;124;03m    Since this is required for GridTools backends, it's imposed on all backends\u001b[39;00m\n\u001b[0;32m   (...)\u001b[0m\n\u001b[1;32m     31\u001b[0m \n\u001b[1;32m     32\u001b[0m \u001b[38;5;124;03m    \"\"\"\u001b[39;00m\n",
      "File \u001b[0;32m~/gt4py-update_types/gt4py/src/gt4py/cartesian/gtc/passes/oir_optimizations/utils.py:74\u001b[0m\n\u001b[1;32m     68\u001b[0m     \u001b[38;5;28;01mpass\u001b[39;00m\n\u001b[1;32m     71\u001b[0m AccessT \u001b[38;5;241m=\u001b[39m TypeVar(\u001b[38;5;124m\"\u001b[39m\u001b[38;5;124mAccessT\u001b[39m\u001b[38;5;124m\"\u001b[39m, bound\u001b[38;5;241m=\u001b[39mGenericAccess)\n\u001b[0;32m---> 74\u001b[0m \u001b[38;5;28;01mclass\u001b[39;00m \u001b[38;5;21;01mAccessCollector\u001b[39;00m(\u001b[43mgt4py\u001b[49m\u001b[38;5;241;43m.\u001b[39;49m\u001b[43meve\u001b[49m\u001b[38;5;241m.\u001b[39mNodeVisitor):\n\u001b[1;32m     75\u001b[0m \u001b[38;5;250m    \u001b[39m\u001b[38;5;124;03m\"\"\"Collects all field accesses and corresponding offsets.\"\"\"\u001b[39;00m\n\u001b[1;32m     77\u001b[0m     \u001b[38;5;28;01mdef\u001b[39;00m \u001b[38;5;21mvisit_FieldAccess\u001b[39m(\n\u001b[1;32m     78\u001b[0m         \u001b[38;5;28mself\u001b[39m,\n\u001b[1;32m     79\u001b[0m         node: oir\u001b[38;5;241m.\u001b[39mFieldAccess,\n\u001b[0;32m   (...)\u001b[0m\n\u001b[1;32m     84\u001b[0m         \u001b[38;5;241m*\u001b[39m\u001b[38;5;241m*\u001b[39mkwargs: Any,\n\u001b[1;32m     85\u001b[0m     ) \u001b[38;5;241m-\u001b[39m\u001b[38;5;241m>\u001b[39m \u001b[38;5;28;01mNone\u001b[39;00m:\n",
      "\u001b[0;31mAttributeError\u001b[0m: partially initialized module 'gt4py' has no attribute 'eve' (most likely due to a circular import)"
     ]
    }
   ],
   "source": [
    "import numpy as np\n",
    "import gt4py.next as gtx\n",
    "from gt4py.next import float64, neighbor_sum, where, Dims"
   ]
  },
  {
   "cell_type": "markdown",
   "id": "219a8afd",
   "metadata": {},
   "source": [
    "## Key concepts and application structure\n",
    "\n",
    "- [Fields](#Fields),\n",
    "- [Field operators](#Field-operators), and\n",
    "- [Programs](#Programs)."
   ]
  },
  {
   "cell_type": "markdown",
   "id": "332533a3",
   "metadata": {},
   "source": [
    "### Fields\n",
    "\n",
    "Fields are **multi-dimensional array** defined over a set of dimensions and a dtype: `gtx.Field[Dims[dimensions], dtype]`.\n",
    "\n",
    "|   <div><img src=\"../images/field.png\" width=\"66%\"/></div>    |\n",
    "| :----------------------------------------------------------: |\n",
    "| <div><img src=\"../images/field-code.png\" width=\"50%\"/></div> |"
   ]
  },
  {
   "cell_type": "markdown",
   "id": "437cad42",
   "metadata": {},
   "source": [
    "Fields can be constructed with the following functions, inspired by numpy:\n",
    "\n",
    "- `zeros`\n",
    "- `full` to fill with a given value\n",
    "- `as_field` to convert from numpy or cupy arrays\n",
    "\n",
    "The first argument is the domain of the field, which can be constructed from a mapping from `Dimension` to range.\n",
    "\n",
    "Optional we can pass\n",
    "\n",
    "- `dtype` the description of type of the field\n",
    "- `allocator` which describes how and where (e.g. GPU) the buffer is allocated.\n",
    "\n",
    "Note: `as_field` can also take a sequence of Dimensions and infer the shape"
   ]
  },
  {
   "cell_type": "code",
   "execution_count": null,
   "id": "f4be5a76",
   "metadata": {},
   "outputs": [],
   "source": [
    "Cell = gtx.Dimension(\"Cell\")\n",
    "K = gtx.Dimension(\"K\", kind=gtx.DimensionKind.VERTICAL)\n",
    "\n",
    "domain = gtx.domain({Cell: 5, K: 6})\n",
    "\n",
    "a = gtx.zeros(domain, dtype=float64)\n",
    "b = gtx.full(domain, fill_value=3.0, dtype=float64)\n",
    "c = gtx.as_field([Cell, K], np.fromfunction(lambda c, k: c*10+k, shape=domain.shape))\n",
    "\n",
    "print(\"a definition: \\n {}\".format(a))\n",
    "print(\"a array: \\n {}\".format(a.asnumpy()))\n",
    "print(\"b array: \\n {}\".format(b.asnumpy()))\n",
    "print(\"c array: \\n {}\".format(c.asnumpy()))"
   ]
  },
  {
   "cell_type": "markdown",
   "id": "f7875b85",
   "metadata": {},
   "source": [
    "### Field operators\n",
    "\n",
    "Field operators perform operations on a set of fields, i.e. elementwise addition or reduction along a dimension.\n",
    "\n",
    "They are written as Python functions by using the `@field_operator` decorator."
   ]
  },
  {
   "cell_type": "code",
   "execution_count": null,
   "id": "7092af27",
   "metadata": {},
   "outputs": [],
   "source": [
    "@gtx.field_operator\n",
    "def add(a: gtx.Field[Dims[Cell, K], float64],\n",
    "        b: gtx.Field[Dims[Cell, K], float64]) -> gtx.Field[Dims[Cell, K], float64]:\n",
    "    return a + b"
   ]
  },
  {
   "cell_type": "markdown",
   "id": "ba88d740",
   "metadata": {},
   "source": [
    "Direct calls to field operators require two additional arguments:\n",
    "\n",
    "- `out`: a field to write the return value to\n",
    "- `offset_provider`: empty dict for now, explanation will follow"
   ]
  },
  {
   "cell_type": "code",
   "execution_count": null,
   "id": "e93f8d29",
   "metadata": {},
   "outputs": [],
   "source": [
    "result = gtx.zeros(domain)\n",
    "add(a, b, out=result, offset_provider={})\n",
    "\n",
    "print(\"result array \\n {}\".format(result.asnumpy()))"
   ]
  },
  {
   "cell_type": "markdown",
   "id": "b482c77c",
   "metadata": {},
   "source": [
    "### Programs"
   ]
  },
  {
   "cell_type": "markdown",
   "id": "2b5dbfe8",
   "metadata": {},
   "source": [
    "Programs are used to call field operators to mutate the latter's output arguments.\n",
    "\n",
    "They are written as Python functions by using the `@program` decorator.\n",
    "\n",
    "This example below calls the `add` field operator twice:"
   ]
  },
  {
   "cell_type": "code",
   "execution_count": null,
   "id": "7ff60fda",
   "metadata": {},
   "outputs": [],
   "source": [
    "@gtx.program\n",
    "def run_add(a : gtx.Field[Dims[Cell, K], float64],\n",
    "            b : gtx.Field[Dims[Cell, K], float64],\n",
    "            result : gtx.Field[[Cell, K], float64]):\n",
    "    add(a, b, out=result)\n",
    "    add(b, result, out=result)"
   ]
  },
  {
   "cell_type": "code",
   "execution_count": null,
   "id": "08713dc1",
   "metadata": {},
   "outputs": [],
   "source": [
    "result = gtx.zeros(domain, dtype=float64)\n",
    "run_add(a, b, result, offset_provider={})\n",
    "\n",
    "print(\"result array: \\n {}\".format(result.asnumpy()))"
   ]
  }
 ],
 "metadata": {
  "jupytext": {
   "formats": "ipynb,md:myst"
  },
  "kernelspec": {
   "display_name": "Python 3 (ipykernel)",
   "language": "python",
   "name": "python3"
  },
  "language_info": {
   "codemirror_mode": {
    "name": "ipython",
    "version": 3
   },
   "file_extension": ".py",
   "mimetype": "text/x-python",
   "name": "python",
   "nbconvert_exporter": "python",
   "pygments_lexer": "ipython3",
   "version": "3.10.0"
  }
 },
 "nbformat": 4,
 "nbformat_minor": 5
}

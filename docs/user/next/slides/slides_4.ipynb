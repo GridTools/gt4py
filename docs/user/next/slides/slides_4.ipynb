{
 "cells": [
  {
   "cell_type": "markdown",
   "id": "0a0ab013",
   "metadata": {},
   "source": [
    "<img src=\"logos/cscs_logo.jpeg\" alt=\"cscs\" style=\"width:270px;\"/> <img src=\"logos/c2sm_logo.gif\" alt=\"c2sm\" style=\"width:220px;\"/>\n",
    "<img src=\"logos/exclaim_logo.png\" alt=\"exclaim\" style=\"width:270px;\"/> <img src=\"logos/mch_logo.svg\" alt=\"mch\" style=\"width:270px;\"/>"
   ]
  },
  {
   "cell_type": "code",
   "execution_count": null,
   "id": "02e63233",
   "metadata": {},
   "outputs": [],
   "source": [
    "import warnings\n",
    "warnings.filterwarnings('ignore')"
   ]
  },
  {
   "cell_type": "code",
   "execution_count": null,
   "id": "2892c9e2",
   "metadata": {},
   "outputs": [],
   "source": [
    "import numpy as np\n",
    "import gt4py.next as gtx\n",
    "from gt4py.next import float64, neighbor_sum, where"
   ]
  },
  {
   "cell_type": "code",
   "execution_count": null,
   "id": "3486fbec",
   "metadata": {},
   "outputs": [],
   "source": [
    "K = gtx.Dimension(\"K\", kind=gtx.DimensionKind.VERTICAL)"
   ]
  },
  {
   "cell_type": "markdown",
   "id": "cca4ec91",
   "metadata": {},
   "source": [
    "## Scan algorithm\n",
    "\n",
    "All operations so far where map operations over the output domain. The only other algorithm that we currently support is _scanning_ of an axis, one example of a scan is the partial sum as illustrated in the following code snippet."
   ]
  },
  {
   "cell_type": "code",
   "execution_count": null,
   "id": "ffc6cc17",
   "metadata": {},
   "outputs": [],
   "source": [
    "x = np.asarray([1.0, 2.0, 4.0, 6.0, 0.0, 2.0, 5.0])\n",
    "def partial_sum(x):\n",
    "    for i in range(len(x)):\n",
    "        if i > 0:\n",
    "            x[i] = x[i-1] + x[i]\n",
    "    return x\n",
    "print(f\"input:\\n {x}\") \n",
    "print(f\"partial sum:\\n {partial_sum(x)}\")"
   ]
  },
  {
   "cell_type": "markdown",
   "id": "3e48a4c3",
   "metadata": {},
   "source": [
    "Visually, this is what `partial_sum` is doing: \n",
    "\n",
    "| ![scan_operator](../images/scan_operator.png) |\n",
    "| :---------------------------------: |\n",
    "|         _Iterative sum over K_      |"
   ]
  },
  {
   "cell_type": "markdown",
   "id": "2c9bfe6f",
   "metadata": {},
   "source": [
    "In GT4Py the a scan pattern is implemented with the so-called `scan_operator` where the return statement expresses the computation at the current position in the scan direction. This value is additionally injected as the first argument to the next position, usually called `state` or `carry`.\n",
    "\n",
    "The `scan_operator` decorator takes 3 arguments:\n",
    "- `axis`: a `Dimension` that specifies the scan axis; note: the `Dimension` has to be of kind `VERTICAL`\n",
    "- `forward`: True if order of operations is from bottom to top, False if from top to bottom\n",
    "- `init`: value that is injected as the `state` at the start\n",
    "\n",
    "Note: Unlike a `field_operator`, the `scan_operator` is actually a local, scalar operation. It is applied to all points in the dimensions orthogonal to the scan axis (a form of single-column-abstraction). That might change in the future or be extended with a field version."
   ]
  },
  {
   "cell_type": "code",
   "execution_count": null,
   "id": "691bce93",
   "metadata": {},
   "outputs": [],
   "source": [
    "@gtx.scan_operator(axis=K, forward=True, init=0.0)\n",
    "def add_scan(state: float, k_field: float) -> float:\n",
    "    return state + k_field"
   ]
  },
  {
   "cell_type": "code",
   "execution_count": null,
   "id": "c8844650",
   "metadata": {},
   "outputs": [],
   "source": [
    "k_field = gtx.as_field([K], np.asarray([1.0, 2.0, 4.0, 6.0, 0.0, 2.0, 5.0]))\n",
    "result = gtx.zeros(domain=gtx.domain({K: 7}))\n",
    "\n",
    "add_scan(k_field, out=result, offset_provider={})\n",
    "\n",
    "print(\"result array: \\n {}\".format(result.asnumpy()))"
   ]
  },
  {
   "cell_type": "markdown",
   "id": "80924e30",
   "metadata": {},
   "source": [
    "Note: `scan_operators` can be called from `field_operators` and `programs`. Likewise, `field_operators` can be called from `scan_operators`"
   ]
  },
  {
   "cell_type": "code",
   "execution_count": null,
   "id": "f6b488d5",
   "metadata": {},
   "outputs": [],
   "source": []
  }
 ],
 "metadata": {
  "jupytext": {
   "formats": "ipynb,md:myst"
  },
  "kernelspec": {
   "display_name": "Python 3 (ipykernel)",
   "language": "python",
   "name": "python3"
  }
 },
 "nbformat": 4,
 "nbformat_minor": 5
}

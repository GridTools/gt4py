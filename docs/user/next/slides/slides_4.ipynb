{
 "cells": [
  {
   "cell_type": "markdown",
   "id": "0a0ab013",
   "metadata": {},
   "source": [
    "<img src=\"logos/cscs_logo.jpeg\" alt=\"cscs\" style=\"width:270px;\"/> <img src=\"logos/c2sm_logo.gif\" alt=\"c2sm\" style=\"width:220px;\"/>\n",
    "<img src=\"logos/exclaim_logo.png\" alt=\"exclaim\" style=\"width:270px;\"/> <img src=\"logos/mch_logo.svg\" alt=\"mch\" style=\"width:270px;\"/>"
   ]
  },
  {
   "cell_type": "code",
   "execution_count": 1,
   "id": "02e63233",
   "metadata": {},
   "outputs": [],
   "source": [
    "import warnings\n",
    "warnings.filterwarnings('ignore')"
   ]
  },
  {
   "cell_type": "code",
   "execution_count": 2,
   "id": "2892c9e2",
   "metadata": {},
   "outputs": [
    {
     "data": {
      "text/html": [
       "<link href=\"https://fonts.googleapis.com/icon?family=Material+Icons\" rel=\"stylesheet\"><script src=\"https://spcl.github.io/dace/webclient2/dist/sdfv.js\"></script>\n",
       "<link href=\"https://spcl.github.io/dace/webclient2/sdfv.css\" rel=\"stylesheet\">\n"
      ],
      "text/plain": [
       "<IPython.core.display.HTML object>"
      ]
     },
     "metadata": {},
     "output_type": "display_data"
    }
   ],
   "source": [
    "import numpy as np\n",
    "import gt4py.next as gtx\n",
    "from gt4py.next import float64"
   ]
  },
  {
   "cell_type": "code",
   "execution_count": 3,
   "id": "3486fbec",
   "metadata": {},
   "outputs": [],
   "source": [
    "K = gtx.Dimension(\"K\", kind=gtx.DimensionKind.VERTICAL)"
   ]
  },
  {
   "cell_type": "markdown",
   "id": "cca4ec91",
   "metadata": {},
   "source": [
    "## Scan algorithm\n",
    "\n",
    "All operations so far where map operations over the output domain. The only other algorithm that we currently support is _scanning_ of an axis, one example of a scan is the partial sum as illustrated in the following code snippet."
   ]
  },
  {
   "cell_type": "code",
   "execution_count": 4,
   "id": "ffc6cc17",
   "metadata": {},
   "outputs": [
    {
     "name": "stdout",
     "output_type": "stream",
     "text": [
      "input:\n",
      " [1. 2. 4. 6. 0. 2. 5.]\n",
      "partial sum:\n",
      " [ 1.  3.  7. 13. 13. 15. 20.]\n"
     ]
    }
   ],
   "source": [
    "x = np.asarray([1.0, 2.0, 4.0, 6.0, 0.0, 2.0, 5.0])\n",
    "def partial_sum(x):\n",
    "    for i in range(len(x)):\n",
    "        if i > 0:\n",
    "            x[i] = x[i-1] + x[i]\n",
    "    return x\n",
    "print(f\"input:\\n {x}\")\n",
    "print(f\"partial sum:\\n {partial_sum(x)}\")"
   ]
  },
  {
   "cell_type": "markdown",
   "id": "3e48a4c3",
   "metadata": {},
   "source": [
    "Visually, this is what `partial_sum` is doing:\n",
    "\n",
    "| ![scan_operator](../images/scan_operator.png) |\n",
    "| :-------------------------------------------: |\n",
    "|            _Iterative sum over K_             |"
   ]
  },
  {
   "cell_type": "markdown",
   "id": "2c9bfe6f",
   "metadata": {},
   "source": [
    "In GT4Py the a scan pattern is implemented with the so-called `scan_operator` where the return statement expresses the computation at the current position in the scan direction. This value is additionally injected as the first argument to the next position, usually called `state` or `carry`.\n",
    "\n",
    "The `scan_operator` decorator takes 3 arguments:\n",
    "\n",
    "- `axis`: a `Dimension` that specifies the scan axis; note: the `Dimension` has to be of kind `VERTICAL`\n",
    "- `forward`: True if order of operations is from bottom to top, False if from top to bottom\n",
    "- `init`: value that is injected as the `state` at the start\n",
    "\n",
    "Note: Unlike a `field_operator`, the `scan_operator` is actually a local, scalar operation. It is applied to all points in the dimensions orthogonal to the scan axis (a form of single-column-abstraction). That might change in the future or be extended with a field version."
   ]
  },
  {
   "cell_type": "code",
   "execution_count": 5,
   "id": "691bce93",
   "metadata": {},
   "outputs": [],
   "source": [
    "@gtx.scan_operator(axis=K, forward=True, init=0.0)\n",
    "def add_scan(state: float, k_field: float) -> float:\n",
    "    return state + k_field"
   ]
  },
  {
   "cell_type": "code",
   "execution_count": 6,
   "id": "c8844650",
   "metadata": {},
   "outputs": [
    {
     "ename": "AssertionError",
     "evalue": "",
     "output_type": "error",
     "traceback": [
      "\u001b[0;31m---------------------------------------------------------------------------\u001b[0m",
      "\u001b[0;31mAssertionError\u001b[0m                            Traceback (most recent call last)",
      "Cell \u001b[0;32mIn[6], line 4\u001b[0m\n\u001b[1;32m      1\u001b[0m k_field \u001b[38;5;241m=\u001b[39m gtx\u001b[38;5;241m.\u001b[39mas_field([K], np\u001b[38;5;241m.\u001b[39masarray([\u001b[38;5;241m1.0\u001b[39m, \u001b[38;5;241m2.0\u001b[39m, \u001b[38;5;241m4.0\u001b[39m, \u001b[38;5;241m6.0\u001b[39m, \u001b[38;5;241m0.0\u001b[39m, \u001b[38;5;241m2.0\u001b[39m, \u001b[38;5;241m5.0\u001b[39m]))\n\u001b[1;32m      2\u001b[0m result \u001b[38;5;241m=\u001b[39m gtx\u001b[38;5;241m.\u001b[39mzeros(domain\u001b[38;5;241m=\u001b[39mgtx\u001b[38;5;241m.\u001b[39mdomain({K: \u001b[38;5;241m7\u001b[39m}))\n\u001b[0;32m----> 4\u001b[0m \u001b[43madd_scan\u001b[49m\u001b[43m(\u001b[49m\u001b[43mk_field\u001b[49m\u001b[43m,\u001b[49m\u001b[43m \u001b[49m\u001b[43mout\u001b[49m\u001b[38;5;241;43m=\u001b[39;49m\u001b[43mresult\u001b[49m\u001b[43m,\u001b[49m\u001b[43m \u001b[49m\u001b[43moffset_provider\u001b[49m\u001b[38;5;241;43m=\u001b[39;49m\u001b[43m{\u001b[49m\u001b[43m}\u001b[49m\u001b[43m)\u001b[49m\n\u001b[1;32m      6\u001b[0m \u001b[38;5;28mprint\u001b[39m(\u001b[38;5;124m\"\u001b[39m\u001b[38;5;124mresult array: \u001b[39m\u001b[38;5;130;01m\\n\u001b[39;00m\u001b[38;5;124m \u001b[39m\u001b[38;5;132;01m{}\u001b[39;00m\u001b[38;5;124m\"\u001b[39m\u001b[38;5;241m.\u001b[39mformat(result\u001b[38;5;241m.\u001b[39masnumpy()))\n",
      "File \u001b[0;32m~/gt4py-update_types/gt4py/src/gt4py/next/ffront/decorator.py:757\u001b[0m, in \u001b[0;36mFieldOperator.__call__\u001b[0;34m(self, *args, **kwargs)\u001b[0m\n\u001b[1;32m    755\u001b[0m \u001b[38;5;28;01melse\u001b[39;00m:\n\u001b[1;32m    756\u001b[0m     op \u001b[38;5;241m=\u001b[39m embedded_operators\u001b[38;5;241m.\u001b[39mEmbeddedOperator(\u001b[38;5;28mself\u001b[39m\u001b[38;5;241m.\u001b[39mdefinition)\n\u001b[0;32m--> 757\u001b[0m \u001b[38;5;28;01mreturn\u001b[39;00m \u001b[43membedded_operators\u001b[49m\u001b[38;5;241;43m.\u001b[39;49m\u001b[43mfield_operator_call\u001b[49m\u001b[43m(\u001b[49m\u001b[43mop\u001b[49m\u001b[43m,\u001b[49m\u001b[43m \u001b[49m\u001b[43margs\u001b[49m\u001b[43m,\u001b[49m\u001b[43m \u001b[49m\u001b[43mkwargs\u001b[49m\u001b[43m)\u001b[49m\n",
      "File \u001b[0;32m~/gt4py-update_types/gt4py/src/gt4py/next/embedded/operators.py:113\u001b[0m, in \u001b[0;36mfield_operator_call\u001b[0;34m(op, args, kwargs)\u001b[0m\n\u001b[1;32m    110\u001b[0m     new_context_kwargs[\u001b[38;5;124m\"\u001b[39m\u001b[38;5;124mclosure_column_range\u001b[39m\u001b[38;5;124m\"\u001b[39m] \u001b[38;5;241m=\u001b[39m _get_vertical_range(out_domain)\n\u001b[1;32m    112\u001b[0m     \u001b[38;5;28;01mwith\u001b[39;00m embedded_context\u001b[38;5;241m.\u001b[39mnew_context(\u001b[38;5;241m*\u001b[39m\u001b[38;5;241m*\u001b[39mnew_context_kwargs) \u001b[38;5;28;01mas\u001b[39;00m ctx:\n\u001b[0;32m--> 113\u001b[0m         res \u001b[38;5;241m=\u001b[39m \u001b[43mctx\u001b[49m\u001b[38;5;241;43m.\u001b[39;49m\u001b[43mrun\u001b[49m\u001b[43m(\u001b[49m\u001b[43mop\u001b[49m\u001b[43m,\u001b[49m\u001b[43m \u001b[49m\u001b[38;5;241;43m*\u001b[39;49m\u001b[43margs\u001b[49m\u001b[43m,\u001b[49m\u001b[43m \u001b[49m\u001b[38;5;241;43m*\u001b[39;49m\u001b[38;5;241;43m*\u001b[39;49m\u001b[43mkwargs\u001b[49m\u001b[43m)\u001b[49m\n\u001b[1;32m    114\u001b[0m         _tuple_assign_field(\n\u001b[1;32m    115\u001b[0m             out,\n\u001b[1;32m    116\u001b[0m             res,\n\u001b[1;32m    117\u001b[0m             domain\u001b[38;5;241m=\u001b[39mout_domain,\n\u001b[1;32m    118\u001b[0m         )\n\u001b[1;32m    119\u001b[0m \u001b[38;5;28;01melse\u001b[39;00m:\n\u001b[1;32m    120\u001b[0m     \u001b[38;5;66;03m# called from other field_operator or missing `out` argument\u001b[39;00m\n",
      "File \u001b[0;32m~/gt4py-update_types/gt4py/src/gt4py/next/embedded/operators.py:78\u001b[0m, in \u001b[0;36mScanOperator.__call__\u001b[0;34m(self, *args, **kwargs)\u001b[0m\n\u001b[1;32m     74\u001b[0m         _tuple_assign_value(pos, res, acc)\n\u001b[1;32m     76\u001b[0m \u001b[38;5;28;01mif\u001b[39;00m \u001b[38;5;28mlen\u001b[39m(non_scan_domain) \u001b[38;5;241m==\u001b[39m \u001b[38;5;241m0\u001b[39m:\n\u001b[1;32m     77\u001b[0m     \u001b[38;5;66;03m# if we don't have any dimension orthogonal to scan_axis, we need to do one scan_loop\u001b[39;00m\n\u001b[0;32m---> 78\u001b[0m     \u001b[43mscan_loop\u001b[49m\u001b[43m(\u001b[49m\u001b[43m(\u001b[49m\u001b[43m)\u001b[49m\u001b[43m)\u001b[49m\n\u001b[1;32m     79\u001b[0m \u001b[38;5;28;01melse\u001b[39;00m:\n\u001b[1;32m     80\u001b[0m     \u001b[38;5;28;01mfor\u001b[39;00m hpos \u001b[38;5;129;01min\u001b[39;00m embedded_common\u001b[38;5;241m.\u001b[39miterate_domain(non_scan_domain):\n",
      "File \u001b[0;32m~/gt4py-update_types/gt4py/src/gt4py/next/embedded/operators.py:71\u001b[0m, in \u001b[0;36mScanOperator.__call__.<locals>.scan_loop\u001b[0;34m(hpos)\u001b[0m\n\u001b[1;32m     69\u001b[0m \u001b[38;5;28;01mfor\u001b[39;00m k \u001b[38;5;129;01min\u001b[39;00m scan_range[\u001b[38;5;241m1\u001b[39m] \u001b[38;5;28;01mif\u001b[39;00m \u001b[38;5;28mself\u001b[39m\u001b[38;5;241m.\u001b[39mforward \u001b[38;5;28;01melse\u001b[39;00m \u001b[38;5;28mreversed\u001b[39m(scan_range[\u001b[38;5;241m1\u001b[39m]):\n\u001b[1;32m     70\u001b[0m     pos \u001b[38;5;241m=\u001b[39m (\u001b[38;5;241m*\u001b[39mhpos, (scan_axis, k))\n\u001b[0;32m---> 71\u001b[0m     new_args \u001b[38;5;241m=\u001b[39m [_tuple_at(pos, arg) \u001b[38;5;28;01mfor\u001b[39;00m arg \u001b[38;5;129;01min\u001b[39;00m args]\n\u001b[1;32m     72\u001b[0m     new_kwargs \u001b[38;5;241m=\u001b[39m {k: _tuple_at(pos, v) \u001b[38;5;28;01mfor\u001b[39;00m k, v \u001b[38;5;129;01min\u001b[39;00m kwargs\u001b[38;5;241m.\u001b[39mitems()}\n\u001b[1;32m     73\u001b[0m     acc \u001b[38;5;241m=\u001b[39m \u001b[38;5;28mself\u001b[39m\u001b[38;5;241m.\u001b[39mfun(acc, \u001b[38;5;241m*\u001b[39mnew_args, \u001b[38;5;241m*\u001b[39m\u001b[38;5;241m*\u001b[39mnew_kwargs)\n",
      "File \u001b[0;32m~/gt4py-update_types/gt4py/src/gt4py/next/embedded/operators.py:71\u001b[0m, in \u001b[0;36m<listcomp>\u001b[0;34m(.0)\u001b[0m\n\u001b[1;32m     69\u001b[0m \u001b[38;5;28;01mfor\u001b[39;00m k \u001b[38;5;129;01min\u001b[39;00m scan_range[\u001b[38;5;241m1\u001b[39m] \u001b[38;5;28;01mif\u001b[39;00m \u001b[38;5;28mself\u001b[39m\u001b[38;5;241m.\u001b[39mforward \u001b[38;5;28;01melse\u001b[39;00m \u001b[38;5;28mreversed\u001b[39m(scan_range[\u001b[38;5;241m1\u001b[39m]):\n\u001b[1;32m     70\u001b[0m     pos \u001b[38;5;241m=\u001b[39m (\u001b[38;5;241m*\u001b[39mhpos, (scan_axis, k))\n\u001b[0;32m---> 71\u001b[0m     new_args \u001b[38;5;241m=\u001b[39m [\u001b[43m_tuple_at\u001b[49m\u001b[43m(\u001b[49m\u001b[43mpos\u001b[49m\u001b[43m,\u001b[49m\u001b[43m \u001b[49m\u001b[43marg\u001b[49m\u001b[43m)\u001b[49m \u001b[38;5;28;01mfor\u001b[39;00m arg \u001b[38;5;129;01min\u001b[39;00m args]\n\u001b[1;32m     72\u001b[0m     new_kwargs \u001b[38;5;241m=\u001b[39m {k: _tuple_at(pos, v) \u001b[38;5;28;01mfor\u001b[39;00m k, v \u001b[38;5;129;01min\u001b[39;00m kwargs\u001b[38;5;241m.\u001b[39mitems()}\n\u001b[1;32m     73\u001b[0m     acc \u001b[38;5;241m=\u001b[39m \u001b[38;5;28mself\u001b[39m\u001b[38;5;241m.\u001b[39mfun(acc, \u001b[38;5;241m*\u001b[39mnew_args, \u001b[38;5;241m*\u001b[39m\u001b[38;5;241m*\u001b[39mnew_kwargs)\n",
      "File \u001b[0;32m~/gt4py-update_types/gt4py/src/gt4py/next/embedded/operators.py:198\u001b[0m, in \u001b[0;36m_tuple_at\u001b[0;34m(pos, field)\u001b[0m\n\u001b[1;32m    195\u001b[0m     \u001b[38;5;28;01massert\u001b[39;00m core_defs\u001b[38;5;241m.\u001b[39mis_scalar_type(res)\n\u001b[1;32m    196\u001b[0m     \u001b[38;5;28;01mreturn\u001b[39;00m res\n\u001b[0;32m--> 198\u001b[0m \u001b[38;5;28;01mreturn\u001b[39;00m \u001b[43mimpl\u001b[49m\u001b[43m(\u001b[49m\u001b[43mfield\u001b[49m\u001b[43m)\u001b[49m\n",
      "File \u001b[0;32m~/gt4py-update_types/gt4py/src/gt4py/next/utils.py:90\u001b[0m, in \u001b[0;36mtree_map.<locals>.impl\u001b[0;34m(*args)\u001b[0m\n\u001b[1;32m     87\u001b[0m     \u001b[38;5;28;01massert\u001b[39;00m \u001b[38;5;28mall\u001b[39m(\u001b[38;5;28misinstance\u001b[39m(arg, \u001b[38;5;28mtuple\u001b[39m) \u001b[38;5;129;01mand\u001b[39;00m \u001b[38;5;28mlen\u001b[39m(args[\u001b[38;5;241m0\u001b[39m]) \u001b[38;5;241m==\u001b[39m \u001b[38;5;28mlen\u001b[39m(arg) \u001b[38;5;28;01mfor\u001b[39;00m arg \u001b[38;5;129;01min\u001b[39;00m args)\n\u001b[1;32m     88\u001b[0m     \u001b[38;5;28;01mreturn\u001b[39;00m \u001b[38;5;28mtuple\u001b[39m(impl(\u001b[38;5;241m*\u001b[39marg) \u001b[38;5;28;01mfor\u001b[39;00m arg \u001b[38;5;129;01min\u001b[39;00m \u001b[38;5;28mzip\u001b[39m(\u001b[38;5;241m*\u001b[39margs))\n\u001b[0;32m---> 90\u001b[0m \u001b[38;5;28;01mreturn\u001b[39;00m \u001b[43mfun\u001b[49m\u001b[43m(\u001b[49m\n\u001b[1;32m     91\u001b[0m \u001b[43m    \u001b[49m\u001b[38;5;241;43m*\u001b[39;49m\u001b[43mcast\u001b[49m\u001b[43m(\u001b[49m\u001b[43m_P\u001b[49m\u001b[38;5;241;43m.\u001b[39;49m\u001b[43margs\u001b[49m\u001b[43m,\u001b[49m\u001b[43m \u001b[49m\u001b[43margs\u001b[49m\u001b[43m)\u001b[49m\n\u001b[1;32m     92\u001b[0m \u001b[43m\u001b[49m\u001b[43m)\u001b[49m\n",
      "File \u001b[0;32m~/gt4py-update_types/gt4py/src/gt4py/next/embedded/operators.py:195\u001b[0m, in \u001b[0;36m_tuple_at.<locals>.impl\u001b[0;34m(field)\u001b[0m\n\u001b[1;32m    192\u001b[0m \u001b[38;5;129m@utils\u001b[39m\u001b[38;5;241m.\u001b[39mtree_map\n\u001b[1;32m    193\u001b[0m \u001b[38;5;28;01mdef\u001b[39;00m \u001b[38;5;21mimpl\u001b[39m(field: common\u001b[38;5;241m.\u001b[39mField \u001b[38;5;241m|\u001b[39m core_defs\u001b[38;5;241m.\u001b[39mScalar) \u001b[38;5;241m-\u001b[39m\u001b[38;5;241m>\u001b[39m core_defs\u001b[38;5;241m.\u001b[39mScalar:\n\u001b[1;32m    194\u001b[0m     res \u001b[38;5;241m=\u001b[39m field[pos] \u001b[38;5;28;01mif\u001b[39;00m common\u001b[38;5;241m.\u001b[39mis_field(field) \u001b[38;5;28;01melse\u001b[39;00m field\n\u001b[0;32m--> 195\u001b[0m     \u001b[38;5;28;01massert\u001b[39;00m core_defs\u001b[38;5;241m.\u001b[39mis_scalar_type(res)\n\u001b[1;32m    196\u001b[0m     \u001b[38;5;28;01mreturn\u001b[39;00m res\n",
      "\u001b[0;31mAssertionError\u001b[0m: "
     ]
    }
   ],
   "source": [
    "k_field = gtx.as_field([K], np.asarray([1.0, 2.0, 4.0, 6.0, 0.0, 2.0, 5.0]))\n",
    "result = gtx.zeros(domain=gtx.domain({K: 7}))\n",
    "\n",
    "add_scan(k_field, out=result, offset_provider={})\n",
    "\n",
    "print(\"result array: \\n {}\".format(result.asnumpy()))"
   ]
  },
  {
   "cell_type": "markdown",
   "id": "80924e30",
   "metadata": {},
   "source": [
    "Note: `scan_operators` can be called from `field_operators` and `programs`. Likewise, `field_operators` can be called from `scan_operators`"
   ]
  },
  {
   "cell_type": "code",
   "execution_count": null,
   "id": "f6b488d5",
   "metadata": {},
   "outputs": [],
   "source": []
  }
 ],
 "metadata": {
  "jupytext": {
   "formats": "ipynb,md:myst"
  },
  "kernelspec": {
   "display_name": "Python 3 (ipykernel)",
   "language": "python",
   "name": "python3"
  },
  "language_info": {
   "codemirror_mode": {
    "name": "ipython",
    "version": 3
   },
   "file_extension": ".py",
   "mimetype": "text/x-python",
   "name": "python",
   "nbconvert_exporter": "python",
   "pygments_lexer": "ipython3",
   "version": "3.10.0"
  }
 },
 "nbformat": 4,
 "nbformat_minor": 5
}

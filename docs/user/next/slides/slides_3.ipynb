{
 "cells": [
  {
   "cell_type": "markdown",
   "id": "7cb0a15c",
   "metadata": {},
   "source": [
    "<img src=\"logos/cscs_logo.jpeg\" alt=\"cscs\" style=\"width:270px;\"/> <img src=\"logos/c2sm_logo.gif\" alt=\"c2sm\" style=\"width:220px;\"/>\n",
    "<img src=\"logos/exclaim_logo.png\" alt=\"exclaim\" style=\"width:270px;\"/> <img src=\"logos/mch_logo.svg\" alt=\"mch\" style=\"width:270px;\"/>"
   ]
  },
  {
   "cell_type": "code",
   "execution_count": null,
   "id": "09384b9b",
   "metadata": {},
   "outputs": [],
   "source": [
    "import warnings\n",
    "warnings.filterwarnings('ignore')"
   ]
  },
  {
   "cell_type": "code",
   "execution_count": null,
   "id": "038e6cbf",
   "metadata": {},
   "outputs": [],
   "source": [
    "import numpy as np\n",
    "import gt4py.next as gtx\n",
    "from gt4py.next import neighbor_sum, where"
   ]
  },
  {
   "cell_type": "code",
   "execution_count": null,
   "id": "2ebfe773",
   "metadata": {},
   "outputs": [],
   "source": [
    "Cell = gtx.Dimension(\"Cell\")\n",
    "K = gtx.Dimension(\"K\", kind=gtx.DimensionKind.VERTICAL)"
   ]
  },
  {
   "cell_type": "markdown",
   "id": "8305625b",
   "metadata": {},
   "source": [
    "## Using conditionals on fields\n",
    "\n",
    "To conditionally compose a field from two inputs, we borrow the `where` function from numpy. \n",
    "\n",
    "This function takes 3 input arguments:\n",
    "- mask: a field of booleans\n",
    "- true branch: a tuple, a field, or a scalar\n",
    "- false branch: a tuple, a field, of a scalar"
   ]
  },
  {
   "cell_type": "code",
   "execution_count": null,
   "id": "5fdcb013",
   "metadata": {},
   "outputs": [],
   "source": [
    "mask = gtx.as_field([Cell], np.asarray([True, False, True, True, False]))\n",
    "\n",
    "true_field = gtx.as_field([Cell], np.asarray([11.0, 12.0, 13.0, 14.0, 15.0]))\n",
    "false_field = gtx.as_field([Cell], np.asarray([21.0, 22.0, 23.0, 24.0, 25.0]))\n",
    "\n",
    "result = gtx.zeros(gtx.domain({Cell:5}))\n",
    "\n",
    "@gtx.field_operator\n",
    "def conditional(mask: gtx.Field[[Cell], bool], true_field: gtx.Field[[Cell], gtx.float64], false_field: gtx.Field[[Cell], gtx.float64]\n",
    ") -> gtx.Field[[Cell], gtx.float64]:\n",
    "    return where(mask, true_field, false_field)\n",
    "\n",
    "conditional(mask, true_field, false_field, out=result, offset_provider={})\n",
    "print(\"mask array: {}\".format(mask.asnumpy()))\n",
    "print(\"true_field array:  {}\".format(true_field.asnumpy()))\n",
    "print(\"false_field array: {}\".format(false_field.asnumpy()))\n",
    "print(\"where return:      {}\".format(result.asnumpy()))"
   ]
  },
  {
   "cell_type": "markdown",
   "id": "c9de5ab3",
   "metadata": {},
   "source": [
    "## Using domain on fields\n",
    "\n",
    "By default the whole `out` field is updated. If only a subset should be updated, we can specify the output domain by passing the `domain` keyword argument when calling the field operator."
   ]
  },
  {
   "cell_type": "code",
   "execution_count": null,
   "id": "58e30dae",
   "metadata": {},
   "outputs": [],
   "source": [
    "@gtx.field_operator\n",
    "def add(a: gtx.Field[[Cell, K], gtx.float64],\n",
    "        b: gtx.Field[[Cell, K], gtx.float64]) -> gtx.Field[[Cell, K], gtx.float64]:\n",
    "    return a + b   # 2.0 + 3.0\n",
    "\n",
    "@gtx.program\n",
    "def run_add_domain(a : gtx.Field[[Cell, K], gtx.float64],\n",
    "            b : gtx.Field[[Cell, K], gtx.float64],\n",
    "            result : gtx.Field[[Cell, K], gtx.float64]):\n",
    "    add(a, b, out=result, domain={Cell: (1, 3), K: (1, 4)}) "
   ]
  },
  {
   "cell_type": "code",
   "execution_count": null,
   "id": "5f905447",
   "metadata": {},
   "outputs": [],
   "source": [
    "domain = gtx.domain({Cell: 5, K: 6})\n",
    "\n",
    "a = gtx.full(domain, fill_value=2.0, dtype=np.float64)\n",
    "b = gtx.full(domain, fill_value=3.0, dtype=np.float64)\n",
    "result = gtx.zeros(domain)\n",
    "run_add_domain(a, b, result, offset_provider={})\n",
    "\n",
    "print(\"result array: \\n {}\".format(result.asnumpy()))"
   ]
  },
  {
   "cell_type": "code",
   "execution_count": null,
   "id": "2e2052af",
   "metadata": {},
   "outputs": [],
   "source": []
  }
 ],
 "metadata": {
  "jupytext": {
   "formats": "ipynb,md:myst"
  },
  "kernelspec": {
   "display_name": "Python 3 (ipykernel)",
   "language": "python",
   "name": "python3"
  }
 },
 "nbformat": 4,
 "nbformat_minor": 5
}

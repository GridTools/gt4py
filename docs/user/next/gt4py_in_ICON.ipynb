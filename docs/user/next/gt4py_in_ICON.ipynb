{
 "cells": [
  {
   "cell_type": "markdown",
   "id": "fc7afd25-3875-4aba-8e47-bd03baa99420",
   "metadata": {},
   "source": [
    "In esercise INSERT EXERCISE NUMBER we ported INSERT NAME OF STENCIL HERE into GT4Py.\n",
    "\n",
    "Thsi stencil is part of the diffusion scheme"
   ]
  },
  {
   "cell_type": "markdown",
   "id": "0187bd6c-300d-4827-8fcb-453f1058d4ed",
   "metadata": {},
   "source": [
    "| ![icon_2](icon_structure_2.png) |\n",
    "| :-----------------------------: |\n",
    "|     _Dynamics structure [1]_    |"
   ]
  },
  {
   "cell_type": "markdown",
   "id": "b00f254e-516c-4409-825f-81175d3b5100",
   "metadata": {},
   "source": [
    "Dynamics being a component of the larger ICON model:\n",
    "\n",
    "| ![icon_1](icon_structure_1.png) |\n",
    "| :-----------------------------: |\n",
    "|       _ICON structure [1]_      |"
   ]
  },
  {
   "cell_type": "markdown",
   "id": "f4ab937a-2d58-4b75-95a1-f6d0399ba0b7",
   "metadata": {},
   "source": [
    "## References:\n",
    "\n",
    "[1] ICON Tutorial - https://www.dwd.de/EN/ourservices/nwv_icon_tutorial/pdf_volume/icon_tutorial2023_en.pdf;jsessionid=43B3F27AAAC5D0352915F20B303801CF.live31082?__blob=publicationFile&v=3"
   ]
  },
  {
   "cell_type": "code",
   "execution_count": null,
   "id": "dda6ead8-8a7c-47b9-bea0-4a36c58c29e5",
   "metadata": {},
   "outputs": [],
   "source": []
  }
 ],
 "metadata": {
  "kernelspec": {
   "display_name": "Python 3 (ipykernel)",
   "language": "python",
   "name": "python3"
  },
  "language_info": {
   "codemirror_mode": {
    "name": "ipython",
    "version": 3
   },
   "file_extension": ".py",
   "mimetype": "text/x-python",
   "name": "python",
   "nbconvert_exporter": "python",
   "pygments_lexer": "ipython3",
   "version": "3.10.4"
  }
 },
 "nbformat": 4,
 "nbformat_minor": 5
}

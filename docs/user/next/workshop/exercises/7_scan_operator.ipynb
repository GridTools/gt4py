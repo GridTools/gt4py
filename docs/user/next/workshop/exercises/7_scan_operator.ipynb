{
 "cells": [
  {
   "cell_type": "markdown",
   "id": "9ba87bfb",
   "metadata": {},
   "source": [
    "## Scan operator"
   ]
  },
  {
   "cell_type": "markdown",
   "id": "2ee9d989",
   "metadata": {},
   "source": [
    "The unique feature of this operator is that it provides the return state of the previous iteration as its first argument (i.e., the result from the previous grid point). In other words, all the arguments of the current `return` will be available (as a tuple) in the next iteration from the first argument of the defined function.  \n",
    "\n",
    "Example: A FORTRAN pseudocode for integrating a moisture variable (e.g., cloud water or water vapour) over a column could look as follows:\n",
    "\n",
    "\n",
    "```FORTRAN\n",
    "SUBROUTINE column_integral( var_in, rho, dz, var_out, ie, je, ke )\n",
    "    ! Return the column integral of a moist species.\n",
    "    INTEGER, INTENT (IN) :: &\n",
    "      ie, je, ke         ! array dimensions of the I/O-fields (horizontal, horizontal, vertical)\n",
    "\n",
    "    REAL (KIND=wp), INTENT (OUT) :: &\n",
    "      q_colsum (ie,je) ! Vertically-integrated mass of water species\n",
    "\n",
    "    REAL (KIND=wp), INTENT (IN) ::  &\n",
    "      rho (ie,je,ke),  & \n",
    "      dz (ie,je,ke),   & ! height of model half levels\n",
    "      var_in  (ie,je,ke) ! humidity mass concentration at time-level nnow\n",
    "    \n",
    "    !$acc parallel present( iq ) if (lzacc)\n",
    "    !$acc loop gang\n",
    "    DO j=1,je\n",
    "      !$acc loop vector\n",
    "      DO i=1,ie\n",
    "        q_sum(i,j) = 0.0\n",
    "      END DO\n",
    "    END DO\n",
    "    !$acc end parallel\n",
    "    \n",
    "    \n",
    "    !$acc parallel present( iq, rho, hhl, q ) if (lzacc)\n",
    "    DO k = 1, ke ! Vertical loop\n",
    "      !$acc loop gang\n",
    "      DO j=1,je\n",
    "        !$acc loop vector\n",
    "        DO i=1,ie\n",
    "          q_colsum(i,j) = q_colsum(i,j) + var_in(i,j,k) * rho(i,j,k)* dz(i,j,k)\n",
    "        END DO\n",
    "      END DO\n",
    "    END DO\n",
    "    !$acc end parallel\n",
    "END SUBROUTINE column_integral\n",
    "```\n",
    "\n",
    "Where:\n",
    "- `var_in` is the 3D variable that will be summed up\n",
    "- `q_colsum` is the resulting 2D variable\n",
    "- `rho` the air density\n",
    "- `dz`the thickness of the vertical layers\n",
    "\n",
    "In the first loop nest, `column_sum` is set to zero for all grid columns. The vertical dependency enters on the RHS of the second loop nest `q_colsum(i,j) = q_colsum(i,j) + ...`\n",
    "\n",
    "Using the `scan_operator` this operation would be written like this:\n",
    "\n",
    "```python\n",
    "@scan_operator(axis=KDim, forward=True, init=0.0)\n",
    "def column_integral(float: state, float: var, float: rho, float: dz)\n",
    "    \"\"\"Return the column integral of a moist species.\"\"\"\n",
    "    return var * rho * dz + state\n",
    "```\n",
    "\n",
    "Here the vertical dependency is expressed by the first function argument (`state`).  This argument carries the return from the previous k-level and does not need to be specified when the function is called (similar to the `self` argument of Python classes). The argument is intialized to `init=0.0` in the function decorator (first loop nest above) and the dimension of the integral is specified with `axis=KDim`.\n",
    "\n",
    "\n",
    "```python\n",
    "q_colsum = column_integral(qv, rho, dz)\n",
    "```"
   ]
  },
  {
   "cell_type": "markdown",
   "id": "c9e31bff",
   "metadata": {},
   "source": [
    "#### Exercise: port a toy cloud microphysics scheme from python/numpy using the template of a `scan_operator` below"
   ]
  },
  {
   "cell_type": "code",
   "execution_count": 1,
   "id": "bd2fd309",
   "metadata": {},
   "outputs": [
    {
     "data": {
      "text/html": [
       "<link href=\"https://fonts.googleapis.com/icon?family=Material+Icons\" rel=\"stylesheet\"><script src=\"https://spcl.github.io/dace/webclient2/dist/sdfv.js\"></script>\n",
       "<link href=\"https://spcl.github.io/dace/webclient2/sdfv.css\" rel=\"stylesheet\">\n"
      ],
      "text/plain": [
       "<IPython.core.display.HTML object>"
      ]
     },
     "metadata": {},
     "output_type": "display_data"
    }
   ],
   "source": [
    "from helpers import *\n",
    "\n",
    "import gt4py.next as gtx\n",
    "\n",
    "backend = None\n",
    "# backend = gtfn_cpu\n",
    "# backend = gtfn_gpu"
   ]
  },
  {
   "cell_type": "code",
   "execution_count": 2,
   "id": "74338168",
   "metadata": {},
   "outputs": [],
   "source": [
    "def toy_microphysics_numpy(qc, qr, autoconversion_rate=0.1, sedimentaion_constant=0.05):\n",
    "    \"\"\"A toy model of a microphysics scheme contaning autoconversion and scavenging\"\"\"\n",
    "\n",
    "    sedimentation_flux = 0.0\n",
    "\n",
    "    for cell, k in np.ndindex(qc.shape):\n",
    "        # Autoconversion: Cloud Drops -> Rain Drops\n",
    "        autoconversion_tendency = qc[cell, k] * autoconversion_rate\n",
    "\n",
    "        qc[cell, k] -= autoconversion_tendency\n",
    "        qr[cell, k] += autoconversion_tendency\n",
    "\n",
    "        ## Apply sedimentation flux from level above\n",
    "        qr[cell, k] += sedimentation_flux\n",
    "\n",
    "        ## Remove mass due to sedimentation flux from the current cell\n",
    "        qr[cell, k] -= sedimentation_flux"
   ]
  },
  {
   "cell_type": "code",
   "execution_count": 3,
   "id": "69bf6022",
   "metadata": {},
   "outputs": [
    {
     "ename": "DSLError",
     "evalue": "Must return a value, not None\n  File \"/private/var/folders/2b/_2y31vzs4sl_7rngh2yghbpw0000gn/T/ipykernel_56865/3074024806.py\", line 20",
     "output_type": "error",
     "traceback": [
      "\u001b[0;31m---------------------------------------------------------------------------\u001b[0m",
      "\u001b[0;31mDSLError\u001b[0m                                  Traceback (most recent call last)",
      "Cell \u001b[0;32mIn[3], line 2\u001b[0m\n\u001b[1;32m      1\u001b[0m \u001b[38;5;129;43m@gtx\u001b[39;49m\u001b[38;5;241;43m.\u001b[39;49m\u001b[43mscan_operator\u001b[49m\u001b[43m(\u001b[49m\u001b[43maxis\u001b[49m\u001b[38;5;241;43m=\u001b[39;49m\u001b[43mK\u001b[49m\u001b[43m,\u001b[49m\u001b[43m \u001b[49m\u001b[43mforward\u001b[49m\u001b[38;5;241;43m=\u001b[39;49m\u001b[38;5;28;43;01mTrue\u001b[39;49;00m\u001b[43m,\u001b[49m\u001b[43m \u001b[49m\u001b[43minit\u001b[49m\u001b[38;5;241;43m=\u001b[39;49m\u001b[43m(\u001b[49m\u001b[38;5;241;43m0.0\u001b[39;49m\u001b[43m,\u001b[49m\u001b[43m \u001b[49m\u001b[38;5;241;43m0.0\u001b[39;49m\u001b[43m,\u001b[49m\u001b[43m \u001b[49m\u001b[38;5;241;43m0.0\u001b[39;49m\u001b[43m)\u001b[49m\u001b[43m)\u001b[49m\n\u001b[0;32m----> 2\u001b[0m \u001b[38;5;28;43;01mdef\u001b[39;49;00m\u001b[43m \u001b[49m\u001b[38;5;21;43m_graupel_toy_scan\u001b[39;49m\u001b[43m(\u001b[49m\n\u001b[1;32m      3\u001b[0m \u001b[43m    \u001b[49m\u001b[43mstate\u001b[49m\u001b[43m:\u001b[49m\u001b[43m \u001b[49m\u001b[38;5;28;43mtuple\u001b[39;49m\u001b[43m[\u001b[49m\u001b[38;5;28;43mfloat\u001b[39;49m\u001b[43m,\u001b[49m\u001b[43m \u001b[49m\u001b[38;5;28;43mfloat\u001b[39;49m\u001b[43m,\u001b[49m\u001b[43m \u001b[49m\u001b[38;5;28;43mfloat\u001b[39;49m\u001b[43m]\u001b[49m\u001b[43m,\u001b[49m\u001b[43m \u001b[49m\u001b[43mqc_in\u001b[49m\u001b[43m:\u001b[49m\u001b[43m \u001b[49m\u001b[38;5;28;43mfloat\u001b[39;49m\u001b[43m,\u001b[49m\u001b[43m \u001b[49m\u001b[43mqr_in\u001b[49m\u001b[43m:\u001b[49m\u001b[43m \u001b[49m\u001b[38;5;28;43mfloat\u001b[39;49m\n\u001b[1;32m      4\u001b[0m \u001b[43m)\u001b[49m\u001b[43m \u001b[49m\u001b[38;5;241;43m-\u001b[39;49m\u001b[38;5;241;43m>\u001b[39;49m\u001b[43m \u001b[49m\u001b[38;5;28;43mtuple\u001b[39;49m\u001b[43m[\u001b[49m\u001b[38;5;28;43mfloat\u001b[39;49m\u001b[43m,\u001b[49m\u001b[43m \u001b[49m\u001b[38;5;28;43mfloat\u001b[39;49m\u001b[43m,\u001b[49m\u001b[43m \u001b[49m\u001b[38;5;28;43mfloat\u001b[39;49m\u001b[43m]\u001b[49m\u001b[43m:\u001b[49m\n\u001b[1;32m      5\u001b[0m \u001b[43m    \u001b[49m\u001b[43mautoconversion_rate\u001b[49m\u001b[43m \u001b[49m\u001b[38;5;241;43m=\u001b[39;49m\u001b[43m \u001b[49m\u001b[38;5;241;43m0.1\u001b[39;49m\n\u001b[1;32m      6\u001b[0m \u001b[43m    \u001b[49m\u001b[43msedimentaion_constant\u001b[49m\u001b[43m \u001b[49m\u001b[38;5;241;43m=\u001b[39;49m\u001b[43m \u001b[49m\u001b[38;5;241;43m0.05\u001b[39;49m\n",
      "File \u001b[0;32m~/gt4py-update_types/gt4py/src/gt4py/next/ffront/decorator.py:862\u001b[0m, in \u001b[0;36mscan_operator.<locals>.scan_operator_inner\u001b[0;34m(definition)\u001b[0m\n\u001b[1;32m    861\u001b[0m \u001b[38;5;28;01mdef\u001b[39;00m \u001b[38;5;21mscan_operator_inner\u001b[39m(definition: types\u001b[38;5;241m.\u001b[39mFunctionType) \u001b[38;5;241m-\u001b[39m\u001b[38;5;241m>\u001b[39m FieldOperator:\n\u001b[0;32m--> 862\u001b[0m     \u001b[38;5;28;01mreturn\u001b[39;00m \u001b[43mFieldOperator\u001b[49m\u001b[38;5;241;43m.\u001b[39;49m\u001b[43mfrom_function\u001b[49m\u001b[43m(\u001b[49m\n\u001b[1;32m    863\u001b[0m \u001b[43m        \u001b[49m\u001b[43mdefinition\u001b[49m\u001b[43m,\u001b[49m\n\u001b[1;32m    864\u001b[0m \u001b[43m        \u001b[49m\u001b[43mDEFAULT_BACKEND\u001b[49m\u001b[43m \u001b[49m\u001b[38;5;28;43;01mif\u001b[39;49;00m\u001b[43m \u001b[49m\u001b[43mbackend\u001b[49m\u001b[43m \u001b[49m\u001b[38;5;129;43;01mis\u001b[39;49;00m\u001b[43m \u001b[49m\u001b[43meve\u001b[49m\u001b[38;5;241;43m.\u001b[39;49m\u001b[43mNOTHING\u001b[49m\u001b[43m \u001b[49m\u001b[38;5;28;43;01melse\u001b[39;49;00m\u001b[43m \u001b[49m\u001b[43mbackend\u001b[49m\u001b[43m,\u001b[49m\n\u001b[1;32m    865\u001b[0m \u001b[43m        \u001b[49m\u001b[43mgrid_type\u001b[49m\u001b[43m,\u001b[49m\n\u001b[1;32m    866\u001b[0m \u001b[43m        \u001b[49m\u001b[43moperator_node_cls\u001b[49m\u001b[38;5;241;43m=\u001b[39;49m\u001b[43mfoast\u001b[49m\u001b[38;5;241;43m.\u001b[39;49m\u001b[43mScanOperator\u001b[49m\u001b[43m,\u001b[49m\n\u001b[1;32m    867\u001b[0m \u001b[43m        \u001b[49m\u001b[43moperator_attributes\u001b[49m\u001b[38;5;241;43m=\u001b[39;49m\u001b[43m{\u001b[49m\u001b[38;5;124;43m\"\u001b[39;49m\u001b[38;5;124;43maxis\u001b[39;49m\u001b[38;5;124;43m\"\u001b[39;49m\u001b[43m:\u001b[49m\u001b[43m \u001b[49m\u001b[43maxis\u001b[49m\u001b[43m,\u001b[49m\u001b[43m \u001b[49m\u001b[38;5;124;43m\"\u001b[39;49m\u001b[38;5;124;43mforward\u001b[39;49m\u001b[38;5;124;43m\"\u001b[39;49m\u001b[43m:\u001b[49m\u001b[43m \u001b[49m\u001b[43mforward\u001b[49m\u001b[43m,\u001b[49m\u001b[43m \u001b[49m\u001b[38;5;124;43m\"\u001b[39;49m\u001b[38;5;124;43minit\u001b[39;49m\u001b[38;5;124;43m\"\u001b[39;49m\u001b[43m:\u001b[49m\u001b[43m \u001b[49m\u001b[43minit\u001b[49m\u001b[43m}\u001b[49m\u001b[43m,\u001b[49m\n\u001b[1;32m    868\u001b[0m \u001b[43m    \u001b[49m\u001b[43m)\u001b[49m\n",
      "File \u001b[0;32m~/gt4py-update_types/gt4py/src/gt4py/next/ffront/decorator.py:589\u001b[0m, in \u001b[0;36mFieldOperator.from_function\u001b[0;34m(cls, definition, backend, grid_type, operator_node_cls, operator_attributes)\u001b[0m\n\u001b[1;32m    587\u001b[0m closure_vars \u001b[38;5;241m=\u001b[39m get_closure_vars_from_function(definition)\n\u001b[1;32m    588\u001b[0m annotations \u001b[38;5;241m=\u001b[39m typing\u001b[38;5;241m.\u001b[39mget_type_hints(definition)\n\u001b[0;32m--> 589\u001b[0m foast_definition_node \u001b[38;5;241m=\u001b[39m \u001b[43mFieldOperatorParser\u001b[49m\u001b[38;5;241;43m.\u001b[39;49m\u001b[43mapply\u001b[49m\u001b[43m(\u001b[49m\u001b[43msource_def\u001b[49m\u001b[43m,\u001b[49m\u001b[43m \u001b[49m\u001b[43mclosure_vars\u001b[49m\u001b[43m,\u001b[49m\u001b[43m \u001b[49m\u001b[43mannotations\u001b[49m\u001b[43m)\u001b[49m\n\u001b[1;32m    590\u001b[0m loc \u001b[38;5;241m=\u001b[39m foast_definition_node\u001b[38;5;241m.\u001b[39mlocation\n\u001b[1;32m    591\u001b[0m operator_attribute_nodes \u001b[38;5;241m=\u001b[39m {\n\u001b[1;32m    592\u001b[0m     key: foast\u001b[38;5;241m.\u001b[39mConstant(value\u001b[38;5;241m=\u001b[39mvalue, \u001b[38;5;28mtype\u001b[39m\u001b[38;5;241m=\u001b[39mtype_translation\u001b[38;5;241m.\u001b[39mfrom_value(value), location\u001b[38;5;241m=\u001b[39mloc)\n\u001b[1;32m    593\u001b[0m     \u001b[38;5;28;01mfor\u001b[39;00m key, value \u001b[38;5;129;01min\u001b[39;00m operator_attributes\u001b[38;5;241m.\u001b[39mitems()\n\u001b[1;32m    594\u001b[0m }\n",
      "File \u001b[0;32m~/gt4py-update_types/gt4py/src/gt4py/next/ffront/dialect_parser.py:79\u001b[0m, in \u001b[0;36mDialectParser.apply\u001b[0;34m(cls, source_definition, closure_vars, annotations)\u001b[0m\n\u001b[1;32m     72\u001b[0m definition_ast \u001b[38;5;241m=\u001b[39m RemoveDocstrings\u001b[38;5;241m.\u001b[39mapply(definition_ast)\n\u001b[1;32m     73\u001b[0m definition_ast \u001b[38;5;241m=\u001b[39m FixMissingLocations\u001b[38;5;241m.\u001b[39mapply(definition_ast)\n\u001b[1;32m     74\u001b[0m output_ast \u001b[38;5;241m=\u001b[39m \u001b[38;5;28mcls\u001b[39m\u001b[38;5;241m.\u001b[39m_postprocess_dialect_ast(\n\u001b[1;32m     75\u001b[0m     \u001b[38;5;28;43mcls\u001b[39;49m\u001b[43m(\u001b[49m\n\u001b[1;32m     76\u001b[0m \u001b[43m        \u001b[49m\u001b[43msource_definition\u001b[49m\u001b[38;5;241;43m=\u001b[39;49m\u001b[43msource_definition\u001b[49m\u001b[43m,\u001b[49m\n\u001b[1;32m     77\u001b[0m \u001b[43m        \u001b[49m\u001b[43mclosure_vars\u001b[49m\u001b[38;5;241;43m=\u001b[39;49m\u001b[43mclosure_vars\u001b[49m\u001b[43m,\u001b[49m\n\u001b[1;32m     78\u001b[0m \u001b[43m        \u001b[49m\u001b[43mannotations\u001b[49m\u001b[38;5;241;43m=\u001b[39;49m\u001b[43mannotations\u001b[49m\u001b[43m,\u001b[49m\n\u001b[0;32m---> 79\u001b[0m \u001b[43m    \u001b[49m\u001b[43m)\u001b[49m\u001b[38;5;241;43m.\u001b[39;49m\u001b[43mvisit\u001b[49m\u001b[43m(\u001b[49m\u001b[38;5;28;43mcls\u001b[39;49m\u001b[38;5;241;43m.\u001b[39;49m\u001b[43m_preprocess_definition_ast\u001b[49m\u001b[43m(\u001b[49m\u001b[43mdefinition_ast\u001b[49m\u001b[43m)\u001b[49m\u001b[43m)\u001b[49m,\n\u001b[1;32m     80\u001b[0m     closure_vars,\n\u001b[1;32m     81\u001b[0m     annotations,\n\u001b[1;32m     82\u001b[0m )\n\u001b[1;32m     84\u001b[0m \u001b[38;5;28;01mreturn\u001b[39;00m output_ast\n",
      "File \u001b[0;32m/Library/Frameworks/Python.framework/Versions/3.10/lib/python3.10/ast.py:410\u001b[0m, in \u001b[0;36mNodeVisitor.visit\u001b[0;34m(self, node)\u001b[0m\n\u001b[1;32m    408\u001b[0m method \u001b[38;5;241m=\u001b[39m \u001b[38;5;124m'\u001b[39m\u001b[38;5;124mvisit_\u001b[39m\u001b[38;5;124m'\u001b[39m \u001b[38;5;241m+\u001b[39m node\u001b[38;5;241m.\u001b[39m\u001b[38;5;18m__class__\u001b[39m\u001b[38;5;241m.\u001b[39m\u001b[38;5;18m__name__\u001b[39m\n\u001b[1;32m    409\u001b[0m visitor \u001b[38;5;241m=\u001b[39m \u001b[38;5;28mgetattr\u001b[39m(\u001b[38;5;28mself\u001b[39m, method, \u001b[38;5;28mself\u001b[39m\u001b[38;5;241m.\u001b[39mgeneric_visit)\n\u001b[0;32m--> 410\u001b[0m \u001b[38;5;28;01mreturn\u001b[39;00m \u001b[43mvisitor\u001b[49m\u001b[43m(\u001b[49m\u001b[43mnode\u001b[49m\u001b[43m)\u001b[49m\n",
      "File \u001b[0;32m~/gt4py-update_types/gt4py/src/gt4py/next/ffront/func_to_foast.py:170\u001b[0m, in \u001b[0;36mFieldOperatorParser.visit_FunctionDef\u001b[0;34m(self, node, **kwargs)\u001b[0m\n\u001b[1;32m    160\u001b[0m         \u001b[38;5;28;01mcontinue\u001b[39;00m\n\u001b[1;32m    161\u001b[0m     closure_var_symbols\u001b[38;5;241m.\u001b[39mappend(\n\u001b[1;32m    162\u001b[0m         foast\u001b[38;5;241m.\u001b[39mSymbol(\n\u001b[1;32m    163\u001b[0m             \u001b[38;5;28mid\u001b[39m\u001b[38;5;241m=\u001b[39mname,\n\u001b[0;32m   (...)\u001b[0m\n\u001b[1;32m    167\u001b[0m         )\n\u001b[1;32m    168\u001b[0m     )\n\u001b[0;32m--> 170\u001b[0m new_body \u001b[38;5;241m=\u001b[39m \u001b[38;5;28;43mself\u001b[39;49m\u001b[38;5;241;43m.\u001b[39;49m\u001b[43m_visit_stmts\u001b[49m\u001b[43m(\u001b[49m\u001b[43mnode\u001b[49m\u001b[38;5;241;43m.\u001b[39;49m\u001b[43mbody\u001b[49m\u001b[43m,\u001b[49m\u001b[43m \u001b[49m\u001b[38;5;28;43mself\u001b[39;49m\u001b[38;5;241;43m.\u001b[39;49m\u001b[43mget_location\u001b[49m\u001b[43m(\u001b[49m\u001b[43mnode\u001b[49m\u001b[43m)\u001b[49m\u001b[43m,\u001b[49m\u001b[43m \u001b[49m\u001b[38;5;241;43m*\u001b[39;49m\u001b[38;5;241;43m*\u001b[39;49m\u001b[43mkwargs\u001b[49m\u001b[43m)\u001b[49m\n\u001b[1;32m    172\u001b[0m \u001b[38;5;28;01mif\u001b[39;00m deduce_stmt_return_kind(new_body) \u001b[38;5;241m==\u001b[39m StmtReturnKind\u001b[38;5;241m.\u001b[39mNO_RETURN:\n\u001b[1;32m    173\u001b[0m     \u001b[38;5;28;01mraise\u001b[39;00m errors\u001b[38;5;241m.\u001b[39mDSLError(loc, \u001b[38;5;124m\"\u001b[39m\u001b[38;5;124m'\u001b[39m\u001b[38;5;124mFunction\u001b[39m\u001b[38;5;124m'\u001b[39m\u001b[38;5;124m is expected to return a value.\u001b[39m\u001b[38;5;124m\"\u001b[39m)\n",
      "File \u001b[0;32m~/gt4py-update_types/gt4py/src/gt4py/next/ffront/func_to_foast.py:409\u001b[0m, in \u001b[0;36mFieldOperatorParser._visit_stmts\u001b[0;34m(self, stmts, location, **kwargs)\u001b[0m\n\u001b[1;32m    405\u001b[0m \u001b[38;5;28;01mdef\u001b[39;00m \u001b[38;5;21m_visit_stmts\u001b[39m(\n\u001b[1;32m    406\u001b[0m     \u001b[38;5;28mself\u001b[39m, stmts: \u001b[38;5;28mlist\u001b[39m[ast\u001b[38;5;241m.\u001b[39mstmt], location: eve\u001b[38;5;241m.\u001b[39mSourceLocation, \u001b[38;5;241m*\u001b[39m\u001b[38;5;241m*\u001b[39mkwargs\n\u001b[1;32m    407\u001b[0m ) \u001b[38;5;241m-\u001b[39m\u001b[38;5;241m>\u001b[39m foast\u001b[38;5;241m.\u001b[39mBlockStmt:\n\u001b[1;32m    408\u001b[0m     \u001b[38;5;28;01mreturn\u001b[39;00m foast\u001b[38;5;241m.\u001b[39mBlockStmt(\n\u001b[0;32m--> 409\u001b[0m         stmts\u001b[38;5;241m=\u001b[39m[\u001b[38;5;28mself\u001b[39m\u001b[38;5;241m.\u001b[39mvisit(el, \u001b[38;5;241m*\u001b[39m\u001b[38;5;241m*\u001b[39mkwargs) \u001b[38;5;28;01mfor\u001b[39;00m el \u001b[38;5;129;01min\u001b[39;00m stmts \u001b[38;5;28;01mif\u001b[39;00m \u001b[38;5;129;01mnot\u001b[39;00m \u001b[38;5;28misinstance\u001b[39m(el, ast\u001b[38;5;241m.\u001b[39mPass)],\n\u001b[1;32m    410\u001b[0m         location\u001b[38;5;241m=\u001b[39mlocation,\n\u001b[1;32m    411\u001b[0m     )\n",
      "File \u001b[0;32m~/gt4py-update_types/gt4py/src/gt4py/next/ffront/func_to_foast.py:409\u001b[0m, in \u001b[0;36m<listcomp>\u001b[0;34m(.0)\u001b[0m\n\u001b[1;32m    405\u001b[0m \u001b[38;5;28;01mdef\u001b[39;00m \u001b[38;5;21m_visit_stmts\u001b[39m(\n\u001b[1;32m    406\u001b[0m     \u001b[38;5;28mself\u001b[39m, stmts: \u001b[38;5;28mlist\u001b[39m[ast\u001b[38;5;241m.\u001b[39mstmt], location: eve\u001b[38;5;241m.\u001b[39mSourceLocation, \u001b[38;5;241m*\u001b[39m\u001b[38;5;241m*\u001b[39mkwargs\n\u001b[1;32m    407\u001b[0m ) \u001b[38;5;241m-\u001b[39m\u001b[38;5;241m>\u001b[39m foast\u001b[38;5;241m.\u001b[39mBlockStmt:\n\u001b[1;32m    408\u001b[0m     \u001b[38;5;28;01mreturn\u001b[39;00m foast\u001b[38;5;241m.\u001b[39mBlockStmt(\n\u001b[0;32m--> 409\u001b[0m         stmts\u001b[38;5;241m=\u001b[39m[\u001b[38;5;28;43mself\u001b[39;49m\u001b[38;5;241;43m.\u001b[39;49m\u001b[43mvisit\u001b[49m\u001b[43m(\u001b[49m\u001b[43mel\u001b[49m\u001b[43m,\u001b[49m\u001b[43m \u001b[49m\u001b[38;5;241;43m*\u001b[39;49m\u001b[38;5;241;43m*\u001b[39;49m\u001b[43mkwargs\u001b[49m\u001b[43m)\u001b[49m \u001b[38;5;28;01mfor\u001b[39;00m el \u001b[38;5;129;01min\u001b[39;00m stmts \u001b[38;5;28;01mif\u001b[39;00m \u001b[38;5;129;01mnot\u001b[39;00m \u001b[38;5;28misinstance\u001b[39m(el, ast\u001b[38;5;241m.\u001b[39mPass)],\n\u001b[1;32m    410\u001b[0m         location\u001b[38;5;241m=\u001b[39mlocation,\n\u001b[1;32m    411\u001b[0m     )\n",
      "File \u001b[0;32m/Library/Frameworks/Python.framework/Versions/3.10/lib/python3.10/ast.py:410\u001b[0m, in \u001b[0;36mNodeVisitor.visit\u001b[0;34m(self, node)\u001b[0m\n\u001b[1;32m    408\u001b[0m method \u001b[38;5;241m=\u001b[39m \u001b[38;5;124m'\u001b[39m\u001b[38;5;124mvisit_\u001b[39m\u001b[38;5;124m'\u001b[39m \u001b[38;5;241m+\u001b[39m node\u001b[38;5;241m.\u001b[39m\u001b[38;5;18m__class__\u001b[39m\u001b[38;5;241m.\u001b[39m\u001b[38;5;18m__name__\u001b[39m\n\u001b[1;32m    409\u001b[0m visitor \u001b[38;5;241m=\u001b[39m \u001b[38;5;28mgetattr\u001b[39m(\u001b[38;5;28mself\u001b[39m, method, \u001b[38;5;28mself\u001b[39m\u001b[38;5;241m.\u001b[39mgeneric_visit)\n\u001b[0;32m--> 410\u001b[0m \u001b[38;5;28;01mreturn\u001b[39;00m \u001b[43mvisitor\u001b[49m\u001b[43m(\u001b[49m\u001b[43mnode\u001b[49m\u001b[43m)\u001b[49m\n",
      "File \u001b[0;32m~/gt4py-update_types/gt4py/src/gt4py/next/ffront/func_to_foast.py:316\u001b[0m, in \u001b[0;36mFieldOperatorParser.visit_Return\u001b[0;34m(self, node, **kwargs)\u001b[0m\n\u001b[1;32m    314\u001b[0m loc \u001b[38;5;241m=\u001b[39m \u001b[38;5;28mself\u001b[39m\u001b[38;5;241m.\u001b[39mget_location(node)\n\u001b[1;32m    315\u001b[0m \u001b[38;5;28;01mif\u001b[39;00m \u001b[38;5;129;01mnot\u001b[39;00m node\u001b[38;5;241m.\u001b[39mvalue:\n\u001b[0;32m--> 316\u001b[0m     \u001b[38;5;28;01mraise\u001b[39;00m errors\u001b[38;5;241m.\u001b[39mDSLError(loc, \u001b[38;5;124m\"\u001b[39m\u001b[38;5;124mMust return a value, not None\u001b[39m\u001b[38;5;124m\"\u001b[39m)\n\u001b[1;32m    317\u001b[0m \u001b[38;5;28;01mreturn\u001b[39;00m foast\u001b[38;5;241m.\u001b[39mReturn(value\u001b[38;5;241m=\u001b[39m\u001b[38;5;28mself\u001b[39m\u001b[38;5;241m.\u001b[39mvisit(node\u001b[38;5;241m.\u001b[39mvalue), location\u001b[38;5;241m=\u001b[39mloc)\n",
      "\u001b[0;31mDSLError\u001b[0m: Must return a value, not None\n  File \"/private/var/folders/2b/_2y31vzs4sl_7rngh2yghbpw0000gn/T/ipykernel_56865/3074024806.py\", line 20"
     ]
    }
   ],
   "source": [
    "@gtx.scan_operator(axis=K, forward=True, init=(0.0, 0.0, 0.0))\n",
    "def _graupel_toy_scan(\n",
    "    state: tuple[float, float, float], qc_in: float, qr_in: float\n",
    ") -> tuple[float, float, float]:\n",
    "    autoconversion_rate = 0.1\n",
    "    sedimentaion_constant = 0.05\n",
    "\n",
    "    # unpack state of previous iteration\n",
    "    # TODO\n",
    "    \n",
    "    # Autoconversion: Cloud Drops -> Rain Drops\n",
    "    # TODO\n",
    "    \n",
    "    ## Add sedimentation flux from level above\n",
    "    # TODO\n",
    "\n",
    "    # Remove mass due to sedimentation flux\n",
    "    # TODO\n",
    "\n",
    "    return # TODO"
   ]
  },
  {
   "cell_type": "code",
   "execution_count": 4,
   "id": "0de41cb8",
   "metadata": {},
   "outputs": [
    {
     "ename": "DSLError",
     "evalue": "Undeclared symbol '_graupel_toy_scan'.\n  File \"/private/var/folders/2b/_2y31vzs4sl_7rngh2yghbpw0000gn/T/ipykernel_56865/2647114660.py\", line 8",
     "output_type": "error",
     "traceback": [
      "\u001b[0;31m---------------------------------------------------------------------------\u001b[0m",
      "\u001b[0;31mDSLError\u001b[0m                                  Traceback (most recent call last)",
      "Cell \u001b[0;32mIn[4], line 2\u001b[0m\n\u001b[1;32m      1\u001b[0m \u001b[38;5;129;43m@gtx\u001b[39;49m\u001b[38;5;241;43m.\u001b[39;49m\u001b[43mfield_operator\u001b[49m\u001b[43m(\u001b[49m\u001b[43mbackend\u001b[49m\u001b[38;5;241;43m=\u001b[39;49m\u001b[43mbackend\u001b[49m\u001b[43m)\u001b[49m\n\u001b[0;32m----> 2\u001b[0m \u001b[38;5;28;43;01mdef\u001b[39;49;00m\u001b[43m \u001b[49m\u001b[38;5;21;43mgraupel_toy_scan\u001b[39;49m\u001b[43m(\u001b[49m\n\u001b[1;32m      3\u001b[0m \u001b[43m    \u001b[49m\u001b[43mqc\u001b[49m\u001b[43m:\u001b[49m\u001b[43m \u001b[49m\u001b[43mgtx\u001b[49m\u001b[38;5;241;43m.\u001b[39;49m\u001b[43mField\u001b[49m\u001b[43m[\u001b[49m\u001b[43mDims\u001b[49m\u001b[43m[\u001b[49m\u001b[43mC\u001b[49m\u001b[43m,\u001b[49m\u001b[43m \u001b[49m\u001b[43mK\u001b[49m\u001b[43m]\u001b[49m\u001b[43m,\u001b[49m\u001b[43m \u001b[49m\u001b[38;5;28;43mfloat\u001b[39;49m\u001b[43m]\u001b[49m\u001b[43m,\u001b[49m\u001b[43m \u001b[49m\u001b[43mqr\u001b[49m\u001b[43m:\u001b[49m\u001b[43m \u001b[49m\u001b[43mgtx\u001b[49m\u001b[38;5;241;43m.\u001b[39;49m\u001b[43mField\u001b[49m\u001b[43m[\u001b[49m\u001b[43mDims\u001b[49m\u001b[43m[\u001b[49m\u001b[43mC\u001b[49m\u001b[43m,\u001b[49m\u001b[43m \u001b[49m\u001b[43mK\u001b[49m\u001b[43m]\u001b[49m\u001b[43m,\u001b[49m\u001b[43m \u001b[49m\u001b[38;5;28;43mfloat\u001b[39;49m\u001b[43m]\u001b[49m\n\u001b[1;32m      4\u001b[0m \u001b[43m)\u001b[49m\u001b[43m \u001b[49m\u001b[38;5;241;43m-\u001b[39;49m\u001b[38;5;241;43m>\u001b[39;49m\u001b[43m \u001b[49m\u001b[38;5;28;43mtuple\u001b[39;49m\u001b[43m[\u001b[49m\n\u001b[1;32m      5\u001b[0m \u001b[43m    \u001b[49m\u001b[43mgtx\u001b[49m\u001b[38;5;241;43m.\u001b[39;49m\u001b[43mField\u001b[49m\u001b[43m[\u001b[49m\u001b[43mDims\u001b[49m\u001b[43m[\u001b[49m\u001b[43mC\u001b[49m\u001b[43m,\u001b[49m\u001b[43m \u001b[49m\u001b[43mK\u001b[49m\u001b[43m]\u001b[49m\u001b[43m,\u001b[49m\u001b[43m \u001b[49m\u001b[38;5;28;43mfloat\u001b[39;49m\u001b[43m]\u001b[49m\u001b[43m,\u001b[49m\n\u001b[1;32m      6\u001b[0m \u001b[43m    \u001b[49m\u001b[43mgtx\u001b[49m\u001b[38;5;241;43m.\u001b[39;49m\u001b[43mField\u001b[49m\u001b[43m[\u001b[49m\u001b[43mDims\u001b[49m\u001b[43m[\u001b[49m\u001b[43mC\u001b[49m\u001b[43m,\u001b[49m\u001b[43m \u001b[49m\u001b[43mK\u001b[49m\u001b[43m]\u001b[49m\u001b[43m,\u001b[49m\u001b[43m \u001b[49m\u001b[38;5;28;43mfloat\u001b[39;49m\u001b[43m]\u001b[49m\n\u001b[1;32m      7\u001b[0m \u001b[43m]\u001b[49m\u001b[43m:\u001b[49m\n\u001b[1;32m      8\u001b[0m \u001b[43m    \u001b[49m\u001b[43mqc\u001b[49m\u001b[43m,\u001b[49m\u001b[43m \u001b[49m\u001b[43mqr\u001b[49m\u001b[43m,\u001b[49m\u001b[43m \u001b[49m\u001b[43m_\u001b[49m\u001b[43m \u001b[49m\u001b[38;5;241;43m=\u001b[39;49m\u001b[43m \u001b[49m\u001b[43m_graupel_toy_scan\u001b[49m\u001b[43m(\u001b[49m\u001b[43mqc\u001b[49m\u001b[43m,\u001b[49m\u001b[43m \u001b[49m\u001b[43mqr\u001b[49m\u001b[43m)\u001b[49m\n\u001b[1;32m     10\u001b[0m \u001b[43m    \u001b[49m\u001b[38;5;28;43;01mreturn\u001b[39;49;00m\u001b[43m \u001b[49m\u001b[43mqc\u001b[49m\u001b[43m,\u001b[49m\u001b[43m \u001b[49m\u001b[43mqr\u001b[49m\n",
      "File \u001b[0;32m~/gt4py-update_types/gt4py/src/gt4py/next/ffront/decorator.py:790\u001b[0m, in \u001b[0;36mfield_operator.<locals>.field_operator_inner\u001b[0;34m(definition)\u001b[0m\n\u001b[1;32m    789\u001b[0m \u001b[38;5;28;01mdef\u001b[39;00m \u001b[38;5;21mfield_operator_inner\u001b[39m(definition: types\u001b[38;5;241m.\u001b[39mFunctionType) \u001b[38;5;241m-\u001b[39m\u001b[38;5;241m>\u001b[39m FieldOperator[foast\u001b[38;5;241m.\u001b[39mFieldOperator]:\n\u001b[0;32m--> 790\u001b[0m     \u001b[38;5;28;01mreturn\u001b[39;00m \u001b[43mFieldOperator\u001b[49m\u001b[38;5;241;43m.\u001b[39;49m\u001b[43mfrom_function\u001b[49m\u001b[43m(\u001b[49m\n\u001b[1;32m    791\u001b[0m \u001b[43m        \u001b[49m\u001b[43mdefinition\u001b[49m\u001b[43m,\u001b[49m\u001b[43m \u001b[49m\u001b[43mDEFAULT_BACKEND\u001b[49m\u001b[43m \u001b[49m\u001b[38;5;28;43;01mif\u001b[39;49;00m\u001b[43m \u001b[49m\u001b[43mbackend\u001b[49m\u001b[43m \u001b[49m\u001b[38;5;129;43;01mis\u001b[39;49;00m\u001b[43m \u001b[49m\u001b[43meve\u001b[49m\u001b[38;5;241;43m.\u001b[39;49m\u001b[43mNOTHING\u001b[49m\u001b[43m \u001b[49m\u001b[38;5;28;43;01melse\u001b[39;49;00m\u001b[43m \u001b[49m\u001b[43mbackend\u001b[49m\u001b[43m,\u001b[49m\u001b[43m \u001b[49m\u001b[43mgrid_type\u001b[49m\n\u001b[1;32m    792\u001b[0m \u001b[43m    \u001b[49m\u001b[43m)\u001b[49m\n",
      "File \u001b[0;32m~/gt4py-update_types/gt4py/src/gt4py/next/ffront/decorator.py:589\u001b[0m, in \u001b[0;36mFieldOperator.from_function\u001b[0;34m(cls, definition, backend, grid_type, operator_node_cls, operator_attributes)\u001b[0m\n\u001b[1;32m    587\u001b[0m closure_vars \u001b[38;5;241m=\u001b[39m get_closure_vars_from_function(definition)\n\u001b[1;32m    588\u001b[0m annotations \u001b[38;5;241m=\u001b[39m typing\u001b[38;5;241m.\u001b[39mget_type_hints(definition)\n\u001b[0;32m--> 589\u001b[0m foast_definition_node \u001b[38;5;241m=\u001b[39m \u001b[43mFieldOperatorParser\u001b[49m\u001b[38;5;241;43m.\u001b[39;49m\u001b[43mapply\u001b[49m\u001b[43m(\u001b[49m\u001b[43msource_def\u001b[49m\u001b[43m,\u001b[49m\u001b[43m \u001b[49m\u001b[43mclosure_vars\u001b[49m\u001b[43m,\u001b[49m\u001b[43m \u001b[49m\u001b[43mannotations\u001b[49m\u001b[43m)\u001b[49m\n\u001b[1;32m    590\u001b[0m loc \u001b[38;5;241m=\u001b[39m foast_definition_node\u001b[38;5;241m.\u001b[39mlocation\n\u001b[1;32m    591\u001b[0m operator_attribute_nodes \u001b[38;5;241m=\u001b[39m {\n\u001b[1;32m    592\u001b[0m     key: foast\u001b[38;5;241m.\u001b[39mConstant(value\u001b[38;5;241m=\u001b[39mvalue, \u001b[38;5;28mtype\u001b[39m\u001b[38;5;241m=\u001b[39mtype_translation\u001b[38;5;241m.\u001b[39mfrom_value(value), location\u001b[38;5;241m=\u001b[39mloc)\n\u001b[1;32m    593\u001b[0m     \u001b[38;5;28;01mfor\u001b[39;00m key, value \u001b[38;5;129;01min\u001b[39;00m operator_attributes\u001b[38;5;241m.\u001b[39mitems()\n\u001b[1;32m    594\u001b[0m }\n",
      "File \u001b[0;32m~/gt4py-update_types/gt4py/src/gt4py/next/ffront/dialect_parser.py:74\u001b[0m, in \u001b[0;36mDialectParser.apply\u001b[0;34m(cls, source_definition, closure_vars, annotations)\u001b[0m\n\u001b[1;32m     72\u001b[0m definition_ast \u001b[38;5;241m=\u001b[39m RemoveDocstrings\u001b[38;5;241m.\u001b[39mapply(definition_ast)\n\u001b[1;32m     73\u001b[0m definition_ast \u001b[38;5;241m=\u001b[39m FixMissingLocations\u001b[38;5;241m.\u001b[39mapply(definition_ast)\n\u001b[0;32m---> 74\u001b[0m output_ast \u001b[38;5;241m=\u001b[39m \u001b[38;5;28;43mcls\u001b[39;49m\u001b[38;5;241;43m.\u001b[39;49m\u001b[43m_postprocess_dialect_ast\u001b[49m\u001b[43m(\u001b[49m\n\u001b[1;32m     75\u001b[0m \u001b[43m    \u001b[49m\u001b[38;5;28;43mcls\u001b[39;49m\u001b[43m(\u001b[49m\n\u001b[1;32m     76\u001b[0m \u001b[43m        \u001b[49m\u001b[43msource_definition\u001b[49m\u001b[38;5;241;43m=\u001b[39;49m\u001b[43msource_definition\u001b[49m\u001b[43m,\u001b[49m\n\u001b[1;32m     77\u001b[0m \u001b[43m        \u001b[49m\u001b[43mclosure_vars\u001b[49m\u001b[38;5;241;43m=\u001b[39;49m\u001b[43mclosure_vars\u001b[49m\u001b[43m,\u001b[49m\n\u001b[1;32m     78\u001b[0m \u001b[43m        \u001b[49m\u001b[43mannotations\u001b[49m\u001b[38;5;241;43m=\u001b[39;49m\u001b[43mannotations\u001b[49m\u001b[43m,\u001b[49m\n\u001b[1;32m     79\u001b[0m \u001b[43m    \u001b[49m\u001b[43m)\u001b[49m\u001b[38;5;241;43m.\u001b[39;49m\u001b[43mvisit\u001b[49m\u001b[43m(\u001b[49m\u001b[38;5;28;43mcls\u001b[39;49m\u001b[38;5;241;43m.\u001b[39;49m\u001b[43m_preprocess_definition_ast\u001b[49m\u001b[43m(\u001b[49m\u001b[43mdefinition_ast\u001b[49m\u001b[43m)\u001b[49m\u001b[43m)\u001b[49m\u001b[43m,\u001b[49m\n\u001b[1;32m     80\u001b[0m \u001b[43m    \u001b[49m\u001b[43mclosure_vars\u001b[49m\u001b[43m,\u001b[49m\n\u001b[1;32m     81\u001b[0m \u001b[43m    \u001b[49m\u001b[43mannotations\u001b[49m\u001b[43m,\u001b[49m\n\u001b[1;32m     82\u001b[0m \u001b[43m\u001b[49m\u001b[43m)\u001b[49m\n\u001b[1;32m     84\u001b[0m \u001b[38;5;28;01mreturn\u001b[39;00m output_ast\n",
      "File \u001b[0;32m~/gt4py-update_types/gt4py/src/gt4py/next/ffront/func_to_foast.py:101\u001b[0m, in \u001b[0;36mFieldOperatorParser._postprocess_dialect_ast\u001b[0;34m(cls, foast_node, closure_vars, annotations)\u001b[0m\n\u001b[1;32m     99\u001b[0m foast_node \u001b[38;5;241m=\u001b[39m DeadClosureVarElimination\u001b[38;5;241m.\u001b[39mapply(foast_node)\n\u001b[1;32m    100\u001b[0m foast_node \u001b[38;5;241m=\u001b[39m ClosureVarTypeDeduction\u001b[38;5;241m.\u001b[39mapply(foast_node, closure_vars)\n\u001b[0;32m--> 101\u001b[0m foast_node \u001b[38;5;241m=\u001b[39m \u001b[43mFieldOperatorTypeDeduction\u001b[49m\u001b[38;5;241;43m.\u001b[39;49m\u001b[43mapply\u001b[49m\u001b[43m(\u001b[49m\u001b[43mfoast_node\u001b[49m\u001b[43m)\u001b[49m\n\u001b[1;32m    102\u001b[0m foast_node \u001b[38;5;241m=\u001b[39m UnpackedAssignPass\u001b[38;5;241m.\u001b[39mapply(foast_node)\n\u001b[1;32m    104\u001b[0m \u001b[38;5;66;03m# check deduced matches annotated return type\u001b[39;00m\n",
      "File \u001b[0;32m~/gt4py-update_types/gt4py/src/gt4py/next/ffront/foast_passes/type_deduction.py:252\u001b[0m, in \u001b[0;36mFieldOperatorTypeDeduction.apply\u001b[0;34m(cls, node)\u001b[0m\n\u001b[1;32m    250\u001b[0m \u001b[38;5;129m@classmethod\u001b[39m\n\u001b[1;32m    251\u001b[0m \u001b[38;5;28;01mdef\u001b[39;00m \u001b[38;5;21mapply\u001b[39m(\u001b[38;5;28mcls\u001b[39m, node: foast\u001b[38;5;241m.\u001b[39mFunctionDefinition) \u001b[38;5;241m-\u001b[39m\u001b[38;5;241m>\u001b[39m foast\u001b[38;5;241m.\u001b[39mFunctionDefinition:\n\u001b[0;32m--> 252\u001b[0m     typed_foast_node \u001b[38;5;241m=\u001b[39m \u001b[38;5;28;43mcls\u001b[39;49m\u001b[43m(\u001b[49m\u001b[43m)\u001b[49m\u001b[38;5;241;43m.\u001b[39;49m\u001b[43mvisit\u001b[49m\u001b[43m(\u001b[49m\u001b[43mnode\u001b[49m\u001b[43m)\u001b[49m\n\u001b[1;32m    254\u001b[0m     FieldOperatorTypeDeductionCompletnessValidator\u001b[38;5;241m.\u001b[39mapply(typed_foast_node)\n\u001b[1;32m    256\u001b[0m     \u001b[38;5;28;01mreturn\u001b[39;00m typed_foast_node\n",
      "File \u001b[0;32m~/gt4py-update_types/gt4py/src/gt4py/eve/traits.py:168\u001b[0m, in \u001b[0;36mVisitorWithSymbolTableTrait.visit\u001b[0;34m(self, node, **kwargs)\u001b[0m\n\u001b[1;32m    165\u001b[0m     \u001b[38;5;28;01mif\u001b[39;00m new_scope \u001b[38;5;241m:=\u001b[39m (\u001b[38;5;124m\"\u001b[39m\u001b[38;5;124msymtable\u001b[39m\u001b[38;5;124m\"\u001b[39m \u001b[38;5;129;01min\u001b[39;00m node\u001b[38;5;241m.\u001b[39mannex):\n\u001b[1;32m    166\u001b[0m         kwargs[\u001b[38;5;124m\"\u001b[39m\u001b[38;5;124msymtable\u001b[39m\u001b[38;5;124m\"\u001b[39m] \u001b[38;5;241m=\u001b[39m kwargs[\u001b[38;5;124m\"\u001b[39m\u001b[38;5;124msymtable\u001b[39m\u001b[38;5;124m\"\u001b[39m]\u001b[38;5;241m.\u001b[39mnew_child(node\u001b[38;5;241m.\u001b[39mannex\u001b[38;5;241m.\u001b[39msymtable)\n\u001b[0;32m--> 168\u001b[0m result \u001b[38;5;241m=\u001b[39m \u001b[38;5;28;43msuper\u001b[39;49m\u001b[43m(\u001b[49m\u001b[43m)\u001b[49m\u001b[38;5;241;43m.\u001b[39;49m\u001b[43mvisit\u001b[49m\u001b[43m(\u001b[49m\u001b[43mnode\u001b[49m\u001b[43m,\u001b[49m\u001b[43m \u001b[49m\u001b[38;5;241;43m*\u001b[39;49m\u001b[38;5;241;43m*\u001b[39;49m\u001b[43mkwargs\u001b[49m\u001b[43m)\u001b[49m\n\u001b[1;32m    170\u001b[0m \u001b[38;5;28;01mif\u001b[39;00m new_scope:\n\u001b[1;32m    171\u001b[0m     kwargs[\u001b[38;5;124m\"\u001b[39m\u001b[38;5;124msymtable\u001b[39m\u001b[38;5;124m\"\u001b[39m] \u001b[38;5;241m=\u001b[39m kwargs[\u001b[38;5;124m\"\u001b[39m\u001b[38;5;124msymtable\u001b[39m\u001b[38;5;124m\"\u001b[39m]\u001b[38;5;241m.\u001b[39mparents\n",
      "File \u001b[0;32m~/gt4py-update_types/gt4py/src/gt4py/eve/visitors.py:121\u001b[0m, in \u001b[0;36mNodeVisitor.visit\u001b[0;34m(self, node, **kwargs)\u001b[0m\n\u001b[1;32m    118\u001b[0m         \u001b[38;5;28;01mif\u001b[39;00m node_class \u001b[38;5;129;01mis\u001b[39;00m concepts\u001b[38;5;241m.\u001b[39mNode:\n\u001b[1;32m    119\u001b[0m             \u001b[38;5;28;01mbreak\u001b[39;00m\n\u001b[0;32m--> 121\u001b[0m \u001b[38;5;28;01mreturn\u001b[39;00m \u001b[43mvisitor\u001b[49m\u001b[43m(\u001b[49m\u001b[43mnode\u001b[49m\u001b[43m,\u001b[49m\u001b[43m \u001b[49m\u001b[38;5;241;43m*\u001b[39;49m\u001b[38;5;241;43m*\u001b[39;49m\u001b[43mkwargs\u001b[49m\u001b[43m)\u001b[49m\n",
      "File \u001b[0;32m~/gt4py-update_types/gt4py/src/gt4py/next/ffront/foast_passes/type_deduction.py:260\u001b[0m, in \u001b[0;36mFieldOperatorTypeDeduction.visit_FunctionDefinition\u001b[0;34m(self, node, **kwargs)\u001b[0m\n\u001b[1;32m    258\u001b[0m \u001b[38;5;28;01mdef\u001b[39;00m \u001b[38;5;21mvisit_FunctionDefinition\u001b[39m(\u001b[38;5;28mself\u001b[39m, node: foast\u001b[38;5;241m.\u001b[39mFunctionDefinition, \u001b[38;5;241m*\u001b[39m\u001b[38;5;241m*\u001b[39mkwargs):\n\u001b[1;32m    259\u001b[0m     new_params \u001b[38;5;241m=\u001b[39m \u001b[38;5;28mself\u001b[39m\u001b[38;5;241m.\u001b[39mvisit(node\u001b[38;5;241m.\u001b[39mparams, \u001b[38;5;241m*\u001b[39m\u001b[38;5;241m*\u001b[39mkwargs)\n\u001b[0;32m--> 260\u001b[0m     new_body \u001b[38;5;241m=\u001b[39m \u001b[38;5;28;43mself\u001b[39;49m\u001b[38;5;241;43m.\u001b[39;49m\u001b[43mvisit\u001b[49m\u001b[43m(\u001b[49m\u001b[43mnode\u001b[49m\u001b[38;5;241;43m.\u001b[39;49m\u001b[43mbody\u001b[49m\u001b[43m,\u001b[49m\u001b[43m \u001b[49m\u001b[38;5;241;43m*\u001b[39;49m\u001b[38;5;241;43m*\u001b[39;49m\u001b[43mkwargs\u001b[49m\u001b[43m)\u001b[49m\n\u001b[1;32m    261\u001b[0m     new_closure_vars \u001b[38;5;241m=\u001b[39m \u001b[38;5;28mself\u001b[39m\u001b[38;5;241m.\u001b[39mvisit(node\u001b[38;5;241m.\u001b[39mclosure_vars, \u001b[38;5;241m*\u001b[39m\u001b[38;5;241m*\u001b[39mkwargs)\n\u001b[1;32m    262\u001b[0m     return_type \u001b[38;5;241m=\u001b[39m deduce_stmt_return_type(new_body)\n",
      "File \u001b[0;32m~/gt4py-update_types/gt4py/src/gt4py/eve/traits.py:168\u001b[0m, in \u001b[0;36mVisitorWithSymbolTableTrait.visit\u001b[0;34m(self, node, **kwargs)\u001b[0m\n\u001b[1;32m    165\u001b[0m     \u001b[38;5;28;01mif\u001b[39;00m new_scope \u001b[38;5;241m:=\u001b[39m (\u001b[38;5;124m\"\u001b[39m\u001b[38;5;124msymtable\u001b[39m\u001b[38;5;124m\"\u001b[39m \u001b[38;5;129;01min\u001b[39;00m node\u001b[38;5;241m.\u001b[39mannex):\n\u001b[1;32m    166\u001b[0m         kwargs[\u001b[38;5;124m\"\u001b[39m\u001b[38;5;124msymtable\u001b[39m\u001b[38;5;124m\"\u001b[39m] \u001b[38;5;241m=\u001b[39m kwargs[\u001b[38;5;124m\"\u001b[39m\u001b[38;5;124msymtable\u001b[39m\u001b[38;5;124m\"\u001b[39m]\u001b[38;5;241m.\u001b[39mnew_child(node\u001b[38;5;241m.\u001b[39mannex\u001b[38;5;241m.\u001b[39msymtable)\n\u001b[0;32m--> 168\u001b[0m result \u001b[38;5;241m=\u001b[39m \u001b[38;5;28;43msuper\u001b[39;49m\u001b[43m(\u001b[49m\u001b[43m)\u001b[49m\u001b[38;5;241;43m.\u001b[39;49m\u001b[43mvisit\u001b[49m\u001b[43m(\u001b[49m\u001b[43mnode\u001b[49m\u001b[43m,\u001b[49m\u001b[43m \u001b[49m\u001b[38;5;241;43m*\u001b[39;49m\u001b[38;5;241;43m*\u001b[39;49m\u001b[43mkwargs\u001b[49m\u001b[43m)\u001b[49m\n\u001b[1;32m    170\u001b[0m \u001b[38;5;28;01mif\u001b[39;00m new_scope:\n\u001b[1;32m    171\u001b[0m     kwargs[\u001b[38;5;124m\"\u001b[39m\u001b[38;5;124msymtable\u001b[39m\u001b[38;5;124m\"\u001b[39m] \u001b[38;5;241m=\u001b[39m kwargs[\u001b[38;5;124m\"\u001b[39m\u001b[38;5;124msymtable\u001b[39m\u001b[38;5;124m\"\u001b[39m]\u001b[38;5;241m.\u001b[39mparents\n",
      "File \u001b[0;32m~/gt4py-update_types/gt4py/src/gt4py/eve/visitors.py:121\u001b[0m, in \u001b[0;36mNodeVisitor.visit\u001b[0;34m(self, node, **kwargs)\u001b[0m\n\u001b[1;32m    118\u001b[0m         \u001b[38;5;28;01mif\u001b[39;00m node_class \u001b[38;5;129;01mis\u001b[39;00m concepts\u001b[38;5;241m.\u001b[39mNode:\n\u001b[1;32m    119\u001b[0m             \u001b[38;5;28;01mbreak\u001b[39;00m\n\u001b[0;32m--> 121\u001b[0m \u001b[38;5;28;01mreturn\u001b[39;00m \u001b[43mvisitor\u001b[49m\u001b[43m(\u001b[49m\u001b[43mnode\u001b[49m\u001b[43m,\u001b[49m\u001b[43m \u001b[49m\u001b[38;5;241;43m*\u001b[39;49m\u001b[38;5;241;43m*\u001b[39;49m\u001b[43mkwargs\u001b[49m\u001b[43m)\u001b[49m\n",
      "File \u001b[0;32m~/gt4py-update_types/gt4py/src/gt4py/eve/visitors.py:161\u001b[0m, in \u001b[0;36mNodeTranslator.generic_visit\u001b[0;34m(self, node, **kwargs)\u001b[0m\n\u001b[1;32m    157\u001b[0m memo \u001b[38;5;241m=\u001b[39m kwargs\u001b[38;5;241m.\u001b[39mget(\u001b[38;5;124m\"\u001b[39m\u001b[38;5;124m__memo__\u001b[39m\u001b[38;5;124m\"\u001b[39m, \u001b[38;5;28;01mNone\u001b[39;00m)\n\u001b[1;32m    159\u001b[0m \u001b[38;5;28;01mif\u001b[39;00m \u001b[38;5;28misinstance\u001b[39m(node, concepts\u001b[38;5;241m.\u001b[39mNode):\n\u001b[1;32m    160\u001b[0m     new_node \u001b[38;5;241m=\u001b[39m node\u001b[38;5;241m.\u001b[39m\u001b[38;5;18m__class__\u001b[39m(  \u001b[38;5;66;03m# type: ignore\u001b[39;00m\n\u001b[0;32m--> 161\u001b[0m         \u001b[38;5;241m*\u001b[39m\u001b[38;5;241m*\u001b[39m{\n\u001b[1;32m    162\u001b[0m             name: new_child\n\u001b[1;32m    163\u001b[0m             \u001b[38;5;28;01mfor\u001b[39;00m name, child \u001b[38;5;129;01min\u001b[39;00m node\u001b[38;5;241m.\u001b[39miter_children_items()\n\u001b[1;32m    164\u001b[0m             \u001b[38;5;28;01mif\u001b[39;00m (new_child \u001b[38;5;241m:=\u001b[39m \u001b[38;5;28mself\u001b[39m\u001b[38;5;241m.\u001b[39mvisit(child, \u001b[38;5;241m*\u001b[39m\u001b[38;5;241m*\u001b[39mkwargs)) \u001b[38;5;129;01mis\u001b[39;00m \u001b[38;5;129;01mnot\u001b[39;00m NOTHING\n\u001b[1;32m    165\u001b[0m         },\n\u001b[1;32m    166\u001b[0m     )\n\u001b[1;32m    167\u001b[0m     \u001b[38;5;28;01mif\u001b[39;00m \u001b[38;5;28mself\u001b[39m\u001b[38;5;241m.\u001b[39mPRESERVED_ANNEX_ATTRS \u001b[38;5;129;01mand\u001b[39;00m (old_annex \u001b[38;5;241m:=\u001b[39m \u001b[38;5;28mgetattr\u001b[39m(node, \u001b[38;5;124m\"\u001b[39m\u001b[38;5;124m__node_annex__\u001b[39m\u001b[38;5;124m\"\u001b[39m, \u001b[38;5;28;01mNone\u001b[39;00m)):\n\u001b[1;32m    168\u001b[0m         \u001b[38;5;66;03m# access to `new_node.annex` implicitly creates the `__node_annex__` attribute in the property getter\u001b[39;00m\n\u001b[1;32m    169\u001b[0m         new_annex_dict \u001b[38;5;241m=\u001b[39m new_node\u001b[38;5;241m.\u001b[39mannex\u001b[38;5;241m.\u001b[39m\u001b[38;5;18m__dict__\u001b[39m\n",
      "File \u001b[0;32m~/gt4py-update_types/gt4py/src/gt4py/eve/visitors.py:164\u001b[0m, in \u001b[0;36m<dictcomp>\u001b[0;34m(.0)\u001b[0m\n\u001b[1;32m    157\u001b[0m memo \u001b[38;5;241m=\u001b[39m kwargs\u001b[38;5;241m.\u001b[39mget(\u001b[38;5;124m\"\u001b[39m\u001b[38;5;124m__memo__\u001b[39m\u001b[38;5;124m\"\u001b[39m, \u001b[38;5;28;01mNone\u001b[39;00m)\n\u001b[1;32m    159\u001b[0m \u001b[38;5;28;01mif\u001b[39;00m \u001b[38;5;28misinstance\u001b[39m(node, concepts\u001b[38;5;241m.\u001b[39mNode):\n\u001b[1;32m    160\u001b[0m     new_node \u001b[38;5;241m=\u001b[39m node\u001b[38;5;241m.\u001b[39m\u001b[38;5;18m__class__\u001b[39m(  \u001b[38;5;66;03m# type: ignore\u001b[39;00m\n\u001b[1;32m    161\u001b[0m         \u001b[38;5;241m*\u001b[39m\u001b[38;5;241m*\u001b[39m{\n\u001b[1;32m    162\u001b[0m             name: new_child\n\u001b[1;32m    163\u001b[0m             \u001b[38;5;28;01mfor\u001b[39;00m name, child \u001b[38;5;129;01min\u001b[39;00m node\u001b[38;5;241m.\u001b[39miter_children_items()\n\u001b[0;32m--> 164\u001b[0m             \u001b[38;5;28;01mif\u001b[39;00m (new_child \u001b[38;5;241m:=\u001b[39m \u001b[38;5;28;43mself\u001b[39;49m\u001b[38;5;241;43m.\u001b[39;49m\u001b[43mvisit\u001b[49m\u001b[43m(\u001b[49m\u001b[43mchild\u001b[49m\u001b[43m,\u001b[49m\u001b[43m \u001b[49m\u001b[38;5;241;43m*\u001b[39;49m\u001b[38;5;241;43m*\u001b[39;49m\u001b[43mkwargs\u001b[49m\u001b[43m)\u001b[49m) \u001b[38;5;129;01mis\u001b[39;00m \u001b[38;5;129;01mnot\u001b[39;00m NOTHING\n\u001b[1;32m    165\u001b[0m         },\n\u001b[1;32m    166\u001b[0m     )\n\u001b[1;32m    167\u001b[0m     \u001b[38;5;28;01mif\u001b[39;00m \u001b[38;5;28mself\u001b[39m\u001b[38;5;241m.\u001b[39mPRESERVED_ANNEX_ATTRS \u001b[38;5;129;01mand\u001b[39;00m (old_annex \u001b[38;5;241m:=\u001b[39m \u001b[38;5;28mgetattr\u001b[39m(node, \u001b[38;5;124m\"\u001b[39m\u001b[38;5;124m__node_annex__\u001b[39m\u001b[38;5;124m\"\u001b[39m, \u001b[38;5;28;01mNone\u001b[39;00m)):\n\u001b[1;32m    168\u001b[0m         \u001b[38;5;66;03m# access to `new_node.annex` implicitly creates the `__node_annex__` attribute in the property getter\u001b[39;00m\n\u001b[1;32m    169\u001b[0m         new_annex_dict \u001b[38;5;241m=\u001b[39m new_node\u001b[38;5;241m.\u001b[39mannex\u001b[38;5;241m.\u001b[39m\u001b[38;5;18m__dict__\u001b[39m\n",
      "File \u001b[0;32m~/gt4py-update_types/gt4py/src/gt4py/eve/traits.py:168\u001b[0m, in \u001b[0;36mVisitorWithSymbolTableTrait.visit\u001b[0;34m(self, node, **kwargs)\u001b[0m\n\u001b[1;32m    165\u001b[0m     \u001b[38;5;28;01mif\u001b[39;00m new_scope \u001b[38;5;241m:=\u001b[39m (\u001b[38;5;124m\"\u001b[39m\u001b[38;5;124msymtable\u001b[39m\u001b[38;5;124m\"\u001b[39m \u001b[38;5;129;01min\u001b[39;00m node\u001b[38;5;241m.\u001b[39mannex):\n\u001b[1;32m    166\u001b[0m         kwargs[\u001b[38;5;124m\"\u001b[39m\u001b[38;5;124msymtable\u001b[39m\u001b[38;5;124m\"\u001b[39m] \u001b[38;5;241m=\u001b[39m kwargs[\u001b[38;5;124m\"\u001b[39m\u001b[38;5;124msymtable\u001b[39m\u001b[38;5;124m\"\u001b[39m]\u001b[38;5;241m.\u001b[39mnew_child(node\u001b[38;5;241m.\u001b[39mannex\u001b[38;5;241m.\u001b[39msymtable)\n\u001b[0;32m--> 168\u001b[0m result \u001b[38;5;241m=\u001b[39m \u001b[38;5;28;43msuper\u001b[39;49m\u001b[43m(\u001b[49m\u001b[43m)\u001b[49m\u001b[38;5;241;43m.\u001b[39;49m\u001b[43mvisit\u001b[49m\u001b[43m(\u001b[49m\u001b[43mnode\u001b[49m\u001b[43m,\u001b[49m\u001b[43m \u001b[49m\u001b[38;5;241;43m*\u001b[39;49m\u001b[38;5;241;43m*\u001b[39;49m\u001b[43mkwargs\u001b[49m\u001b[43m)\u001b[49m\n\u001b[1;32m    170\u001b[0m \u001b[38;5;28;01mif\u001b[39;00m new_scope:\n\u001b[1;32m    171\u001b[0m     kwargs[\u001b[38;5;124m\"\u001b[39m\u001b[38;5;124msymtable\u001b[39m\u001b[38;5;124m\"\u001b[39m] \u001b[38;5;241m=\u001b[39m kwargs[\u001b[38;5;124m\"\u001b[39m\u001b[38;5;124msymtable\u001b[39m\u001b[38;5;124m\"\u001b[39m]\u001b[38;5;241m.\u001b[39mparents\n",
      "File \u001b[0;32m~/gt4py-update_types/gt4py/src/gt4py/eve/visitors.py:121\u001b[0m, in \u001b[0;36mNodeVisitor.visit\u001b[0;34m(self, node, **kwargs)\u001b[0m\n\u001b[1;32m    118\u001b[0m         \u001b[38;5;28;01mif\u001b[39;00m node_class \u001b[38;5;129;01mis\u001b[39;00m concepts\u001b[38;5;241m.\u001b[39mNode:\n\u001b[1;32m    119\u001b[0m             \u001b[38;5;28;01mbreak\u001b[39;00m\n\u001b[0;32m--> 121\u001b[0m \u001b[38;5;28;01mreturn\u001b[39;00m \u001b[43mvisitor\u001b[49m\u001b[43m(\u001b[49m\u001b[43mnode\u001b[49m\u001b[43m,\u001b[49m\u001b[43m \u001b[49m\u001b[38;5;241;43m*\u001b[39;49m\u001b[38;5;241;43m*\u001b[39;49m\u001b[43mkwargs\u001b[49m\u001b[43m)\u001b[49m\n",
      "File \u001b[0;32m~/gt4py-update_types/gt4py/src/gt4py/eve/visitors.py:181\u001b[0m, in \u001b[0;36mNodeTranslator.generic_visit\u001b[0;34m(self, node, **kwargs)\u001b[0m\n\u001b[1;32m    175\u001b[0m     \u001b[38;5;28;01mreturn\u001b[39;00m new_node\n\u001b[1;32m    177\u001b[0m \u001b[38;5;28;01mif\u001b[39;00m \u001b[38;5;28misinstance\u001b[39m(node, (\u001b[38;5;28mlist\u001b[39m, \u001b[38;5;28mtuple\u001b[39m, \u001b[38;5;28mset\u001b[39m, collections\u001b[38;5;241m.\u001b[39mabc\u001b[38;5;241m.\u001b[39mSet)) \u001b[38;5;129;01mor\u001b[39;00m (\n\u001b[1;32m    178\u001b[0m     \u001b[38;5;28misinstance\u001b[39m(node, collections\u001b[38;5;241m.\u001b[39mabc\u001b[38;5;241m.\u001b[39mSequence) \u001b[38;5;129;01mand\u001b[39;00m \u001b[38;5;129;01mnot\u001b[39;00m \u001b[38;5;28misinstance\u001b[39m(node, (\u001b[38;5;28mstr\u001b[39m, \u001b[38;5;28mbytes\u001b[39m))\n\u001b[1;32m    179\u001b[0m ):\n\u001b[1;32m    180\u001b[0m     \u001b[38;5;66;03m# Sequence or set: create a new container instance with the new values\u001b[39;00m\n\u001b[0;32m--> 181\u001b[0m     \u001b[38;5;28;01mreturn\u001b[39;00m \u001b[43mnode\u001b[49m\u001b[38;5;241;43m.\u001b[39;49m\u001b[38;5;18;43m__class__\u001b[39;49m\u001b[43m(\u001b[49m\u001b[43m  \u001b[49m\u001b[38;5;66;43;03m# type: ignore\u001b[39;49;00m\n\u001b[1;32m    182\u001b[0m \u001b[43m        \u001b[49m\u001b[43mnew_child\u001b[49m\n\u001b[1;32m    183\u001b[0m \u001b[43m        \u001b[49m\u001b[38;5;28;43;01mfor\u001b[39;49;00m\u001b[43m \u001b[49m\u001b[43mchild\u001b[49m\u001b[43m \u001b[49m\u001b[38;5;129;43;01min\u001b[39;49;00m\u001b[43m \u001b[49m\u001b[43mtrees\u001b[49m\u001b[38;5;241;43m.\u001b[39;49m\u001b[43miter_children_values\u001b[49m\u001b[43m(\u001b[49m\u001b[43mnode\u001b[49m\u001b[43m)\u001b[49m\n\u001b[1;32m    184\u001b[0m \u001b[43m        \u001b[49m\u001b[38;5;28;43;01mif\u001b[39;49;00m\u001b[43m \u001b[49m\u001b[43m(\u001b[49m\u001b[43mnew_child\u001b[49m\u001b[43m \u001b[49m\u001b[38;5;241;43m:=\u001b[39;49m\u001b[43m \u001b[49m\u001b[38;5;28;43mself\u001b[39;49m\u001b[38;5;241;43m.\u001b[39;49m\u001b[43mvisit\u001b[49m\u001b[43m(\u001b[49m\u001b[43mchild\u001b[49m\u001b[43m,\u001b[49m\u001b[43m \u001b[49m\u001b[38;5;241;43m*\u001b[39;49m\u001b[38;5;241;43m*\u001b[39;49m\u001b[43mkwargs\u001b[49m\u001b[43m)\u001b[49m\u001b[43m)\u001b[49m\u001b[43m \u001b[49m\u001b[38;5;129;43;01mis\u001b[39;49;00m\u001b[43m \u001b[49m\u001b[38;5;129;43;01mnot\u001b[39;49;00m\u001b[43m \u001b[49m\u001b[43mNOTHING\u001b[49m\n\u001b[1;32m    185\u001b[0m \u001b[43m    \u001b[49m\u001b[43m)\u001b[49m\n\u001b[1;32m    187\u001b[0m \u001b[38;5;28;01mif\u001b[39;00m \u001b[38;5;28misinstance\u001b[39m(node, (\u001b[38;5;28mdict\u001b[39m, collections\u001b[38;5;241m.\u001b[39mabc\u001b[38;5;241m.\u001b[39mMapping)):\n\u001b[1;32m    188\u001b[0m     \u001b[38;5;66;03m# Mapping: create a new mapping instance with the new values\u001b[39;00m\n\u001b[1;32m    189\u001b[0m     \u001b[38;5;28;01mreturn\u001b[39;00m node\u001b[38;5;241m.\u001b[39m\u001b[38;5;18m__class__\u001b[39m(  \u001b[38;5;66;03m# type: ignore[call-arg]\u001b[39;00m\n\u001b[1;32m    190\u001b[0m         {\n\u001b[1;32m    191\u001b[0m             name: new_child\n\u001b[0;32m   (...)\u001b[0m\n\u001b[1;32m    194\u001b[0m         }\n\u001b[1;32m    195\u001b[0m     )\n",
      "File \u001b[0;32m~/gt4py-update_types/gt4py/src/gt4py/eve/visitors.py:184\u001b[0m, in \u001b[0;36m<genexpr>\u001b[0;34m(.0)\u001b[0m\n\u001b[1;32m    175\u001b[0m     \u001b[38;5;28;01mreturn\u001b[39;00m new_node\n\u001b[1;32m    177\u001b[0m \u001b[38;5;28;01mif\u001b[39;00m \u001b[38;5;28misinstance\u001b[39m(node, (\u001b[38;5;28mlist\u001b[39m, \u001b[38;5;28mtuple\u001b[39m, \u001b[38;5;28mset\u001b[39m, collections\u001b[38;5;241m.\u001b[39mabc\u001b[38;5;241m.\u001b[39mSet)) \u001b[38;5;129;01mor\u001b[39;00m (\n\u001b[1;32m    178\u001b[0m     \u001b[38;5;28misinstance\u001b[39m(node, collections\u001b[38;5;241m.\u001b[39mabc\u001b[38;5;241m.\u001b[39mSequence) \u001b[38;5;129;01mand\u001b[39;00m \u001b[38;5;129;01mnot\u001b[39;00m \u001b[38;5;28misinstance\u001b[39m(node, (\u001b[38;5;28mstr\u001b[39m, \u001b[38;5;28mbytes\u001b[39m))\n\u001b[1;32m    179\u001b[0m ):\n\u001b[1;32m    180\u001b[0m     \u001b[38;5;66;03m# Sequence or set: create a new container instance with the new values\u001b[39;00m\n\u001b[1;32m    181\u001b[0m     \u001b[38;5;28;01mreturn\u001b[39;00m node\u001b[38;5;241m.\u001b[39m\u001b[38;5;18m__class__\u001b[39m(  \u001b[38;5;66;03m# type: ignore\u001b[39;00m\n\u001b[1;32m    182\u001b[0m         new_child\n\u001b[1;32m    183\u001b[0m         \u001b[38;5;28;01mfor\u001b[39;00m child \u001b[38;5;129;01min\u001b[39;00m trees\u001b[38;5;241m.\u001b[39miter_children_values(node)\n\u001b[0;32m--> 184\u001b[0m         \u001b[38;5;28;01mif\u001b[39;00m (new_child \u001b[38;5;241m:=\u001b[39m \u001b[38;5;28;43mself\u001b[39;49m\u001b[38;5;241;43m.\u001b[39;49m\u001b[43mvisit\u001b[49m\u001b[43m(\u001b[49m\u001b[43mchild\u001b[49m\u001b[43m,\u001b[49m\u001b[43m \u001b[49m\u001b[38;5;241;43m*\u001b[39;49m\u001b[38;5;241;43m*\u001b[39;49m\u001b[43mkwargs\u001b[49m\u001b[43m)\u001b[49m) \u001b[38;5;129;01mis\u001b[39;00m \u001b[38;5;129;01mnot\u001b[39;00m NOTHING\n\u001b[1;32m    185\u001b[0m     )\n\u001b[1;32m    187\u001b[0m \u001b[38;5;28;01mif\u001b[39;00m \u001b[38;5;28misinstance\u001b[39m(node, (\u001b[38;5;28mdict\u001b[39m, collections\u001b[38;5;241m.\u001b[39mabc\u001b[38;5;241m.\u001b[39mMapping)):\n\u001b[1;32m    188\u001b[0m     \u001b[38;5;66;03m# Mapping: create a new mapping instance with the new values\u001b[39;00m\n\u001b[1;32m    189\u001b[0m     \u001b[38;5;28;01mreturn\u001b[39;00m node\u001b[38;5;241m.\u001b[39m\u001b[38;5;18m__class__\u001b[39m(  \u001b[38;5;66;03m# type: ignore[call-arg]\u001b[39;00m\n\u001b[1;32m    190\u001b[0m         {\n\u001b[1;32m    191\u001b[0m             name: new_child\n\u001b[0;32m   (...)\u001b[0m\n\u001b[1;32m    194\u001b[0m         }\n\u001b[1;32m    195\u001b[0m     )\n",
      "File \u001b[0;32m~/gt4py-update_types/gt4py/src/gt4py/eve/traits.py:168\u001b[0m, in \u001b[0;36mVisitorWithSymbolTableTrait.visit\u001b[0;34m(self, node, **kwargs)\u001b[0m\n\u001b[1;32m    165\u001b[0m     \u001b[38;5;28;01mif\u001b[39;00m new_scope \u001b[38;5;241m:=\u001b[39m (\u001b[38;5;124m\"\u001b[39m\u001b[38;5;124msymtable\u001b[39m\u001b[38;5;124m\"\u001b[39m \u001b[38;5;129;01min\u001b[39;00m node\u001b[38;5;241m.\u001b[39mannex):\n\u001b[1;32m    166\u001b[0m         kwargs[\u001b[38;5;124m\"\u001b[39m\u001b[38;5;124msymtable\u001b[39m\u001b[38;5;124m\"\u001b[39m] \u001b[38;5;241m=\u001b[39m kwargs[\u001b[38;5;124m\"\u001b[39m\u001b[38;5;124msymtable\u001b[39m\u001b[38;5;124m\"\u001b[39m]\u001b[38;5;241m.\u001b[39mnew_child(node\u001b[38;5;241m.\u001b[39mannex\u001b[38;5;241m.\u001b[39msymtable)\n\u001b[0;32m--> 168\u001b[0m result \u001b[38;5;241m=\u001b[39m \u001b[38;5;28;43msuper\u001b[39;49m\u001b[43m(\u001b[49m\u001b[43m)\u001b[49m\u001b[38;5;241;43m.\u001b[39;49m\u001b[43mvisit\u001b[49m\u001b[43m(\u001b[49m\u001b[43mnode\u001b[49m\u001b[43m,\u001b[49m\u001b[43m \u001b[49m\u001b[38;5;241;43m*\u001b[39;49m\u001b[38;5;241;43m*\u001b[39;49m\u001b[43mkwargs\u001b[49m\u001b[43m)\u001b[49m\n\u001b[1;32m    170\u001b[0m \u001b[38;5;28;01mif\u001b[39;00m new_scope:\n\u001b[1;32m    171\u001b[0m     kwargs[\u001b[38;5;124m\"\u001b[39m\u001b[38;5;124msymtable\u001b[39m\u001b[38;5;124m\"\u001b[39m] \u001b[38;5;241m=\u001b[39m kwargs[\u001b[38;5;124m\"\u001b[39m\u001b[38;5;124msymtable\u001b[39m\u001b[38;5;124m\"\u001b[39m]\u001b[38;5;241m.\u001b[39mparents\n",
      "File \u001b[0;32m~/gt4py-update_types/gt4py/src/gt4py/eve/visitors.py:121\u001b[0m, in \u001b[0;36mNodeVisitor.visit\u001b[0;34m(self, node, **kwargs)\u001b[0m\n\u001b[1;32m    118\u001b[0m         \u001b[38;5;28;01mif\u001b[39;00m node_class \u001b[38;5;129;01mis\u001b[39;00m concepts\u001b[38;5;241m.\u001b[39mNode:\n\u001b[1;32m    119\u001b[0m             \u001b[38;5;28;01mbreak\u001b[39;00m\n\u001b[0;32m--> 121\u001b[0m \u001b[38;5;28;01mreturn\u001b[39;00m \u001b[43mvisitor\u001b[49m\u001b[43m(\u001b[49m\u001b[43mnode\u001b[49m\u001b[43m,\u001b[49m\u001b[43m \u001b[49m\u001b[38;5;241;43m*\u001b[39;49m\u001b[38;5;241;43m*\u001b[39;49m\u001b[43mkwargs\u001b[49m\u001b[43m)\u001b[49m\n",
      "File \u001b[0;32m~/gt4py-update_types/gt4py/src/gt4py/next/ffront/foast_passes/type_deduction.py:370\u001b[0m, in \u001b[0;36mFieldOperatorTypeDeduction.visit_TupleTargetAssign\u001b[0;34m(self, node, **kwargs)\u001b[0m\n\u001b[1;32m    366\u001b[0m \u001b[38;5;28;01mdef\u001b[39;00m \u001b[38;5;21mvisit_TupleTargetAssign\u001b[39m(\n\u001b[1;32m    367\u001b[0m     \u001b[38;5;28mself\u001b[39m, node: foast\u001b[38;5;241m.\u001b[39mTupleTargetAssign, \u001b[38;5;241m*\u001b[39m\u001b[38;5;241m*\u001b[39mkwargs\n\u001b[1;32m    368\u001b[0m ) \u001b[38;5;241m-\u001b[39m\u001b[38;5;241m>\u001b[39m foast\u001b[38;5;241m.\u001b[39mTupleTargetAssign:\n\u001b[1;32m    369\u001b[0m     TargetType \u001b[38;5;241m=\u001b[39m \u001b[38;5;28mlist\u001b[39m[foast\u001b[38;5;241m.\u001b[39mStarred \u001b[38;5;241m|\u001b[39m foast\u001b[38;5;241m.\u001b[39mSymbol]\n\u001b[0;32m--> 370\u001b[0m     values \u001b[38;5;241m=\u001b[39m \u001b[38;5;28;43mself\u001b[39;49m\u001b[38;5;241;43m.\u001b[39;49m\u001b[43mvisit\u001b[49m\u001b[43m(\u001b[49m\u001b[43mnode\u001b[49m\u001b[38;5;241;43m.\u001b[39;49m\u001b[43mvalue\u001b[49m\u001b[43m,\u001b[49m\u001b[43m \u001b[49m\u001b[38;5;241;43m*\u001b[39;49m\u001b[38;5;241;43m*\u001b[39;49m\u001b[43mkwargs\u001b[49m\u001b[43m)\u001b[49m\n\u001b[1;32m    372\u001b[0m     \u001b[38;5;28;01mif\u001b[39;00m \u001b[38;5;28misinstance\u001b[39m(values\u001b[38;5;241m.\u001b[39mtype, ts\u001b[38;5;241m.\u001b[39mTupleType):\n\u001b[1;32m    373\u001b[0m         num_elts: \u001b[38;5;28mint\u001b[39m \u001b[38;5;241m=\u001b[39m \u001b[38;5;28mlen\u001b[39m(values\u001b[38;5;241m.\u001b[39mtype\u001b[38;5;241m.\u001b[39mtypes)\n",
      "File \u001b[0;32m~/gt4py-update_types/gt4py/src/gt4py/eve/traits.py:168\u001b[0m, in \u001b[0;36mVisitorWithSymbolTableTrait.visit\u001b[0;34m(self, node, **kwargs)\u001b[0m\n\u001b[1;32m    165\u001b[0m     \u001b[38;5;28;01mif\u001b[39;00m new_scope \u001b[38;5;241m:=\u001b[39m (\u001b[38;5;124m\"\u001b[39m\u001b[38;5;124msymtable\u001b[39m\u001b[38;5;124m\"\u001b[39m \u001b[38;5;129;01min\u001b[39;00m node\u001b[38;5;241m.\u001b[39mannex):\n\u001b[1;32m    166\u001b[0m         kwargs[\u001b[38;5;124m\"\u001b[39m\u001b[38;5;124msymtable\u001b[39m\u001b[38;5;124m\"\u001b[39m] \u001b[38;5;241m=\u001b[39m kwargs[\u001b[38;5;124m\"\u001b[39m\u001b[38;5;124msymtable\u001b[39m\u001b[38;5;124m\"\u001b[39m]\u001b[38;5;241m.\u001b[39mnew_child(node\u001b[38;5;241m.\u001b[39mannex\u001b[38;5;241m.\u001b[39msymtable)\n\u001b[0;32m--> 168\u001b[0m result \u001b[38;5;241m=\u001b[39m \u001b[38;5;28;43msuper\u001b[39;49m\u001b[43m(\u001b[49m\u001b[43m)\u001b[49m\u001b[38;5;241;43m.\u001b[39;49m\u001b[43mvisit\u001b[49m\u001b[43m(\u001b[49m\u001b[43mnode\u001b[49m\u001b[43m,\u001b[49m\u001b[43m \u001b[49m\u001b[38;5;241;43m*\u001b[39;49m\u001b[38;5;241;43m*\u001b[39;49m\u001b[43mkwargs\u001b[49m\u001b[43m)\u001b[49m\n\u001b[1;32m    170\u001b[0m \u001b[38;5;28;01mif\u001b[39;00m new_scope:\n\u001b[1;32m    171\u001b[0m     kwargs[\u001b[38;5;124m\"\u001b[39m\u001b[38;5;124msymtable\u001b[39m\u001b[38;5;124m\"\u001b[39m] \u001b[38;5;241m=\u001b[39m kwargs[\u001b[38;5;124m\"\u001b[39m\u001b[38;5;124msymtable\u001b[39m\u001b[38;5;124m\"\u001b[39m]\u001b[38;5;241m.\u001b[39mparents\n",
      "File \u001b[0;32m~/gt4py-update_types/gt4py/src/gt4py/eve/visitors.py:121\u001b[0m, in \u001b[0;36mNodeVisitor.visit\u001b[0;34m(self, node, **kwargs)\u001b[0m\n\u001b[1;32m    118\u001b[0m         \u001b[38;5;28;01mif\u001b[39;00m node_class \u001b[38;5;129;01mis\u001b[39;00m concepts\u001b[38;5;241m.\u001b[39mNode:\n\u001b[1;32m    119\u001b[0m             \u001b[38;5;28;01mbreak\u001b[39;00m\n\u001b[0;32m--> 121\u001b[0m \u001b[38;5;28;01mreturn\u001b[39;00m \u001b[43mvisitor\u001b[49m\u001b[43m(\u001b[49m\u001b[43mnode\u001b[49m\u001b[43m,\u001b[49m\u001b[43m \u001b[49m\u001b[38;5;241;43m*\u001b[39;49m\u001b[38;5;241;43m*\u001b[39;49m\u001b[43mkwargs\u001b[49m\u001b[43m)\u001b[49m\n",
      "File \u001b[0;32m~/gt4py-update_types/gt4py/src/gt4py/next/ffront/foast_passes/type_deduction.py:670\u001b[0m, in \u001b[0;36mFieldOperatorTypeDeduction.visit_Call\u001b[0;34m(self, node, **kwargs)\u001b[0m\n\u001b[1;32m    669\u001b[0m \u001b[38;5;28;01mdef\u001b[39;00m \u001b[38;5;21mvisit_Call\u001b[39m(\u001b[38;5;28mself\u001b[39m, node: foast\u001b[38;5;241m.\u001b[39mCall, \u001b[38;5;241m*\u001b[39m\u001b[38;5;241m*\u001b[39mkwargs) \u001b[38;5;241m-\u001b[39m\u001b[38;5;241m>\u001b[39m foast\u001b[38;5;241m.\u001b[39mCall:\n\u001b[0;32m--> 670\u001b[0m     new_func \u001b[38;5;241m=\u001b[39m \u001b[38;5;28;43mself\u001b[39;49m\u001b[38;5;241;43m.\u001b[39;49m\u001b[43mvisit\u001b[49m\u001b[43m(\u001b[49m\u001b[43mnode\u001b[49m\u001b[38;5;241;43m.\u001b[39;49m\u001b[43mfunc\u001b[49m\u001b[43m,\u001b[49m\u001b[43m \u001b[49m\u001b[38;5;241;43m*\u001b[39;49m\u001b[38;5;241;43m*\u001b[39;49m\u001b[43mkwargs\u001b[49m\u001b[43m)\u001b[49m\n\u001b[1;32m    671\u001b[0m     new_args \u001b[38;5;241m=\u001b[39m \u001b[38;5;28mself\u001b[39m\u001b[38;5;241m.\u001b[39mvisit(node\u001b[38;5;241m.\u001b[39margs, \u001b[38;5;241m*\u001b[39m\u001b[38;5;241m*\u001b[39mkwargs)\n\u001b[1;32m    672\u001b[0m     new_kwargs \u001b[38;5;241m=\u001b[39m \u001b[38;5;28mself\u001b[39m\u001b[38;5;241m.\u001b[39mvisit(node\u001b[38;5;241m.\u001b[39mkwargs, \u001b[38;5;241m*\u001b[39m\u001b[38;5;241m*\u001b[39mkwargs)\n",
      "File \u001b[0;32m~/gt4py-update_types/gt4py/src/gt4py/eve/traits.py:168\u001b[0m, in \u001b[0;36mVisitorWithSymbolTableTrait.visit\u001b[0;34m(self, node, **kwargs)\u001b[0m\n\u001b[1;32m    165\u001b[0m     \u001b[38;5;28;01mif\u001b[39;00m new_scope \u001b[38;5;241m:=\u001b[39m (\u001b[38;5;124m\"\u001b[39m\u001b[38;5;124msymtable\u001b[39m\u001b[38;5;124m\"\u001b[39m \u001b[38;5;129;01min\u001b[39;00m node\u001b[38;5;241m.\u001b[39mannex):\n\u001b[1;32m    166\u001b[0m         kwargs[\u001b[38;5;124m\"\u001b[39m\u001b[38;5;124msymtable\u001b[39m\u001b[38;5;124m\"\u001b[39m] \u001b[38;5;241m=\u001b[39m kwargs[\u001b[38;5;124m\"\u001b[39m\u001b[38;5;124msymtable\u001b[39m\u001b[38;5;124m\"\u001b[39m]\u001b[38;5;241m.\u001b[39mnew_child(node\u001b[38;5;241m.\u001b[39mannex\u001b[38;5;241m.\u001b[39msymtable)\n\u001b[0;32m--> 168\u001b[0m result \u001b[38;5;241m=\u001b[39m \u001b[38;5;28;43msuper\u001b[39;49m\u001b[43m(\u001b[49m\u001b[43m)\u001b[49m\u001b[38;5;241;43m.\u001b[39;49m\u001b[43mvisit\u001b[49m\u001b[43m(\u001b[49m\u001b[43mnode\u001b[49m\u001b[43m,\u001b[49m\u001b[43m \u001b[49m\u001b[38;5;241;43m*\u001b[39;49m\u001b[38;5;241;43m*\u001b[39;49m\u001b[43mkwargs\u001b[49m\u001b[43m)\u001b[49m\n\u001b[1;32m    170\u001b[0m \u001b[38;5;28;01mif\u001b[39;00m new_scope:\n\u001b[1;32m    171\u001b[0m     kwargs[\u001b[38;5;124m\"\u001b[39m\u001b[38;5;124msymtable\u001b[39m\u001b[38;5;124m\"\u001b[39m] \u001b[38;5;241m=\u001b[39m kwargs[\u001b[38;5;124m\"\u001b[39m\u001b[38;5;124msymtable\u001b[39m\u001b[38;5;124m\"\u001b[39m]\u001b[38;5;241m.\u001b[39mparents\n",
      "File \u001b[0;32m~/gt4py-update_types/gt4py/src/gt4py/eve/visitors.py:121\u001b[0m, in \u001b[0;36mNodeVisitor.visit\u001b[0;34m(self, node, **kwargs)\u001b[0m\n\u001b[1;32m    118\u001b[0m         \u001b[38;5;28;01mif\u001b[39;00m node_class \u001b[38;5;129;01mis\u001b[39;00m concepts\u001b[38;5;241m.\u001b[39mNode:\n\u001b[1;32m    119\u001b[0m             \u001b[38;5;28;01mbreak\u001b[39;00m\n\u001b[0;32m--> 121\u001b[0m \u001b[38;5;28;01mreturn\u001b[39;00m \u001b[43mvisitor\u001b[49m\u001b[43m(\u001b[49m\u001b[43mnode\u001b[49m\u001b[43m,\u001b[49m\u001b[43m \u001b[49m\u001b[38;5;241;43m*\u001b[39;49m\u001b[38;5;241;43m*\u001b[39;49m\u001b[43mkwargs\u001b[49m\u001b[43m)\u001b[49m\n",
      "File \u001b[0;32m~/gt4py-update_types/gt4py/src/gt4py/next/ffront/foast_passes/type_deduction.py:354\u001b[0m, in \u001b[0;36mFieldOperatorTypeDeduction.visit_Name\u001b[0;34m(self, node, **kwargs)\u001b[0m\n\u001b[1;32m    352\u001b[0m symtable \u001b[38;5;241m=\u001b[39m kwargs[\u001b[38;5;124m\"\u001b[39m\u001b[38;5;124msymtable\u001b[39m\u001b[38;5;124m\"\u001b[39m]\n\u001b[1;32m    353\u001b[0m \u001b[38;5;28;01mif\u001b[39;00m node\u001b[38;5;241m.\u001b[39mid \u001b[38;5;129;01mnot\u001b[39;00m \u001b[38;5;129;01min\u001b[39;00m symtable \u001b[38;5;129;01mor\u001b[39;00m symtable[node\u001b[38;5;241m.\u001b[39mid]\u001b[38;5;241m.\u001b[39mtype \u001b[38;5;129;01mis\u001b[39;00m \u001b[38;5;28;01mNone\u001b[39;00m:\n\u001b[0;32m--> 354\u001b[0m     \u001b[38;5;28;01mraise\u001b[39;00m errors\u001b[38;5;241m.\u001b[39mDSLError(node\u001b[38;5;241m.\u001b[39mlocation, \u001b[38;5;124mf\u001b[39m\u001b[38;5;124m\"\u001b[39m\u001b[38;5;124mUndeclared symbol \u001b[39m\u001b[38;5;124m'\u001b[39m\u001b[38;5;132;01m{\u001b[39;00mnode\u001b[38;5;241m.\u001b[39mid\u001b[38;5;132;01m}\u001b[39;00m\u001b[38;5;124m'\u001b[39m\u001b[38;5;124m.\u001b[39m\u001b[38;5;124m\"\u001b[39m)\n\u001b[1;32m    356\u001b[0m symbol \u001b[38;5;241m=\u001b[39m symtable[node\u001b[38;5;241m.\u001b[39mid]\n\u001b[1;32m    357\u001b[0m \u001b[38;5;28;01mreturn\u001b[39;00m foast\u001b[38;5;241m.\u001b[39mName(\u001b[38;5;28mid\u001b[39m\u001b[38;5;241m=\u001b[39mnode\u001b[38;5;241m.\u001b[39mid, \u001b[38;5;28mtype\u001b[39m\u001b[38;5;241m=\u001b[39msymbol\u001b[38;5;241m.\u001b[39mtype, location\u001b[38;5;241m=\u001b[39mnode\u001b[38;5;241m.\u001b[39mlocation)\n",
      "\u001b[0;31mDSLError\u001b[0m: Undeclared symbol '_graupel_toy_scan'.\n  File \"/private/var/folders/2b/_2y31vzs4sl_7rngh2yghbpw0000gn/T/ipykernel_56865/2647114660.py\", line 8"
     ]
    }
   ],
   "source": [
    "@gtx.field_operator(backend=backend)\n",
    "def graupel_toy_scan(\n",
    "    qc: gtx.Field[Dims[C, K], float], qr: gtx.Field[Dims[C, K], float]\n",
    ") -> tuple[\n",
    "    gtx.Field[Dims[C, K], float],\n",
    "    gtx.Field[Dims[C, K], float]\n",
    "]:\n",
    "    qc, qr, _ = _graupel_toy_scan(qc, qr)\n",
    "\n",
    "    return qc, qr"
   ]
  },
  {
   "cell_type": "code",
   "execution_count": 5,
   "id": "4e0dc8d2",
   "metadata": {},
   "outputs": [],
   "source": [
    "def test_scan_operator():\n",
    "    cell_k_domain = gtx.domain({C: n_cells, K: n_levels})\n",
    "    \n",
    "    qc = random_field(cell_k_domain, allocator=backend)\n",
    "    qr = random_field(cell_k_domain, allocator=backend)\n",
    "\n",
    "    qc_new = gtx.zeros(cell_k_domain, allocator=backend)\n",
    "    qr_new = gtx.zeros(cell_k_domain, allocator=backend)\n",
    "\n",
    "    # Initialize Numpy fields from GT4Py fields\n",
    "    qc_numpy = qc.asnumpy().copy()\n",
    "    qr_numpy = qr.asnumpy().copy()\n",
    "\n",
    "    # Execute the Numpy version of scheme\n",
    "    toy_microphysics_numpy(qc_numpy, qr_numpy)\n",
    "\n",
    "    # Execute the GT4Py version of scheme\n",
    "    graupel_toy_scan(qc, qr, out=(qc_new, qr_new), offset_provider={})\n",
    "\n",
    "    # Compare results\n",
    "    assert np.allclose(qc_new.asnumpy(), qc_numpy)\n",
    "    assert np.allclose(qr_new.asnumpy(), qr_numpy)"
   ]
  },
  {
   "cell_type": "code",
   "execution_count": 6,
   "id": "a76a6be7",
   "metadata": {},
   "outputs": [
    {
     "ename": "NameError",
     "evalue": "name 'graupel_toy_scan' is not defined",
     "output_type": "error",
     "traceback": [
      "\u001b[0;31m---------------------------------------------------------------------------\u001b[0m",
      "\u001b[0;31mNameError\u001b[0m                                 Traceback (most recent call last)",
      "Cell \u001b[0;32mIn[6], line 1\u001b[0m\n\u001b[0;32m----> 1\u001b[0m \u001b[43mtest_scan_operator\u001b[49m\u001b[43m(\u001b[49m\u001b[43m)\u001b[49m\n\u001b[1;32m      2\u001b[0m \u001b[38;5;28mprint\u001b[39m(\u001b[38;5;124m\"\u001b[39m\u001b[38;5;124mTest successful\u001b[39m\u001b[38;5;124m\"\u001b[39m)\n",
      "Cell \u001b[0;32mIn[5], line 18\u001b[0m, in \u001b[0;36mtest_scan_operator\u001b[0;34m()\u001b[0m\n\u001b[1;32m     15\u001b[0m toy_microphysics_numpy(qc_numpy, qr_numpy)\n\u001b[1;32m     17\u001b[0m \u001b[38;5;66;03m# Execute the GT4Py version of scheme\u001b[39;00m\n\u001b[0;32m---> 18\u001b[0m \u001b[43mgraupel_toy_scan\u001b[49m(qc, qr, out\u001b[38;5;241m=\u001b[39m(qc_new, qr_new), offset_provider\u001b[38;5;241m=\u001b[39m{})\n\u001b[1;32m     20\u001b[0m \u001b[38;5;66;03m# Compare results\u001b[39;00m\n\u001b[1;32m     21\u001b[0m \u001b[38;5;28;01massert\u001b[39;00m np\u001b[38;5;241m.\u001b[39mallclose(qc_new\u001b[38;5;241m.\u001b[39masnumpy(), qc_numpy)\n",
      "\u001b[0;31mNameError\u001b[0m: name 'graupel_toy_scan' is not defined"
     ]
    }
   ],
   "source": [
    "test_scan_operator()\n",
    "print(\"Test successful\")"
   ]
  },
  {
   "cell_type": "code",
   "execution_count": null,
   "id": "db590d8a",
   "metadata": {},
   "outputs": [],
   "source": []
  }
 ],
 "metadata": {
  "jupytext": {
   "formats": "ipynb,md:myst"
  },
  "kernelspec": {
   "display_name": "Python 3 (ipykernel)",
   "language": "python",
   "name": "python3"
  },
  "language_info": {
   "codemirror_mode": {
    "name": "ipython",
    "version": 3
   },
   "file_extension": ".py",
   "mimetype": "text/x-python",
   "name": "python",
   "nbconvert_exporter": "python",
   "pygments_lexer": "ipython3",
   "version": "3.10.0"
  }
 },
 "nbformat": 4,
 "nbformat_minor": 5
}

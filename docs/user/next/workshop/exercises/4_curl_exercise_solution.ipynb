{
 "cells": [
  {
   "cell_type": "markdown",
   "id": "9e5abeda",
   "metadata": {},
   "source": [
    "# 5. Curl"
   ]
  },
  {
   "cell_type": "markdown",
   "id": "0bc751b1",
   "metadata": {},
   "source": [
    "As the last example of the easier operations, we take a look at the curl of a vector field $\\mathbf{v}$ defined at a vertex $\\mathbf{N}$.\n",
    "To approximate this, we once again iterate over all of the direct neighboring edges of the vertex in the center and for each edge take the dot product of the vector field $\\mathbf{v}_e$ with the edge normals $\\mathbf{n}_f$ and multiply that by the dual edge length $\\hat{L}_e$. The resulting neighbor sum is then divided by the dual area $\\hat{A}_N$, which is the area of the Voronoi cell around the Vertex $\\mathbf{N}$.\n",
    "\n",
    "\n",
    "![](../images/curl_picture.png \"Divergence\")\n",
    "\n",
    "\n",
    "![](../images/curl_formula.png \"Divergence\")"
   ]
  },
  {
   "cell_type": "code",
   "execution_count": 1,
   "id": "1c1af88b",
   "metadata": {},
   "outputs": [
    {
     "data": {
      "text/html": [
       "<link href=\"https://fonts.googleapis.com/icon?family=Material+Icons\" rel=\"stylesheet\"><script src=\"https://spcl.github.io/dace/webclient2/dist/sdfv.js\"></script>\n",
       "<link href=\"https://spcl.github.io/dace/webclient2/sdfv.css\" rel=\"stylesheet\">\n"
      ],
      "text/plain": [
       "<IPython.core.display.HTML object>"
      ]
     },
     "metadata": {},
     "output_type": "display_data"
    }
   ],
   "source": [
    "from helpers import *\n",
    "\n",
    "import gt4py.next as gtx"
   ]
  },
  {
   "cell_type": "code",
   "execution_count": 2,
   "id": "ce333ad2",
   "metadata": {},
   "outputs": [],
   "source": [
    "def curl_numpy(\n",
    "    v2e: np.array,\n",
    "    u: np.array,\n",
    "    v: np.array,\n",
    "    nx: np.array,\n",
    "    ny: np.array,\n",
    "    dualL: np.array,\n",
    "    dualA: np.array,\n",
    "    edge_orientation: np.array,\n",
    ") -> np.array:\n",
    "    uv_curl = (\n",
    "        np.sum(\n",
    "            (u[v2e] * nx[v2e] + v[v2e] * ny[v2e]) * dualL[v2e] * edge_orientation,\n",
    "            axis=1,\n",
    "        )\n",
    "        / dualA\n",
    "    )\n",
    "\n",
    "    return uv_curl"
   ]
  },
  {
   "cell_type": "code",
   "execution_count": 3,
   "id": "0925bdb0",
   "metadata": {},
   "outputs": [],
   "source": [
    "@gtx.field_operator\n",
    "def curl(\n",
    "    u: gtx.Field[Dims[E], float],\n",
    "    v: gtx.Field[Dims[E], float],\n",
    "    nx: gtx.Field[Dims[E], float],\n",
    "    ny: gtx.Field[Dims[E], float],\n",
    "    dualL: gtx.Field[Dims[E], float],\n",
    "    dualA: gtx.Field[Dims[V], float],\n",
    "    edge_orientation: gtx.Field[Dims[V, V2EDim], float],\n",
    ") -> gtx.Field[Dims[V], float]:\n",
    "    uv_curl = (\n",
    "        neighbor_sum(\n",
    "            (u(V2E) * nx(V2E) + v(V2E) * ny(V2E)) * dualL(V2E) * edge_orientation,\n",
    "            axis=V2EDim,\n",
    "        )\n",
    "        / dualA\n",
    "    )\n",
    "\n",
    "    return uv_curl"
   ]
  },
  {
   "cell_type": "code",
   "execution_count": 4,
   "id": "5b6ffc9e",
   "metadata": {},
   "outputs": [],
   "source": [
    "def test_curl():\n",
    "    backend = None\n",
    "    # backend = gtfn_cpu\n",
    "    # backend = gtfn_gpu\n",
    "\n",
    "    edge_domain = gtx.domain({E: n_edges})\n",
    "    vertex_domain = gtx.domain({V: n_vertices})\n",
    "    \n",
    "    u = random_field(edge_domain, allocator=backend)\n",
    "    v = random_field(edge_domain, allocator=backend)\n",
    "    nx = random_field(edge_domain, allocator=backend)\n",
    "    ny = random_field(edge_domain, allocator=backend)\n",
    "    dualL = random_field(edge_domain, allocator=backend)\n",
    "    dualA = random_field(vertex_domain, allocator=backend)\n",
    "    edge_orientation = random_sign(\n",
    "        gtx.domain({V: n_vertices, V2EDim: 6}), allocator=backend\n",
    "    )\n",
    "\n",
    "    divergence_ref = curl_numpy(\n",
    "        v2e_table,\n",
    "        u.asnumpy(),\n",
    "        v.asnumpy(),\n",
    "        nx.asnumpy(),\n",
    "        ny.asnumpy(),\n",
    "        dualL.asnumpy(),\n",
    "        dualA.asnumpy(),\n",
    "        edge_orientation.asnumpy(),\n",
    "    )\n",
    "\n",
    "    v2e_connectivity = gtx.NeighborTableOffsetProvider(v2e_table, V, E, 6, has_skip_values=False)\n",
    "\n",
    "    curl_gt4py = gtx.zeros(vertex_domain, allocator=backend)  \n",
    "\n",
    "    curl(\n",
    "        u, v, nx, ny, dualL, dualA, edge_orientation, out = curl_gt4py, offset_provider = {V2E.value: v2e_connectivity}\n",
    "    )\n",
    "    \n",
    "    assert np.allclose(curl_gt4py.asnumpy(), divergence_ref)"
   ]
  },
  {
   "cell_type": "code",
   "execution_count": 5,
   "id": "ae651445",
   "metadata": {},
   "outputs": [
    {
     "name": "stdout",
     "output_type": "stream",
     "text": [
      "Test successful\n"
     ]
    }
   ],
   "source": [
    "test_curl()\n",
    "print(\"Test successful\")"
   ]
  },
  {
   "cell_type": "code",
   "execution_count": null,
   "id": "2dc0dc6d-438b-480b-8174-f3600b600389",
   "metadata": {},
   "outputs": [],
   "source": []
  }
 ],
 "metadata": {
  "jupytext": {
   "formats": "ipynb,md:myst"
  },
  "kernelspec": {
   "display_name": "Python 3 (ipykernel)",
   "language": "python",
   "name": "python3"
  },
  "language_info": {
   "codemirror_mode": {
    "name": "ipython",
    "version": 3
   },
   "file_extension": ".py",
   "mimetype": "text/x-python",
   "name": "python",
   "nbconvert_exporter": "python",
   "pygments_lexer": "ipython3",
   "version": "3.10.0"
  }
 },
 "nbformat": 4,
 "nbformat_minor": 5
}

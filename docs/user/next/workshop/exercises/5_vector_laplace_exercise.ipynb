{
 "cells": [
  {
   "cell_type": "markdown",
   "id": "60e37e45-40d6-46eb-9a27-758bf45329a7",
   "metadata": {},
   "source": [
    "# 5. Vector Laplacian"
   ]
  },
  {
   "cell_type": "markdown",
   "id": "92405e72-4aa9-4e33-8b18-46f592666f27",
   "metadata": {},
   "source": [
    "Starting off from laplacian formula by taking a scalar function (scalar field) and returning a scalar **p** that measures by how much the average value of f over a surface centered at p deviates from f(p).\n",
    "\n",
    "![](../images/laplacian.png \"Laplacian\")\n",
    "\n",
    "Look at vector Laplacian formula (relevant for Navier stokes viscous stress term) by taking a vector function (vector field) and returning a vector.\n",
    "\n",
    "![](../images/vector_laplacian.png \"Vector Laplacian\")\n",
    "\n",
    "Compute normal component of vector laplacian on finite volume meshes.\n",
    "\n",
    "![](../images/vector_laplacian_normal_component.png \"Normal Component of Vector Laplacian\")\n",
    "\n",
    "Can reuse divergence and curl as defined in previous exercises, however need two more directional gradients:\n",
    "\n",
    "![](../images/directional_gradient_n_picture.png \"Gradient in n direction\")\n",
    "\n",
    "![](../images/directional_gradient_n_formula.png \"Gradient in n direction\")\n",
    "\n",
    "![](../images/directional_gradient_tau_picture.png \"Gradient in tau direction\")\n",
    "\n",
    "![](../images/directional_gradient_tau_formula.png \"Gradient in tau direction\")"
   ]
  },
  {
   "cell_type": "code",
   "execution_count": 1,
   "id": "0a8f30c8-5f66-4ca8-8509-c6ff63234703",
   "metadata": {},
   "outputs": [
    {
     "data": {
      "text/html": [
       "<link href=\"https://fonts.googleapis.com/icon?family=Material+Icons\" rel=\"stylesheet\"><script src=\"https://spcl.github.io/dace/webclient2/dist/sdfv.js\"></script>\n",
       "<link href=\"https://spcl.github.io/dace/webclient2/sdfv.css\" rel=\"stylesheet\">\n"
      ],
      "text/plain": [
       "<IPython.core.display.HTML object>"
      ]
     },
     "metadata": {},
     "output_type": "display_data"
    }
   ],
   "source": [
    "from helpers import *\n",
    "\n",
    "import gt4py.next as gtx"
   ]
  },
  {
   "cell_type": "code",
   "execution_count": 2,
   "id": "66b7a45a-4ad9-48b3-9474-cf460069fce8",
   "metadata": {},
   "outputs": [],
   "source": [
    "def divergence_numpy(\n",
    "    c2e: np.array,\n",
    "    u: np.array,\n",
    "    v: np.array,\n",
    "    nx: np.array,\n",
    "    ny: np.array,\n",
    "    L: np.array,\n",
    "    A: np.array,\n",
    "    edge_orientation: np.array,\n",
    ") -> np.array:\n",
    "    uv_div = (\n",
    "        np.sum(\n",
    "            (u[c2e] * nx[c2e] + v[c2e] * ny[c2e]) * L[c2e] * edge_orientation, axis=1\n",
    "        )\n",
    "        / A\n",
    "    )\n",
    "    return uv_div"
   ]
  },
  {
   "cell_type": "code",
   "execution_count": 3,
   "id": "0e9b6702-d7b1-49d9-8366-29a254d79a79",
   "metadata": {},
   "outputs": [],
   "source": [
    "def curl_numpy(\n",
    "    v2e: np.array,\n",
    "    u: np.array,\n",
    "    v: np.array,\n",
    "    nx: np.array,\n",
    "    ny: np.array,\n",
    "    dualL: np.array,\n",
    "    dualA: np.array,\n",
    "    edge_orientation: np.array,\n",
    ") -> np.array:\n",
    "    uv_curl = (\n",
    "        np.sum(\n",
    "            (u[v2e] * nx[v2e] + v[v2e] * ny[v2e]) * dualL[v2e] * edge_orientation,\n",
    "            axis=1,\n",
    "        )\n",
    "        / dualA\n",
    "    )\n",
    "\n",
    "    return uv_curl"
   ]
  },
  {
   "cell_type": "code",
   "execution_count": 4,
   "id": "09d7d17c",
   "metadata": {},
   "outputs": [],
   "source": [
    "def laplacian_numpy(\n",
    "    c2e: np.array,\n",
    "    v2e: np.array,\n",
    "    e2v: np.array,\n",
    "    e2c: np.array,\n",
    "    u: np.array,\n",
    "    v: np.array,\n",
    "    nx: np.array,\n",
    "    ny: np.array,\n",
    "    L: np.array,\n",
    "    dualL: np.array,\n",
    "    tangent_orientation: np.array,\n",
    "    A: np.array,\n",
    "    dualA: np.array,\n",
    "    edge_orientation_vertex: np.array,\n",
    "    edge_orientation_cell: np.array,\n",
    ") -> np.array:\n",
    "        # compute curl (on vertices)\n",
    "        uv_curl = curl_numpy(v2e, u, v, nx, ny, dualL, dualA, edge_orientation_vertex)\n",
    "\n",
    "        # compute divergence (on cells)\n",
    "        uv_div = divergence_numpy(c2e, u, v, nx, ny, L, A, edge_orientation_cell)\n",
    "        \n",
    "        # first term of of nabla2 (gradient of curl)\n",
    "        grad_of_curl = (uv_curl[e2v[:, 1]] - uv_curl[e2v[:, 0]])*tangent_orientation/L\n",
    "\n",
    "        # second term of of nabla2 (gradient of divergence)\n",
    "        grad_of_div = (uv_div[e2c[:, 1]] - uv_div[e2c[:, 0]])/dualL        \n",
    "\n",
    "        # finalize nabla2 (difference between the two gradients)\n",
    "        uv_nabla2 = grad_of_div - grad_of_curl\n",
    "\n",
    "        return uv_nabla2"
   ]
  },
  {
   "cell_type": "code",
   "execution_count": 5,
   "id": "26df30a3-7bc5-4d60-959c-b4f40cc7fc0f",
   "metadata": {},
   "outputs": [],
   "source": [
    "@gtx.field_operator\n",
    "def divergence(\n",
    "    u: gtx.Field[Dims[E], float],\n",
    "    v: gtx.Field[Dims[E], float],\n",
    "    nx: gtx.Field[Dims[E], float],\n",
    "    ny: gtx.Field[Dims[E], float],\n",
    "    L: gtx.Field[Dims[E], float],\n",
    "    A: gtx.Field[Dims[C], float],\n",
    "    edge_orientation: gtx.Field[Dims[C, C2EDim], float],\n",
    ") -> gtx.Field[Dims[C], float]:\n",
    "    # compute divergence\n",
    "    uv_div = A\n",
    "    \n",
    "    return uv_div"
   ]
  },
  {
   "cell_type": "code",
   "execution_count": 6,
   "id": "a7413223-c9f7-4665-8995-e615ab48096b",
   "metadata": {},
   "outputs": [],
   "source": [
    "@gtx.field_operator\n",
    "def curl(\n",
    "    u: gtx.Field[Dims[E], float],\n",
    "    v: gtx.Field[Dims[E], float],\n",
    "    nx: gtx.Field[Dims[E], float],\n",
    "    ny: gtx.Field[Dims[E], float],\n",
    "    dualL: gtx.Field[Dims[E], float],\n",
    "    dualA: gtx.Field[Dims[V], float],\n",
    "    edge_orientation: gtx.Field[Dims[V, V2EDim], float],\n",
    ") -> gtx.Field[Dims[V], float]:\n",
    "    # compute curl\n",
    "    uv_curl = dualA\n",
    "\n",
    "    return uv_curl"
   ]
  },
  {
   "cell_type": "code",
   "execution_count": 7,
   "id": "f36ace26",
   "metadata": {},
   "outputs": [],
   "source": [
    "@gtx.field_operator\n",
    "def laplacian_fvm(\n",
    "    u: gtx.Field[Dims[E], float],\n",
    "    v: gtx.Field[Dims[E], float],\n",
    "    nx: gtx.Field[Dims[E], float],\n",
    "    ny: gtx.Field[Dims[E], float],\n",
    "    L: gtx.Field[Dims[E], float],\n",
    "    dualL: gtx.Field[Dims[E], float],\n",
    "    tangent_orientation: gtx.Field[Dims[E], float],\n",
    "    A: gtx.Field[Dims[C], float],\n",
    "    dualA: gtx.Field[Dims[V], float],\n",
    "    edge_orientation_vertex: gtx.Field[Dims[V, V2EDim], float],\n",
    "    edge_orientation_cell: gtx.Field[Dims[C, C2EDim], float],\n",
    ") -> gtx.Field[Dims[E], float]:\n",
    "    # compute laplacian_fvm\n",
    "    uv_nabla2 = L\n",
    "\n",
    "    return uv_nabla2"
   ]
  },
  {
   "cell_type": "code",
   "execution_count": 8,
   "id": "f9cfc097",
   "metadata": {},
   "outputs": [],
   "source": [
    "def test_laplacian():\n",
    "\n",
    "    backend = None\n",
    "    # backend = gtfn_cpu\n",
    "    # backend = gtfn_gpu\n",
    "\n",
    "    edge_domain = gtx.domain({E: n_edges})\n",
    "    vertex_domain = gtx.domain({V: n_vertices})\n",
    "    cell_domain = gtx.domain({C: n_cells})\n",
    "\n",
    "\n",
    "    u = random_field(edge_domain, allocator=backend)\n",
    "    v = random_field(edge_domain, allocator=backend)\n",
    "    nx = random_field(edge_domain, allocator=backend)\n",
    "    ny = random_field(edge_domain, allocator=backend)\n",
    "    L = random_field(edge_domain, allocator=backend)\n",
    "    dualL = random_field(edge_domain, allocator=backend)\n",
    "    tangent_orientation = random_field(edge_domain, allocator=backend)\n",
    "    A = random_field(cell_domain, allocator=backend)\n",
    "    dualA = random_field(vertex_domain, allocator=backend)\n",
    "    edge_orientation_vertex = random_sign(\n",
    "        gtx.domain({V: n_vertices, V2EDim: 6}), allocator=backend\n",
    "    )\n",
    "    edge_orientation_cell = random_sign(\n",
    "        gtx.domain({C: n_cells, C2EDim: 3}), allocator=backend\n",
    "    )\n",
    "\n",
    "    laplacian_ref = laplacian_numpy(\n",
    "        c2e_table,\n",
    "        v2e_table,\n",
    "        e2v_table,\n",
    "        e2c_table,\n",
    "        u.asnumpy(),\n",
    "        v.asnumpy(),\n",
    "        nx.asnumpy(),\n",
    "        ny.asnumpy(),\n",
    "        L.asnumpy(),\n",
    "        dualL.asnumpy(),\n",
    "        tangent_orientation.asnumpy(),\n",
    "        A.asnumpy(),\n",
    "        dualA.asnumpy(),\n",
    "        edge_orientation_vertex.asnumpy(),\n",
    "        edge_orientation_cell.asnumpy(),\n",
    "    )\n",
    "\n",
    "    c2e_connectivity = gtx.NeighborTableOffsetProvider(c2e_table, C, E, 3, has_skip_values=False)\n",
    "    v2e_connectivity = gtx.NeighborTableOffsetProvider(v2e_table, V, E, 6, has_skip_values=False)\n",
    "    e2v_connectivity = gtx.NeighborTableOffsetProvider(e2v_table, E, V, 2, has_skip_values=False)\n",
    "    e2c_connectivity = gtx.NeighborTableOffsetProvider(e2c_table, E, C, 2, has_skip_values=False)\n",
    "\n",
    "\n",
    "    laplacian_gt4py = gtx.zeros(edge_domain, allocator=backend)\n",
    "\n",
    "    laplacian_fvm(\n",
    "        u,\n",
    "        v,\n",
    "        nx,\n",
    "        ny,\n",
    "        L,\n",
    "        dualL,\n",
    "        tangent_orientation,\n",
    "        A,\n",
    "        dualA,\n",
    "        edge_orientation_vertex,\n",
    "        edge_orientation_cell,\n",
    "        out = laplacian_gt4py,\n",
    "        offset_provider = {C2E.value: c2e_connectivity,\n",
    "                           V2E.value: v2e_connectivity,\n",
    "                           E2V.value: e2v_connectivity,\n",
    "                           E2C.value: e2c_connectivity,\n",
    "                          },\n",
    "    )\n",
    "    \n",
    "    assert np.allclose(laplacian_gt4py.asnumpy(), laplacian_ref)"
   ]
  },
  {
   "cell_type": "code",
   "execution_count": 9,
   "id": "d4079375",
   "metadata": {},
   "outputs": [
    {
     "ename": "AssertionError",
     "evalue": "",
     "output_type": "error",
     "traceback": [
      "\u001b[0;31m---------------------------------------------------------------------------\u001b[0m",
      "\u001b[0;31mAssertionError\u001b[0m                            Traceback (most recent call last)",
      "Cell \u001b[0;32mIn[9], line 1\u001b[0m\n\u001b[0;32m----> 1\u001b[0m \u001b[43mtest_laplacian\u001b[49m\u001b[43m(\u001b[49m\u001b[43m)\u001b[49m\n\u001b[1;32m      2\u001b[0m \u001b[38;5;28mprint\u001b[39m(\u001b[38;5;124m\"\u001b[39m\u001b[38;5;124mTest successful\u001b[39m\u001b[38;5;124m\"\u001b[39m)\n",
      "Cell \u001b[0;32mIn[8], line 74\u001b[0m, in \u001b[0;36mtest_laplacian\u001b[0;34m()\u001b[0m\n\u001b[1;32m     52\u001b[0m laplacian_gt4py \u001b[38;5;241m=\u001b[39m gtx\u001b[38;5;241m.\u001b[39mzeros(edge_domain, allocator\u001b[38;5;241m=\u001b[39mbackend)\n\u001b[1;32m     54\u001b[0m laplacian_fvm(\n\u001b[1;32m     55\u001b[0m     u,\n\u001b[1;32m     56\u001b[0m     v,\n\u001b[0;32m   (...)\u001b[0m\n\u001b[1;32m     71\u001b[0m                       },\n\u001b[1;32m     72\u001b[0m )\n\u001b[0;32m---> 74\u001b[0m \u001b[38;5;28;01massert\u001b[39;00m np\u001b[38;5;241m.\u001b[39mallclose(laplacian_gt4py\u001b[38;5;241m.\u001b[39masnumpy(), laplacian_ref)\n",
      "\u001b[0;31mAssertionError\u001b[0m: "
     ]
    }
   ],
   "source": [
    "test_laplacian()\n",
    "print(\"Test successful\")"
   ]
  },
  {
   "cell_type": "code",
   "execution_count": null,
   "id": "c2a34287-274b-4db1-8dbc-d4ef24f40eed",
   "metadata": {},
   "outputs": [],
   "source": []
  }
 ],
 "metadata": {
  "jupytext": {
   "formats": "ipynb,md:myst"
  },
  "kernelspec": {
   "display_name": "Python 3 (ipykernel)",
   "language": "python",
   "name": "python3"
  },
  "language_info": {
   "codemirror_mode": {
    "name": "ipython",
    "version": 3
   },
   "file_extension": ".py",
   "mimetype": "text/x-python",
   "name": "python",
   "nbconvert_exporter": "python",
   "pygments_lexer": "ipython3",
   "version": "3.10.0"
  }
 },
 "nbformat": 4,
 "nbformat_minor": 5
}

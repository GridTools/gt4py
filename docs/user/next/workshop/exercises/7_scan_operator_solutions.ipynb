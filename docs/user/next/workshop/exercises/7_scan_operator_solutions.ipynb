{
 "cells": [
  {
   "cell_type": "markdown",
   "id": "9ba87bfb",
   "metadata": {},
   "source": [
    "## Scan operator"
   ]
  },
  {
   "cell_type": "markdown",
   "id": "2ee9d989",
   "metadata": {},
   "source": [
    "The unique feature of this operator is that it provides the return state of the previous iteration as its first argument (i.e., the result from the previous grid point). In other words, all the arguments of the current `return` will be available (as a tuple) in the next iteration from the first argument of the defined function.  \n",
    "\n",
    "Example: A FORTRAN pseudocode for integrating a moisture variable (e.g., cloud water or water vapour) over a column could look as follows:\n",
    "\n",
    "\n",
    "```FORTRAN\n",
    "SUBROUTINE column_integral( var_in, rho, dz, var_out, ie, je, ke )\n",
    "    ! Return the column integral of a moist species.\n",
    "    INTEGER, INTENT (IN) :: &\n",
    "      ie, je, ke         ! array dimensions of the I/O-fields (horizontal, horizontal, vertical)\n",
    "\n",
    "    REAL (KIND=wp), INTENT (OUT) :: &\n",
    "      q_colsum (ie,je) ! Vertically-integrated mass of water species\n",
    "\n",
    "    REAL (KIND=wp), INTENT (IN) ::  &\n",
    "      rho (ie,je,ke),  & \n",
    "      dz (ie,je,ke),   & ! height of model half levels\n",
    "      var_in  (ie,je,ke) ! humidity mass concentration at time-level nnow\n",
    "    \n",
    "    !$acc parallel present( iq ) if (lzacc)\n",
    "    !$acc loop gang\n",
    "    DO j=1,je\n",
    "      !$acc loop vector\n",
    "      DO i=1,ie\n",
    "        q_sum(i,j) = 0.0\n",
    "      END DO\n",
    "    END DO\n",
    "    !$acc end parallel\n",
    "    \n",
    "    \n",
    "    !$acc parallel present( iq, rho, hhl, q ) if (lzacc)\n",
    "    DO k = 1, ke ! Vertical loop\n",
    "      !$acc loop gang\n",
    "      DO j=1,je\n",
    "        !$acc loop vector\n",
    "        DO i=1,ie\n",
    "          q_colsum(i,j) = q_colsum(i,j) + var_in(i,j,k) * rho(i,j,k)* dz(i,j,k)\n",
    "        END DO\n",
    "      END DO\n",
    "    END DO\n",
    "    !$acc end parallel\n",
    "END SUBROUTINE column_integral\n",
    "```\n",
    "\n",
    "Where:\n",
    "- `var_in` is the 3D variable that will be summed up\n",
    "- `q_colsum` is the resulting 2D variable\n",
    "- `rho` the air density\n",
    "- `dz`the thickness of the vertical layers\n",
    "\n",
    "In the first loop nest, `column_sum` is set to zero for all grid columns. The vertical dependency enters on the RHS of the second loop nest `q_colsum(i,j) = q_colsum(i,j) + ...`\n",
    "\n",
    "Using the `scan_operator` this operation would be written like this:\n",
    "\n",
    "```python\n",
    "@scan_operator(axis=KDim, forward=True, init=0.0)\n",
    "def column_integral(float: state, float: var, float: rho, float: dz)\n",
    "    \"\"\"Return the column integral of a moist species.\"\"\"\n",
    "    return var * rho * dz + state\n",
    "```\n",
    "\n",
    "Here the vertical dependency is expressed by the first function argument (`state`).  This argument carries the return from the previous k-level and does not need to be specified when the function is called (similar to the `self` argument of Python classes). The argument is intialized to `init=0.0` in the function decorator (first loop nest above) and the dimension of the integral is specified with `axis=KDim`.\n",
    "\n",
    "\n",
    "```python\n",
    "q_colsum = column_integral(qv, rho, dz)\n",
    "```"
   ]
  },
  {
   "cell_type": "markdown",
   "id": "c9e31bff",
   "metadata": {},
   "source": [
    "#### Exercise: port a toy cloud microphysics scheme from python/numpy using the template of a `scan_operator` below"
   ]
  },
  {
   "cell_type": "code",
   "execution_count": 2,
   "id": "bd2fd309",
   "metadata": {},
   "outputs": [
    {
     "data": {
      "text/html": [
       "<link href=\"https://fonts.googleapis.com/icon?family=Material+Icons\" rel=\"stylesheet\"><script src=\"https://spcl.github.io/dace/webclient2/dist/sdfv.js\"></script>\n",
       "<link href=\"https://spcl.github.io/dace/webclient2/sdfv.css\" rel=\"stylesheet\">\n"
      ],
      "text/plain": [
       "<IPython.core.display.HTML object>"
      ]
     },
     "metadata": {},
     "output_type": "display_data"
    }
   ],
   "source": [
    "from helpers import *\n",
    "\n",
    "import gt4py.next as gtx\n",
    "\n",
    "backend = None\n",
    "# backend = gtfn_cpu\n",
    "# backend = gtfn_gpu"
   ]
  },
  {
   "cell_type": "code",
   "execution_count": 3,
   "id": "74338168",
   "metadata": {},
   "outputs": [],
   "source": [
    "def toy_microphysics_numpy(qc, qr, autoconversion_rate=0.1, sedimentaion_constant=0.05):\n",
    "    \"\"\"A toy model of a microphysics scheme contaning autoconversion and scavenging\"\"\"\n",
    "\n",
    "    sedimentation_flux = 0.0\n",
    "\n",
    "    for cell, k in np.ndindex(qc.shape):\n",
    "        # Autoconversion: Cloud Drops -> Rain Drops\n",
    "        autoconversion_tendency = qc[cell, k] * autoconversion_rate\n",
    "\n",
    "        qc[cell, k] -= autoconversion_tendency\n",
    "        qr[cell, k] += autoconversion_tendency\n",
    "\n",
    "        ## Apply sedimentation flux from level above\n",
    "        qr[cell, k] += sedimentation_flux\n",
    "\n",
    "        ## Remove mass due to sedimentation flux from the current cell\n",
    "        qr[cell, k] -= sedimentation_flux"
   ]
  },
  {
   "cell_type": "code",
   "execution_count": 4,
   "id": "69bf6022",
   "metadata": {},
   "outputs": [],
   "source": [
    "@gtx.scan_operator(axis=K, forward=True, init=(0.0, 0.0, 0.0))\n",
    "def _graupel_toy_scan(\n",
    "    state: tuple[float, float, float], qc_in: float, qr_in: float\n",
    ") -> tuple[float, float, float]:\n",
    "    autoconversion_rate = 0.1\n",
    "    sedimentaion_constant = 0.05\n",
    "\n",
    "    # unpack state of previous iteration\n",
    "    _, _, sedimentation_flux = state\n",
    "\n",
    "    # Autoconversion: Cloud Drops -> Rain Drops\n",
    "    autoconv_t = qc_in * autoconversion_rate\n",
    "    qc = qc_in - autoconv_t\n",
    "    qr = qr_in + autoconv_t\n",
    "\n",
    "    ## Add sedimentation flux from level above\n",
    "    qr = qr + sedimentation_flux\n",
    "\n",
    "    # Remove mass due to sedimentation flux\n",
    "    qr = qr - sedimentation_flux\n",
    "\n",
    "    return qc, qr, sedimentation_flux"
   ]
  },
  {
   "cell_type": "code",
   "execution_count": 5,
   "id": "0de41cb8",
   "metadata": {},
   "outputs": [],
   "source": [
    "@gtx.field_operator(backend=backend)\n",
    "def graupel_toy_scan(\n",
    "    qc: gtx.Field[Dims[C, K], float], qr: gtx.Field[Dims[C, K], float]\n",
    ") -> tuple[\n",
    "    gtx.Field[Dims[C, K], float],\n",
    "    gtx.Field[Dims[C, K], float]\n",
    "]:\n",
    "    qc, qr, _ = _graupel_toy_scan(qc, qr)\n",
    "\n",
    "    return qc, qr"
   ]
  },
  {
   "cell_type": "code",
   "execution_count": 6,
   "id": "4e0dc8d2",
   "metadata": {},
   "outputs": [],
   "source": [
    "def test_scan_operator():\n",
    "    cell_k_domain = gtx.domain({C: n_cells, K: n_levels})\n",
    "    \n",
    "    qc = random_field(cell_k_domain, allocator=backend)\n",
    "    qr = random_field(cell_k_domain, allocator=backend)\n",
    "\n",
    "    qc_new = gtx.zeros(cell_k_domain, allocator=backend)\n",
    "    qr_new = gtx.zeros(cell_k_domain, allocator=backend)\n",
    "\n",
    "    # Initialize Numpy fields from GT4Py fields\n",
    "    qc_numpy = qc.asnumpy().copy()\n",
    "    qr_numpy = qr.asnumpy().copy()\n",
    "\n",
    "    # Execute the Numpy version of scheme\n",
    "    toy_microphysics_numpy(qc_numpy, qr_numpy)\n",
    "\n",
    "    # Execute the GT4Py version of scheme\n",
    "    graupel_toy_scan(qc, qr, out=(qc_new, qr_new), offset_provider={})\n",
    "\n",
    "    # Compare results\n",
    "    assert np.allclose(qc_new.asnumpy(), qc_numpy)\n",
    "    assert np.allclose(qr_new.asnumpy(), qr_numpy)"
   ]
  },
  {
   "cell_type": "code",
   "execution_count": 7,
   "id": "a76a6be7",
   "metadata": {},
   "outputs": [
    {
     "ename": "AssertionError",
     "evalue": "",
     "output_type": "error",
     "traceback": [
      "\u001b[0;31m---------------------------------------------------------------------------\u001b[0m",
      "\u001b[0;31mAssertionError\u001b[0m                            Traceback (most recent call last)",
      "Cell \u001b[0;32mIn[7], line 1\u001b[0m\n\u001b[0;32m----> 1\u001b[0m \u001b[43mtest_scan_operator\u001b[49m\u001b[43m(\u001b[49m\u001b[43m)\u001b[49m\n\u001b[1;32m      2\u001b[0m \u001b[38;5;28mprint\u001b[39m(\u001b[38;5;124m\"\u001b[39m\u001b[38;5;124mTest successful\u001b[39m\u001b[38;5;124m\"\u001b[39m)\n",
      "Cell \u001b[0;32mIn[6], line 18\u001b[0m, in \u001b[0;36mtest_scan_operator\u001b[0;34m()\u001b[0m\n\u001b[1;32m     15\u001b[0m toy_microphysics_numpy(qc_numpy, qr_numpy)\n\u001b[1;32m     17\u001b[0m \u001b[38;5;66;03m# Execute the GT4Py version of scheme\u001b[39;00m\n\u001b[0;32m---> 18\u001b[0m \u001b[43mgraupel_toy_scan\u001b[49m\u001b[43m(\u001b[49m\u001b[43mqc\u001b[49m\u001b[43m,\u001b[49m\u001b[43m \u001b[49m\u001b[43mqr\u001b[49m\u001b[43m,\u001b[49m\u001b[43m \u001b[49m\u001b[43mout\u001b[49m\u001b[38;5;241;43m=\u001b[39;49m\u001b[43m(\u001b[49m\u001b[43mqc_new\u001b[49m\u001b[43m,\u001b[49m\u001b[43m \u001b[49m\u001b[43mqr_new\u001b[49m\u001b[43m)\u001b[49m\u001b[43m,\u001b[49m\u001b[43m \u001b[49m\u001b[43moffset_provider\u001b[49m\u001b[38;5;241;43m=\u001b[39;49m\u001b[43m{\u001b[49m\u001b[43m}\u001b[49m\u001b[43m)\u001b[49m\n\u001b[1;32m     20\u001b[0m \u001b[38;5;66;03m# Compare results\u001b[39;00m\n\u001b[1;32m     21\u001b[0m \u001b[38;5;28;01massert\u001b[39;00m np\u001b[38;5;241m.\u001b[39mallclose(qc_new\u001b[38;5;241m.\u001b[39masnumpy(), qc_numpy)\n",
      "File \u001b[0;32m~/gt4py-update_types/gt4py/src/gt4py/next/ffront/decorator.py:757\u001b[0m, in \u001b[0;36mFieldOperator.__call__\u001b[0;34m(self, *args, **kwargs)\u001b[0m\n\u001b[1;32m    755\u001b[0m \u001b[38;5;28;01melse\u001b[39;00m:\n\u001b[1;32m    756\u001b[0m     op \u001b[38;5;241m=\u001b[39m embedded_operators\u001b[38;5;241m.\u001b[39mEmbeddedOperator(\u001b[38;5;28mself\u001b[39m\u001b[38;5;241m.\u001b[39mdefinition)\n\u001b[0;32m--> 757\u001b[0m \u001b[38;5;28;01mreturn\u001b[39;00m \u001b[43membedded_operators\u001b[49m\u001b[38;5;241;43m.\u001b[39;49m\u001b[43mfield_operator_call\u001b[49m\u001b[43m(\u001b[49m\u001b[43mop\u001b[49m\u001b[43m,\u001b[49m\u001b[43m \u001b[49m\u001b[43margs\u001b[49m\u001b[43m,\u001b[49m\u001b[43m \u001b[49m\u001b[43mkwargs\u001b[49m\u001b[43m)\u001b[49m\n",
      "File \u001b[0;32m~/gt4py-update_types/gt4py/src/gt4py/next/embedded/operators.py:113\u001b[0m, in \u001b[0;36mfield_operator_call\u001b[0;34m(op, args, kwargs)\u001b[0m\n\u001b[1;32m    110\u001b[0m     new_context_kwargs[\u001b[38;5;124m\"\u001b[39m\u001b[38;5;124mclosure_column_range\u001b[39m\u001b[38;5;124m\"\u001b[39m] \u001b[38;5;241m=\u001b[39m _get_vertical_range(out_domain)\n\u001b[1;32m    112\u001b[0m     \u001b[38;5;28;01mwith\u001b[39;00m embedded_context\u001b[38;5;241m.\u001b[39mnew_context(\u001b[38;5;241m*\u001b[39m\u001b[38;5;241m*\u001b[39mnew_context_kwargs) \u001b[38;5;28;01mas\u001b[39;00m ctx:\n\u001b[0;32m--> 113\u001b[0m         res \u001b[38;5;241m=\u001b[39m \u001b[43mctx\u001b[49m\u001b[38;5;241;43m.\u001b[39;49m\u001b[43mrun\u001b[49m\u001b[43m(\u001b[49m\u001b[43mop\u001b[49m\u001b[43m,\u001b[49m\u001b[43m \u001b[49m\u001b[38;5;241;43m*\u001b[39;49m\u001b[43margs\u001b[49m\u001b[43m,\u001b[49m\u001b[43m \u001b[49m\u001b[38;5;241;43m*\u001b[39;49m\u001b[38;5;241;43m*\u001b[39;49m\u001b[43mkwargs\u001b[49m\u001b[43m)\u001b[49m\n\u001b[1;32m    114\u001b[0m         _tuple_assign_field(\n\u001b[1;32m    115\u001b[0m             out,\n\u001b[1;32m    116\u001b[0m             res,\n\u001b[1;32m    117\u001b[0m             domain\u001b[38;5;241m=\u001b[39mout_domain,\n\u001b[1;32m    118\u001b[0m         )\n\u001b[1;32m    119\u001b[0m \u001b[38;5;28;01melse\u001b[39;00m:\n\u001b[1;32m    120\u001b[0m     \u001b[38;5;66;03m# called from other field_operator or missing `out` argument\u001b[39;00m\n",
      "File \u001b[0;32m~/gt4py-update_types/gt4py/src/gt4py/next/embedded/operators.py:36\u001b[0m, in \u001b[0;36mEmbeddedOperator.__call__\u001b[0;34m(self, *args, **kwargs)\u001b[0m\n\u001b[1;32m     35\u001b[0m \u001b[38;5;28;01mdef\u001b[39;00m \u001b[38;5;21m__call__\u001b[39m(\u001b[38;5;28mself\u001b[39m, \u001b[38;5;241m*\u001b[39margs: _P\u001b[38;5;241m.\u001b[39margs, \u001b[38;5;241m*\u001b[39m\u001b[38;5;241m*\u001b[39mkwargs: _P\u001b[38;5;241m.\u001b[39mkwargs) \u001b[38;5;241m-\u001b[39m\u001b[38;5;241m>\u001b[39m _R:\n\u001b[0;32m---> 36\u001b[0m     \u001b[38;5;28;01mreturn\u001b[39;00m \u001b[38;5;28;43mself\u001b[39;49m\u001b[38;5;241;43m.\u001b[39;49m\u001b[43mfun\u001b[49m\u001b[43m(\u001b[49m\u001b[38;5;241;43m*\u001b[39;49m\u001b[43margs\u001b[49m\u001b[43m,\u001b[49m\u001b[43m \u001b[49m\u001b[38;5;241;43m*\u001b[39;49m\u001b[38;5;241;43m*\u001b[39;49m\u001b[43mkwargs\u001b[49m\u001b[43m)\u001b[49m\n",
      "Cell \u001b[0;32mIn[5], line 8\u001b[0m, in \u001b[0;36mgraupel_toy_scan\u001b[0;34m(qc, qr)\u001b[0m\n\u001b[1;32m      1\u001b[0m \u001b[38;5;129m@gtx\u001b[39m\u001b[38;5;241m.\u001b[39mfield_operator(backend\u001b[38;5;241m=\u001b[39mbackend)\n\u001b[1;32m      2\u001b[0m \u001b[38;5;28;01mdef\u001b[39;00m \u001b[38;5;21mgraupel_toy_scan\u001b[39m(\n\u001b[1;32m      3\u001b[0m     qc: gtx\u001b[38;5;241m.\u001b[39mField[Dims[C, K], \u001b[38;5;28mfloat\u001b[39m], qr: gtx\u001b[38;5;241m.\u001b[39mField[Dims[C, K], \u001b[38;5;28mfloat\u001b[39m]\n\u001b[0;32m   (...)\u001b[0m\n\u001b[1;32m      6\u001b[0m     gtx\u001b[38;5;241m.\u001b[39mField[Dims[C, K], \u001b[38;5;28mfloat\u001b[39m]\n\u001b[1;32m      7\u001b[0m ]:\n\u001b[0;32m----> 8\u001b[0m     qc, qr, _ \u001b[38;5;241m=\u001b[39m \u001b[43m_graupel_toy_scan\u001b[49m\u001b[43m(\u001b[49m\u001b[43mqc\u001b[49m\u001b[43m,\u001b[49m\u001b[43m \u001b[49m\u001b[43mqr\u001b[49m\u001b[43m)\u001b[49m\n\u001b[1;32m     10\u001b[0m     \u001b[38;5;28;01mreturn\u001b[39;00m qc, qr\n",
      "File \u001b[0;32m~/gt4py-update_types/gt4py/src/gt4py/next/ffront/decorator.py:757\u001b[0m, in \u001b[0;36mFieldOperator.__call__\u001b[0;34m(self, *args, **kwargs)\u001b[0m\n\u001b[1;32m    755\u001b[0m \u001b[38;5;28;01melse\u001b[39;00m:\n\u001b[1;32m    756\u001b[0m     op \u001b[38;5;241m=\u001b[39m embedded_operators\u001b[38;5;241m.\u001b[39mEmbeddedOperator(\u001b[38;5;28mself\u001b[39m\u001b[38;5;241m.\u001b[39mdefinition)\n\u001b[0;32m--> 757\u001b[0m \u001b[38;5;28;01mreturn\u001b[39;00m \u001b[43membedded_operators\u001b[49m\u001b[38;5;241;43m.\u001b[39;49m\u001b[43mfield_operator_call\u001b[49m\u001b[43m(\u001b[49m\u001b[43mop\u001b[49m\u001b[43m,\u001b[49m\u001b[43m \u001b[49m\u001b[43margs\u001b[49m\u001b[43m,\u001b[49m\u001b[43m \u001b[49m\u001b[43mkwargs\u001b[49m\u001b[43m)\u001b[49m\n",
      "File \u001b[0;32m~/gt4py-update_types/gt4py/src/gt4py/next/embedded/operators.py:124\u001b[0m, in \u001b[0;36mfield_operator_call\u001b[0;34m(op, args, kwargs)\u001b[0m\n\u001b[1;32m    121\u001b[0m \u001b[38;5;28;01mif\u001b[39;00m \u001b[38;5;124m\"\u001b[39m\u001b[38;5;124moffset_provider\u001b[39m\u001b[38;5;124m\"\u001b[39m \u001b[38;5;129;01min\u001b[39;00m kwargs:\n\u001b[1;32m    122\u001b[0m     \u001b[38;5;66;03m# assuming we wanted to call the field_operator as program, otherwise `offset_provider` would not be there\u001b[39;00m\n\u001b[1;32m    123\u001b[0m     \u001b[38;5;28;01mraise\u001b[39;00m errors\u001b[38;5;241m.\u001b[39mMissingArgumentError(\u001b[38;5;28;01mNone\u001b[39;00m, \u001b[38;5;124m\"\u001b[39m\u001b[38;5;124mout\u001b[39m\u001b[38;5;124m\"\u001b[39m, \u001b[38;5;28;01mTrue\u001b[39;00m)\n\u001b[0;32m--> 124\u001b[0m \u001b[38;5;28;01mreturn\u001b[39;00m \u001b[43mop\u001b[49m\u001b[43m(\u001b[49m\u001b[38;5;241;43m*\u001b[39;49m\u001b[43margs\u001b[49m\u001b[43m,\u001b[49m\u001b[43m \u001b[49m\u001b[38;5;241;43m*\u001b[39;49m\u001b[38;5;241;43m*\u001b[39;49m\u001b[43mkwargs\u001b[49m\u001b[43m)\u001b[49m\n",
      "File \u001b[0;32m~/gt4py-update_types/gt4py/src/gt4py/next/embedded/operators.py:81\u001b[0m, in \u001b[0;36mScanOperator.__call__\u001b[0;34m(self, *args, **kwargs)\u001b[0m\n\u001b[1;32m     79\u001b[0m \u001b[38;5;28;01melse\u001b[39;00m:\n\u001b[1;32m     80\u001b[0m     \u001b[38;5;28;01mfor\u001b[39;00m hpos \u001b[38;5;129;01min\u001b[39;00m embedded_common\u001b[38;5;241m.\u001b[39miterate_domain(non_scan_domain):\n\u001b[0;32m---> 81\u001b[0m         \u001b[43mscan_loop\u001b[49m\u001b[43m(\u001b[49m\u001b[43mhpos\u001b[49m\u001b[43m)\u001b[49m\n\u001b[1;32m     83\u001b[0m \u001b[38;5;28;01mreturn\u001b[39;00m res\n",
      "File \u001b[0;32m~/gt4py-update_types/gt4py/src/gt4py/next/embedded/operators.py:71\u001b[0m, in \u001b[0;36mScanOperator.__call__.<locals>.scan_loop\u001b[0;34m(hpos)\u001b[0m\n\u001b[1;32m     69\u001b[0m \u001b[38;5;28;01mfor\u001b[39;00m k \u001b[38;5;129;01min\u001b[39;00m scan_range[\u001b[38;5;241m1\u001b[39m] \u001b[38;5;28;01mif\u001b[39;00m \u001b[38;5;28mself\u001b[39m\u001b[38;5;241m.\u001b[39mforward \u001b[38;5;28;01melse\u001b[39;00m \u001b[38;5;28mreversed\u001b[39m(scan_range[\u001b[38;5;241m1\u001b[39m]):\n\u001b[1;32m     70\u001b[0m     pos \u001b[38;5;241m=\u001b[39m (\u001b[38;5;241m*\u001b[39mhpos, (scan_axis, k))\n\u001b[0;32m---> 71\u001b[0m     new_args \u001b[38;5;241m=\u001b[39m [_tuple_at(pos, arg) \u001b[38;5;28;01mfor\u001b[39;00m arg \u001b[38;5;129;01min\u001b[39;00m args]\n\u001b[1;32m     72\u001b[0m     new_kwargs \u001b[38;5;241m=\u001b[39m {k: _tuple_at(pos, v) \u001b[38;5;28;01mfor\u001b[39;00m k, v \u001b[38;5;129;01min\u001b[39;00m kwargs\u001b[38;5;241m.\u001b[39mitems()}\n\u001b[1;32m     73\u001b[0m     acc \u001b[38;5;241m=\u001b[39m \u001b[38;5;28mself\u001b[39m\u001b[38;5;241m.\u001b[39mfun(acc, \u001b[38;5;241m*\u001b[39mnew_args, \u001b[38;5;241m*\u001b[39m\u001b[38;5;241m*\u001b[39mnew_kwargs)\n",
      "File \u001b[0;32m~/gt4py-update_types/gt4py/src/gt4py/next/embedded/operators.py:71\u001b[0m, in \u001b[0;36m<listcomp>\u001b[0;34m(.0)\u001b[0m\n\u001b[1;32m     69\u001b[0m \u001b[38;5;28;01mfor\u001b[39;00m k \u001b[38;5;129;01min\u001b[39;00m scan_range[\u001b[38;5;241m1\u001b[39m] \u001b[38;5;28;01mif\u001b[39;00m \u001b[38;5;28mself\u001b[39m\u001b[38;5;241m.\u001b[39mforward \u001b[38;5;28;01melse\u001b[39;00m \u001b[38;5;28mreversed\u001b[39m(scan_range[\u001b[38;5;241m1\u001b[39m]):\n\u001b[1;32m     70\u001b[0m     pos \u001b[38;5;241m=\u001b[39m (\u001b[38;5;241m*\u001b[39mhpos, (scan_axis, k))\n\u001b[0;32m---> 71\u001b[0m     new_args \u001b[38;5;241m=\u001b[39m [\u001b[43m_tuple_at\u001b[49m\u001b[43m(\u001b[49m\u001b[43mpos\u001b[49m\u001b[43m,\u001b[49m\u001b[43m \u001b[49m\u001b[43marg\u001b[49m\u001b[43m)\u001b[49m \u001b[38;5;28;01mfor\u001b[39;00m arg \u001b[38;5;129;01min\u001b[39;00m args]\n\u001b[1;32m     72\u001b[0m     new_kwargs \u001b[38;5;241m=\u001b[39m {k: _tuple_at(pos, v) \u001b[38;5;28;01mfor\u001b[39;00m k, v \u001b[38;5;129;01min\u001b[39;00m kwargs\u001b[38;5;241m.\u001b[39mitems()}\n\u001b[1;32m     73\u001b[0m     acc \u001b[38;5;241m=\u001b[39m \u001b[38;5;28mself\u001b[39m\u001b[38;5;241m.\u001b[39mfun(acc, \u001b[38;5;241m*\u001b[39mnew_args, \u001b[38;5;241m*\u001b[39m\u001b[38;5;241m*\u001b[39mnew_kwargs)\n",
      "File \u001b[0;32m~/gt4py-update_types/gt4py/src/gt4py/next/embedded/operators.py:198\u001b[0m, in \u001b[0;36m_tuple_at\u001b[0;34m(pos, field)\u001b[0m\n\u001b[1;32m    195\u001b[0m     \u001b[38;5;28;01massert\u001b[39;00m core_defs\u001b[38;5;241m.\u001b[39mis_scalar_type(res)\n\u001b[1;32m    196\u001b[0m     \u001b[38;5;28;01mreturn\u001b[39;00m res\n\u001b[0;32m--> 198\u001b[0m \u001b[38;5;28;01mreturn\u001b[39;00m \u001b[43mimpl\u001b[49m\u001b[43m(\u001b[49m\u001b[43mfield\u001b[49m\u001b[43m)\u001b[49m\n",
      "File \u001b[0;32m~/gt4py-update_types/gt4py/src/gt4py/next/utils.py:90\u001b[0m, in \u001b[0;36mtree_map.<locals>.impl\u001b[0;34m(*args)\u001b[0m\n\u001b[1;32m     87\u001b[0m     \u001b[38;5;28;01massert\u001b[39;00m \u001b[38;5;28mall\u001b[39m(\u001b[38;5;28misinstance\u001b[39m(arg, \u001b[38;5;28mtuple\u001b[39m) \u001b[38;5;129;01mand\u001b[39;00m \u001b[38;5;28mlen\u001b[39m(args[\u001b[38;5;241m0\u001b[39m]) \u001b[38;5;241m==\u001b[39m \u001b[38;5;28mlen\u001b[39m(arg) \u001b[38;5;28;01mfor\u001b[39;00m arg \u001b[38;5;129;01min\u001b[39;00m args)\n\u001b[1;32m     88\u001b[0m     \u001b[38;5;28;01mreturn\u001b[39;00m \u001b[38;5;28mtuple\u001b[39m(impl(\u001b[38;5;241m*\u001b[39marg) \u001b[38;5;28;01mfor\u001b[39;00m arg \u001b[38;5;129;01min\u001b[39;00m \u001b[38;5;28mzip\u001b[39m(\u001b[38;5;241m*\u001b[39margs))\n\u001b[0;32m---> 90\u001b[0m \u001b[38;5;28;01mreturn\u001b[39;00m \u001b[43mfun\u001b[49m\u001b[43m(\u001b[49m\n\u001b[1;32m     91\u001b[0m \u001b[43m    \u001b[49m\u001b[38;5;241;43m*\u001b[39;49m\u001b[43mcast\u001b[49m\u001b[43m(\u001b[49m\u001b[43m_P\u001b[49m\u001b[38;5;241;43m.\u001b[39;49m\u001b[43margs\u001b[49m\u001b[43m,\u001b[49m\u001b[43m \u001b[49m\u001b[43margs\u001b[49m\u001b[43m)\u001b[49m\n\u001b[1;32m     92\u001b[0m \u001b[43m\u001b[49m\u001b[43m)\u001b[49m\n",
      "File \u001b[0;32m~/gt4py-update_types/gt4py/src/gt4py/next/embedded/operators.py:195\u001b[0m, in \u001b[0;36m_tuple_at.<locals>.impl\u001b[0;34m(field)\u001b[0m\n\u001b[1;32m    192\u001b[0m \u001b[38;5;129m@utils\u001b[39m\u001b[38;5;241m.\u001b[39mtree_map\n\u001b[1;32m    193\u001b[0m \u001b[38;5;28;01mdef\u001b[39;00m \u001b[38;5;21mimpl\u001b[39m(field: common\u001b[38;5;241m.\u001b[39mField \u001b[38;5;241m|\u001b[39m core_defs\u001b[38;5;241m.\u001b[39mScalar) \u001b[38;5;241m-\u001b[39m\u001b[38;5;241m>\u001b[39m core_defs\u001b[38;5;241m.\u001b[39mScalar:\n\u001b[1;32m    194\u001b[0m     res \u001b[38;5;241m=\u001b[39m field[pos] \u001b[38;5;28;01mif\u001b[39;00m common\u001b[38;5;241m.\u001b[39mis_field(field) \u001b[38;5;28;01melse\u001b[39;00m field\n\u001b[0;32m--> 195\u001b[0m     \u001b[38;5;28;01massert\u001b[39;00m core_defs\u001b[38;5;241m.\u001b[39mis_scalar_type(res)\n\u001b[1;32m    196\u001b[0m     \u001b[38;5;28;01mreturn\u001b[39;00m res\n",
      "\u001b[0;31mAssertionError\u001b[0m: "
     ]
    }
   ],
   "source": [
    "test_scan_operator()\n",
    "print(\"Test successful\")"
   ]
  },
  {
   "cell_type": "code",
   "execution_count": null,
   "id": "db590d8a",
   "metadata": {},
   "outputs": [],
   "source": []
  }
 ],
 "metadata": {
  "jupytext": {
   "formats": "ipynb,md:myst"
  },
  "kernelspec": {
   "display_name": "Python 3 (ipykernel)",
   "language": "python",
   "name": "python3"
  },
  "language_info": {
   "codemirror_mode": {
    "name": "ipython",
    "version": 3
   },
   "file_extension": ".py",
   "mimetype": "text/x-python",
   "name": "python",
   "nbconvert_exporter": "python",
   "pygments_lexer": "ipython3",
   "version": "3.10.0"
  }
 },
 "nbformat": 4,
 "nbformat_minor": 5
}

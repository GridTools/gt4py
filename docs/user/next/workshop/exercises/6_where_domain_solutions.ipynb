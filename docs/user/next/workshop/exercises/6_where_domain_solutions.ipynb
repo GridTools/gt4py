{
 "cells": [
  {
   "cell_type": "markdown",
   "id": "a5ac7a99",
   "metadata": {},
   "source": [
    "# Where, Offset, and domain"
   ]
  },
  {
   "cell_type": "markdown",
   "id": "3736a827",
   "metadata": {},
   "source": [
    "## Conditional: where"
   ]
  },
  {
   "cell_type": "markdown",
   "id": "42bc3535",
   "metadata": {},
   "source": [
    "The `where` builtin works analogously to the numpy version (https://numpy.org/doc/stable/reference/generated/numpy.where.html)\n",
    "\n",
    "Both require the same 3 input arguments:\n",
    "- mask: a field of booleans or an expression evaluating to this type\n",
    "- true branch: a tuple, a field, or a scalar\n",
    "- false branch: a tuple, a field, of a scalar"
   ]
  },
  {
   "cell_type": "markdown",
   "id": "9b7552e8",
   "metadata": {},
   "source": [
    "Take a simple numpy example, the `mask` here is a condition:"
   ]
  },
  {
   "cell_type": "code",
   "execution_count": 1,
   "id": "2bf82a64",
   "metadata": {},
   "outputs": [
    {
     "data": {
      "text/html": [
       "<link href=\"https://fonts.googleapis.com/icon?family=Material+Icons\" rel=\"stylesheet\"><script src=\"https://spcl.github.io/dace/webclient2/dist/sdfv.js\"></script>\n",
       "<link href=\"https://spcl.github.io/dace/webclient2/sdfv.css\" rel=\"stylesheet\">\n"
      ],
      "text/plain": [
       "<IPython.core.display.HTML object>"
      ]
     },
     "metadata": {},
     "output_type": "display_data"
    }
   ],
   "source": [
    "from helpers import *\n",
    "\n",
    "import gt4py.next as gtx\n",
    "\n",
    "backend = None\n",
    "# backend = gtfn_cpu\n",
    "# backend = gtfn_gpu"
   ]
  },
  {
   "cell_type": "code",
   "execution_count": 2,
   "id": "97ccaa9a",
   "metadata": {},
   "outputs": [
    {
     "name": "stdout",
     "output_type": "stream",
     "text": [
      "a_np array: [0. 1. 2. 3. 4. 5. 6. 7. 8. 9.]\n",
      "b_np array: [ 0.  1.  2.  3.  4.  5. 60. 70. 80. 90.]\n"
     ]
    }
   ],
   "source": [
    "a_np = np.arange(10.0)\n",
    "b_np = np.where(a_np < 6.0, a_np, a_np*10.0)\n",
    "print(\"a_np array: {}\".format(a_np))\n",
    "print(\"b_np array: {}\".format(b_np))"
   ]
  },
  {
   "cell_type": "markdown",
   "id": "8056c3dd",
   "metadata": {},
   "source": [
    "### **Task**: replicate this example in gt4py"
   ]
  },
  {
   "cell_type": "code",
   "execution_count": 3,
   "id": "80cbe9d5",
   "metadata": {},
   "outputs": [],
   "source": [
    "@gtx.field_operator\n",
    "def fieldop_where(a: gtx.Field[Dims[K], float]) -> gtx.Field[Dims[K], float]:\n",
    "    return where(a < 6.0, a, a*10.0)\n",
    "\n",
    "@gtx.program(backend=backend)\n",
    "def program_where(a: gtx.Field[Dims[K], float], b: gtx.Field[Dims[K], float]):\n",
    "    fieldop_where(a, out=b) "
   ]
  },
  {
   "cell_type": "code",
   "execution_count": 4,
   "id": "c45e711e",
   "metadata": {},
   "outputs": [],
   "source": [
    "def test_where():\n",
    "    a = gtx.as_field([K], np.arange(10.0), allocator=backend)\n",
    "    b = gtx.as_field([K], np.zeros(shape=10), allocator=backend)\n",
    "    program_where(a, b, offset_provider={})\n",
    "    \n",
    "    assert np.allclose(b_np, b.asnumpy())"
   ]
  },
  {
   "cell_type": "code",
   "execution_count": 5,
   "id": "c196687b",
   "metadata": {},
   "outputs": [
    {
     "name": "stdout",
     "output_type": "stream",
     "text": [
      "Test successful\n"
     ]
    },
    {
     "name": "stderr",
     "output_type": "stream",
     "text": [
      "/var/folders/2b/_2y31vzs4sl_7rngh2yghbpw0000gn/T/ipykernel_56692/2672671145.py:4: UserWarning: Field View Program 'program_where': Using Python execution, consider selecting a perfomance backend.\n",
      "  program_where(a, b, offset_provider={})\n"
     ]
    }
   ],
   "source": [
    "test_where()\n",
    "print(\"Test successful\")"
   ]
  },
  {
   "cell_type": "markdown",
   "id": "bcd232ab",
   "metadata": {},
   "source": [
    "## Domain"
   ]
  },
  {
   "cell_type": "markdown",
   "id": "086273df",
   "metadata": {},
   "source": [
    "The same operation can be performed in gt4py by including the `domain` keyowrd argument on `field_operator` call\n",
    "\n",
    "### **Task**: implement the same operation as above using `domain` instead of `where`"
   ]
  },
  {
   "cell_type": "code",
   "execution_count": 6,
   "id": "ebe2cd9d",
   "metadata": {},
   "outputs": [],
   "source": [
    "@gtx.field_operator\n",
    "def fieldop_domain(a: gtx.Field[Dims[K], float]) -> gtx.Field[Dims[K], float]:\n",
    "    return a*10.0\n",
    "\n",
    "@gtx.program(backend=backend)\n",
    "def program_domain(a: gtx.Field[Dims[K], float],\n",
    "            b: gtx.Field[Dims[K], float]):\n",
    "    fieldop_domain(a, out=b, domain={K: (6, 10)}) "
   ]
  },
  {
   "cell_type": "code",
   "execution_count": 7,
   "id": "30fd5b6c",
   "metadata": {},
   "outputs": [],
   "source": [
    "def test_domain():\n",
    "    a = gtx.as_field([K], np.arange(10.0), allocator=backend)\n",
    "    b = gtx.as_field([K], np.arange(10.0), allocator=backend)\n",
    "    program_domain(a, b, offset_provider={})\n",
    "\n",
    "    assert np.allclose(b_np, b.asnumpy())"
   ]
  },
  {
   "cell_type": "code",
   "execution_count": 8,
   "id": "f1827310",
   "metadata": {},
   "outputs": [
    {
     "name": "stdout",
     "output_type": "stream",
     "text": [
      "Test successful\n"
     ]
    },
    {
     "name": "stderr",
     "output_type": "stream",
     "text": [
      "/var/folders/2b/_2y31vzs4sl_7rngh2yghbpw0000gn/T/ipykernel_56692/2292331765.py:4: UserWarning: Field View Program 'program_domain': Using Python execution, consider selecting a perfomance backend.\n",
      "  program_domain(a, b, offset_provider={})\n"
     ]
    }
   ],
   "source": [
    "test_domain()\n",
    "print(\"Test successful\")"
   ]
  },
  {
   "cell_type": "markdown",
   "id": "dc05317c",
   "metadata": {},
   "source": [
    "## where and domain\n",
    "\n",
    "A combination of `where` and `domain` is useful in cases when an offset is used which exceeds the field size.\n",
    "\n",
    "e.g. a field `a: gtx.Field[Dims[K], float]` with shape (10,) is applied an offset (`Koff`)."
   ]
  },
  {
   "cell_type": "markdown",
   "id": "255fc343",
   "metadata": {},
   "source": [
    "### **Task**: combine `domain` and `where` to account for extra indices\n",
    "\n",
    "Edit the code below such that:\n",
    " 1. operations on field `a` are performed only up until the 8th index\n",
    " 2. the domain is properly set accound for the offset"
   ]
  },
  {
   "cell_type": "markdown",
   "id": "caaa8a7d",
   "metadata": {},
   "source": [
    "#### Python reference"
   ]
  },
  {
   "cell_type": "code",
   "execution_count": 9,
   "id": "47fe9be1",
   "metadata": {},
   "outputs": [
    {
     "name": "stdout",
     "output_type": "stream",
     "text": [
      "a_np_result array: [ 1.  3.  5.  7.  9. 11. 13. 15.  8.  0.]\n"
     ]
    }
   ],
   "source": [
    "a_np_result = np.zeros(shape=10)\n",
    "for i in range(len(a_np)):\n",
    "    if a_np[i] < 8.0:\n",
    "        a_np_result[i] = a_np[i + 1] + a_np[i]\n",
    "    elif i < 9:\n",
    "        a_np_result[i] = a_np[i]\n",
    "print(\"a_np_result array: {}\".format(a_np_result))"
   ]
  },
  {
   "cell_type": "code",
   "execution_count": 10,
   "id": "cac80fbb",
   "metadata": {},
   "outputs": [],
   "source": [
    "@gtx.field_operator\n",
    "def fieldop_domain_where(a: gtx.Field[Dims[K], float]) -> gtx.Field[Dims[K], float]:\n",
    "    return where(a<8.0, a(Koff[1])+a, a)\n",
    "\n",
    "@gtx.program(backend=backend)\n",
    "def program_domain_where(a: gtx.Field[Dims[K], float], b: gtx.Field[Dims[K], float]):\n",
    "    fieldop_domain_where(a, out=b, domain={K: (0, 9)}) "
   ]
  },
  {
   "cell_type": "code",
   "execution_count": 11,
   "id": "ed8254a8",
   "metadata": {},
   "outputs": [],
   "source": [
    "def test_domain_where():  \n",
    "    a = gtx.as_field([K], np.arange(10.0), allocator=backend)\n",
    "    b = gtx.as_field([K], np.zeros(shape=10), allocator=backend)\n",
    "    program_domain_where(a, b, offset_provider={\"Koff\": K})\n",
    "    \n",
    "    assert np.allclose(a_np_result, b.asnumpy())"
   ]
  },
  {
   "cell_type": "code",
   "execution_count": 12,
   "id": "ed393959",
   "metadata": {},
   "outputs": [
    {
     "name": "stdout",
     "output_type": "stream",
     "text": [
      "Test successful\n"
     ]
    },
    {
     "name": "stderr",
     "output_type": "stream",
     "text": [
      "/var/folders/2b/_2y31vzs4sl_7rngh2yghbpw0000gn/T/ipykernel_56692/57164705.py:4: UserWarning: Field View Program 'program_domain_where': Using Python execution, consider selecting a perfomance backend.\n",
      "  program_domain_where(a, b, offset_provider={\"Koff\": K})\n"
     ]
    }
   ],
   "source": [
    "test_domain_where()\n",
    "print(\"Test successful\")"
   ]
  },
  {
   "cell_type": "code",
   "execution_count": null,
   "id": "b37a1eec",
   "metadata": {},
   "outputs": [],
   "source": []
  }
 ],
 "metadata": {
  "jupytext": {
   "formats": "ipynb,md:myst"
  },
  "kernelspec": {
   "display_name": "Python 3 (ipykernel)",
   "language": "python",
   "name": "python3"
  },
  "language_info": {
   "codemirror_mode": {
    "name": "ipython",
    "version": 3
   },
   "file_extension": ".py",
   "mimetype": "text/x-python",
   "name": "python",
   "nbconvert_exporter": "python",
   "pygments_lexer": "ipython3",
   "version": "3.10.0"
  }
 },
 "nbformat": 4,
 "nbformat_minor": 5
}

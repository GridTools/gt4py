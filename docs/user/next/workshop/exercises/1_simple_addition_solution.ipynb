{
 "cells": [
  {
   "cell_type": "markdown",
   "id": "2ead8b70",
   "metadata": {},
   "source": [
    "# 1. Simple Addition"
   ]
  },
  {
   "cell_type": "code",
   "execution_count": 1,
   "id": "e7b501e0",
   "metadata": {},
   "outputs": [
    {
     "data": {
      "text/html": [
       "<link href=\"https://fonts.googleapis.com/icon?family=Material+Icons\" rel=\"stylesheet\"><script src=\"https://spcl.github.io/dace/webclient2/dist/sdfv.js\"></script>\n",
       "<link href=\"https://spcl.github.io/dace/webclient2/sdfv.css\" rel=\"stylesheet\">\n"
      ],
      "text/plain": [
       "<IPython.core.display.HTML object>"
      ]
     },
     "metadata": {},
     "output_type": "display_data"
    }
   ],
   "source": [
    "import numpy as np\n",
    "import matplotlib.pyplot as plt\n",
    "\n",
    "import gt4py.next as gtx\n",
    "from gt4py.next import Dims"
   ]
  },
  {
   "cell_type": "markdown",
   "id": "06113a1f",
   "metadata": {},
   "source": [
    "Next we implement the stencil and a numpy reference version, in order to verify them against each other."
   ]
  },
  {
   "cell_type": "code",
   "execution_count": 2,
   "id": "4c9f3427",
   "metadata": {},
   "outputs": [],
   "source": [
    "I = gtx.Dimension(\"I\")\n",
    "J = gtx.Dimension(\"J\")\n",
    "size = 10"
   ]
  },
  {
   "cell_type": "code",
   "execution_count": 3,
   "id": "8272b87c",
   "metadata": {},
   "outputs": [],
   "source": [
    "def addition_numpy(a: np.array, b: np.array) -> np.array:\n",
    "    c = a + b\n",
    "    return c"
   ]
  },
  {
   "cell_type": "code",
   "execution_count": 4,
   "id": "05f2d09d",
   "metadata": {},
   "outputs": [
    {
     "ename": "NameError",
     "evalue": "name 'Dims' is not defined",
     "output_type": "error",
     "traceback": [
      "\u001b[0;31m---------------------------------------------------------------------------\u001b[0m",
      "\u001b[0;31mNameError\u001b[0m                                 Traceback (most recent call last)",
      "Cell \u001b[0;32mIn[4], line 3\u001b[0m\n\u001b[1;32m      1\u001b[0m \u001b[38;5;129m@gtx\u001b[39m\u001b[38;5;241m.\u001b[39mfield_operator\n\u001b[1;32m      2\u001b[0m \u001b[38;5;28;01mdef\u001b[39;00m \u001b[38;5;21maddition\u001b[39m(\n\u001b[0;32m----> 3\u001b[0m     a: gtx\u001b[38;5;241m.\u001b[39mField[\u001b[43mDims\u001b[49m[I, J], \u001b[38;5;28mfloat\u001b[39m], b: gtx\u001b[38;5;241m.\u001b[39mField[Dims[I, J], \u001b[38;5;28mfloat\u001b[39m]\n\u001b[1;32m      4\u001b[0m ) \u001b[38;5;241m-\u001b[39m\u001b[38;5;241m>\u001b[39m gtx\u001b[38;5;241m.\u001b[39mField[Dims[I, J], \u001b[38;5;28mfloat\u001b[39m]:\n\u001b[1;32m      5\u001b[0m     \u001b[38;5;28;01mreturn\u001b[39;00m a \u001b[38;5;241m+\u001b[39m b\n",
      "\u001b[0;31mNameError\u001b[0m: name 'Dims' is not defined"
     ]
    }
   ],
   "source": [
    "@gtx.field_operator\n",
    "def addition(\n",
    "    a: gtx.Field[Dims[I, J], float], b: gtx.Field[Dims[I, J], float]\n",
    ") -> gtx.Field[Dims[I, J], float]:\n",
    "    return a + b"
   ]
  },
  {
   "cell_type": "code",
   "execution_count": 19,
   "id": "db95ed00",
   "metadata": {},
   "outputs": [],
   "source": [
    "def test_addition(backend=None):\n",
    "    domain = gtx.domain({I: size, J: size})\n",
    "\n",
    "    a_data = np.fromfunction(lambda xx, yy: xx, domain.shape, dtype=float)\n",
    "    a = gtx.as_field(domain, a_data, allocator=backend)\n",
    "    b_data = np.fromfunction(lambda xx, yy: yy, domain.shape, dtype=float)\n",
    "    b = gtx.as_field(domain, b_data, allocator=backend)\n",
    "\n",
    "    c_numpy = addition_numpy(a.asnumpy(), b.asnumpy())\n",
    "\n",
    "    c = gtx.zeros(domain, allocator=backend)\n",
    "\n",
    "    addition(a, b, out=c, offset_provider={})\n",
    "\n",
    "    assert np.allclose(c.asnumpy(), c_numpy)\n",
    "\n",
    "    print(\"Result:\")\n",
    "    print(c)\n",
    "    print(c.asnumpy())\n",
    "    \n",
    "    # Plots\n",
    "    fig, ax = plt.subplot_mosaic([\n",
    "        ['a', 'b', 'c']\n",
    "    ])\n",
    "    ax['a'].imshow(a.asnumpy())\n",
    "    ax['b'].imshow(b.asnumpy())\n",
    "    ax['c'].imshow(c.asnumpy())\n",
    "\n",
    "    print(\"\\nTest successful!\")"
   ]
  },
  {
   "cell_type": "code",
   "execution_count": 20,
   "id": "08502c34",
   "metadata": {},
   "outputs": [
    {
     "name": "stdout",
     "output_type": "stream",
     "text": [
      "Result:\n",
      "⟨Domain(I[horizontal]=(0:10), J[horizontal]=(0:10)) → DType(scalar_type=<class 'numpy.float64'>, tensor_shape=())⟩\n",
      "[[ 0.  1.  2.  3.  4.  5.  6.  7.  8.  9.]\n",
      " [ 1.  2.  3.  4.  5.  6.  7.  8.  9. 10.]\n",
      " [ 2.  3.  4.  5.  6.  7.  8.  9. 10. 11.]\n",
      " [ 3.  4.  5.  6.  7.  8.  9. 10. 11. 12.]\n",
      " [ 4.  5.  6.  7.  8.  9. 10. 11. 12. 13.]\n",
      " [ 5.  6.  7.  8.  9. 10. 11. 12. 13. 14.]\n",
      " [ 6.  7.  8.  9. 10. 11. 12. 13. 14. 15.]\n",
      " [ 7.  8.  9. 10. 11. 12. 13. 14. 15. 16.]\n",
      " [ 8.  9. 10. 11. 12. 13. 14. 15. 16. 17.]\n",
      " [ 9. 10. 11. 12. 13. 14. 15. 16. 17. 18.]]\n",
      "\n",
      "Test successful!\n"
     ]
    },
    {
     "data": {
      "image/png": "[encoded data removed]",
      "text/plain": [
       "<Figure size 640x480 with 3 Axes>"
      ]
     },
     "metadata": {},
     "output_type": "display_data"
    }
   ],
   "source": [
    "test_addition()"
   ]
  },
  {
   "cell_type": "code",
   "execution_count": null,
   "id": "91115f3c-a294-4489-adec-1f4788ce71bd",
   "metadata": {},
   "outputs": [],
   "source": []
  }
 ],
 "metadata": {
  "jupytext": {
   "formats": "ipynb,md:myst"
  },
  "kernelspec": {
   "display_name": "Python 3 (ipykernel)",
   "language": "python",
   "name": "python3"
  },
  "language_info": {
   "codemirror_mode": {
    "name": "ipython",
    "version": 3
   },
   "file_extension": ".py",
   "mimetype": "text/x-python",
   "name": "python",
   "nbconvert_exporter": "python",
   "pygments_lexer": "ipython3",
   "version": "3.10.0"
  }
 },
 "nbformat": 4,
 "nbformat_minor": 5
}

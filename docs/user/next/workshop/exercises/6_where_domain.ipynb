{
 "cells": [
  {
   "cell_type": "markdown",
   "id": "a5ac7a99",
   "metadata": {},
   "source": [
    "# Where, Offset, and domain"
   ]
  },
  {
   "cell_type": "markdown",
   "id": "3736a827",
   "metadata": {},
   "source": [
    "## Conditional: where"
   ]
  },
  {
   "cell_type": "markdown",
   "id": "42bc3535",
   "metadata": {},
   "source": [
    "The `where` builtin works analogously to the numpy version (https://numpy.org/doc/stable/reference/generated/numpy.where.html)\n",
    "\n",
    "Both require the same 3 input arguments:\n",
    "- mask: a field of booleans or an expression evaluating to this type\n",
    "- true branch: a tuple, a field, or a scalar\n",
    "- false branch: a tuple, a field, of a scalar"
   ]
  },
  {
   "cell_type": "markdown",
   "id": "9b7552e8",
   "metadata": {},
   "source": [
    "Take a simple numpy example, the `mask` here is a condition:"
   ]
  },
  {
   "cell_type": "code",
   "execution_count": 1,
   "id": "2bf82a64",
   "metadata": {},
   "outputs": [
    {
     "data": {
      "text/html": [
       "<link href=\"https://fonts.googleapis.com/icon?family=Material+Icons\" rel=\"stylesheet\"><script src=\"https://spcl.github.io/dace/webclient2/dist/sdfv.js\"></script>\n",
       "<link href=\"https://spcl.github.io/dace/webclient2/sdfv.css\" rel=\"stylesheet\">\n"
      ],
      "text/plain": [
       "<IPython.core.display.HTML object>"
      ]
     },
     "metadata": {},
     "output_type": "display_data"
    }
   ],
   "source": [
    "from helpers import *\n",
    "\n",
    "import gt4py.next as gtx\n",
    "\n",
    "backend = None\n",
    "# backend = gtfn_cpu\n",
    "# backend = gtfn_gpu"
   ]
  },
  {
   "cell_type": "code",
   "execution_count": 2,
   "id": "97ccaa9a",
   "metadata": {},
   "outputs": [
    {
     "name": "stdout",
     "output_type": "stream",
     "text": [
      "a_np array: [0. 1. 2. 3. 4. 5. 6. 7. 8. 9.]\n",
      "b_np array: [ 0.  1.  2.  3.  4.  5. 60. 70. 80. 90.]\n"
     ]
    }
   ],
   "source": [
    "a_np = np.arange(10.0)\n",
    "b_np = np.where(a_np < 6.0, a_np, a_np*10.0)\n",
    "print(\"a_np array: {}\".format(a_np))\n",
    "print(\"b_np array: {}\".format(b_np))"
   ]
  },
  {
   "cell_type": "markdown",
   "id": "8056c3dd",
   "metadata": {},
   "source": [
    "### **Task**: replicate this example in gt4py"
   ]
  },
  {
   "cell_type": "code",
   "execution_count": 3,
   "id": "80cbe9d5",
   "metadata": {},
   "outputs": [
    {
     "ename": "DSLError",
     "evalue": "Undeclared or untyped symbol 'fieldop_where'.\n  File \"/private/var/folders/2b/_2y31vzs4sl_7rngh2yghbpw0000gn/T/ipykernel_56739/1995207298.py\", line 6",
     "output_type": "error",
     "traceback": [
      "\u001b[0;31m---------------------------------------------------------------------------\u001b[0m",
      "\u001b[0;31mDSLError\u001b[0m                                  Traceback (most recent call last)",
      "Cell \u001b[0;32mIn[3], line 5\u001b[0m\n\u001b[1;32m      1\u001b[0m \u001b[38;5;66;03m# TODO implement the field_operator\u001b[39;00m\n\u001b[1;32m      4\u001b[0m \u001b[38;5;129;43m@gtx\u001b[39;49m\u001b[38;5;241;43m.\u001b[39;49m\u001b[43mprogram\u001b[49m\u001b[43m(\u001b[49m\u001b[43mbackend\u001b[49m\u001b[38;5;241;43m=\u001b[39;49m\u001b[43mbackend\u001b[49m\u001b[43m)\u001b[49m\n\u001b[0;32m----> 5\u001b[0m \u001b[38;5;28;43;01mdef\u001b[39;49;00m\u001b[43m \u001b[49m\u001b[38;5;21;43mprogram_where\u001b[39;49m\u001b[43m(\u001b[49m\u001b[43ma\u001b[49m\u001b[43m:\u001b[49m\u001b[43m \u001b[49m\u001b[43mgtx\u001b[49m\u001b[38;5;241;43m.\u001b[39;49m\u001b[43mField\u001b[49m\u001b[43m[\u001b[49m\u001b[43mDims\u001b[49m\u001b[43m[\u001b[49m\u001b[43mK\u001b[49m\u001b[43m]\u001b[49m\u001b[43m,\u001b[49m\u001b[43m \u001b[49m\u001b[38;5;28;43mfloat\u001b[39;49m\u001b[43m]\u001b[49m\u001b[43m,\u001b[49m\u001b[43m \u001b[49m\u001b[43mb\u001b[49m\u001b[43m:\u001b[49m\u001b[43m \u001b[49m\u001b[43mgtx\u001b[49m\u001b[38;5;241;43m.\u001b[39;49m\u001b[43mField\u001b[49m\u001b[43m[\u001b[49m\u001b[43mDims\u001b[49m\u001b[43m[\u001b[49m\u001b[43mK\u001b[49m\u001b[43m]\u001b[49m\u001b[43m,\u001b[49m\u001b[43m \u001b[49m\u001b[38;5;28;43mfloat\u001b[39;49m\u001b[43m]\u001b[49m\u001b[43m)\u001b[49m\u001b[43m:\u001b[49m\n\u001b[1;32m      6\u001b[0m \u001b[43m    \u001b[49m\u001b[43mfieldop_where\u001b[49m\u001b[43m(\u001b[49m\u001b[43ma\u001b[49m\u001b[43m,\u001b[49m\u001b[43m \u001b[49m\u001b[43mout\u001b[49m\u001b[38;5;241;43m=\u001b[39;49m\u001b[43mb\u001b[49m\u001b[43m)\u001b[49m\n",
      "File \u001b[0;32m~/gt4py-update_types/gt4py/src/gt4py/next/ffront/decorator.py:532\u001b[0m, in \u001b[0;36mprogram.<locals>.program_inner\u001b[0;34m(definition)\u001b[0m\n\u001b[1;32m    531\u001b[0m \u001b[38;5;28;01mdef\u001b[39;00m \u001b[38;5;21mprogram_inner\u001b[39m(definition: types\u001b[38;5;241m.\u001b[39mFunctionType) \u001b[38;5;241m-\u001b[39m\u001b[38;5;241m>\u001b[39m Program:\n\u001b[0;32m--> 532\u001b[0m     \u001b[38;5;28;01mreturn\u001b[39;00m \u001b[43mProgram\u001b[49m\u001b[38;5;241;43m.\u001b[39;49m\u001b[43mfrom_function\u001b[49m\u001b[43m(\u001b[49m\n\u001b[1;32m    533\u001b[0m \u001b[43m        \u001b[49m\u001b[43mdefinition\u001b[49m\u001b[43m,\u001b[49m\u001b[43m \u001b[49m\u001b[43mDEFAULT_BACKEND\u001b[49m\u001b[43m \u001b[49m\u001b[38;5;28;43;01mif\u001b[39;49;00m\u001b[43m \u001b[49m\u001b[43mbackend\u001b[49m\u001b[43m \u001b[49m\u001b[38;5;129;43;01mis\u001b[39;49;00m\u001b[43m \u001b[49m\u001b[43meve\u001b[49m\u001b[38;5;241;43m.\u001b[39;49m\u001b[43mNOTHING\u001b[49m\u001b[43m \u001b[49m\u001b[38;5;28;43;01melse\u001b[39;49;00m\u001b[43m \u001b[49m\u001b[43mbackend\u001b[49m\u001b[43m,\u001b[49m\u001b[43m \u001b[49m\u001b[43mgrid_type\u001b[49m\n\u001b[1;32m    534\u001b[0m \u001b[43m    \u001b[49m\u001b[43m)\u001b[49m\n",
      "File \u001b[0;32m~/gt4py-update_types/gt4py/src/gt4py/next/ffront/decorator.py:193\u001b[0m, in \u001b[0;36mProgram.from_function\u001b[0;34m(cls, definition, backend, grid_type)\u001b[0m\n\u001b[1;32m    191\u001b[0m closure_vars \u001b[38;5;241m=\u001b[39m get_closure_vars_from_function(definition)\n\u001b[1;32m    192\u001b[0m annotations \u001b[38;5;241m=\u001b[39m typing\u001b[38;5;241m.\u001b[39mget_type_hints(definition)\n\u001b[0;32m--> 193\u001b[0m past_node \u001b[38;5;241m=\u001b[39m \u001b[43mProgramParser\u001b[49m\u001b[38;5;241;43m.\u001b[39;49m\u001b[43mapply\u001b[49m\u001b[43m(\u001b[49m\u001b[43msource_def\u001b[49m\u001b[43m,\u001b[49m\u001b[43m \u001b[49m\u001b[43mclosure_vars\u001b[49m\u001b[43m,\u001b[49m\u001b[43m \u001b[49m\u001b[43mannotations\u001b[49m\u001b[43m)\u001b[49m\n\u001b[1;32m    194\u001b[0m \u001b[38;5;28;01mreturn\u001b[39;00m \u001b[38;5;28mcls\u001b[39m(\n\u001b[1;32m    195\u001b[0m     past_node\u001b[38;5;241m=\u001b[39mpast_node,\n\u001b[1;32m    196\u001b[0m     closure_vars\u001b[38;5;241m=\u001b[39mclosure_vars,\n\u001b[0;32m   (...)\u001b[0m\n\u001b[1;32m    199\u001b[0m     grid_type\u001b[38;5;241m=\u001b[39mgrid_type,\n\u001b[1;32m    200\u001b[0m )\n",
      "File \u001b[0;32m~/gt4py-update_types/gt4py/src/gt4py/next/ffront/dialect_parser.py:74\u001b[0m, in \u001b[0;36mDialectParser.apply\u001b[0;34m(cls, source_definition, closure_vars, annotations)\u001b[0m\n\u001b[1;32m     72\u001b[0m definition_ast \u001b[38;5;241m=\u001b[39m RemoveDocstrings\u001b[38;5;241m.\u001b[39mapply(definition_ast)\n\u001b[1;32m     73\u001b[0m definition_ast \u001b[38;5;241m=\u001b[39m FixMissingLocations\u001b[38;5;241m.\u001b[39mapply(definition_ast)\n\u001b[0;32m---> 74\u001b[0m output_ast \u001b[38;5;241m=\u001b[39m \u001b[38;5;28;43mcls\u001b[39;49m\u001b[38;5;241;43m.\u001b[39;49m\u001b[43m_postprocess_dialect_ast\u001b[49m\u001b[43m(\u001b[49m\n\u001b[1;32m     75\u001b[0m \u001b[43m    \u001b[49m\u001b[38;5;28;43mcls\u001b[39;49m\u001b[43m(\u001b[49m\n\u001b[1;32m     76\u001b[0m \u001b[43m        \u001b[49m\u001b[43msource_definition\u001b[49m\u001b[38;5;241;43m=\u001b[39;49m\u001b[43msource_definition\u001b[49m\u001b[43m,\u001b[49m\n\u001b[1;32m     77\u001b[0m \u001b[43m        \u001b[49m\u001b[43mclosure_vars\u001b[49m\u001b[38;5;241;43m=\u001b[39;49m\u001b[43mclosure_vars\u001b[49m\u001b[43m,\u001b[49m\n\u001b[1;32m     78\u001b[0m \u001b[43m        \u001b[49m\u001b[43mannotations\u001b[49m\u001b[38;5;241;43m=\u001b[39;49m\u001b[43mannotations\u001b[49m\u001b[43m,\u001b[49m\n\u001b[1;32m     79\u001b[0m \u001b[43m    \u001b[49m\u001b[43m)\u001b[49m\u001b[38;5;241;43m.\u001b[39;49m\u001b[43mvisit\u001b[49m\u001b[43m(\u001b[49m\u001b[38;5;28;43mcls\u001b[39;49m\u001b[38;5;241;43m.\u001b[39;49m\u001b[43m_preprocess_definition_ast\u001b[49m\u001b[43m(\u001b[49m\u001b[43mdefinition_ast\u001b[49m\u001b[43m)\u001b[49m\u001b[43m)\u001b[49m\u001b[43m,\u001b[49m\n\u001b[1;32m     80\u001b[0m \u001b[43m    \u001b[49m\u001b[43mclosure_vars\u001b[49m\u001b[43m,\u001b[49m\n\u001b[1;32m     81\u001b[0m \u001b[43m    \u001b[49m\u001b[43mannotations\u001b[49m\u001b[43m,\u001b[49m\n\u001b[1;32m     82\u001b[0m \u001b[43m\u001b[49m\u001b[43m)\u001b[49m\n\u001b[1;32m     84\u001b[0m \u001b[38;5;28;01mreturn\u001b[39;00m output_ast\n",
      "File \u001b[0;32m~/gt4py-update_types/gt4py/src/gt4py/next/ffront/func_to_past.py:42\u001b[0m, in \u001b[0;36mProgramParser._postprocess_dialect_ast\u001b[0;34m(cls, output_node, closure_vars, annotations)\u001b[0m\n\u001b[1;32m     37\u001b[0m \u001b[38;5;129m@classmethod\u001b[39m\n\u001b[1;32m     38\u001b[0m \u001b[38;5;28;01mdef\u001b[39;00m \u001b[38;5;21m_postprocess_dialect_ast\u001b[39m(\n\u001b[1;32m     39\u001b[0m     \u001b[38;5;28mcls\u001b[39m, output_node: past\u001b[38;5;241m.\u001b[39mProgram, closure_vars: \u001b[38;5;28mdict\u001b[39m[\u001b[38;5;28mstr\u001b[39m, Any], annotations: \u001b[38;5;28mdict\u001b[39m[\u001b[38;5;28mstr\u001b[39m, Any]\n\u001b[1;32m     40\u001b[0m ) \u001b[38;5;241m-\u001b[39m\u001b[38;5;241m>\u001b[39m past\u001b[38;5;241m.\u001b[39mProgram:\n\u001b[1;32m     41\u001b[0m     output_node \u001b[38;5;241m=\u001b[39m ClosureVarTypeDeduction\u001b[38;5;241m.\u001b[39mapply(output_node, closure_vars)\n\u001b[0;32m---> 42\u001b[0m     \u001b[38;5;28;01mreturn\u001b[39;00m \u001b[43mProgramTypeDeduction\u001b[49m\u001b[38;5;241;43m.\u001b[39;49m\u001b[43mapply\u001b[49m\u001b[43m(\u001b[49m\u001b[43moutput_node\u001b[49m\u001b[43m)\u001b[49m\n",
      "File \u001b[0;32m~/gt4py-update_types/gt4py/src/gt4py/next/ffront/past_passes/type_deduction.py:97\u001b[0m, in \u001b[0;36mProgramTypeDeduction.apply\u001b[0;34m(cls, node)\u001b[0m\n\u001b[1;32m     95\u001b[0m \u001b[38;5;129m@classmethod\u001b[39m\n\u001b[1;32m     96\u001b[0m \u001b[38;5;28;01mdef\u001b[39;00m \u001b[38;5;21mapply\u001b[39m(\u001b[38;5;28mcls\u001b[39m, node: past\u001b[38;5;241m.\u001b[39mProgram) \u001b[38;5;241m-\u001b[39m\u001b[38;5;241m>\u001b[39m past\u001b[38;5;241m.\u001b[39mProgram:\n\u001b[0;32m---> 97\u001b[0m     \u001b[38;5;28;01mreturn\u001b[39;00m \u001b[38;5;28;43mcls\u001b[39;49m\u001b[43m(\u001b[49m\u001b[43m)\u001b[49m\u001b[38;5;241;43m.\u001b[39;49m\u001b[43mvisit\u001b[49m\u001b[43m(\u001b[49m\u001b[43mnode\u001b[49m\u001b[43m)\u001b[49m\n",
      "File \u001b[0;32m~/gt4py-update_types/gt4py/src/gt4py/eve/traits.py:168\u001b[0m, in \u001b[0;36mVisitorWithSymbolTableTrait.visit\u001b[0;34m(self, node, **kwargs)\u001b[0m\n\u001b[1;32m    165\u001b[0m     \u001b[38;5;28;01mif\u001b[39;00m new_scope \u001b[38;5;241m:=\u001b[39m (\u001b[38;5;124m\"\u001b[39m\u001b[38;5;124msymtable\u001b[39m\u001b[38;5;124m\"\u001b[39m \u001b[38;5;129;01min\u001b[39;00m node\u001b[38;5;241m.\u001b[39mannex):\n\u001b[1;32m    166\u001b[0m         kwargs[\u001b[38;5;124m\"\u001b[39m\u001b[38;5;124msymtable\u001b[39m\u001b[38;5;124m\"\u001b[39m] \u001b[38;5;241m=\u001b[39m kwargs[\u001b[38;5;124m\"\u001b[39m\u001b[38;5;124msymtable\u001b[39m\u001b[38;5;124m\"\u001b[39m]\u001b[38;5;241m.\u001b[39mnew_child(node\u001b[38;5;241m.\u001b[39mannex\u001b[38;5;241m.\u001b[39msymtable)\n\u001b[0;32m--> 168\u001b[0m result \u001b[38;5;241m=\u001b[39m \u001b[38;5;28;43msuper\u001b[39;49m\u001b[43m(\u001b[49m\u001b[43m)\u001b[49m\u001b[38;5;241;43m.\u001b[39;49m\u001b[43mvisit\u001b[49m\u001b[43m(\u001b[49m\u001b[43mnode\u001b[49m\u001b[43m,\u001b[49m\u001b[43m \u001b[49m\u001b[38;5;241;43m*\u001b[39;49m\u001b[38;5;241;43m*\u001b[39;49m\u001b[43mkwargs\u001b[49m\u001b[43m)\u001b[49m\n\u001b[1;32m    170\u001b[0m \u001b[38;5;28;01mif\u001b[39;00m new_scope:\n\u001b[1;32m    171\u001b[0m     kwargs[\u001b[38;5;124m\"\u001b[39m\u001b[38;5;124msymtable\u001b[39m\u001b[38;5;124m\"\u001b[39m] \u001b[38;5;241m=\u001b[39m kwargs[\u001b[38;5;124m\"\u001b[39m\u001b[38;5;124msymtable\u001b[39m\u001b[38;5;124m\"\u001b[39m]\u001b[38;5;241m.\u001b[39mparents\n",
      "File \u001b[0;32m~/gt4py-update_types/gt4py/src/gt4py/eve/visitors.py:121\u001b[0m, in \u001b[0;36mNodeVisitor.visit\u001b[0;34m(self, node, **kwargs)\u001b[0m\n\u001b[1;32m    118\u001b[0m         \u001b[38;5;28;01mif\u001b[39;00m node_class \u001b[38;5;129;01mis\u001b[39;00m concepts\u001b[38;5;241m.\u001b[39mNode:\n\u001b[1;32m    119\u001b[0m             \u001b[38;5;28;01mbreak\u001b[39;00m\n\u001b[0;32m--> 121\u001b[0m \u001b[38;5;28;01mreturn\u001b[39;00m \u001b[43mvisitor\u001b[49m\u001b[43m(\u001b[49m\u001b[43mnode\u001b[49m\u001b[43m,\u001b[49m\u001b[43m \u001b[49m\u001b[38;5;241;43m*\u001b[39;49m\u001b[38;5;241;43m*\u001b[39;49m\u001b[43mkwargs\u001b[49m\u001b[43m)\u001b[49m\n",
      "File \u001b[0;32m~/gt4py-update_types/gt4py/src/gt4py/next/ffront/past_passes/type_deduction.py:112\u001b[0m, in \u001b[0;36mProgramTypeDeduction.visit_Program\u001b[0;34m(self, node, **kwargs)\u001b[0m\n\u001b[1;32m    100\u001b[0m params \u001b[38;5;241m=\u001b[39m \u001b[38;5;28mself\u001b[39m\u001b[38;5;241m.\u001b[39mvisit(node\u001b[38;5;241m.\u001b[39mparams, \u001b[38;5;241m*\u001b[39m\u001b[38;5;241m*\u001b[39mkwargs)\n\u001b[1;32m    102\u001b[0m definition_type \u001b[38;5;241m=\u001b[39m ts\u001b[38;5;241m.\u001b[39mFunctionType(\n\u001b[1;32m    103\u001b[0m     pos_only_args\u001b[38;5;241m=\u001b[39m[],\n\u001b[1;32m    104\u001b[0m     pos_or_kw_args\u001b[38;5;241m=\u001b[39m{\u001b[38;5;28mstr\u001b[39m(param\u001b[38;5;241m.\u001b[39mid): param\u001b[38;5;241m.\u001b[39mtype \u001b[38;5;28;01mfor\u001b[39;00m param \u001b[38;5;129;01min\u001b[39;00m params},\n\u001b[1;32m    105\u001b[0m     kw_only_args\u001b[38;5;241m=\u001b[39m{},\n\u001b[1;32m    106\u001b[0m     returns\u001b[38;5;241m=\u001b[39mts\u001b[38;5;241m.\u001b[39mVoidType(),\n\u001b[1;32m    107\u001b[0m )\n\u001b[1;32m    108\u001b[0m \u001b[38;5;28;01mreturn\u001b[39;00m past\u001b[38;5;241m.\u001b[39mProgram(\n\u001b[1;32m    109\u001b[0m     \u001b[38;5;28mid\u001b[39m\u001b[38;5;241m=\u001b[39m\u001b[38;5;28mself\u001b[39m\u001b[38;5;241m.\u001b[39mvisit(node\u001b[38;5;241m.\u001b[39mid, \u001b[38;5;241m*\u001b[39m\u001b[38;5;241m*\u001b[39mkwargs),\n\u001b[1;32m    110\u001b[0m     \u001b[38;5;28mtype\u001b[39m\u001b[38;5;241m=\u001b[39mts_ffront\u001b[38;5;241m.\u001b[39mProgramType(definition\u001b[38;5;241m=\u001b[39mdefinition_type),\n\u001b[1;32m    111\u001b[0m     params\u001b[38;5;241m=\u001b[39mparams,\n\u001b[0;32m--> 112\u001b[0m     body\u001b[38;5;241m=\u001b[39m\u001b[38;5;28;43mself\u001b[39;49m\u001b[38;5;241;43m.\u001b[39;49m\u001b[43mvisit\u001b[49m\u001b[43m(\u001b[49m\u001b[43mnode\u001b[49m\u001b[38;5;241;43m.\u001b[39;49m\u001b[43mbody\u001b[49m\u001b[43m,\u001b[49m\u001b[43m \u001b[49m\u001b[38;5;241;43m*\u001b[39;49m\u001b[38;5;241;43m*\u001b[39;49m\u001b[43mkwargs\u001b[49m\u001b[43m)\u001b[49m,\n\u001b[1;32m    113\u001b[0m     closure_vars\u001b[38;5;241m=\u001b[39m\u001b[38;5;28mself\u001b[39m\u001b[38;5;241m.\u001b[39mvisit(node\u001b[38;5;241m.\u001b[39mclosure_vars, \u001b[38;5;241m*\u001b[39m\u001b[38;5;241m*\u001b[39mkwargs),\n\u001b[1;32m    114\u001b[0m     location\u001b[38;5;241m=\u001b[39mnode\u001b[38;5;241m.\u001b[39mlocation,\n\u001b[1;32m    115\u001b[0m )\n",
      "File \u001b[0;32m~/gt4py-update_types/gt4py/src/gt4py/eve/traits.py:168\u001b[0m, in \u001b[0;36mVisitorWithSymbolTableTrait.visit\u001b[0;34m(self, node, **kwargs)\u001b[0m\n\u001b[1;32m    165\u001b[0m     \u001b[38;5;28;01mif\u001b[39;00m new_scope \u001b[38;5;241m:=\u001b[39m (\u001b[38;5;124m\"\u001b[39m\u001b[38;5;124msymtable\u001b[39m\u001b[38;5;124m\"\u001b[39m \u001b[38;5;129;01min\u001b[39;00m node\u001b[38;5;241m.\u001b[39mannex):\n\u001b[1;32m    166\u001b[0m         kwargs[\u001b[38;5;124m\"\u001b[39m\u001b[38;5;124msymtable\u001b[39m\u001b[38;5;124m\"\u001b[39m] \u001b[38;5;241m=\u001b[39m kwargs[\u001b[38;5;124m\"\u001b[39m\u001b[38;5;124msymtable\u001b[39m\u001b[38;5;124m\"\u001b[39m]\u001b[38;5;241m.\u001b[39mnew_child(node\u001b[38;5;241m.\u001b[39mannex\u001b[38;5;241m.\u001b[39msymtable)\n\u001b[0;32m--> 168\u001b[0m result \u001b[38;5;241m=\u001b[39m \u001b[38;5;28;43msuper\u001b[39;49m\u001b[43m(\u001b[49m\u001b[43m)\u001b[49m\u001b[38;5;241;43m.\u001b[39;49m\u001b[43mvisit\u001b[49m\u001b[43m(\u001b[49m\u001b[43mnode\u001b[49m\u001b[43m,\u001b[49m\u001b[43m \u001b[49m\u001b[38;5;241;43m*\u001b[39;49m\u001b[38;5;241;43m*\u001b[39;49m\u001b[43mkwargs\u001b[49m\u001b[43m)\u001b[49m\n\u001b[1;32m    170\u001b[0m \u001b[38;5;28;01mif\u001b[39;00m new_scope:\n\u001b[1;32m    171\u001b[0m     kwargs[\u001b[38;5;124m\"\u001b[39m\u001b[38;5;124msymtable\u001b[39m\u001b[38;5;124m\"\u001b[39m] \u001b[38;5;241m=\u001b[39m kwargs[\u001b[38;5;124m\"\u001b[39m\u001b[38;5;124msymtable\u001b[39m\u001b[38;5;124m\"\u001b[39m]\u001b[38;5;241m.\u001b[39mparents\n",
      "File \u001b[0;32m~/gt4py-update_types/gt4py/src/gt4py/eve/visitors.py:121\u001b[0m, in \u001b[0;36mNodeVisitor.visit\u001b[0;34m(self, node, **kwargs)\u001b[0m\n\u001b[1;32m    118\u001b[0m         \u001b[38;5;28;01mif\u001b[39;00m node_class \u001b[38;5;129;01mis\u001b[39;00m concepts\u001b[38;5;241m.\u001b[39mNode:\n\u001b[1;32m    119\u001b[0m             \u001b[38;5;28;01mbreak\u001b[39;00m\n\u001b[0;32m--> 121\u001b[0m \u001b[38;5;28;01mreturn\u001b[39;00m \u001b[43mvisitor\u001b[49m\u001b[43m(\u001b[49m\u001b[43mnode\u001b[49m\u001b[43m,\u001b[49m\u001b[43m \u001b[49m\u001b[38;5;241;43m*\u001b[39;49m\u001b[38;5;241;43m*\u001b[39;49m\u001b[43mkwargs\u001b[49m\u001b[43m)\u001b[49m\n",
      "File \u001b[0;32m~/gt4py-update_types/gt4py/src/gt4py/eve/visitors.py:181\u001b[0m, in \u001b[0;36mNodeTranslator.generic_visit\u001b[0;34m(self, node, **kwargs)\u001b[0m\n\u001b[1;32m    175\u001b[0m     \u001b[38;5;28;01mreturn\u001b[39;00m new_node\n\u001b[1;32m    177\u001b[0m \u001b[38;5;28;01mif\u001b[39;00m \u001b[38;5;28misinstance\u001b[39m(node, (\u001b[38;5;28mlist\u001b[39m, \u001b[38;5;28mtuple\u001b[39m, \u001b[38;5;28mset\u001b[39m, collections\u001b[38;5;241m.\u001b[39mabc\u001b[38;5;241m.\u001b[39mSet)) \u001b[38;5;129;01mor\u001b[39;00m (\n\u001b[1;32m    178\u001b[0m     \u001b[38;5;28misinstance\u001b[39m(node, collections\u001b[38;5;241m.\u001b[39mabc\u001b[38;5;241m.\u001b[39mSequence) \u001b[38;5;129;01mand\u001b[39;00m \u001b[38;5;129;01mnot\u001b[39;00m \u001b[38;5;28misinstance\u001b[39m(node, (\u001b[38;5;28mstr\u001b[39m, \u001b[38;5;28mbytes\u001b[39m))\n\u001b[1;32m    179\u001b[0m ):\n\u001b[1;32m    180\u001b[0m     \u001b[38;5;66;03m# Sequence or set: create a new container instance with the new values\u001b[39;00m\n\u001b[0;32m--> 181\u001b[0m     \u001b[38;5;28;01mreturn\u001b[39;00m \u001b[43mnode\u001b[49m\u001b[38;5;241;43m.\u001b[39;49m\u001b[38;5;18;43m__class__\u001b[39;49m\u001b[43m(\u001b[49m\u001b[43m  \u001b[49m\u001b[38;5;66;43;03m# type: ignore\u001b[39;49;00m\n\u001b[1;32m    182\u001b[0m \u001b[43m        \u001b[49m\u001b[43mnew_child\u001b[49m\n\u001b[1;32m    183\u001b[0m \u001b[43m        \u001b[49m\u001b[38;5;28;43;01mfor\u001b[39;49;00m\u001b[43m \u001b[49m\u001b[43mchild\u001b[49m\u001b[43m \u001b[49m\u001b[38;5;129;43;01min\u001b[39;49;00m\u001b[43m \u001b[49m\u001b[43mtrees\u001b[49m\u001b[38;5;241;43m.\u001b[39;49m\u001b[43miter_children_values\u001b[49m\u001b[43m(\u001b[49m\u001b[43mnode\u001b[49m\u001b[43m)\u001b[49m\n\u001b[1;32m    184\u001b[0m \u001b[43m        \u001b[49m\u001b[38;5;28;43;01mif\u001b[39;49;00m\u001b[43m \u001b[49m\u001b[43m(\u001b[49m\u001b[43mnew_child\u001b[49m\u001b[43m \u001b[49m\u001b[38;5;241;43m:=\u001b[39;49m\u001b[43m \u001b[49m\u001b[38;5;28;43mself\u001b[39;49m\u001b[38;5;241;43m.\u001b[39;49m\u001b[43mvisit\u001b[49m\u001b[43m(\u001b[49m\u001b[43mchild\u001b[49m\u001b[43m,\u001b[49m\u001b[43m \u001b[49m\u001b[38;5;241;43m*\u001b[39;49m\u001b[38;5;241;43m*\u001b[39;49m\u001b[43mkwargs\u001b[49m\u001b[43m)\u001b[49m\u001b[43m)\u001b[49m\u001b[43m \u001b[49m\u001b[38;5;129;43;01mis\u001b[39;49;00m\u001b[43m \u001b[49m\u001b[38;5;129;43;01mnot\u001b[39;49;00m\u001b[43m \u001b[49m\u001b[43mNOTHING\u001b[49m\n\u001b[1;32m    185\u001b[0m \u001b[43m    \u001b[49m\u001b[43m)\u001b[49m\n\u001b[1;32m    187\u001b[0m \u001b[38;5;28;01mif\u001b[39;00m \u001b[38;5;28misinstance\u001b[39m(node, (\u001b[38;5;28mdict\u001b[39m, collections\u001b[38;5;241m.\u001b[39mabc\u001b[38;5;241m.\u001b[39mMapping)):\n\u001b[1;32m    188\u001b[0m     \u001b[38;5;66;03m# Mapping: create a new mapping instance with the new values\u001b[39;00m\n\u001b[1;32m    189\u001b[0m     \u001b[38;5;28;01mreturn\u001b[39;00m node\u001b[38;5;241m.\u001b[39m\u001b[38;5;18m__class__\u001b[39m(  \u001b[38;5;66;03m# type: ignore[call-arg]\u001b[39;00m\n\u001b[1;32m    190\u001b[0m         {\n\u001b[1;32m    191\u001b[0m             name: new_child\n\u001b[0;32m   (...)\u001b[0m\n\u001b[1;32m    194\u001b[0m         }\n\u001b[1;32m    195\u001b[0m     )\n",
      "File \u001b[0;32m~/gt4py-update_types/gt4py/src/gt4py/eve/visitors.py:184\u001b[0m, in \u001b[0;36m<genexpr>\u001b[0;34m(.0)\u001b[0m\n\u001b[1;32m    175\u001b[0m     \u001b[38;5;28;01mreturn\u001b[39;00m new_node\n\u001b[1;32m    177\u001b[0m \u001b[38;5;28;01mif\u001b[39;00m \u001b[38;5;28misinstance\u001b[39m(node, (\u001b[38;5;28mlist\u001b[39m, \u001b[38;5;28mtuple\u001b[39m, \u001b[38;5;28mset\u001b[39m, collections\u001b[38;5;241m.\u001b[39mabc\u001b[38;5;241m.\u001b[39mSet)) \u001b[38;5;129;01mor\u001b[39;00m (\n\u001b[1;32m    178\u001b[0m     \u001b[38;5;28misinstance\u001b[39m(node, collections\u001b[38;5;241m.\u001b[39mabc\u001b[38;5;241m.\u001b[39mSequence) \u001b[38;5;129;01mand\u001b[39;00m \u001b[38;5;129;01mnot\u001b[39;00m \u001b[38;5;28misinstance\u001b[39m(node, (\u001b[38;5;28mstr\u001b[39m, \u001b[38;5;28mbytes\u001b[39m))\n\u001b[1;32m    179\u001b[0m ):\n\u001b[1;32m    180\u001b[0m     \u001b[38;5;66;03m# Sequence or set: create a new container instance with the new values\u001b[39;00m\n\u001b[1;32m    181\u001b[0m     \u001b[38;5;28;01mreturn\u001b[39;00m node\u001b[38;5;241m.\u001b[39m\u001b[38;5;18m__class__\u001b[39m(  \u001b[38;5;66;03m# type: ignore\u001b[39;00m\n\u001b[1;32m    182\u001b[0m         new_child\n\u001b[1;32m    183\u001b[0m         \u001b[38;5;28;01mfor\u001b[39;00m child \u001b[38;5;129;01min\u001b[39;00m trees\u001b[38;5;241m.\u001b[39miter_children_values(node)\n\u001b[0;32m--> 184\u001b[0m         \u001b[38;5;28;01mif\u001b[39;00m (new_child \u001b[38;5;241m:=\u001b[39m \u001b[38;5;28;43mself\u001b[39;49m\u001b[38;5;241;43m.\u001b[39;49m\u001b[43mvisit\u001b[49m\u001b[43m(\u001b[49m\u001b[43mchild\u001b[49m\u001b[43m,\u001b[49m\u001b[43m \u001b[49m\u001b[38;5;241;43m*\u001b[39;49m\u001b[38;5;241;43m*\u001b[39;49m\u001b[43mkwargs\u001b[49m\u001b[43m)\u001b[49m) \u001b[38;5;129;01mis\u001b[39;00m \u001b[38;5;129;01mnot\u001b[39;00m NOTHING\n\u001b[1;32m    185\u001b[0m     )\n\u001b[1;32m    187\u001b[0m \u001b[38;5;28;01mif\u001b[39;00m \u001b[38;5;28misinstance\u001b[39m(node, (\u001b[38;5;28mdict\u001b[39m, collections\u001b[38;5;241m.\u001b[39mabc\u001b[38;5;241m.\u001b[39mMapping)):\n\u001b[1;32m    188\u001b[0m     \u001b[38;5;66;03m# Mapping: create a new mapping instance with the new values\u001b[39;00m\n\u001b[1;32m    189\u001b[0m     \u001b[38;5;28;01mreturn\u001b[39;00m node\u001b[38;5;241m.\u001b[39m\u001b[38;5;18m__class__\u001b[39m(  \u001b[38;5;66;03m# type: ignore[call-arg]\u001b[39;00m\n\u001b[1;32m    190\u001b[0m         {\n\u001b[1;32m    191\u001b[0m             name: new_child\n\u001b[0;32m   (...)\u001b[0m\n\u001b[1;32m    194\u001b[0m         }\n\u001b[1;32m    195\u001b[0m     )\n",
      "File \u001b[0;32m~/gt4py-update_types/gt4py/src/gt4py/eve/traits.py:168\u001b[0m, in \u001b[0;36mVisitorWithSymbolTableTrait.visit\u001b[0;34m(self, node, **kwargs)\u001b[0m\n\u001b[1;32m    165\u001b[0m     \u001b[38;5;28;01mif\u001b[39;00m new_scope \u001b[38;5;241m:=\u001b[39m (\u001b[38;5;124m\"\u001b[39m\u001b[38;5;124msymtable\u001b[39m\u001b[38;5;124m\"\u001b[39m \u001b[38;5;129;01min\u001b[39;00m node\u001b[38;5;241m.\u001b[39mannex):\n\u001b[1;32m    166\u001b[0m         kwargs[\u001b[38;5;124m\"\u001b[39m\u001b[38;5;124msymtable\u001b[39m\u001b[38;5;124m\"\u001b[39m] \u001b[38;5;241m=\u001b[39m kwargs[\u001b[38;5;124m\"\u001b[39m\u001b[38;5;124msymtable\u001b[39m\u001b[38;5;124m\"\u001b[39m]\u001b[38;5;241m.\u001b[39mnew_child(node\u001b[38;5;241m.\u001b[39mannex\u001b[38;5;241m.\u001b[39msymtable)\n\u001b[0;32m--> 168\u001b[0m result \u001b[38;5;241m=\u001b[39m \u001b[38;5;28;43msuper\u001b[39;49m\u001b[43m(\u001b[49m\u001b[43m)\u001b[49m\u001b[38;5;241;43m.\u001b[39;49m\u001b[43mvisit\u001b[49m\u001b[43m(\u001b[49m\u001b[43mnode\u001b[49m\u001b[43m,\u001b[49m\u001b[43m \u001b[49m\u001b[38;5;241;43m*\u001b[39;49m\u001b[38;5;241;43m*\u001b[39;49m\u001b[43mkwargs\u001b[49m\u001b[43m)\u001b[49m\n\u001b[1;32m    170\u001b[0m \u001b[38;5;28;01mif\u001b[39;00m new_scope:\n\u001b[1;32m    171\u001b[0m     kwargs[\u001b[38;5;124m\"\u001b[39m\u001b[38;5;124msymtable\u001b[39m\u001b[38;5;124m\"\u001b[39m] \u001b[38;5;241m=\u001b[39m kwargs[\u001b[38;5;124m\"\u001b[39m\u001b[38;5;124msymtable\u001b[39m\u001b[38;5;124m\"\u001b[39m]\u001b[38;5;241m.\u001b[39mparents\n",
      "File \u001b[0;32m~/gt4py-update_types/gt4py/src/gt4py/eve/visitors.py:121\u001b[0m, in \u001b[0;36mNodeVisitor.visit\u001b[0;34m(self, node, **kwargs)\u001b[0m\n\u001b[1;32m    118\u001b[0m         \u001b[38;5;28;01mif\u001b[39;00m node_class \u001b[38;5;129;01mis\u001b[39;00m concepts\u001b[38;5;241m.\u001b[39mNode:\n\u001b[1;32m    119\u001b[0m             \u001b[38;5;28;01mbreak\u001b[39;00m\n\u001b[0;32m--> 121\u001b[0m \u001b[38;5;28;01mreturn\u001b[39;00m \u001b[43mvisitor\u001b[49m\u001b[43m(\u001b[49m\u001b[43mnode\u001b[49m\u001b[43m,\u001b[49m\u001b[43m \u001b[49m\u001b[38;5;241;43m*\u001b[39;49m\u001b[38;5;241;43m*\u001b[39;49m\u001b[43mkwargs\u001b[49m\u001b[43m)\u001b[49m\n",
      "File \u001b[0;32m~/gt4py-update_types/gt4py/src/gt4py/next/ffront/past_passes/type_deduction.py:185\u001b[0m, in \u001b[0;36mProgramTypeDeduction.visit_Call\u001b[0;34m(self, node, **kwargs)\u001b[0m\n\u001b[1;32m    184\u001b[0m \u001b[38;5;28;01mdef\u001b[39;00m \u001b[38;5;21mvisit_Call\u001b[39m(\u001b[38;5;28mself\u001b[39m, node: past\u001b[38;5;241m.\u001b[39mCall, \u001b[38;5;241m*\u001b[39m\u001b[38;5;241m*\u001b[39mkwargs):\n\u001b[0;32m--> 185\u001b[0m     new_func \u001b[38;5;241m=\u001b[39m \u001b[38;5;28;43mself\u001b[39;49m\u001b[38;5;241;43m.\u001b[39;49m\u001b[43mvisit\u001b[49m\u001b[43m(\u001b[49m\u001b[43mnode\u001b[49m\u001b[38;5;241;43m.\u001b[39;49m\u001b[43mfunc\u001b[49m\u001b[43m,\u001b[49m\u001b[43m \u001b[49m\u001b[38;5;241;43m*\u001b[39;49m\u001b[38;5;241;43m*\u001b[39;49m\u001b[43mkwargs\u001b[49m\u001b[43m)\u001b[49m\n\u001b[1;32m    186\u001b[0m     new_args \u001b[38;5;241m=\u001b[39m \u001b[38;5;28mself\u001b[39m\u001b[38;5;241m.\u001b[39mvisit(node\u001b[38;5;241m.\u001b[39margs, \u001b[38;5;241m*\u001b[39m\u001b[38;5;241m*\u001b[39mkwargs)\n\u001b[1;32m    187\u001b[0m     new_kwargs \u001b[38;5;241m=\u001b[39m \u001b[38;5;28mself\u001b[39m\u001b[38;5;241m.\u001b[39mvisit(node\u001b[38;5;241m.\u001b[39mkwargs, \u001b[38;5;241m*\u001b[39m\u001b[38;5;241m*\u001b[39mkwargs)\n",
      "File \u001b[0;32m~/gt4py-update_types/gt4py/src/gt4py/eve/traits.py:168\u001b[0m, in \u001b[0;36mVisitorWithSymbolTableTrait.visit\u001b[0;34m(self, node, **kwargs)\u001b[0m\n\u001b[1;32m    165\u001b[0m     \u001b[38;5;28;01mif\u001b[39;00m new_scope \u001b[38;5;241m:=\u001b[39m (\u001b[38;5;124m\"\u001b[39m\u001b[38;5;124msymtable\u001b[39m\u001b[38;5;124m\"\u001b[39m \u001b[38;5;129;01min\u001b[39;00m node\u001b[38;5;241m.\u001b[39mannex):\n\u001b[1;32m    166\u001b[0m         kwargs[\u001b[38;5;124m\"\u001b[39m\u001b[38;5;124msymtable\u001b[39m\u001b[38;5;124m\"\u001b[39m] \u001b[38;5;241m=\u001b[39m kwargs[\u001b[38;5;124m\"\u001b[39m\u001b[38;5;124msymtable\u001b[39m\u001b[38;5;124m\"\u001b[39m]\u001b[38;5;241m.\u001b[39mnew_child(node\u001b[38;5;241m.\u001b[39mannex\u001b[38;5;241m.\u001b[39msymtable)\n\u001b[0;32m--> 168\u001b[0m result \u001b[38;5;241m=\u001b[39m \u001b[38;5;28;43msuper\u001b[39;49m\u001b[43m(\u001b[49m\u001b[43m)\u001b[49m\u001b[38;5;241;43m.\u001b[39;49m\u001b[43mvisit\u001b[49m\u001b[43m(\u001b[49m\u001b[43mnode\u001b[49m\u001b[43m,\u001b[49m\u001b[43m \u001b[49m\u001b[38;5;241;43m*\u001b[39;49m\u001b[38;5;241;43m*\u001b[39;49m\u001b[43mkwargs\u001b[49m\u001b[43m)\u001b[49m\n\u001b[1;32m    170\u001b[0m \u001b[38;5;28;01mif\u001b[39;00m new_scope:\n\u001b[1;32m    171\u001b[0m     kwargs[\u001b[38;5;124m\"\u001b[39m\u001b[38;5;124msymtable\u001b[39m\u001b[38;5;124m\"\u001b[39m] \u001b[38;5;241m=\u001b[39m kwargs[\u001b[38;5;124m\"\u001b[39m\u001b[38;5;124msymtable\u001b[39m\u001b[38;5;124m\"\u001b[39m]\u001b[38;5;241m.\u001b[39mparents\n",
      "File \u001b[0;32m~/gt4py-update_types/gt4py/src/gt4py/eve/visitors.py:121\u001b[0m, in \u001b[0;36mNodeVisitor.visit\u001b[0;34m(self, node, **kwargs)\u001b[0m\n\u001b[1;32m    118\u001b[0m         \u001b[38;5;28;01mif\u001b[39;00m node_class \u001b[38;5;129;01mis\u001b[39;00m concepts\u001b[38;5;241m.\u001b[39mNode:\n\u001b[1;32m    119\u001b[0m             \u001b[38;5;28;01mbreak\u001b[39;00m\n\u001b[0;32m--> 121\u001b[0m \u001b[38;5;28;01mreturn\u001b[39;00m \u001b[43mvisitor\u001b[49m\u001b[43m(\u001b[49m\u001b[43mnode\u001b[49m\u001b[43m,\u001b[49m\u001b[43m \u001b[49m\u001b[38;5;241;43m*\u001b[39;49m\u001b[38;5;241;43m*\u001b[39;49m\u001b[43mkwargs\u001b[49m\u001b[43m)\u001b[49m\n",
      "File \u001b[0;32m~/gt4py-update_types/gt4py/src/gt4py/next/ffront/past_passes/type_deduction.py:245\u001b[0m, in \u001b[0;36mProgramTypeDeduction.visit_Name\u001b[0;34m(self, node, **kwargs)\u001b[0m\n\u001b[1;32m    243\u001b[0m symtable \u001b[38;5;241m=\u001b[39m kwargs[\u001b[38;5;124m\"\u001b[39m\u001b[38;5;124msymtable\u001b[39m\u001b[38;5;124m\"\u001b[39m]\n\u001b[1;32m    244\u001b[0m \u001b[38;5;28;01mif\u001b[39;00m node\u001b[38;5;241m.\u001b[39mid \u001b[38;5;129;01mnot\u001b[39;00m \u001b[38;5;129;01min\u001b[39;00m symtable \u001b[38;5;129;01mor\u001b[39;00m symtable[node\u001b[38;5;241m.\u001b[39mid]\u001b[38;5;241m.\u001b[39mtype \u001b[38;5;129;01mis\u001b[39;00m \u001b[38;5;28;01mNone\u001b[39;00m:\n\u001b[0;32m--> 245\u001b[0m     \u001b[38;5;28;01mraise\u001b[39;00m errors\u001b[38;5;241m.\u001b[39mDSLError(node\u001b[38;5;241m.\u001b[39mlocation, \u001b[38;5;124mf\u001b[39m\u001b[38;5;124m\"\u001b[39m\u001b[38;5;124mUndeclared or untyped symbol \u001b[39m\u001b[38;5;124m'\u001b[39m\u001b[38;5;132;01m{\u001b[39;00mnode\u001b[38;5;241m.\u001b[39mid\u001b[38;5;132;01m}\u001b[39;00m\u001b[38;5;124m'\u001b[39m\u001b[38;5;124m.\u001b[39m\u001b[38;5;124m\"\u001b[39m)\n\u001b[1;32m    247\u001b[0m \u001b[38;5;28;01mreturn\u001b[39;00m past\u001b[38;5;241m.\u001b[39mName(\u001b[38;5;28mid\u001b[39m\u001b[38;5;241m=\u001b[39mnode\u001b[38;5;241m.\u001b[39mid, \u001b[38;5;28mtype\u001b[39m\u001b[38;5;241m=\u001b[39msymtable[node\u001b[38;5;241m.\u001b[39mid]\u001b[38;5;241m.\u001b[39mtype, location\u001b[38;5;241m=\u001b[39mnode\u001b[38;5;241m.\u001b[39mlocation)\n",
      "\u001b[0;31mDSLError\u001b[0m: Undeclared or untyped symbol 'fieldop_where'.\n  File \"/private/var/folders/2b/_2y31vzs4sl_7rngh2yghbpw0000gn/T/ipykernel_56739/1995207298.py\", line 6"
     ]
    }
   ],
   "source": [
    "# TODO implement the field_operator\n",
    "\n",
    "\n",
    "@gtx.program(backend=backend)\n",
    "def program_where(a: gtx.Field[Dims[K], float], b: gtx.Field[Dims[K], float]):\n",
    "    fieldop_where(a, out=b)"
   ]
  },
  {
   "cell_type": "code",
   "execution_count": 4,
   "id": "c45e711e",
   "metadata": {},
   "outputs": [],
   "source": [
    "def test_where():\n",
    "    a = gtx.as_field([K], np.arange(10.0), allocator=backend)\n",
    "    b = gtx.as_field([K], np.zeros(shape=10), allocator=backend)\n",
    "    program_where(a, b, offset_provider={})\n",
    "    \n",
    "    assert np.allclose(b_np, b.asnumpy())"
   ]
  },
  {
   "cell_type": "code",
   "execution_count": 5,
   "id": "c196687b",
   "metadata": {},
   "outputs": [
    {
     "ename": "NameError",
     "evalue": "name 'program_where' is not defined",
     "output_type": "error",
     "traceback": [
      "\u001b[0;31m---------------------------------------------------------------------------\u001b[0m",
      "\u001b[0;31mNameError\u001b[0m                                 Traceback (most recent call last)",
      "Cell \u001b[0;32mIn[5], line 1\u001b[0m\n\u001b[0;32m----> 1\u001b[0m \u001b[43mtest_where\u001b[49m\u001b[43m(\u001b[49m\u001b[43m)\u001b[49m\n\u001b[1;32m      2\u001b[0m \u001b[38;5;28mprint\u001b[39m(\u001b[38;5;124m\"\u001b[39m\u001b[38;5;124mTest successful\u001b[39m\u001b[38;5;124m\"\u001b[39m)\n",
      "Cell \u001b[0;32mIn[4], line 4\u001b[0m, in \u001b[0;36mtest_where\u001b[0;34m()\u001b[0m\n\u001b[1;32m      2\u001b[0m a \u001b[38;5;241m=\u001b[39m gtx\u001b[38;5;241m.\u001b[39mas_field([K], np\u001b[38;5;241m.\u001b[39marange(\u001b[38;5;241m10.0\u001b[39m), allocator\u001b[38;5;241m=\u001b[39mbackend)\n\u001b[1;32m      3\u001b[0m b \u001b[38;5;241m=\u001b[39m gtx\u001b[38;5;241m.\u001b[39mas_field([K], np\u001b[38;5;241m.\u001b[39mzeros(shape\u001b[38;5;241m=\u001b[39m\u001b[38;5;241m10\u001b[39m), allocator\u001b[38;5;241m=\u001b[39mbackend)\n\u001b[0;32m----> 4\u001b[0m \u001b[43mprogram_where\u001b[49m(a, b, offset_provider\u001b[38;5;241m=\u001b[39m{})\n\u001b[1;32m      6\u001b[0m \u001b[38;5;28;01massert\u001b[39;00m np\u001b[38;5;241m.\u001b[39mallclose(b_np, b\u001b[38;5;241m.\u001b[39masnumpy())\n",
      "\u001b[0;31mNameError\u001b[0m: name 'program_where' is not defined"
     ]
    }
   ],
   "source": [
    "test_where()\n",
    "print(\"Test successful\")"
   ]
  },
  {
   "cell_type": "markdown",
   "id": "bcd232ab",
   "metadata": {},
   "source": [
    "## Domain"
   ]
  },
  {
   "cell_type": "markdown",
   "id": "086273df",
   "metadata": {},
   "source": [
    "The same operation can be performed in gt4py by including the `domain` keyowrd argument on `field_operator` call\n",
    "\n",
    "### **Task**: implement the same operation as above using `domain` instead of `where`"
   ]
  },
  {
   "cell_type": "code",
   "execution_count": 6,
   "id": "ebe2cd9d",
   "metadata": {},
   "outputs": [
    {
     "ename": "ValueError",
     "evalue": "'<class 'ellipsis'>' type is not supported.",
     "output_type": "error",
     "traceback": [
      "\u001b[0;31m---------------------------------------------------------------------------\u001b[0m",
      "\u001b[0;31mValueError\u001b[0m                                Traceback (most recent call last)",
      "Cell \u001b[0;32mIn[6], line 7\u001b[0m\n\u001b[1;32m      1\u001b[0m \u001b[38;5;129m@gtx\u001b[39m\u001b[38;5;241m.\u001b[39mfield_operator\n\u001b[1;32m      2\u001b[0m \u001b[38;5;28;01mdef\u001b[39;00m \u001b[38;5;21mfieldop_domain\u001b[39m(a: gtx\u001b[38;5;241m.\u001b[39mField[Dims[K], \u001b[38;5;28mfloat\u001b[39m]) \u001b[38;5;241m-\u001b[39m\u001b[38;5;241m>\u001b[39m gtx\u001b[38;5;241m.\u001b[39mField[Dims[K], \u001b[38;5;28mfloat\u001b[39m]:\n\u001b[1;32m      3\u001b[0m     \u001b[38;5;28;01mreturn\u001b[39;00m a \u001b[38;5;241m*\u001b[39m \u001b[38;5;241m10.0\u001b[39m\n\u001b[1;32m      6\u001b[0m \u001b[38;5;129;43m@gtx\u001b[39;49m\u001b[38;5;241;43m.\u001b[39;49m\u001b[43mprogram\u001b[49m\u001b[43m(\u001b[49m\u001b[43mbackend\u001b[49m\u001b[38;5;241;43m=\u001b[39;49m\u001b[43mbackend\u001b[49m\u001b[43m)\u001b[49m\n\u001b[0;32m----> 7\u001b[0m \u001b[38;5;28;43;01mdef\u001b[39;49;00m\u001b[43m \u001b[49m\u001b[38;5;21;43mprogram_domain\u001b[39;49m\u001b[43m(\u001b[49m\u001b[43ma\u001b[49m\u001b[43m:\u001b[49m\u001b[43m \u001b[49m\u001b[43mgtx\u001b[49m\u001b[38;5;241;43m.\u001b[39;49m\u001b[43mField\u001b[49m\u001b[43m[\u001b[49m\u001b[43mDims\u001b[49m\u001b[43m[\u001b[49m\u001b[43mK\u001b[49m\u001b[43m]\u001b[49m\u001b[43m,\u001b[49m\u001b[43m \u001b[49m\u001b[38;5;28;43mfloat\u001b[39;49m\u001b[43m]\u001b[49m\u001b[43m,\u001b[49m\u001b[43m \u001b[49m\u001b[43mb\u001b[49m\u001b[43m:\u001b[49m\u001b[43m \u001b[49m\u001b[43mgtx\u001b[49m\u001b[38;5;241;43m.\u001b[39;49m\u001b[43mField\u001b[49m\u001b[43m[\u001b[49m\u001b[43mDims\u001b[49m\u001b[43m[\u001b[49m\u001b[43mK\u001b[49m\u001b[43m]\u001b[49m\u001b[43m,\u001b[49m\u001b[43m \u001b[49m\u001b[38;5;28;43mfloat\u001b[39;49m\u001b[43m]\u001b[49m\u001b[43m)\u001b[49m\u001b[43m:\u001b[49m\n\u001b[1;32m      8\u001b[0m \u001b[43m    \u001b[49m\u001b[38;5;241;43m.\u001b[39;49m\u001b[38;5;241;43m.\u001b[39;49m\u001b[38;5;241;43m.\u001b[39;49m  \u001b[38;5;66;03m# TODO write the call to fieldop_domain\u001b[39;00m\n",
      "File \u001b[0;32m~/gt4py-update_types/gt4py/src/gt4py/next/ffront/decorator.py:532\u001b[0m, in \u001b[0;36mprogram.<locals>.program_inner\u001b[0;34m(definition)\u001b[0m\n\u001b[1;32m    531\u001b[0m \u001b[38;5;28;01mdef\u001b[39;00m \u001b[38;5;21mprogram_inner\u001b[39m(definition: types\u001b[38;5;241m.\u001b[39mFunctionType) \u001b[38;5;241m-\u001b[39m\u001b[38;5;241m>\u001b[39m Program:\n\u001b[0;32m--> 532\u001b[0m     \u001b[38;5;28;01mreturn\u001b[39;00m \u001b[43mProgram\u001b[49m\u001b[38;5;241;43m.\u001b[39;49m\u001b[43mfrom_function\u001b[49m\u001b[43m(\u001b[49m\n\u001b[1;32m    533\u001b[0m \u001b[43m        \u001b[49m\u001b[43mdefinition\u001b[49m\u001b[43m,\u001b[49m\u001b[43m \u001b[49m\u001b[43mDEFAULT_BACKEND\u001b[49m\u001b[43m \u001b[49m\u001b[38;5;28;43;01mif\u001b[39;49;00m\u001b[43m \u001b[49m\u001b[43mbackend\u001b[49m\u001b[43m \u001b[49m\u001b[38;5;129;43;01mis\u001b[39;49;00m\u001b[43m \u001b[49m\u001b[43meve\u001b[49m\u001b[38;5;241;43m.\u001b[39;49m\u001b[43mNOTHING\u001b[49m\u001b[43m \u001b[49m\u001b[38;5;28;43;01melse\u001b[39;49;00m\u001b[43m \u001b[49m\u001b[43mbackend\u001b[49m\u001b[43m,\u001b[49m\u001b[43m \u001b[49m\u001b[43mgrid_type\u001b[49m\n\u001b[1;32m    534\u001b[0m \u001b[43m    \u001b[49m\u001b[43m)\u001b[49m\n",
      "File \u001b[0;32m~/gt4py-update_types/gt4py/src/gt4py/next/ffront/decorator.py:193\u001b[0m, in \u001b[0;36mProgram.from_function\u001b[0;34m(cls, definition, backend, grid_type)\u001b[0m\n\u001b[1;32m    191\u001b[0m closure_vars \u001b[38;5;241m=\u001b[39m get_closure_vars_from_function(definition)\n\u001b[1;32m    192\u001b[0m annotations \u001b[38;5;241m=\u001b[39m typing\u001b[38;5;241m.\u001b[39mget_type_hints(definition)\n\u001b[0;32m--> 193\u001b[0m past_node \u001b[38;5;241m=\u001b[39m \u001b[43mProgramParser\u001b[49m\u001b[38;5;241;43m.\u001b[39;49m\u001b[43mapply\u001b[49m\u001b[43m(\u001b[49m\u001b[43msource_def\u001b[49m\u001b[43m,\u001b[49m\u001b[43m \u001b[49m\u001b[43mclosure_vars\u001b[49m\u001b[43m,\u001b[49m\u001b[43m \u001b[49m\u001b[43mannotations\u001b[49m\u001b[43m)\u001b[49m\n\u001b[1;32m    194\u001b[0m \u001b[38;5;28;01mreturn\u001b[39;00m \u001b[38;5;28mcls\u001b[39m(\n\u001b[1;32m    195\u001b[0m     past_node\u001b[38;5;241m=\u001b[39mpast_node,\n\u001b[1;32m    196\u001b[0m     closure_vars\u001b[38;5;241m=\u001b[39mclosure_vars,\n\u001b[0;32m   (...)\u001b[0m\n\u001b[1;32m    199\u001b[0m     grid_type\u001b[38;5;241m=\u001b[39mgrid_type,\n\u001b[1;32m    200\u001b[0m )\n",
      "File \u001b[0;32m~/gt4py-update_types/gt4py/src/gt4py/next/ffront/dialect_parser.py:79\u001b[0m, in \u001b[0;36mDialectParser.apply\u001b[0;34m(cls, source_definition, closure_vars, annotations)\u001b[0m\n\u001b[1;32m     72\u001b[0m definition_ast \u001b[38;5;241m=\u001b[39m RemoveDocstrings\u001b[38;5;241m.\u001b[39mapply(definition_ast)\n\u001b[1;32m     73\u001b[0m definition_ast \u001b[38;5;241m=\u001b[39m FixMissingLocations\u001b[38;5;241m.\u001b[39mapply(definition_ast)\n\u001b[1;32m     74\u001b[0m output_ast \u001b[38;5;241m=\u001b[39m \u001b[38;5;28mcls\u001b[39m\u001b[38;5;241m.\u001b[39m_postprocess_dialect_ast(\n\u001b[1;32m     75\u001b[0m     \u001b[38;5;28;43mcls\u001b[39;49m\u001b[43m(\u001b[49m\n\u001b[1;32m     76\u001b[0m \u001b[43m        \u001b[49m\u001b[43msource_definition\u001b[49m\u001b[38;5;241;43m=\u001b[39;49m\u001b[43msource_definition\u001b[49m\u001b[43m,\u001b[49m\n\u001b[1;32m     77\u001b[0m \u001b[43m        \u001b[49m\u001b[43mclosure_vars\u001b[49m\u001b[38;5;241;43m=\u001b[39;49m\u001b[43mclosure_vars\u001b[49m\u001b[43m,\u001b[49m\n\u001b[1;32m     78\u001b[0m \u001b[43m        \u001b[49m\u001b[43mannotations\u001b[49m\u001b[38;5;241;43m=\u001b[39;49m\u001b[43mannotations\u001b[49m\u001b[43m,\u001b[49m\n\u001b[0;32m---> 79\u001b[0m \u001b[43m    \u001b[49m\u001b[43m)\u001b[49m\u001b[38;5;241;43m.\u001b[39;49m\u001b[43mvisit\u001b[49m\u001b[43m(\u001b[49m\u001b[38;5;28;43mcls\u001b[39;49m\u001b[38;5;241;43m.\u001b[39;49m\u001b[43m_preprocess_definition_ast\u001b[49m\u001b[43m(\u001b[49m\u001b[43mdefinition_ast\u001b[49m\u001b[43m)\u001b[49m\u001b[43m)\u001b[49m,\n\u001b[1;32m     80\u001b[0m     closure_vars,\n\u001b[1;32m     81\u001b[0m     annotations,\n\u001b[1;32m     82\u001b[0m )\n\u001b[1;32m     84\u001b[0m \u001b[38;5;28;01mreturn\u001b[39;00m output_ast\n",
      "File \u001b[0;32m/Library/Frameworks/Python.framework/Versions/3.10/lib/python3.10/ast.py:410\u001b[0m, in \u001b[0;36mNodeVisitor.visit\u001b[0;34m(self, node)\u001b[0m\n\u001b[1;32m    408\u001b[0m method \u001b[38;5;241m=\u001b[39m \u001b[38;5;124m'\u001b[39m\u001b[38;5;124mvisit_\u001b[39m\u001b[38;5;124m'\u001b[39m \u001b[38;5;241m+\u001b[39m node\u001b[38;5;241m.\u001b[39m\u001b[38;5;18m__class__\u001b[39m\u001b[38;5;241m.\u001b[39m\u001b[38;5;18m__name__\u001b[39m\n\u001b[1;32m    409\u001b[0m visitor \u001b[38;5;241m=\u001b[39m \u001b[38;5;28mgetattr\u001b[39m(\u001b[38;5;28mself\u001b[39m, method, \u001b[38;5;28mself\u001b[39m\u001b[38;5;241m.\u001b[39mgeneric_visit)\n\u001b[0;32m--> 410\u001b[0m \u001b[38;5;28;01mreturn\u001b[39;00m \u001b[43mvisitor\u001b[49m\u001b[43m(\u001b[49m\u001b[43mnode\u001b[49m\u001b[43m)\u001b[49m\n",
      "File \u001b[0;32m~/gt4py-update_types/gt4py/src/gt4py/next/ffront/func_to_past.py:59\u001b[0m, in \u001b[0;36mProgramParser.visit_FunctionDef\u001b[0;34m(self, node)\u001b[0m\n\u001b[1;32m     44\u001b[0m \u001b[38;5;28;01mdef\u001b[39;00m \u001b[38;5;21mvisit_FunctionDef\u001b[39m(\u001b[38;5;28mself\u001b[39m, node: ast\u001b[38;5;241m.\u001b[39mFunctionDef) \u001b[38;5;241m-\u001b[39m\u001b[38;5;241m>\u001b[39m past\u001b[38;5;241m.\u001b[39mProgram:\n\u001b[1;32m     45\u001b[0m     closure_symbols: \u001b[38;5;28mlist\u001b[39m[past\u001b[38;5;241m.\u001b[39mSymbol] \u001b[38;5;241m=\u001b[39m [\n\u001b[1;32m     46\u001b[0m         past\u001b[38;5;241m.\u001b[39mSymbol(\n\u001b[1;32m     47\u001b[0m             \u001b[38;5;28mid\u001b[39m\u001b[38;5;241m=\u001b[39mname,\n\u001b[0;32m   (...)\u001b[0m\n\u001b[1;32m     52\u001b[0m         \u001b[38;5;28;01mfor\u001b[39;00m name, val \u001b[38;5;129;01min\u001b[39;00m \u001b[38;5;28mself\u001b[39m\u001b[38;5;241m.\u001b[39mclosure_vars\u001b[38;5;241m.\u001b[39mitems()\n\u001b[1;32m     53\u001b[0m     ]\n\u001b[1;32m     55\u001b[0m     \u001b[38;5;28;01mreturn\u001b[39;00m past\u001b[38;5;241m.\u001b[39mProgram(\n\u001b[1;32m     56\u001b[0m         \u001b[38;5;28mid\u001b[39m\u001b[38;5;241m=\u001b[39mnode\u001b[38;5;241m.\u001b[39mname,\n\u001b[1;32m     57\u001b[0m         \u001b[38;5;28mtype\u001b[39m\u001b[38;5;241m=\u001b[39mts\u001b[38;5;241m.\u001b[39mDeferredType(constraint\u001b[38;5;241m=\u001b[39mts_ffront\u001b[38;5;241m.\u001b[39mProgramType),\n\u001b[1;32m     58\u001b[0m         params\u001b[38;5;241m=\u001b[39m\u001b[38;5;28mself\u001b[39m\u001b[38;5;241m.\u001b[39mvisit(node\u001b[38;5;241m.\u001b[39margs),\n\u001b[0;32m---> 59\u001b[0m         body\u001b[38;5;241m=\u001b[39m[\u001b[38;5;28mself\u001b[39m\u001b[38;5;241m.\u001b[39mvisit(node) \u001b[38;5;28;01mfor\u001b[39;00m node \u001b[38;5;129;01min\u001b[39;00m node\u001b[38;5;241m.\u001b[39mbody],\n\u001b[1;32m     60\u001b[0m         closure_vars\u001b[38;5;241m=\u001b[39mclosure_symbols,\n\u001b[1;32m     61\u001b[0m         location\u001b[38;5;241m=\u001b[39m\u001b[38;5;28mself\u001b[39m\u001b[38;5;241m.\u001b[39mget_location(node),\n\u001b[1;32m     62\u001b[0m     )\n",
      "File \u001b[0;32m~/gt4py-update_types/gt4py/src/gt4py/next/ffront/func_to_past.py:59\u001b[0m, in \u001b[0;36m<listcomp>\u001b[0;34m(.0)\u001b[0m\n\u001b[1;32m     44\u001b[0m \u001b[38;5;28;01mdef\u001b[39;00m \u001b[38;5;21mvisit_FunctionDef\u001b[39m(\u001b[38;5;28mself\u001b[39m, node: ast\u001b[38;5;241m.\u001b[39mFunctionDef) \u001b[38;5;241m-\u001b[39m\u001b[38;5;241m>\u001b[39m past\u001b[38;5;241m.\u001b[39mProgram:\n\u001b[1;32m     45\u001b[0m     closure_symbols: \u001b[38;5;28mlist\u001b[39m[past\u001b[38;5;241m.\u001b[39mSymbol] \u001b[38;5;241m=\u001b[39m [\n\u001b[1;32m     46\u001b[0m         past\u001b[38;5;241m.\u001b[39mSymbol(\n\u001b[1;32m     47\u001b[0m             \u001b[38;5;28mid\u001b[39m\u001b[38;5;241m=\u001b[39mname,\n\u001b[0;32m   (...)\u001b[0m\n\u001b[1;32m     52\u001b[0m         \u001b[38;5;28;01mfor\u001b[39;00m name, val \u001b[38;5;129;01min\u001b[39;00m \u001b[38;5;28mself\u001b[39m\u001b[38;5;241m.\u001b[39mclosure_vars\u001b[38;5;241m.\u001b[39mitems()\n\u001b[1;32m     53\u001b[0m     ]\n\u001b[1;32m     55\u001b[0m     \u001b[38;5;28;01mreturn\u001b[39;00m past\u001b[38;5;241m.\u001b[39mProgram(\n\u001b[1;32m     56\u001b[0m         \u001b[38;5;28mid\u001b[39m\u001b[38;5;241m=\u001b[39mnode\u001b[38;5;241m.\u001b[39mname,\n\u001b[1;32m     57\u001b[0m         \u001b[38;5;28mtype\u001b[39m\u001b[38;5;241m=\u001b[39mts\u001b[38;5;241m.\u001b[39mDeferredType(constraint\u001b[38;5;241m=\u001b[39mts_ffront\u001b[38;5;241m.\u001b[39mProgramType),\n\u001b[1;32m     58\u001b[0m         params\u001b[38;5;241m=\u001b[39m\u001b[38;5;28mself\u001b[39m\u001b[38;5;241m.\u001b[39mvisit(node\u001b[38;5;241m.\u001b[39margs),\n\u001b[0;32m---> 59\u001b[0m         body\u001b[38;5;241m=\u001b[39m[\u001b[38;5;28;43mself\u001b[39;49m\u001b[38;5;241;43m.\u001b[39;49m\u001b[43mvisit\u001b[49m\u001b[43m(\u001b[49m\u001b[43mnode\u001b[49m\u001b[43m)\u001b[49m \u001b[38;5;28;01mfor\u001b[39;00m node \u001b[38;5;129;01min\u001b[39;00m node\u001b[38;5;241m.\u001b[39mbody],\n\u001b[1;32m     60\u001b[0m         closure_vars\u001b[38;5;241m=\u001b[39mclosure_symbols,\n\u001b[1;32m     61\u001b[0m         location\u001b[38;5;241m=\u001b[39m\u001b[38;5;28mself\u001b[39m\u001b[38;5;241m.\u001b[39mget_location(node),\n\u001b[1;32m     62\u001b[0m     )\n",
      "File \u001b[0;32m/Library/Frameworks/Python.framework/Versions/3.10/lib/python3.10/ast.py:410\u001b[0m, in \u001b[0;36mNodeVisitor.visit\u001b[0;34m(self, node)\u001b[0m\n\u001b[1;32m    408\u001b[0m method \u001b[38;5;241m=\u001b[39m \u001b[38;5;124m'\u001b[39m\u001b[38;5;124mvisit_\u001b[39m\u001b[38;5;124m'\u001b[39m \u001b[38;5;241m+\u001b[39m node\u001b[38;5;241m.\u001b[39m\u001b[38;5;18m__class__\u001b[39m\u001b[38;5;241m.\u001b[39m\u001b[38;5;18m__name__\u001b[39m\n\u001b[1;32m    409\u001b[0m visitor \u001b[38;5;241m=\u001b[39m \u001b[38;5;28mgetattr\u001b[39m(\u001b[38;5;28mself\u001b[39m, method, \u001b[38;5;28mself\u001b[39m\u001b[38;5;241m.\u001b[39mgeneric_visit)\n\u001b[0;32m--> 410\u001b[0m \u001b[38;5;28;01mreturn\u001b[39;00m \u001b[43mvisitor\u001b[49m\u001b[43m(\u001b[49m\u001b[43mnode\u001b[49m\u001b[43m)\u001b[49m\n",
      "File \u001b[0;32m~/gt4py-update_types/gt4py/src/gt4py/next/ffront/func_to_past.py:77\u001b[0m, in \u001b[0;36mProgramParser.visit_Expr\u001b[0;34m(self, node)\u001b[0m\n\u001b[1;32m     76\u001b[0m \u001b[38;5;28;01mdef\u001b[39;00m \u001b[38;5;21mvisit_Expr\u001b[39m(\u001b[38;5;28mself\u001b[39m, node: ast\u001b[38;5;241m.\u001b[39mExpr) \u001b[38;5;241m-\u001b[39m\u001b[38;5;241m>\u001b[39m past\u001b[38;5;241m.\u001b[39mLocatedNode:\n\u001b[0;32m---> 77\u001b[0m     \u001b[38;5;28;01mreturn\u001b[39;00m \u001b[38;5;28;43mself\u001b[39;49m\u001b[38;5;241;43m.\u001b[39;49m\u001b[43mvisit\u001b[49m\u001b[43m(\u001b[49m\u001b[43mnode\u001b[49m\u001b[38;5;241;43m.\u001b[39;49m\u001b[43mvalue\u001b[49m\u001b[43m)\u001b[49m\n",
      "File \u001b[0;32m/Library/Frameworks/Python.framework/Versions/3.10/lib/python3.10/ast.py:410\u001b[0m, in \u001b[0;36mNodeVisitor.visit\u001b[0;34m(self, node)\u001b[0m\n\u001b[1;32m    408\u001b[0m method \u001b[38;5;241m=\u001b[39m \u001b[38;5;124m'\u001b[39m\u001b[38;5;124mvisit_\u001b[39m\u001b[38;5;124m'\u001b[39m \u001b[38;5;241m+\u001b[39m node\u001b[38;5;241m.\u001b[39m\u001b[38;5;18m__class__\u001b[39m\u001b[38;5;241m.\u001b[39m\u001b[38;5;18m__name__\u001b[39m\n\u001b[1;32m    409\u001b[0m visitor \u001b[38;5;241m=\u001b[39m \u001b[38;5;28mgetattr\u001b[39m(\u001b[38;5;28mself\u001b[39m, method, \u001b[38;5;28mself\u001b[39m\u001b[38;5;241m.\u001b[39mgeneric_visit)\n\u001b[0;32m--> 410\u001b[0m \u001b[38;5;28;01mreturn\u001b[39;00m \u001b[43mvisitor\u001b[49m\u001b[43m(\u001b[49m\u001b[43mnode\u001b[49m\u001b[43m)\u001b[49m\n",
      "File \u001b[0;32m~/gt4py-update_types/gt4py/src/gt4py/next/ffront/func_to_past.py:172\u001b[0m, in \u001b[0;36mProgramParser.visit_Constant\u001b[0;34m(self, node)\u001b[0m\n\u001b[1;32m    171\u001b[0m \u001b[38;5;28;01mdef\u001b[39;00m \u001b[38;5;21mvisit_Constant\u001b[39m(\u001b[38;5;28mself\u001b[39m, node: ast\u001b[38;5;241m.\u001b[39mConstant) \u001b[38;5;241m-\u001b[39m\u001b[38;5;241m>\u001b[39m past\u001b[38;5;241m.\u001b[39mConstant:\n\u001b[0;32m--> 172\u001b[0m     symbol_type \u001b[38;5;241m=\u001b[39m \u001b[43mtype_translation\u001b[49m\u001b[38;5;241;43m.\u001b[39;49m\u001b[43mfrom_value\u001b[49m\u001b[43m(\u001b[49m\u001b[43mnode\u001b[49m\u001b[38;5;241;43m.\u001b[39;49m\u001b[43mvalue\u001b[49m\u001b[43m)\u001b[49m\n\u001b[1;32m    173\u001b[0m     \u001b[38;5;28;01mreturn\u001b[39;00m past\u001b[38;5;241m.\u001b[39mConstant(value\u001b[38;5;241m=\u001b[39mnode\u001b[38;5;241m.\u001b[39mvalue, \u001b[38;5;28mtype\u001b[39m\u001b[38;5;241m=\u001b[39msymbol_type, location\u001b[38;5;241m=\u001b[39m\u001b[38;5;28mself\u001b[39m\u001b[38;5;241m.\u001b[39mget_location(node))\n",
      "File \u001b[0;32m~/gt4py-update_types/gt4py/src/gt4py/next/type_system/type_translation.py:200\u001b[0m, in \u001b[0;36mfrom_value\u001b[0;34m(value)\u001b[0m\n\u001b[1;32m    198\u001b[0m \u001b[38;5;28;01melse\u001b[39;00m:\n\u001b[1;32m    199\u001b[0m     type_ \u001b[38;5;241m=\u001b[39m xtyping\u001b[38;5;241m.\u001b[39minfer_type(value, annotate_callable_kwargs\u001b[38;5;241m=\u001b[39m\u001b[38;5;28;01mTrue\u001b[39;00m)\n\u001b[0;32m--> 200\u001b[0m     symbol_type \u001b[38;5;241m=\u001b[39m \u001b[43mfrom_type_hint\u001b[49m\u001b[43m(\u001b[49m\u001b[43mtype_\u001b[49m\u001b[43m)\u001b[49m\n\u001b[1;32m    202\u001b[0m \u001b[38;5;28;01mif\u001b[39;00m \u001b[38;5;28misinstance\u001b[39m(symbol_type, (ts\u001b[38;5;241m.\u001b[39mDataType, ts\u001b[38;5;241m.\u001b[39mCallableType, ts\u001b[38;5;241m.\u001b[39mOffsetType, ts\u001b[38;5;241m.\u001b[39mDimensionType)):\n\u001b[1;32m    203\u001b[0m     \u001b[38;5;28;01mreturn\u001b[39;00m symbol_type\n",
      "File \u001b[0;32m~/gt4py-update_types/gt4py/src/gt4py/next/type_system/type_translation.py:160\u001b[0m, in \u001b[0;36mfrom_type_hint\u001b[0;34m(type_hint, globalns, localns)\u001b[0m\n\u001b[1;32m    152\u001b[0m         \u001b[38;5;66;03m# TODO(tehrengruber): print better error when no return type annotation is given\u001b[39;00m\n\u001b[1;32m    153\u001b[0m         \u001b[38;5;28;01mreturn\u001b[39;00m ts\u001b[38;5;241m.\u001b[39mFunctionType(\n\u001b[1;32m    154\u001b[0m             pos_only_args\u001b[38;5;241m=\u001b[39margs,\n\u001b[1;32m    155\u001b[0m             pos_or_kw_args\u001b[38;5;241m=\u001b[39mkwargs,\n\u001b[1;32m    156\u001b[0m             kw_only_args\u001b[38;5;241m=\u001b[39m{},  \u001b[38;5;66;03m# TODO\u001b[39;00m\n\u001b[1;32m    157\u001b[0m             returns\u001b[38;5;241m=\u001b[39mrecursive_make_symbol(return_type),\n\u001b[1;32m    158\u001b[0m         )\n\u001b[0;32m--> 160\u001b[0m \u001b[38;5;28;01mraise\u001b[39;00m \u001b[38;5;167;01mValueError\u001b[39;00m(\u001b[38;5;124mf\u001b[39m\u001b[38;5;124m\"\u001b[39m\u001b[38;5;124m'\u001b[39m\u001b[38;5;132;01m{\u001b[39;00mtype_hint\u001b[38;5;132;01m}\u001b[39;00m\u001b[38;5;124m'\u001b[39m\u001b[38;5;124m type is not supported.\u001b[39m\u001b[38;5;124m\"\u001b[39m)\n",
      "\u001b[0;31mValueError\u001b[0m: '<class 'ellipsis'>' type is not supported."
     ]
    }
   ],
   "source": [
    "@gtx.field_operator\n",
    "def fieldop_domain(a: gtx.Field[Dims[K], float]) -> gtx.Field[Dims[K], float]:\n",
    "    return a * 10.0\n",
    "\n",
    "\n",
    "@gtx.program(backend=backend)\n",
    "def program_domain(a: gtx.Field[Dims[K], float], b: gtx.Field[Dims[K], float]):\n",
    "    ...  # TODO write the call to fieldop_domain"
   ]
  },
  {
   "cell_type": "code",
   "execution_count": 7,
   "id": "30fd5b6c",
   "metadata": {},
   "outputs": [],
   "source": [
    "def test_domain():\n",
    "    a = gtx.as_field([K], np.arange(10.0), allocator=backend)\n",
    "    b = gtx.as_field([K], np.arange(10.0), allocator=backend)\n",
    "    program_domain(a, b, offset_provider={})\n",
    "\n",
    "    assert np.allclose(b_np, b.asnumpy())"
   ]
  },
  {
   "cell_type": "code",
   "execution_count": 8,
   "id": "f1827310",
   "metadata": {},
   "outputs": [
    {
     "ename": "NameError",
     "evalue": "name 'program_domain' is not defined",
     "output_type": "error",
     "traceback": [
      "\u001b[0;31m---------------------------------------------------------------------------\u001b[0m",
      "\u001b[0;31mNameError\u001b[0m                                 Traceback (most recent call last)",
      "Cell \u001b[0;32mIn[8], line 1\u001b[0m\n\u001b[0;32m----> 1\u001b[0m \u001b[43mtest_domain\u001b[49m\u001b[43m(\u001b[49m\u001b[43m)\u001b[49m\n\u001b[1;32m      2\u001b[0m \u001b[38;5;28mprint\u001b[39m(\u001b[38;5;124m\"\u001b[39m\u001b[38;5;124mTest successful\u001b[39m\u001b[38;5;124m\"\u001b[39m)\n",
      "Cell \u001b[0;32mIn[7], line 4\u001b[0m, in \u001b[0;36mtest_domain\u001b[0;34m()\u001b[0m\n\u001b[1;32m      2\u001b[0m a \u001b[38;5;241m=\u001b[39m gtx\u001b[38;5;241m.\u001b[39mas_field([K], np\u001b[38;5;241m.\u001b[39marange(\u001b[38;5;241m10.0\u001b[39m), allocator\u001b[38;5;241m=\u001b[39mbackend)\n\u001b[1;32m      3\u001b[0m b \u001b[38;5;241m=\u001b[39m gtx\u001b[38;5;241m.\u001b[39mas_field([K], np\u001b[38;5;241m.\u001b[39marange(\u001b[38;5;241m10.0\u001b[39m), allocator\u001b[38;5;241m=\u001b[39mbackend)\n\u001b[0;32m----> 4\u001b[0m \u001b[43mprogram_domain\u001b[49m(a, b, offset_provider\u001b[38;5;241m=\u001b[39m{})\n\u001b[1;32m      6\u001b[0m \u001b[38;5;28;01massert\u001b[39;00m np\u001b[38;5;241m.\u001b[39mallclose(b_np, b\u001b[38;5;241m.\u001b[39masnumpy())\n",
      "\u001b[0;31mNameError\u001b[0m: name 'program_domain' is not defined"
     ]
    }
   ],
   "source": [
    "test_domain()\n",
    "print(\"Test successful\")"
   ]
  },
  {
   "cell_type": "markdown",
   "id": "dc05317c",
   "metadata": {},
   "source": [
    "## where and domain\n",
    "\n",
    "A combination of `where` and `domain` is useful in cases when an offset is used which exceeds the field size.\n",
    "\n",
    "e.g. a field `a: gtx.Field[Dims[K], float]` with shape (10,) is applied an offset (`Koff`)."
   ]
  },
  {
   "cell_type": "markdown",
   "id": "255fc343",
   "metadata": {},
   "source": [
    "### **Task**: combine `domain` and `where` to account for extra indices\n",
    "\n",
    "Edit the code below such that:\n",
    " 1. operations on field `a` are performed only up until the 8th index\n",
    " 2. the domain is properly set accound for the offset"
   ]
  },
  {
   "cell_type": "markdown",
   "id": "caaa8a7d",
   "metadata": {},
   "source": [
    "#### Python reference"
   ]
  },
  {
   "cell_type": "code",
   "execution_count": 9,
   "id": "47fe9be1",
   "metadata": {},
   "outputs": [
    {
     "name": "stdout",
     "output_type": "stream",
     "text": [
      "a_np_result array: [ 1.  3.  5.  7.  9. 11. 13. 15.  8.  0.]\n"
     ]
    }
   ],
   "source": [
    "a_np_result = np.zeros(shape=10)\n",
    "for i in range(len(a_np)):\n",
    "    if a_np[i] < 8.0:\n",
    "        a_np_result[i] = a_np[i + 1] + a_np[i]\n",
    "    elif i < 9:\n",
    "        a_np_result[i] = a_np[i]\n",
    "print(\"a_np_result array: {}\".format(a_np_result))"
   ]
  },
  {
   "cell_type": "code",
   "execution_count": 10,
   "id": "cac80fbb",
   "metadata": {},
   "outputs": [
    {
     "ename": "DSLError",
     "evalue": "Must return a value, not None\n  File \"/private/var/folders/2b/_2y31vzs4sl_7rngh2yghbpw0000gn/T/ipykernel_56739/3624757481.py\", line 3",
     "output_type": "error",
     "traceback": [
      "\u001b[0;31m---------------------------------------------------------------------------\u001b[0m",
      "\u001b[0;31mDSLError\u001b[0m                                  Traceback (most recent call last)",
      "Cell \u001b[0;32mIn[10], line 2\u001b[0m\n\u001b[1;32m      1\u001b[0m \u001b[38;5;129;43m@gtx\u001b[39;49m\u001b[38;5;241;43m.\u001b[39;49m\u001b[43mfield_operator\u001b[49m\n\u001b[0;32m----> 2\u001b[0m \u001b[38;5;28;43;01mdef\u001b[39;49;00m\u001b[43m \u001b[49m\u001b[38;5;21;43mfieldop_domain_where\u001b[39;49m\u001b[43m(\u001b[49m\u001b[43ma\u001b[49m\u001b[43m:\u001b[49m\u001b[43m \u001b[49m\u001b[43mgtx\u001b[49m\u001b[38;5;241;43m.\u001b[39;49m\u001b[43mField\u001b[49m\u001b[43m[\u001b[49m\u001b[43mDims\u001b[49m\u001b[43m[\u001b[49m\u001b[43mK\u001b[49m\u001b[43m]\u001b[49m\u001b[43m,\u001b[49m\u001b[43m \u001b[49m\u001b[38;5;28;43mfloat\u001b[39;49m\u001b[43m]\u001b[49m\u001b[43m)\u001b[49m\u001b[43m \u001b[49m\u001b[38;5;241;43m-\u001b[39;49m\u001b[38;5;241;43m>\u001b[39;49m\u001b[43m \u001b[49m\u001b[43mgtx\u001b[49m\u001b[38;5;241;43m.\u001b[39;49m\u001b[43mField\u001b[49m\u001b[43m[\u001b[49m\u001b[43mDims\u001b[49m\u001b[43m[\u001b[49m\u001b[43mK\u001b[49m\u001b[43m]\u001b[49m\u001b[43m,\u001b[49m\u001b[43m \u001b[49m\u001b[38;5;28;43mfloat\u001b[39;49m\u001b[43m]\u001b[49m\u001b[43m:\u001b[49m\n\u001b[1;32m      3\u001b[0m \u001b[43m    \u001b[49m\u001b[38;5;28;43;01mreturn\u001b[39;49;00m \u001b[38;5;66;03m# TODO\u001b[39;00m\n\u001b[1;32m      5\u001b[0m \u001b[38;5;129m@gtx\u001b[39m\u001b[38;5;241m.\u001b[39mprogram(backend\u001b[38;5;241m=\u001b[39mbackend)\n\u001b[1;32m      6\u001b[0m \u001b[38;5;28;01mdef\u001b[39;00m \u001b[38;5;21mprogram_domain_where\u001b[39m(a: gtx\u001b[38;5;241m.\u001b[39mField[Dims[K], \u001b[38;5;28mfloat\u001b[39m], b: gtx\u001b[38;5;241m.\u001b[39mField[Dims[K], \u001b[38;5;28mfloat\u001b[39m]):\n",
      "File \u001b[0;32m~/gt4py-update_types/gt4py/src/gt4py/next/ffront/decorator.py:794\u001b[0m, in \u001b[0;36mfield_operator\u001b[0;34m(definition, backend, grid_type)\u001b[0m\n\u001b[1;32m    789\u001b[0m \u001b[38;5;28;01mdef\u001b[39;00m \u001b[38;5;21mfield_operator_inner\u001b[39m(definition: types\u001b[38;5;241m.\u001b[39mFunctionType) \u001b[38;5;241m-\u001b[39m\u001b[38;5;241m>\u001b[39m FieldOperator[foast\u001b[38;5;241m.\u001b[39mFieldOperator]:\n\u001b[1;32m    790\u001b[0m     \u001b[38;5;28;01mreturn\u001b[39;00m FieldOperator\u001b[38;5;241m.\u001b[39mfrom_function(\n\u001b[1;32m    791\u001b[0m         definition, DEFAULT_BACKEND \u001b[38;5;28;01mif\u001b[39;00m backend \u001b[38;5;129;01mis\u001b[39;00m eve\u001b[38;5;241m.\u001b[39mNOTHING \u001b[38;5;28;01melse\u001b[39;00m backend, grid_type\n\u001b[1;32m    792\u001b[0m     )\n\u001b[0;32m--> 794\u001b[0m \u001b[38;5;28;01mreturn\u001b[39;00m field_operator_inner \u001b[38;5;28;01mif\u001b[39;00m definition \u001b[38;5;129;01mis\u001b[39;00m \u001b[38;5;28;01mNone\u001b[39;00m \u001b[38;5;28;01melse\u001b[39;00m \u001b[43mfield_operator_inner\u001b[49m\u001b[43m(\u001b[49m\u001b[43mdefinition\u001b[49m\u001b[43m)\u001b[49m\n",
      "File \u001b[0;32m~/gt4py-update_types/gt4py/src/gt4py/next/ffront/decorator.py:790\u001b[0m, in \u001b[0;36mfield_operator.<locals>.field_operator_inner\u001b[0;34m(definition)\u001b[0m\n\u001b[1;32m    789\u001b[0m \u001b[38;5;28;01mdef\u001b[39;00m \u001b[38;5;21mfield_operator_inner\u001b[39m(definition: types\u001b[38;5;241m.\u001b[39mFunctionType) \u001b[38;5;241m-\u001b[39m\u001b[38;5;241m>\u001b[39m FieldOperator[foast\u001b[38;5;241m.\u001b[39mFieldOperator]:\n\u001b[0;32m--> 790\u001b[0m     \u001b[38;5;28;01mreturn\u001b[39;00m \u001b[43mFieldOperator\u001b[49m\u001b[38;5;241;43m.\u001b[39;49m\u001b[43mfrom_function\u001b[49m\u001b[43m(\u001b[49m\n\u001b[1;32m    791\u001b[0m \u001b[43m        \u001b[49m\u001b[43mdefinition\u001b[49m\u001b[43m,\u001b[49m\u001b[43m \u001b[49m\u001b[43mDEFAULT_BACKEND\u001b[49m\u001b[43m \u001b[49m\u001b[38;5;28;43;01mif\u001b[39;49;00m\u001b[43m \u001b[49m\u001b[43mbackend\u001b[49m\u001b[43m \u001b[49m\u001b[38;5;129;43;01mis\u001b[39;49;00m\u001b[43m \u001b[49m\u001b[43meve\u001b[49m\u001b[38;5;241;43m.\u001b[39;49m\u001b[43mNOTHING\u001b[49m\u001b[43m \u001b[49m\u001b[38;5;28;43;01melse\u001b[39;49;00m\u001b[43m \u001b[49m\u001b[43mbackend\u001b[49m\u001b[43m,\u001b[49m\u001b[43m \u001b[49m\u001b[43mgrid_type\u001b[49m\n\u001b[1;32m    792\u001b[0m \u001b[43m    \u001b[49m\u001b[43m)\u001b[49m\n",
      "File \u001b[0;32m~/gt4py-update_types/gt4py/src/gt4py/next/ffront/decorator.py:589\u001b[0m, in \u001b[0;36mFieldOperator.from_function\u001b[0;34m(cls, definition, backend, grid_type, operator_node_cls, operator_attributes)\u001b[0m\n\u001b[1;32m    587\u001b[0m closure_vars \u001b[38;5;241m=\u001b[39m get_closure_vars_from_function(definition)\n\u001b[1;32m    588\u001b[0m annotations \u001b[38;5;241m=\u001b[39m typing\u001b[38;5;241m.\u001b[39mget_type_hints(definition)\n\u001b[0;32m--> 589\u001b[0m foast_definition_node \u001b[38;5;241m=\u001b[39m \u001b[43mFieldOperatorParser\u001b[49m\u001b[38;5;241;43m.\u001b[39;49m\u001b[43mapply\u001b[49m\u001b[43m(\u001b[49m\u001b[43msource_def\u001b[49m\u001b[43m,\u001b[49m\u001b[43m \u001b[49m\u001b[43mclosure_vars\u001b[49m\u001b[43m,\u001b[49m\u001b[43m \u001b[49m\u001b[43mannotations\u001b[49m\u001b[43m)\u001b[49m\n\u001b[1;32m    590\u001b[0m loc \u001b[38;5;241m=\u001b[39m foast_definition_node\u001b[38;5;241m.\u001b[39mlocation\n\u001b[1;32m    591\u001b[0m operator_attribute_nodes \u001b[38;5;241m=\u001b[39m {\n\u001b[1;32m    592\u001b[0m     key: foast\u001b[38;5;241m.\u001b[39mConstant(value\u001b[38;5;241m=\u001b[39mvalue, \u001b[38;5;28mtype\u001b[39m\u001b[38;5;241m=\u001b[39mtype_translation\u001b[38;5;241m.\u001b[39mfrom_value(value), location\u001b[38;5;241m=\u001b[39mloc)\n\u001b[1;32m    593\u001b[0m     \u001b[38;5;28;01mfor\u001b[39;00m key, value \u001b[38;5;129;01min\u001b[39;00m operator_attributes\u001b[38;5;241m.\u001b[39mitems()\n\u001b[1;32m    594\u001b[0m }\n",
      "File \u001b[0;32m~/gt4py-update_types/gt4py/src/gt4py/next/ffront/dialect_parser.py:79\u001b[0m, in \u001b[0;36mDialectParser.apply\u001b[0;34m(cls, source_definition, closure_vars, annotations)\u001b[0m\n\u001b[1;32m     72\u001b[0m definition_ast \u001b[38;5;241m=\u001b[39m RemoveDocstrings\u001b[38;5;241m.\u001b[39mapply(definition_ast)\n\u001b[1;32m     73\u001b[0m definition_ast \u001b[38;5;241m=\u001b[39m FixMissingLocations\u001b[38;5;241m.\u001b[39mapply(definition_ast)\n\u001b[1;32m     74\u001b[0m output_ast \u001b[38;5;241m=\u001b[39m \u001b[38;5;28mcls\u001b[39m\u001b[38;5;241m.\u001b[39m_postprocess_dialect_ast(\n\u001b[1;32m     75\u001b[0m     \u001b[38;5;28;43mcls\u001b[39;49m\u001b[43m(\u001b[49m\n\u001b[1;32m     76\u001b[0m \u001b[43m        \u001b[49m\u001b[43msource_definition\u001b[49m\u001b[38;5;241;43m=\u001b[39;49m\u001b[43msource_definition\u001b[49m\u001b[43m,\u001b[49m\n\u001b[1;32m     77\u001b[0m \u001b[43m        \u001b[49m\u001b[43mclosure_vars\u001b[49m\u001b[38;5;241;43m=\u001b[39;49m\u001b[43mclosure_vars\u001b[49m\u001b[43m,\u001b[49m\n\u001b[1;32m     78\u001b[0m \u001b[43m        \u001b[49m\u001b[43mannotations\u001b[49m\u001b[38;5;241;43m=\u001b[39;49m\u001b[43mannotations\u001b[49m\u001b[43m,\u001b[49m\n\u001b[0;32m---> 79\u001b[0m \u001b[43m    \u001b[49m\u001b[43m)\u001b[49m\u001b[38;5;241;43m.\u001b[39;49m\u001b[43mvisit\u001b[49m\u001b[43m(\u001b[49m\u001b[38;5;28;43mcls\u001b[39;49m\u001b[38;5;241;43m.\u001b[39;49m\u001b[43m_preprocess_definition_ast\u001b[49m\u001b[43m(\u001b[49m\u001b[43mdefinition_ast\u001b[49m\u001b[43m)\u001b[49m\u001b[43m)\u001b[49m,\n\u001b[1;32m     80\u001b[0m     closure_vars,\n\u001b[1;32m     81\u001b[0m     annotations,\n\u001b[1;32m     82\u001b[0m )\n\u001b[1;32m     84\u001b[0m \u001b[38;5;28;01mreturn\u001b[39;00m output_ast\n",
      "File \u001b[0;32m/Library/Frameworks/Python.framework/Versions/3.10/lib/python3.10/ast.py:410\u001b[0m, in \u001b[0;36mNodeVisitor.visit\u001b[0;34m(self, node)\u001b[0m\n\u001b[1;32m    408\u001b[0m method \u001b[38;5;241m=\u001b[39m \u001b[38;5;124m'\u001b[39m\u001b[38;5;124mvisit_\u001b[39m\u001b[38;5;124m'\u001b[39m \u001b[38;5;241m+\u001b[39m node\u001b[38;5;241m.\u001b[39m\u001b[38;5;18m__class__\u001b[39m\u001b[38;5;241m.\u001b[39m\u001b[38;5;18m__name__\u001b[39m\n\u001b[1;32m    409\u001b[0m visitor \u001b[38;5;241m=\u001b[39m \u001b[38;5;28mgetattr\u001b[39m(\u001b[38;5;28mself\u001b[39m, method, \u001b[38;5;28mself\u001b[39m\u001b[38;5;241m.\u001b[39mgeneric_visit)\n\u001b[0;32m--> 410\u001b[0m \u001b[38;5;28;01mreturn\u001b[39;00m \u001b[43mvisitor\u001b[49m\u001b[43m(\u001b[49m\u001b[43mnode\u001b[49m\u001b[43m)\u001b[49m\n",
      "File \u001b[0;32m~/gt4py-update_types/gt4py/src/gt4py/next/ffront/func_to_foast.py:170\u001b[0m, in \u001b[0;36mFieldOperatorParser.visit_FunctionDef\u001b[0;34m(self, node, **kwargs)\u001b[0m\n\u001b[1;32m    160\u001b[0m         \u001b[38;5;28;01mcontinue\u001b[39;00m\n\u001b[1;32m    161\u001b[0m     closure_var_symbols\u001b[38;5;241m.\u001b[39mappend(\n\u001b[1;32m    162\u001b[0m         foast\u001b[38;5;241m.\u001b[39mSymbol(\n\u001b[1;32m    163\u001b[0m             \u001b[38;5;28mid\u001b[39m\u001b[38;5;241m=\u001b[39mname,\n\u001b[0;32m   (...)\u001b[0m\n\u001b[1;32m    167\u001b[0m         )\n\u001b[1;32m    168\u001b[0m     )\n\u001b[0;32m--> 170\u001b[0m new_body \u001b[38;5;241m=\u001b[39m \u001b[38;5;28;43mself\u001b[39;49m\u001b[38;5;241;43m.\u001b[39;49m\u001b[43m_visit_stmts\u001b[49m\u001b[43m(\u001b[49m\u001b[43mnode\u001b[49m\u001b[38;5;241;43m.\u001b[39;49m\u001b[43mbody\u001b[49m\u001b[43m,\u001b[49m\u001b[43m \u001b[49m\u001b[38;5;28;43mself\u001b[39;49m\u001b[38;5;241;43m.\u001b[39;49m\u001b[43mget_location\u001b[49m\u001b[43m(\u001b[49m\u001b[43mnode\u001b[49m\u001b[43m)\u001b[49m\u001b[43m,\u001b[49m\u001b[43m \u001b[49m\u001b[38;5;241;43m*\u001b[39;49m\u001b[38;5;241;43m*\u001b[39;49m\u001b[43mkwargs\u001b[49m\u001b[43m)\u001b[49m\n\u001b[1;32m    172\u001b[0m \u001b[38;5;28;01mif\u001b[39;00m deduce_stmt_return_kind(new_body) \u001b[38;5;241m==\u001b[39m StmtReturnKind\u001b[38;5;241m.\u001b[39mNO_RETURN:\n\u001b[1;32m    173\u001b[0m     \u001b[38;5;28;01mraise\u001b[39;00m errors\u001b[38;5;241m.\u001b[39mDSLError(loc, \u001b[38;5;124m\"\u001b[39m\u001b[38;5;124m'\u001b[39m\u001b[38;5;124mFunction\u001b[39m\u001b[38;5;124m'\u001b[39m\u001b[38;5;124m is expected to return a value.\u001b[39m\u001b[38;5;124m\"\u001b[39m)\n",
      "File \u001b[0;32m~/gt4py-update_types/gt4py/src/gt4py/next/ffront/func_to_foast.py:409\u001b[0m, in \u001b[0;36mFieldOperatorParser._visit_stmts\u001b[0;34m(self, stmts, location, **kwargs)\u001b[0m\n\u001b[1;32m    405\u001b[0m \u001b[38;5;28;01mdef\u001b[39;00m \u001b[38;5;21m_visit_stmts\u001b[39m(\n\u001b[1;32m    406\u001b[0m     \u001b[38;5;28mself\u001b[39m, stmts: \u001b[38;5;28mlist\u001b[39m[ast\u001b[38;5;241m.\u001b[39mstmt], location: eve\u001b[38;5;241m.\u001b[39mSourceLocation, \u001b[38;5;241m*\u001b[39m\u001b[38;5;241m*\u001b[39mkwargs\n\u001b[1;32m    407\u001b[0m ) \u001b[38;5;241m-\u001b[39m\u001b[38;5;241m>\u001b[39m foast\u001b[38;5;241m.\u001b[39mBlockStmt:\n\u001b[1;32m    408\u001b[0m     \u001b[38;5;28;01mreturn\u001b[39;00m foast\u001b[38;5;241m.\u001b[39mBlockStmt(\n\u001b[0;32m--> 409\u001b[0m         stmts\u001b[38;5;241m=\u001b[39m[\u001b[38;5;28mself\u001b[39m\u001b[38;5;241m.\u001b[39mvisit(el, \u001b[38;5;241m*\u001b[39m\u001b[38;5;241m*\u001b[39mkwargs) \u001b[38;5;28;01mfor\u001b[39;00m el \u001b[38;5;129;01min\u001b[39;00m stmts \u001b[38;5;28;01mif\u001b[39;00m \u001b[38;5;129;01mnot\u001b[39;00m \u001b[38;5;28misinstance\u001b[39m(el, ast\u001b[38;5;241m.\u001b[39mPass)],\n\u001b[1;32m    410\u001b[0m         location\u001b[38;5;241m=\u001b[39mlocation,\n\u001b[1;32m    411\u001b[0m     )\n",
      "File \u001b[0;32m~/gt4py-update_types/gt4py/src/gt4py/next/ffront/func_to_foast.py:409\u001b[0m, in \u001b[0;36m<listcomp>\u001b[0;34m(.0)\u001b[0m\n\u001b[1;32m    405\u001b[0m \u001b[38;5;28;01mdef\u001b[39;00m \u001b[38;5;21m_visit_stmts\u001b[39m(\n\u001b[1;32m    406\u001b[0m     \u001b[38;5;28mself\u001b[39m, stmts: \u001b[38;5;28mlist\u001b[39m[ast\u001b[38;5;241m.\u001b[39mstmt], location: eve\u001b[38;5;241m.\u001b[39mSourceLocation, \u001b[38;5;241m*\u001b[39m\u001b[38;5;241m*\u001b[39mkwargs\n\u001b[1;32m    407\u001b[0m ) \u001b[38;5;241m-\u001b[39m\u001b[38;5;241m>\u001b[39m foast\u001b[38;5;241m.\u001b[39mBlockStmt:\n\u001b[1;32m    408\u001b[0m     \u001b[38;5;28;01mreturn\u001b[39;00m foast\u001b[38;5;241m.\u001b[39mBlockStmt(\n\u001b[0;32m--> 409\u001b[0m         stmts\u001b[38;5;241m=\u001b[39m[\u001b[38;5;28;43mself\u001b[39;49m\u001b[38;5;241;43m.\u001b[39;49m\u001b[43mvisit\u001b[49m\u001b[43m(\u001b[49m\u001b[43mel\u001b[49m\u001b[43m,\u001b[49m\u001b[43m \u001b[49m\u001b[38;5;241;43m*\u001b[39;49m\u001b[38;5;241;43m*\u001b[39;49m\u001b[43mkwargs\u001b[49m\u001b[43m)\u001b[49m \u001b[38;5;28;01mfor\u001b[39;00m el \u001b[38;5;129;01min\u001b[39;00m stmts \u001b[38;5;28;01mif\u001b[39;00m \u001b[38;5;129;01mnot\u001b[39;00m \u001b[38;5;28misinstance\u001b[39m(el, ast\u001b[38;5;241m.\u001b[39mPass)],\n\u001b[1;32m    410\u001b[0m         location\u001b[38;5;241m=\u001b[39mlocation,\n\u001b[1;32m    411\u001b[0m     )\n",
      "File \u001b[0;32m/Library/Frameworks/Python.framework/Versions/3.10/lib/python3.10/ast.py:410\u001b[0m, in \u001b[0;36mNodeVisitor.visit\u001b[0;34m(self, node)\u001b[0m\n\u001b[1;32m    408\u001b[0m method \u001b[38;5;241m=\u001b[39m \u001b[38;5;124m'\u001b[39m\u001b[38;5;124mvisit_\u001b[39m\u001b[38;5;124m'\u001b[39m \u001b[38;5;241m+\u001b[39m node\u001b[38;5;241m.\u001b[39m\u001b[38;5;18m__class__\u001b[39m\u001b[38;5;241m.\u001b[39m\u001b[38;5;18m__name__\u001b[39m\n\u001b[1;32m    409\u001b[0m visitor \u001b[38;5;241m=\u001b[39m \u001b[38;5;28mgetattr\u001b[39m(\u001b[38;5;28mself\u001b[39m, method, \u001b[38;5;28mself\u001b[39m\u001b[38;5;241m.\u001b[39mgeneric_visit)\n\u001b[0;32m--> 410\u001b[0m \u001b[38;5;28;01mreturn\u001b[39;00m \u001b[43mvisitor\u001b[49m\u001b[43m(\u001b[49m\u001b[43mnode\u001b[49m\u001b[43m)\u001b[49m\n",
      "File \u001b[0;32m~/gt4py-update_types/gt4py/src/gt4py/next/ffront/func_to_foast.py:316\u001b[0m, in \u001b[0;36mFieldOperatorParser.visit_Return\u001b[0;34m(self, node, **kwargs)\u001b[0m\n\u001b[1;32m    314\u001b[0m loc \u001b[38;5;241m=\u001b[39m \u001b[38;5;28mself\u001b[39m\u001b[38;5;241m.\u001b[39mget_location(node)\n\u001b[1;32m    315\u001b[0m \u001b[38;5;28;01mif\u001b[39;00m \u001b[38;5;129;01mnot\u001b[39;00m node\u001b[38;5;241m.\u001b[39mvalue:\n\u001b[0;32m--> 316\u001b[0m     \u001b[38;5;28;01mraise\u001b[39;00m errors\u001b[38;5;241m.\u001b[39mDSLError(loc, \u001b[38;5;124m\"\u001b[39m\u001b[38;5;124mMust return a value, not None\u001b[39m\u001b[38;5;124m\"\u001b[39m)\n\u001b[1;32m    317\u001b[0m \u001b[38;5;28;01mreturn\u001b[39;00m foast\u001b[38;5;241m.\u001b[39mReturn(value\u001b[38;5;241m=\u001b[39m\u001b[38;5;28mself\u001b[39m\u001b[38;5;241m.\u001b[39mvisit(node\u001b[38;5;241m.\u001b[39mvalue), location\u001b[38;5;241m=\u001b[39mloc)\n",
      "\u001b[0;31mDSLError\u001b[0m: Must return a value, not None\n  File \"/private/var/folders/2b/_2y31vzs4sl_7rngh2yghbpw0000gn/T/ipykernel_56739/3624757481.py\", line 3"
     ]
    }
   ],
   "source": [
    "@gtx.field_operator\n",
    "def fieldop_domain_where(a: gtx.Field[Dims[K], float]) -> gtx.Field[Dims[K], float]:\n",
    "    return # TODO\n",
    "\n",
    "@gtx.program(backend=backend)\n",
    "def program_domain_where(a: gtx.Field[Dims[K], float], b: gtx.Field[Dims[K], float]):\n",
    "    ... # TODO "
   ]
  },
  {
   "cell_type": "code",
   "execution_count": 11,
   "id": "ed8254a8",
   "metadata": {},
   "outputs": [],
   "source": [
    "def test_domain_where():  \n",
    "    a = gtx.as_field([K], np.arange(10.0), allocator=backend)\n",
    "    b = gtx.as_field([K], np.zeros(shape=10), allocator=backend)\n",
    "    program_domain_where(a, b, offset_provider={\"Koff\": K})\n",
    "    \n",
    "    assert np.allclose(a_np_result, b.asnumpy())"
   ]
  },
  {
   "cell_type": "code",
   "execution_count": 12,
   "id": "ed393959",
   "metadata": {},
   "outputs": [
    {
     "ename": "NameError",
     "evalue": "name 'program_domain_where' is not defined",
     "output_type": "error",
     "traceback": [
      "\u001b[0;31m---------------------------------------------------------------------------\u001b[0m",
      "\u001b[0;31mNameError\u001b[0m                                 Traceback (most recent call last)",
      "Cell \u001b[0;32mIn[12], line 1\u001b[0m\n\u001b[0;32m----> 1\u001b[0m \u001b[43mtest_domain_where\u001b[49m\u001b[43m(\u001b[49m\u001b[43m)\u001b[49m\n\u001b[1;32m      2\u001b[0m \u001b[38;5;28mprint\u001b[39m(\u001b[38;5;124m\"\u001b[39m\u001b[38;5;124mTest successful\u001b[39m\u001b[38;5;124m\"\u001b[39m)\n",
      "Cell \u001b[0;32mIn[11], line 4\u001b[0m, in \u001b[0;36mtest_domain_where\u001b[0;34m()\u001b[0m\n\u001b[1;32m      2\u001b[0m a \u001b[38;5;241m=\u001b[39m gtx\u001b[38;5;241m.\u001b[39mas_field([K], np\u001b[38;5;241m.\u001b[39marange(\u001b[38;5;241m10.0\u001b[39m), allocator\u001b[38;5;241m=\u001b[39mbackend)\n\u001b[1;32m      3\u001b[0m b \u001b[38;5;241m=\u001b[39m gtx\u001b[38;5;241m.\u001b[39mas_field([K], np\u001b[38;5;241m.\u001b[39mzeros(shape\u001b[38;5;241m=\u001b[39m\u001b[38;5;241m10\u001b[39m), allocator\u001b[38;5;241m=\u001b[39mbackend)\n\u001b[0;32m----> 4\u001b[0m \u001b[43mprogram_domain_where\u001b[49m(a, b, offset_provider\u001b[38;5;241m=\u001b[39m{\u001b[38;5;124m\"\u001b[39m\u001b[38;5;124mKoff\u001b[39m\u001b[38;5;124m\"\u001b[39m: K})\n\u001b[1;32m      6\u001b[0m \u001b[38;5;28;01massert\u001b[39;00m np\u001b[38;5;241m.\u001b[39mallclose(a_np_result, b\u001b[38;5;241m.\u001b[39masnumpy())\n",
      "\u001b[0;31mNameError\u001b[0m: name 'program_domain_where' is not defined"
     ]
    }
   ],
   "source": [
    "test_domain_where()\n",
    "print(\"Test successful\")"
   ]
  },
  {
   "cell_type": "code",
   "execution_count": null,
   "id": "b37a1eec",
   "metadata": {},
   "outputs": [],
   "source": []
  }
 ],
 "metadata": {
  "jupytext": {
   "formats": "ipynb,md:myst"
  },
  "kernelspec": {
   "display_name": "Python 3 (ipykernel)",
   "language": "python",
   "name": "python3"
  },
  "language_info": {
   "codemirror_mode": {
    "name": "ipython",
    "version": 3
   },
   "file_extension": ".py",
   "mimetype": "text/x-python",
   "name": "python",
   "nbconvert_exporter": "python",
   "pygments_lexer": "ipython3",
   "version": "3.10.0"
  }
 },
 "nbformat": 4,
 "nbformat_minor": 5
}

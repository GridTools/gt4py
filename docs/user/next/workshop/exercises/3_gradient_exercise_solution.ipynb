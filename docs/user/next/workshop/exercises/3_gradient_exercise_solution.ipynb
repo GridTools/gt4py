{
 "cells": [
  {
   "cell_type": "markdown",
   "id": "8cfd1e20",
   "metadata": {},
   "source": [
    "# 4. Gradient"
   ]
  },
  {
   "cell_type": "markdown",
   "id": "72aa4c96",
   "metadata": {},
   "source": [
    "Another example is the gradient defined at the center of a Cell $\\mathbf{P}$ of a scalar function $f$. We approximate this by taking the sum over the three edges and multiplying $f(e)$ with the edge normal $\\mathbf{n}_e$ and the edge length $L_e$ and dividing the resulting sum with the cell area $A_P$.\n",
    "The result will be the two components of the gradient vector.\n",
    "\n",
    "![](../images/gradient_picture.png \"Divergence\")\n",
    "\n",
    "![](../images/gradient_formula.png \"Divergence\")"
   ]
  },
  {
   "cell_type": "code",
   "execution_count": 1,
   "id": "1bddcf59",
   "metadata": {},
   "outputs": [
    {
     "data": {
      "text/html": [
       "<link href=\"https://fonts.googleapis.com/icon?family=Material+Icons\" rel=\"stylesheet\"><script src=\"https://spcl.github.io/dace/webclient2/dist/sdfv.js\"></script>\n",
       "<link href=\"https://spcl.github.io/dace/webclient2/sdfv.css\" rel=\"stylesheet\">\n"
      ],
      "text/plain": [
       "<IPython.core.display.HTML object>"
      ]
     },
     "metadata": {},
     "output_type": "display_data"
    }
   ],
   "source": [
    "from helpers import *\n",
    "\n",
    "\n",
    "import gt4py.next as gtx"
   ]
  },
  {
   "cell_type": "code",
   "execution_count": 2,
   "id": "37b0bc43",
   "metadata": {},
   "outputs": [],
   "source": [
    "def gradient_numpy(\n",
    "    c2e: np.array,\n",
    "    f: np.array,\n",
    "    nx: np.array,\n",
    "    ny: np.array,\n",
    "    L: np.array,\n",
    "    A: np.array,\n",
    "    edge_orientation: np.array,\n",
    ") -> gtx.tuple[np.array, np.array]:\n",
    "    # edge_orientation = np.expand_dims(edge_orientation, axis=-1)\n",
    "    f_x = np.sum(f[c2e] * nx[c2e] * L[c2e] * edge_orientation, axis=1) / A\n",
    "    f_y = np.sum(f[c2e] * ny[c2e] * L[c2e] * edge_orientation, axis=1) / A\n",
    "    return f_x, f_y"
   ]
  },
  {
   "cell_type": "code",
   "execution_count": 3,
   "id": "afa80e49",
   "metadata": {},
   "outputs": [],
   "source": [
    "@gtx.field_operator\n",
    "def gradient(\n",
    "    f: gtx.Field[Dims[E], float],\n",
    "    nx: gtx.Field[Dims[E], float],\n",
    "    ny: gtx.Field[Dims[E], float],\n",
    "    L: gtx.Field[Dims[E], float],\n",
    "    A: gtx.Field[Dims[C], float],\n",
    "    edge_orientation: gtx.Field[Dims[C, C2EDim], float],\n",
    ") -> gtx.tuple[gtx.Field[Dims[C], float], gtx.Field[Dims[C], float]]:\n",
    "    f_x = neighbor_sum(f(C2E) * nx(C2E) * L(C2E) * edge_orientation, axis=C2EDim) / A\n",
    "    f_y = neighbor_sum(f(C2E) * ny(C2E) * L(C2E) * edge_orientation, axis=C2EDim) / A\n",
    "    return f_x, f_y"
   ]
  },
  {
   "cell_type": "code",
   "execution_count": 4,
   "id": "84b02762",
   "metadata": {},
   "outputs": [],
   "source": [
    "def test_gradient():\n",
    "    backend = None\n",
    "    # backend = gtfn_cpu\n",
    "    # backend = gtfn_gpu\n",
    "\n",
    "    cell_domain = gtx.domain({C: n_cells})\n",
    "    edge_domain = gtx.domain({E: n_edges})\n",
    "    \n",
    "    f = random_field(edge_domain, allocator=backend)\n",
    "    nx = random_field(edge_domain, allocator=backend)\n",
    "    ny = random_field(edge_domain, allocator=backend)\n",
    "    L = random_field(edge_domain, allocator=backend)\n",
    "    A = random_field(cell_domain, allocator=backend)\n",
    "    edge_orientation = random_sign(\n",
    "        gtx.domain({C: n_cells, C2EDim: 3}), allocator=backend\n",
    "    )\n",
    "\n",
    "    gradient_numpy_x, gradient_numpy_y = gradient_numpy(\n",
    "        c2e_table,\n",
    "        f.asnumpy(),\n",
    "        nx.asnumpy(),\n",
    "        ny.asnumpy(),\n",
    "        L.asnumpy(),\n",
    "        A.asnumpy(),\n",
    "        edge_orientation.asnumpy(),\n",
    "    )\n",
    "\n",
    "    c2e_connectivity = gtx.NeighborTableOffsetProvider(c2e_table, C, E, 3, has_skip_values=False)\n",
    "\n",
    "    gradient_gt4py_x = gtx.zeros(cell_domain, allocator=backend) \n",
    "    gradient_gt4py_y = gtx.zeros(cell_domain, allocator=backend) \n",
    "\n",
    "    gradient(\n",
    "        f,\n",
    "        nx,\n",
    "        ny,\n",
    "        L,\n",
    "        A,\n",
    "        edge_orientation,\n",
    "        out=(gradient_gt4py_x, gradient_gt4py_y),\n",
    "        offset_provider={C2E.value: c2e_connectivity},\n",
    "    )\n",
    "\n",
    "    assert np.allclose(gradient_gt4py_x.asnumpy(), gradient_numpy_x)\n",
    "    assert np.allclose(gradient_gt4py_y.asnumpy(), gradient_numpy_y)"
   ]
  },
  {
   "cell_type": "code",
   "execution_count": 5,
   "id": "9267fe99",
   "metadata": {},
   "outputs": [
    {
     "name": "stdout",
     "output_type": "stream",
     "text": [
      "Test successful\n"
     ]
    }
   ],
   "source": [
    "test_gradient()\n",
    "print(\"Test successful\")"
   ]
  },
  {
   "cell_type": "code",
   "execution_count": null,
   "id": "2092795a-a774-4129-b42d-0c3193961303",
   "metadata": {},
   "outputs": [],
   "source": []
  }
 ],
 "metadata": {
  "jupytext": {
   "formats": "ipynb,md:myst"
  },
  "kernelspec": {
   "display_name": "Python 3 (ipykernel)",
   "language": "python",
   "name": "python3"
  },
  "language_info": {
   "codemirror_mode": {
    "name": "ipython",
    "version": 3
   },
   "file_extension": ".py",
   "mimetype": "text/x-python",
   "name": "python",
   "nbconvert_exporter": "python",
   "pygments_lexer": "ipython3",
   "version": "3.10.0"
  }
 },
 "nbformat": 4,
 "nbformat_minor": 5
}

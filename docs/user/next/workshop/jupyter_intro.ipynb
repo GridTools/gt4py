{
 "cells": [
  {
   "cell_type": "markdown",
   "metadata": {},
   "source": [
    "# Introduction to jupyter lab\n",
    "\n",
    "In this notebook, we want to give you an introduction to jupyter lab. The goal is to learn all prerequisites so that you can solve the exercises."
   ]
  },
  {
   "cell_type": "markdown",
   "metadata": {},
   "source": [
    "Jupyter Lab gives us a convenient environment to work with notebooks. The current web interface is Jupyter Lab. It has some very nice features that we want to go through:\n",
    "\n",
    "#### File Explorer\n",
    "\n",
    "On the left hand side you will find a simple file explorer with the following useful functionality.\n",
    "\n",
    "You can navigate between folders by double clicking folders. At the top, you will see the current path and you can navigate back to the starting location.\n",
    "\n",
    "Double clicking a file will open it. Depending on the file type it will be opened differently. Jupyter Lab also has a basic text editor, so you can open textual files.\n",
    "\n",
    "It is likely that you opened jupyter lab through mybinder or by running a docker image. In that case, it's useful to download files onto your local machine. You can do that by right clicking a file and then selecting download. Vice versa, you can also upload files by clicking the upload file button (up arrow icon) at the top button toolbar of the file explorer.\n",
    "\n",
    "The file explorer is quite useful and you're generally encouraged to look for features yourselves.\n",
    "\n",
    "#### Launcher\n",
    "\n",
    "The next feature we want to look at is the launcher. It is accessible through the file explorere. The plus icon at the top toolbar of the file explorer will open the launcher. With the launcher you can start new python notebooks, python consoles and even a basic terminal. This way you can, e.g., experiment with dusk & dawn more interactively by using a python console or a terminal. Additionally, you can create your own python notebooks for experimentation and if you want, you can also download it.\n",
    "\n",
    "#### Windowing\n",
    "\n",
    "Jupyter lab has pretty good support for having different _windows_ open. If you open multiple notebooks, terminals or consoles, they will all be accessible from the top bar. Almost at the top of this web interface. By dragging the window title, you can arrange the windows however you want. E.g., side by side or top/down arrangements are possible as well. You are also encouraged to arrange them to your liking. Some useful layouts could be to open an exercise notebook side by side with the corresponding exercise slides or to have a python console below your exercise notebook, to experiment with dusk/dawn's functionality while solving the exercise."
   ]
  },
  {
   "cell_type": "markdown",
   "metadata": {},
   "source": [
    "### Jupyter Lab's notebooks\n",
    "\n",
    "What you are currently reading is called a python notebook. Here we want to give you a quick introduction to that.\n",
    "\n",
    "A notebook consists of cells. These cells can contain different types of content. E.g., markdown text (as is the case for this cell) or code.\n",
    "Below is an example of a cell with code:"
   ]
  },
  {
   "cell_type": "code",
   "execution_count": null,
   "metadata": {},
   "outputs": [],
   "source": [
    "# This is a cell with python code.\n",
    "print(\"Hello, World!\")\n",
    "\n",
    "# We can write python code which will be executed and we'll see the output of that code below:"
   ]
  },
  {
   "cell_type": "markdown",
   "metadata": {},
   "source": [
    "The output of a cell always corresponds to an execution of that cell. If the code of the cell gets modified, we'll only see the modifications in the output if we execute the cell again. At the top of this notebook, you find a toolbar with various actions we can carry out on cells. This toolbar includes the possibility to execute a cell (the _play_ button). Try it for the cell below:"
   ]
  },
  {
   "cell_type": "code",
   "execution_count": null,
   "metadata": {},
   "outputs": [],
   "source": [
    "print(\"\".join(map(lambda c: chr(ord(c) - 2), \"Kv\\\"yqtmgf#\")))"
   ]
  },
  {
   "cell_type": "markdown",
   "metadata": {},
   "source": [
    "You should see as the output \"It worked!\".\n",
    "\n",
    "You can add new cells by clicking the plus button in the _cell's toolbar_. The type of the cell can be changed with the drop down menu in the same toolbar. Code cells are probably the most useful for you.\n",
    "\n",
    "Sometimes it can take some time for a cell to execute. While the cell executes, you will see a star ('[\\*]') on its left hand side. Try it with the cell below:"
   ]
  },
  {
   "cell_type": "code",
   "execution_count": null,
   "metadata": {},
   "outputs": [],
   "source": [
    "from time import sleep\n",
    "\n",
    "for word in \"While the cell executes, you will see a star ('[*]') on its left hand side.\".split():\n",
    "    print(word + \" \", end=\"\")\n",
    "    sleep(0.8)\n",
    "print()"
   ]
  },
  {
   "cell_type": "markdown",
   "metadata": {},
   "source": [
    "Feel free to experiment with the top toolbar a bit.\n",
    "\n",
    "The order of executing the cell matters, since each cell can introduce and use variables for other cells. Sometimes, your code doesn't work anymore, because the cells were executed in a bad order. You can reset this easily, by clicking the button to restart and execute the whole notebook again (the two left arrows)."
   ]
  }
 ],
 "metadata": {
  "kernelspec": {
   "display_name": "Python 3 (ipykernel)",
   "language": "python",
   "name": "python3"
  },
  "language_info": {
   "codemirror_mode": {
    "name": "ipython",
    "version": 3
   },
   "file_extension": ".py",
   "mimetype": "text/x-python",
   "name": "python",
   "nbconvert_exporter": "python",
   "pygments_lexer": "ipython3",
   "version": "3.10.12"
  },
  "output_auto_scroll": false
 },
 "nbformat": 4,
 "nbformat_minor": 4
}

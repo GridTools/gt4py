{
 "cells": [
  {
   "cell_type": "markdown",
   "id": "2d564f4a",
   "metadata": {},
   "source": [
    "<img src=\"../images/logos/cscs_logo.jpeg\" alt=\"cscs\" style=\"width:270px;\"/> <img src=\"../images/logos/c2sm_logo.gif\" alt=\"c2sm\" style=\"width:220px;\"/>\n",
    "<img src=\"../images/logos/exclaim_logo.png\" alt=\"exclaim\" style=\"width:270px;\"/> <img src=\"../images/logos/mch_logo.svg\" alt=\"mch\" style=\"width:270px;\"/>"
   ]
  },
  {
   "cell_type": "code",
   "execution_count": 1,
   "id": "be426d3c",
   "metadata": {},
   "outputs": [],
   "source": [
    "import warnings\n",
    "warnings.filterwarnings('ignore')"
   ]
  },
  {
   "cell_type": "code",
   "execution_count": 2,
   "id": "f46d4bcc",
   "metadata": {},
   "outputs": [
    {
     "data": {
      "text/html": [
       "<link href=\"https://fonts.googleapis.com/icon?family=Material+Icons\" rel=\"stylesheet\"><script src=\"https://spcl.github.io/dace/webclient2/dist/sdfv.js\"></script>\n",
       "<link href=\"https://spcl.github.io/dace/webclient2/sdfv.css\" rel=\"stylesheet\">\n"
      ],
      "text/plain": [
       "<IPython.core.display.HTML object>"
      ]
     },
     "metadata": {},
     "output_type": "display_data"
    }
   ],
   "source": [
    "import numpy as np\n",
    "import gt4py.next as gtx\n",
    "from gt4py.next import float64, neighbor_sum, Dims"
   ]
  },
  {
   "cell_type": "code",
   "execution_count": 3,
   "id": "8724b3c1",
   "metadata": {},
   "outputs": [],
   "source": [
    "Cell = gtx.Dimension(\"Cell\")\n",
    "K = gtx.Dimension(\"K\", kind=gtx.DimensionKind.VERTICAL)"
   ]
  },
  {
   "cell_type": "markdown",
   "id": "fa5157be",
   "metadata": {},
   "source": [
    "## Offsets\n",
    "Fields can be shifted with a (Cartesian) offset.\n",
    "\n",
    "Take the following array:"
   ]
  },
  {
   "cell_type": "code",
   "execution_count": 4,
   "id": "0f816fbc",
   "metadata": {},
   "outputs": [
    {
     "name": "stdout",
     "output_type": "stream",
     "text": [
      "a_off array: \n",
      " [1. 1. 2. 3. 5. 8.]\n"
     ]
    }
   ],
   "source": [
    "a_off = gtx.as_field([K], np.array([1.0, 1.0, 2.0, 3.0, 5.0, 8.0]))\n",
    "\n",
    "print(\"a_off array: \\n {}\".format(a_off.asnumpy()))"
   ]
  },
  {
   "cell_type": "markdown",
   "id": "fd78cff7",
   "metadata": {},
   "source": [
    "Visually, offsetting this field by 1 would result in the following:\n",
    "\n",
    "| ![Coff](../images/simple_offset.png) |\n",
    "| :------------------------: |\n",
    "|  _CellDim Offset (Coff)_   |\n",
    "\n",
    "In GT4Py we express this by"
   ]
  },
  {
   "cell_type": "code",
   "execution_count": 5,
   "id": "1e8670ca",
   "metadata": {},
   "outputs": [
    {
     "name": "stdout",
     "output_type": "stream",
     "text": [
      "result field: \n",
      " ⟨Domain(K[vertical]=(0:6)) → DType(scalar_type=<class 'numpy.float64'>, tensor_shape=())⟩ \n",
      " [1. 2. 3. 5. 8. 0.]\n"
     ]
    }
   ],
   "source": [
    "Koff = gtx.FieldOffset(\"Koff\", source=K, target=(K,))\n",
    "\n",
    "@gtx.field_operator\n",
    "def a_offset(a_off: gtx.Field[Dims[K], float64]) -> gtx.Field[Dims[K], float64]:\n",
    "    return a_off(Koff[1])\n",
    "\n",
    "result = gtx.zeros(gtx.domain({K: 6}))\n",
    "\n",
    "a_offset(a_off, out=result[:-1], offset_provider={\"Koff\": K})\n",
    "print(f\"result field: \\n {result} \\n {result.asnumpy()}\")"
   ]
  },
  {
   "cell_type": "markdown",
   "id": "aa841d31",
   "metadata": {},
   "source": [
    "## Defining the mesh and its connectivities\n",
    "Take an unstructured mesh with numbered cells (in red) and edges (in blue).\n",
    "\n",
    "| ![grid_topo](../images/connectivity_numbered_grid.svg) |\n",
    "| :------------------------------------------: |\n",
    "|         _The mesh with the indices_          |"
   ]
  },
  {
   "cell_type": "code",
   "execution_count": 6,
   "id": "64621d61",
   "metadata": {},
   "outputs": [],
   "source": [
    "Cell = gtx.Dimension(\"Cell\")\n",
    "Edge = gtx.Dimension(\"Edge\")"
   ]
  },
  {
   "cell_type": "markdown",
   "id": "8da1ce25",
   "metadata": {},
   "source": [
    "Connectivity among mesh elements is expressed through connectivity tables.\n",
    "\n",
    "For example, `e2c_table` lists for each edge its adjacent cells. \n",
    "\n",
    "Similarly, `c2e_table` lists the edges that are neighbors to a particular cell.\n",
    "\n",
    "Note that if an edge is lying at the border, one entry will be filled with -1."
   ]
  },
  {
   "cell_type": "code",
   "execution_count": 7,
   "id": "9e15475d",
   "metadata": {},
   "outputs": [],
   "source": [
    "e2c_table = np.array([\n",
    "    [0, -1], # edge 0 (neighbours: cell 0)\n",
    "    [2, -1], # edge 1\n",
    "    [2, -1], # edge 2\n",
    "    [3, -1], # edge 3\n",
    "    [4, -1], # edge 4\n",
    "    [5, -1], # edge 5\n",
    "    [0, 5],  # edge 6 (neighbours: cell 0, cell 5)\n",
    "    [0, 1],  # edge 7\n",
    "    [1, 2],  # edge 8\n",
    "    [1, 3],  # edge 9\n",
    "    [3, 4],  # edge 10\n",
    "    [4, 5]   # edge 11\n",
    "])\n",
    "\n",
    "c2e_table = np.array([\n",
    "    [0, 6, 7],   # cell 0 (neighbors: edge 0, edge 6, edge 7)\n",
    "    [7, 8, 9],   # cell 1\n",
    "    [1, 2, 8],   # cell 2\n",
    "    [3, 9, 10],  # cell 3\n",
    "    [4, 10, 11], # cell 4\n",
    "    [5, 6, 11],  # cell 5\n",
    "])"
   ]
  },
  {
   "cell_type": "markdown",
   "id": "50ee54b2",
   "metadata": {},
   "source": [
    "#### Using connectivities in field operators\n",
    "\n",
    "Let's start by defining two fields: one over the cells and another one over the edges. The field over cells serves input as for subsequent calculations and is therefore filled up with values, whereas the field over the edges stores the output of the calculations and is therefore left blank."
   ]
  },
  {
   "cell_type": "code",
   "execution_count": 8,
   "id": "19a2c01a",
   "metadata": {},
   "outputs": [],
   "source": [
    "cell_field = gtx.as_field([Cell], np.array([1.0, 1.0, 2.0, 3.0, 5.0, 8.0]))\n",
    "edge_field = gtx.as_field([Edge], np.zeros((12,)))"
   ]
  },
  {
   "cell_type": "markdown",
   "id": "d4184fbc",
   "metadata": {},
   "source": [
    "| ![cell_values](../images/connectivity_cell_field.svg) |\n",
    "| :-----------------------------------------: |\n",
    "|                _Cell values_                |"
   ]
  },
  {
   "cell_type": "markdown",
   "id": "fbeb2868",
   "metadata": {},
   "source": [
    "`field_offset` is used to remap fields over one domain to another domain, e.g. cells -> edges."
   ]
  },
  {
   "cell_type": "markdown",
   "id": "1c02e0a8",
   "metadata": {},
   "source": [
    "Field remappings are just composition of mappings\n",
    "- Field defined on cells: $f_C: C \\to \\mathbb{R}$\n",
    "- Connectivity from _edges to cells_: $c_{E \\to C_0}$\n",
    "- We define a new field on edges composing both mappings\n",
    "$$ f_E: E \\to \\mathbb{R}, e \\mapsto (f_C \\circ c_{E \\to C_0})(e) := f_c(c_{E \\to C_0}(e)) $$\n",
    "- In point-free notation: $f_E = f_C(c_{E \\to C_0}) \\Rightarrow$ `f_c(E2C[0])`\n",
    "\n",
    "\n",
    "We extend the connectivities to refer to more than just one neighbor\n",
    "- `E2CDim` is the local dimension of all cell neighbors of an edge\n",
    "\n",
    "$$ c_{E \\to C}: E \\times E2CDim \\to C $$\n",
    "$$ f_E(e, l) := f_C(c_{E \\to C}(e, l)), e \\in E, l \\in \\{0,1\\} $$"
   ]
  },
  {
   "cell_type": "code",
   "execution_count": 9,
   "id": "2f87a176",
   "metadata": {},
   "outputs": [],
   "source": [
    "E2CDim = gtx.Dimension(\"E2C\", kind=gtx.DimensionKind.LOCAL)\n",
    "E2C = gtx.FieldOffset(\"E2C\", source=Cell, target=(Edge, E2CDim))"
   ]
  },
  {
   "cell_type": "code",
   "execution_count": 10,
   "id": "6d30a5e1",
   "metadata": {},
   "outputs": [],
   "source": [
    "E2C_offset_provider = gtx.NeighborTableOffsetProvider(e2c_table, Edge, Cell, 2)"
   ]
  },
  {
   "cell_type": "code",
   "execution_count": 12,
   "id": "d62f6c98",
   "metadata": {},
   "outputs": [
    {
     "name": "stdout",
     "output_type": "stream",
     "text": [
      "0th adjacent cell's value: [1. 2. 2. 3. 5. 8. 1. 1. 1. 1. 3. 5.]\n"
     ]
    }
   ],
   "source": [
    "@gtx.field_operator\n",
    "def nearest_cell_to_edge(cell_field: gtx.Field[Dims[Cell], float64]) -> gtx.Field[Dims[Edge], float64]:\n",
    "    return cell_field(E2C[0]) # 0th index to isolate edge dimension\n",
    "\n",
    "@gtx.program # uses skip_values, therefore we cannot use embedded\n",
    "def run_nearest_cell_to_edge(cell_field: gtx.Field[Dims[Cell], float64], edge_field: gtx.Field[Dims[Edge], float64]):\n",
    "    nearest_cell_to_edge(cell_field, out=edge_field)\n",
    "\n",
    "run_nearest_cell_to_edge(cell_field, edge_field, offset_provider={\"E2C\": E2C_offset_provider})\n",
    "\n",
    "print(\"0th adjacent cell's value: {}\".format(edge_field.asnumpy()))"
   ]
  },
  {
   "cell_type": "markdown",
   "id": "57e47a67",
   "metadata": {},
   "source": [
    "Running the above snippet results in the following edge field:\n",
    "\n",
    "| ![nearest_cell_values](../images/connectivity_numbered_grid.svg) | $\\mapsto$ | ![grid_topo](../images/connectivity_edge_0th_cell.svg) |\n",
    "| :----------------------------------------------------: | :-------: | :------------------------------------------: |\n",
    "|                    _Domain (edges)_                    |           |                _Edge values_                 |"
   ]
  },
  {
   "cell_type": "markdown",
   "id": "c94ef7e7",
   "metadata": {},
   "source": [
    "### Another example: E2V\n",
    "\n",
    "Creating fields on edges from fields on vertices using an **E2V** connectivity:\n",
    "\n",
    "| <div><img src=\"../images/remap-field.png\" width=\"75%\"/></div> |\n",
    "| :-----------------------------------------: |\n",
    "| <div><img src=\"../images/remap-field-code.png\" width=\"50%\"/></div> |\n",
    "\n",
    "We can create two edge fields from the same vertex field, by taking the values from the start or from the end vertex, and then you can operate wi to the \n",
    "| <div><img src=\"../images/e2v-add.png\" width=\"75%\"/></div> |\n",
    "| :-----------------------------------------: |\n",
    "| <div><img src=\"../images/e2v-add-code.png\" width=\"50%\"/></div> |"
   ]
  },
  {
   "cell_type": "markdown",
   "id": "aee8bf01",
   "metadata": {},
   "source": [
    "### Using reductions on connected mesh elements\n",
    "\n",
    "To sum up all the cells adjacent to an edge the `neighbor_sum` builtin function can be called to operate along the `E2CDim` dimension."
   ]
  },
  {
   "cell_type": "code",
   "execution_count": 13,
   "id": "d51eae8b",
   "metadata": {},
   "outputs": [
    {
     "name": "stdout",
     "output_type": "stream",
     "text": [
      "sum of adjacent cells: [ 1.  2.  2.  3.  5.  8.  9.  2.  3.  4.  8. 13.]\n"
     ]
    }
   ],
   "source": [
    "@gtx.field_operator\n",
    "def sum_adjacent_cells(cell_field : gtx.Field[Dims[Cell], float64]) -> gtx.Field[Dims[Edge], float64]:\n",
    "    return neighbor_sum(cell_field(E2C), axis=E2CDim)\n",
    "\n",
    "@gtx.program # uses skip_values, therefore we cannot use embedded\n",
    "def run_sum_adjacent_cells(cell_field : gtx.Field[Dims[Cell], float64], edge_field: gtx.Field[Dims[Edge], float64]):\n",
    "    sum_adjacent_cells(cell_field, out=edge_field)\n",
    "\n",
    "run_sum_adjacent_cells(cell_field, edge_field, offset_provider={\"E2C\": E2C_offset_provider})\n",
    "\n",
    "print(\"sum of adjacent cells: {}\".format(edge_field.asnumpy()))"
   ]
  },
  {
   "cell_type": "markdown",
   "id": "aadeae6d",
   "metadata": {},
   "source": [
    "For the border edges, the results are unchanged compared to the previous example, but the inner edges now contain the sum of the two adjacent cells:\n",
    "\n",
    "| ![nearest_cell_values](../images/connectivity_numbered_grid.svg) | $\\mapsto$ | ![cell_values](../images/connectivity_edge_cell_sum.svg) |\n",
    "| :----------------------------------------------------: | :-------: | :--------------------------------------------: |\n",
    "|                    _Domain (edges)_                    |           |                 _Edge values_                  |"
   ]
  },
  {
   "cell_type": "code",
   "execution_count": null,
   "id": "dcc661aa-8300-4c4c-9437-a85e6d319fae",
   "metadata": {},
   "outputs": [],
   "source": []
  },
  {
   "cell_type": "code",
   "execution_count": null,
   "id": "3906e41a-964c-4157-a3e8-29f8969162f4",
   "metadata": {},
   "outputs": [],
   "source": []
  }
 ],
 "metadata": {
  "jupytext": {
   "formats": "ipynb,md:myst"
  },
  "kernelspec": {
   "display_name": "Python 3 (ipykernel)",
   "language": "python",
   "name": "python3"
  },
  "language_info": {
   "codemirror_mode": {
    "name": "ipython",
    "version": 3
   },
   "file_extension": ".py",
   "mimetype": "text/x-python",
   "name": "python",
   "nbconvert_exporter": "python",
   "pygments_lexer": "ipython3",
   "version": "3.10.0"
  }
 },
 "nbformat": 4,
 "nbformat_minor": 5
}

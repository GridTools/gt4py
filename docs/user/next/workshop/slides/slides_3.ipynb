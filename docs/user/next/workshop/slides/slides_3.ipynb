{
 "cells": [
  {
   "cell_type": "markdown",
   "id": "b4fe65fe",
   "metadata": {},
   "source": [
    "<img src=\"../images/logos/cscs_logo.jpeg\" alt=\"cscs\" style=\"width:270px;\"/> <img src=\"../images/logos/c2sm_logo.gif\" alt=\"c2sm\" style=\"width:220px;\"/>\n",
    "<img src=\"../images/logos/exclaim_logo.png\" alt=\"exclaim\" style=\"width:270px;\"/> <img src=\"../images/logos/mch_logo.svg\" alt=\"mch\" style=\"width:270px;\"/>"
   ]
  },
  {
   "cell_type": "code",
   "execution_count": 1,
   "id": "c1e32292",
   "metadata": {},
   "outputs": [],
   "source": [
    "import warnings\n",
    "warnings.filterwarnings('ignore')"
   ]
  },
  {
   "cell_type": "code",
   "execution_count": 2,
   "id": "42fa04fd",
   "metadata": {},
   "outputs": [
    {
     "data": {
      "text/html": [
       "<link href=\"https://fonts.googleapis.com/icon?family=Material+Icons\" rel=\"stylesheet\"><script src=\"https://spcl.github.io/dace/webclient2/dist/sdfv.js\"></script>\n",
       "<link href=\"https://spcl.github.io/dace/webclient2/sdfv.css\" rel=\"stylesheet\">\n"
      ],
      "text/plain": [
       "<IPython.core.display.HTML object>"
      ]
     },
     "metadata": {},
     "output_type": "display_data"
    }
   ],
   "source": [
    "import numpy as np\n",
    "import gt4py.next as gtx\n",
    "from gt4py.next import where, Dims"
   ]
  },
  {
   "cell_type": "code",
   "execution_count": 3,
   "id": "5f51044d",
   "metadata": {},
   "outputs": [],
   "source": [
    "Cell = gtx.Dimension(\"Cell\")\n",
    "K = gtx.Dimension(\"K\", kind=gtx.DimensionKind.VERTICAL)"
   ]
  },
  {
   "cell_type": "markdown",
   "id": "ca021e19",
   "metadata": {},
   "source": [
    "## Using conditionals on Fields\n",
    "\n",
    "To conditionally compose a Field from two inputs, we borrow the `where` function from numpy. \n",
    "\n",
    "This function takes 3 input arguments:\n",
    "- mask: a Field of booleans\n",
    "- true branch: a tuple, a Field, or a scalar\n",
    "- false branch: a tuple, a Field, of a scalar"
   ]
  },
  {
   "cell_type": "code",
   "execution_count": 7,
   "id": "d8ad52ce",
   "metadata": {},
   "outputs": [
    {
     "name": "stdout",
     "output_type": "stream",
     "text": [
      "mask array: [ True False  True  True False]\n",
      "true_Field array:  [11. 12. 13. 14. 15.]\n",
      "false_Field array: [21. 22. 23. 24. 25.]\n",
      "where return:      [11. 22. 13. 14. 25.]\n"
     ]
    }
   ],
   "source": [
    "mask = gtx.as_field([Cell], np.asarray([True, False, True, True, False]))\n",
    "\n",
    "true_Field = gtx.as_field([Cell], np.asarray([11.0, 12.0, 13.0, 14.0, 15.0]))\n",
    "false_Field = gtx.as_field([Cell], np.asarray([21.0, 22.0, 23.0, 24.0, 25.0]))\n",
    "\n",
    "result = gtx.zeros(gtx.domain({Cell:5}))\n",
    "\n",
    "@gtx.field_operator\n",
    "def conditional(mask: gtx.Field[Dims[Cell], bool], true_Field: gtx.Field[Dims[Cell], gtx.float64], false_Field: gtx.Field[Dims[Cell], gtx.float64]\n",
    ") -> gtx.Field[Dims[Cell], gtx.float64]:\n",
    "    return where(mask, true_Field, false_Field)\n",
    "\n",
    "conditional(mask, true_Field, false_Field, out=result, offset_provider={})\n",
    "print(\"mask array: {}\".format(mask.asnumpy()))\n",
    "print(\"true_Field array:  {}\".format(true_Field.asnumpy()))\n",
    "print(\"false_Field array: {}\".format(false_Field.asnumpy()))\n",
    "print(\"where return:      {}\".format(result.asnumpy()))"
   ]
  },
  {
   "cell_type": "markdown",
   "id": "125181f9",
   "metadata": {},
   "source": [
    "## Using domain on Fields\n",
    "\n",
    "By default the whole `out` Field is updated. If only a subset should be updated, we can specify the output domain by passing the `domain` keyword argument when calling the Field operator."
   ]
  },
  {
   "cell_type": "code",
   "execution_count": 8,
   "id": "777d2613",
   "metadata": {},
   "outputs": [],
   "source": [
    "@gtx.field_operator\n",
    "def add(a: gtx.Field[Dims[Cell, K], gtx.float64],\n",
    "        b: gtx.Field[Dims[Cell, K], gtx.float64]) -> gtx.Field[Dims[Cell, K], gtx.float64]:\n",
    "    return a + b   # 2.0 + 3.0\n",
    "\n",
    "@gtx.program\n",
    "def run_add_domain(a : gtx.Field[Dims[Cell, K], gtx.float64],\n",
    "            b : gtx.Field[Dims[Cell, K], gtx.float64],\n",
    "            result : gtx.Field[Dims[Cell, K], gtx.float64]):\n",
    "    add(a, b, out=result, domain={Cell: (1, 3), K: (1, 4)}) "
   ]
  },
  {
   "cell_type": "code",
   "execution_count": 9,
   "id": "a2f9b111",
   "metadata": {},
   "outputs": [
    {
     "name": "stdout",
     "output_type": "stream",
     "text": [
      "result array: \n",
      " [[0. 0. 0. 0. 0. 0.]\n",
      " [0. 5. 5. 5. 0. 0.]\n",
      " [0. 5. 5. 5. 0. 0.]\n",
      " [0. 0. 0. 0. 0. 0.]\n",
      " [0. 0. 0. 0. 0. 0.]]\n"
     ]
    }
   ],
   "source": [
    "domain = gtx.domain({Cell: 5, K: 6})\n",
    "\n",
    "a = gtx.full(domain, fill_value=2.0, dtype=np.float64)\n",
    "b = gtx.full(domain, fill_value=3.0, dtype=np.float64)\n",
    "result = gtx.zeros(domain)\n",
    "run_add_domain(a, b, result, offset_provider={})\n",
    "\n",
    "print(\"result array: \\n {}\".format(result.asnumpy()))"
   ]
  },
  {
   "cell_type": "code",
   "execution_count": null,
   "id": "2b3a64f3",
   "metadata": {},
   "outputs": [],
   "source": []
  }
 ],
 "metadata": {
  "jupytext": {
   "formats": "ipynb,md:myst"
  },
  "kernelspec": {
   "display_name": "Python 3 (ipykernel)",
   "language": "python",
   "name": "python3"
  },
  "language_info": {
   "codemirror_mode": {
    "name": "ipython",
    "version": 3
   },
   "file_extension": ".py",
   "mimetype": "text/x-python",
   "name": "python",
   "nbconvert_exporter": "python",
   "pygments_lexer": "ipython3",
   "version": "3.10.0"
  }
 },
 "nbformat": 4,
 "nbformat_minor": 5
}

{
 "cells": [
  {
   "cell_type": "markdown",
   "id": "9726610d",
   "metadata": {},
   "source": [
    "<img src=\"../images/logos/cscs_logo.jpeg\" alt=\"cscs\" style=\"width:270px;\"/> <img src=\"../images/logos/c2sm_logo.gif\" alt=\"c2sm\" style=\"width:220px;\"/>\n",
    "<img src=\"../images/logos/exclaim_logo.png\" alt=\"exclaim\" style=\"width:270px;\"/> <img src=\"../images/logos/mch_logo.svg\" alt=\"mch\" style=\"width:270px;\"/>"
   ]
  },
  {
   "cell_type": "markdown",
   "id": "ecab97a5",
   "metadata": {},
   "source": [
    "# GT4Py workshop"
   ]
  },
  {
   "cell_type": "markdown",
   "id": "9046c2b6",
   "metadata": {},
   "source": [
    "## GT4Py: GridTools for Python\n",
    "\n",
    "GT4Py is a Python library for generating high performance implementations of stencil kernels from a high-level definition using regular Python functions.\n",
    "\n",
    "GT4Py is part of the GridTools framework: a set of libraries and utilities to develop performance portable applications in the area of weather and climate modeling.\n",
    "\n",
    "**NOTE:** The `gt4py.next` subpackage contains a new and currently experimental version of GT4Py.\n",
    "\n",
    "## Description\n",
    "\n",
    "GT4Py is a Python library for expressing computational motifs as found in weather and climate applications.\n",
    "\n",
    "These computations are expressed in a domain specific language (DSL) which is translated to high-performance implementations for CPUs and GPUs.\n",
    "\n",
    "In addition, GT4Py provides functions to allocate arrays with memory layout suited for a particular backend.\n",
    "\n",
    "The following backends are supported:\n",
    "\n",
    "- `None` aka _embedded_: runs the DSL code directly via the Python interpreter (experimental)\n",
    "- `gtfn_cpu` and `gtfn_gpu`: transpiles the DSL to C++ code using the GridTools library\n",
    "- `dace`: uses the DaCe library to generate optimized code (experimental)\n",
    "\n",
    "In this workshop we will mainly use the _embedded_ backend.\n",
    "\n",
    "## Current efforts\n",
    "\n",
    "GT4Py is being used to port the ICON model from FORTRAN. Currently the **dycore**, **diffusion**, and **microphysics** are complete.\n",
    "\n",
    "The ultimate goal is to have a more flexible and modularized model that can be run on CSCS Alps infrastructure as well as other hardware.\n",
    "\n",
    "Other models ported using GT4Py are ECMWF's FVM, in global (with `gt4py.next` and local area configuration (with `gt4py.cartesian`) and GFDL's FV3 (with `gt4py.cartesian`; original port by AI2)."
   ]
  },
  {
   "cell_type": "markdown",
   "id": "79cec88a",
   "metadata": {},
   "source": [
    "## Installation and setup\n",
    "\n",
    "Get an account from https://docs.google.com/document/d/1SuMr2sEdsGHGcnSFczNLGdTVYvNuuXBpCqB-3zL1E9c/edit?usp=sharing and mark with your name.\n",
    "\n",
    "After cloning the repository to $SCRATCH and setting a symlink to your home-directory\n",
    "\n",
    "```\n",
    "cd $SCRATCH\n",
    "git clone --branch gt4py-workshop https://github.com/GridTools/gt4py.git\n",
    "cd $HOME\n",
    "ln -s $SCRATCH/gt4py\n",
    "```\n",
    "\n",
    "you can install the library with pip.\n",
    "\n",
    "Make sure that GT4Py is in the expected location, remove `#` and run the cell)"
   ]
  },
  {
   "cell_type": "code",
   "execution_count": 1,
   "id": "320699c6",
   "metadata": {},
   "outputs": [],
   "source": [
    "#! pip install $HOME/gt4py"
   ]
  },
  {
   "cell_type": "code",
   "execution_count": 2,
   "id": "c2741342",
   "metadata": {},
   "outputs": [],
   "source": [
    "import warnings\n",
    "warnings.filterwarnings('ignore')"
   ]
  },
  {
   "cell_type": "code",
   "execution_count": 3,
   "id": "f0aa1e50",
   "metadata": {},
   "outputs": [
    {
     "data": {
      "text/html": [
       "<link href=\"https://fonts.googleapis.com/icon?family=Material+Icons\" rel=\"stylesheet\"><script src=\"https://spcl.github.io/dace/webclient2/dist/sdfv.js\"></script>\n",
       "<link href=\"https://spcl.github.io/dace/webclient2/sdfv.css\" rel=\"stylesheet\">\n"
      ],
      "text/plain": [
       "<IPython.core.display.HTML object>"
      ]
     },
     "metadata": {},
     "output_type": "display_data"
    }
   ],
   "source": [
    "import numpy as np\n",
    "import gt4py.next as gtx\n",
    "from gt4py.next import float64, Dims"
   ]
  },
  {
   "cell_type": "markdown",
   "id": "374952f2",
   "metadata": {},
   "source": [
    "## Key concepts and application structure\n",
    "\n",
    "- [Fields](#Fields),\n",
    "- [Field operators](#Field-operators), and\n",
    "- [Programs](#Programs)."
   ]
  },
  {
   "cell_type": "markdown",
   "id": "831781be",
   "metadata": {},
   "source": [
    "### Fields\n",
    "\n",
    "Fields are **multi-dimensional array** defined over a set of dimensions and a dtype: `gtx.Field[Dims[dimensions], dtype]`.\n",
    "\n",
    "|   <div><img src=\"../images/field.png\" width=\"66%\"/></div>    |\n",
    "| :----------------------------------------------------------: |\n",
    "| <div><img src=\"../images/field-code.png\" width=\"50%\"/></div> |"
   ]
  },
  {
   "cell_type": "markdown",
   "id": "55803c7d",
   "metadata": {},
   "source": [
    "Fields can be constructed with the following functions, inspired by numpy:\n",
    "\n",
    "- `zeros`\n",
    "- `full` to fill with a given value\n",
    "- `as_field` to convert from numpy or cupy arrays\n",
    "\n",
    "The first argument is the domain of the field, which can be constructed from a mapping from `Dimension` to range.\n",
    "\n",
    "Optional we can pass\n",
    "\n",
    "- `dtype` the description of type of the field\n",
    "- `allocator` which describes how and where (e.g. GPU) the buffer is allocated.\n",
    "\n",
    "Note: `as_field` can also take a sequence of Dimensions and infer the shape"
   ]
  },
  {
   "cell_type": "code",
   "execution_count": 4,
   "id": "69fc3531",
   "metadata": {},
   "outputs": [
    {
     "name": "stdout",
     "output_type": "stream",
     "text": [
      "a definition: \n",
      " ⟨Domain(Cell[horizontal]=(0:5), K[vertical]=(0:6)) → DType(scalar_type=<class 'numpy.float64'>, tensor_shape=())⟩\n",
      "a array: \n",
      " [[0. 0. 0. 0. 0. 0.]\n",
      " [0. 0. 0. 0. 0. 0.]\n",
      " [0. 0. 0. 0. 0. 0.]\n",
      " [0. 0. 0. 0. 0. 0.]\n",
      " [0. 0. 0. 0. 0. 0.]]\n",
      "b array: \n",
      " [[3. 3. 3. 3. 3. 3.]\n",
      " [3. 3. 3. 3. 3. 3.]\n",
      " [3. 3. 3. 3. 3. 3.]\n",
      " [3. 3. 3. 3. 3. 3.]\n",
      " [3. 3. 3. 3. 3. 3.]]\n",
      "c array: \n",
      " [[ 0.  1.  2.  3.  4.  5.]\n",
      " [10. 11. 12. 13. 14. 15.]\n",
      " [20. 21. 22. 23. 24. 25.]\n",
      " [30. 31. 32. 33. 34. 35.]\n",
      " [40. 41. 42. 43. 44. 45.]]\n"
     ]
    }
   ],
   "source": [
    "Cell = gtx.Dimension(\"Cell\")\n",
    "K = gtx.Dimension(\"K\", kind=gtx.DimensionKind.VERTICAL)\n",
    "\n",
    "domain = gtx.domain({Cell: 5, K: 6})\n",
    "\n",
    "a = gtx.zeros(domain, dtype=float64)\n",
    "b = gtx.full(domain, fill_value=3.0, dtype=float64)\n",
    "c = gtx.as_field([Cell, K], np.fromfunction(lambda c, k: c*10+k, shape=domain.shape))\n",
    "\n",
    "print(\"a definition: \\n {}\".format(a))\n",
    "print(\"a array: \\n {}\".format(a.asnumpy()))\n",
    "print(\"b array: \\n {}\".format(b.asnumpy()))\n",
    "print(\"c array: \\n {}\".format(c.asnumpy()))"
   ]
  },
  {
   "cell_type": "markdown",
   "id": "59284eb5",
   "metadata": {},
   "source": [
    "### Field operators\n",
    "\n",
    "Field operators perform operations on a set of fields, i.e. elementwise addition or reduction along a dimension.\n",
    "\n",
    "They are written as Python functions by using the `@field_operator` decorator."
   ]
  },
  {
   "cell_type": "code",
   "execution_count": 5,
   "id": "4199bc10",
   "metadata": {},
   "outputs": [],
   "source": [
    "@gtx.field_operator\n",
    "def add(a: gtx.Field[Dims[Cell, K], float64],\n",
    "        b: gtx.Field[Dims[Cell, K], float64]) -> gtx.Field[Dims[Cell, K], float64]:\n",
    "    return a + b"
   ]
  },
  {
   "cell_type": "markdown",
   "id": "fa3e7c47",
   "metadata": {},
   "source": [
    "Direct calls to field operators require two additional arguments:\n",
    "\n",
    "- `out`: a field to write the return value to\n",
    "- `offset_provider`: empty dict for now, explanation will follow"
   ]
  },
  {
   "cell_type": "code",
   "execution_count": 6,
   "id": "c2d61c1a",
   "metadata": {},
   "outputs": [
    {
     "name": "stdout",
     "output_type": "stream",
     "text": [
      "result array \n",
      " [[3. 3. 3. 3. 3. 3.]\n",
      " [3. 3. 3. 3. 3. 3.]\n",
      " [3. 3. 3. 3. 3. 3.]\n",
      " [3. 3. 3. 3. 3. 3.]\n",
      " [3. 3. 3. 3. 3. 3.]]\n"
     ]
    }
   ],
   "source": [
    "result = gtx.zeros(domain)\n",
    "add(a, b, out=result, offset_provider={})\n",
    "\n",
    "print(\"result array \\n {}\".format(result.asnumpy()))"
   ]
  },
  {
   "cell_type": "markdown",
   "id": "85aeccf6",
   "metadata": {},
   "source": [
    "### Programs"
   ]
  },
  {
   "cell_type": "markdown",
   "id": "6b6e8526",
   "metadata": {},
   "source": [
    "Programs are used to call field operators to mutate the latter's output arguments.\n",
    "\n",
    "They are written as Python functions by using the `@program` decorator.\n",
    "\n",
    "This example below calls the `add` field operator twice:"
   ]
  },
  {
   "cell_type": "code",
   "execution_count": 7,
   "id": "1287916a",
   "metadata": {},
   "outputs": [],
   "source": [
    "@gtx.program\n",
    "def run_add(a : gtx.Field[Dims[Cell, K], float64],\n",
    "            b : gtx.Field[Dims[Cell, K], float64],\n",
    "            result : gtx.Field[Dims[Cell, K], float64]):\n",
    "    add(a, b, out=result)\n",
    "    add(b, result, out=result)"
   ]
  },
  {
   "cell_type": "code",
   "execution_count": 8,
   "id": "d27f8366",
   "metadata": {},
   "outputs": [
    {
     "name": "stdout",
     "output_type": "stream",
     "text": [
      "result array: \n",
      " [[6. 6. 6. 6. 6. 6.]\n",
      " [6. 6. 6. 6. 6. 6.]\n",
      " [6. 6. 6. 6. 6. 6.]\n",
      " [6. 6. 6. 6. 6. 6.]\n",
      " [6. 6. 6. 6. 6. 6.]]\n"
     ]
    }
   ],
   "source": [
    "result = gtx.zeros(domain, dtype=float64)\n",
    "run_add(a, b, result, offset_provider={})\n",
    "\n",
    "print(\"result array: \\n {}\".format(result.asnumpy()))"
   ]
  },
  {
   "cell_type": "code",
   "execution_count": null,
   "id": "131f1247-314e-4ecb-97a6-2204a4418c17",
   "metadata": {},
   "outputs": [],
   "source": []
  }
 ],
 "metadata": {
  "jupytext": {
   "formats": "ipynb,md:myst"
  },
  "kernelspec": {
   "display_name": "Python 3 (ipykernel)",
   "language": "python",
   "name": "python3"
  },
  "language_info": {
   "codemirror_mode": {
    "name": "ipython",
    "version": 3
   },
   "file_extension": ".py",
   "mimetype": "text/x-python",
   "name": "python",
   "nbconvert_exporter": "python",
   "pygments_lexer": "ipython3",
   "version": "3.10.0"
  }
 },
 "nbformat": 4,
 "nbformat_minor": 5
}

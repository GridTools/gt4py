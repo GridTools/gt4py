{
 "cells": [
  {
   "cell_type": "markdown",
   "id": "c9a15c1d",
   "metadata": {},
   "source": [
    "# Getting started with the GT4Py declarative frontend"
   ]
  },
  {
   "cell_type": "markdown",
   "id": "006ac25b",
   "metadata": {},
   "source": [
    "## Installation\n",
    "\n",
    "You can install the library directly from GitHub using pip:"
   ]
  },
  {
   "cell_type": "raw",
   "id": "da5d25c0",
   "metadata": {},
   "source": [
    "pip install --upgrade git+https://github.com/gridtools/gt4py.git"
   ]
  },
  {
   "cell_type": "markdown",
   "id": "0174431a",
   "metadata": {},
   "source": [
    "## Programming guide\n",
    "\n",
    "### Key concepts and application structure\n",
    "\n",
    "This section introduces three concepts for storing and manipulating data:\n",
    "\n",
    "- [Fields](#Fields),\n",
    "- [Field operators](#Field-operators), and\n",
    "- [Programs](#Programs).\n",
    "\n",
    "The concepts are demonstrated through a simple application that adds two fields."
   ]
  },
  {
   "cell_type": "markdown",
   "id": "a766a879",
   "metadata": {},
   "source": [
    "#### Importing features\n",
    "\n",
    "The following snippet imports the most commonly used features that are needed to run the code in this document. Numpy is also required by the examples."
   ]
  },
  {
   "cell_type": "code",
   "execution_count": 1,
   "id": "4e954de6",
   "metadata": {},
   "outputs": [
    {
     "data": {
      "text/html": [
       "<link href=\"https://fonts.googleapis.com/icon?family=Material+Icons\" rel=\"stylesheet\"><script src=\"https://spcl.github.io/dace/webclient2/dist/sdfv.js\"></script>\n",
       "<link href=\"https://spcl.github.io/dace/webclient2/sdfv.css\" rel=\"stylesheet\">\n"
      ],
      "text/plain": [
       "<IPython.core.display.HTML object>"
      ]
     },
     "metadata": {},
     "output_type": "display_data"
    }
   ],
   "source": [
    "import numpy as np\n",
    "\n",
    "import gt4py.next as gtx\n",
    "from gt4py.next import float64, neighbor_sum, where, Dims"
   ]
  },
  {
   "cell_type": "markdown",
   "id": "043a678b",
   "metadata": {},
   "source": [
    "#### Fields\n",
    "\n",
    "Fields store data as a multi-dimensional array, and are defined over a set of named dimensions. The code snippet below defines two named dimensions, _Cell_ and _K_, and creates the fields `a` and `b` over their cartesian product using the `gtx.as_field` helper function. The fields contain the values 2 for `a` and 3 for `b` for all entries."
   ]
  },
  {
   "cell_type": "code",
   "execution_count": 2,
   "id": "f2cab961",
   "metadata": {},
   "outputs": [],
   "source": [
    "CellDim = gtx.Dimension(\"Cell\")\n",
    "KDim = gtx.Dimension(\"K\")\n",
    "\n",
    "num_cells = 5\n",
    "num_layers = 6\n",
    "grid_shape = (num_cells, num_layers)\n",
    "\n",
    "a_value = 2.0\n",
    "b_value = 3.0\n",
    "a = gtx.as_field([CellDim, KDim], np.full(shape=grid_shape, fill_value=a_value, dtype=np.float64))\n",
    "b = gtx.as_field([CellDim, KDim], np.full(shape=grid_shape, fill_value=b_value, dtype=np.float64))"
   ]
  },
  {
   "cell_type": "markdown",
   "id": "157bd837",
   "metadata": {},
   "source": [
    "Additional numpy-equivalent constructors are available, namely `ones`, `zeros`, `empty`, `full`. These require domain, dtype, and allocator (e.g. a backend) specifications."
   ]
  },
  {
   "cell_type": "code",
   "execution_count": 3,
   "id": "822e4957",
   "metadata": {},
   "outputs": [],
   "source": [
    "I = gtx.Dimension(\"I\")\n",
    "J = gtx.Dimension(\"J\")\n",
    "\n",
    "array_of_ones_numpy = np.ones((grid_shape[0], grid_shape[1]))\n",
    "field_of_ones = gtx.ones(\n",
    "    domain={I: range(grid_shape[0]), J: range(grid_shape[0])},\n",
    "    dtype=np.float64,\n",
    "    allocator=gtx.program_processors.runners.roundtrip.backend\n",
    ")"
   ]
  },
  {
   "cell_type": "markdown",
   "id": "63818ab9",
   "metadata": {},
   "source": [
    "#### Field operators\n",
    "\n",
    "Field operators perform operations on a set of fields, for example, elementwise addition or reduction along a dimension. You can write field operators as Python functions by using the `@field_operator` decorator. Field operators cannot have side effects, therefore you cannot modify its arguments within their body. Only a subset of the Python syntax is allowed inside field operators—the library checks for correctness.\n",
    "\n",
    "Let's see an example for a field operator that adds two fields elementwise:"
   ]
  },
  {
   "cell_type": "code",
   "execution_count": 4,
   "id": "96dfeb5a",
   "metadata": {},
   "outputs": [],
   "source": [
    "@gtx.field_operator\n",
    "def add(a: gtx.Field[Dims[CellDim, KDim], float64],\n",
    "        b: gtx.Field[Dims[CellDim, KDim], float64]) -> gtx.Field[Dims[CellDim, KDim], float64]:\n",
    "    return a + b"
   ]
  },
  {
   "cell_type": "markdown",
   "id": "ca709292",
   "metadata": {},
   "source": [
    "\\_Note: for now `Dims` is not mandatory, hence this type hint is also accepted: `gtx.Field[[CellDim, KDim], float64]`\n",
    "You can call field operators from [programs](#Programs), other field operators, or directly. The code snippet below shows a direct call, in which case you have to supply two additional arguments: `out`, which is a field to write the return value to, and `offset_provider`, which is left empty for now. The result of the field operator is a field with all entries equal to 5, but for brevity, only the average and the standard deviation of the entries are printed:"
   ]
  },
  {
   "cell_type": "code",
   "execution_count": 5,
   "id": "e1945467",
   "metadata": {},
   "outputs": [
    {
     "name": "stdout",
     "output_type": "stream",
     "text": [
      "2.0 + 3.0 = 5.0 ± 0.0\n"
     ]
    }
   ],
   "source": [
    "result = gtx.as_field([CellDim, KDim], np.zeros(shape=grid_shape))\n",
    "add(a, b, out=result, offset_provider={})\n",
    "\n",
    "print(\"{} + {} = {} ± {}\".format(a_value, b_value, np.average(result.asnumpy()), np.std(result.asnumpy())))"
   ]
  },
  {
   "cell_type": "markdown",
   "id": "2a3980bc",
   "metadata": {},
   "source": [
    "#### Programs"
   ]
  },
  {
   "cell_type": "markdown",
   "id": "2a07732b",
   "metadata": {},
   "source": [
    "Programs let you group together multiple field operator calls as a sequence of operations. They are similar to field operators in that they also use a decorator (`@program`) and that they can only use a subset of the Python syntax, but programs can mutate their arguments. Currently, the syntax inside programs is limited to calling field operators.\n",
    "\n",
    "This example program below calls the above elementwise addition field operator twice:"
   ]
  },
  {
   "cell_type": "code",
   "execution_count": 6,
   "id": "117b6dd4",
   "metadata": {},
   "outputs": [],
   "source": [
    "@gtx.program\n",
    "def run_add(a : gtx.Field[Dims[CellDim, KDim], float64],\n",
    "            b : gtx.Field[Dims[CellDim, KDim], float64],\n",
    "            result : gtx.Field[Dims[CellDim, KDim], float64]):\n",
    "    add(a, b, out=result)\n",
    "    add(b, result, out=result)"
   ]
  },
  {
   "cell_type": "markdown",
   "id": "470a725f",
   "metadata": {},
   "source": [
    "You can execute the program by simply calling it:"
   ]
  },
  {
   "cell_type": "code",
   "execution_count": 7,
   "id": "460d32f7",
   "metadata": {},
   "outputs": [
    {
     "name": "stdout",
     "output_type": "stream",
     "text": [
      "3.0 + 5.0 = 8.0 ± 0.0\n"
     ]
    },
    {
     "name": "stderr",
     "output_type": "stream",
     "text": [
      "/var/folders/2b/_2y31vzs4sl_7rngh2yghbpw0000gn/T/ipykernel_54076/1995944526.py:2: UserWarning: Field View Program 'run_add': Using Python execution, consider selecting a perfomance backend.\n",
      "  run_add(a, b, result, offset_provider={})\n"
     ]
    }
   ],
   "source": [
    "result = gtx.as_field([CellDim, KDim], np.zeros(shape=grid_shape))\n",
    "run_add(a, b, result, offset_provider={})\n",
    "\n",
    "print(\"{} + {} = {} ± {}\".format(b_value, (a_value + b_value), np.average(result.asnumpy()), np.std(result.asnumpy())))"
   ]
  },
  {
   "cell_type": "markdown",
   "id": "de7aa20b",
   "metadata": {},
   "source": [
    "#### Composing field operators and programs\n",
    "\n",
    "When writing complex applications, you have to decompose it into _field operators_, _programs_, and Python (or other) code that glues it all together. The general advice is to follow best practices and write short and concise field operators that serve a single purpose. To maximise automatic optimization, use external glue code sparingly and group your field operators inside _programs_ as much as you can. Consequently, directly calling field operators is primarily used for debugging purposes."
   ]
  },
  {
   "cell_type": "markdown",
   "id": "48afb890",
   "metadata": {},
   "source": [
    "### Operations on unstructured meshes\n",
    "\n",
    "This section introduces additional APIs through a slightly more elaborate application that performs a laplacian-like operation on an unstructured mesh. Within the context of this guide, we define the _pseudo-laplacian_ for a cell as the sum of the _edge differences_ around the cell. For example, the pseudo-laplacian for cell \\#1, which is surrounded by edges \\#7, \\#8 and \\#9, is expressed by the formula:\n",
    "\n",
    "$$\\begin{aligned}\\text{pseudolap}(cell_1) =\\,& \\text{edge_diff}_7 + \\text{edge_diff}_8 + \\text{edge_diff}_9 \\end{aligned}$$.\n",
    "\n",
    "The edge difference above is defined as the difference between the two cells adjacent to and edge, so for edge \\#7 the equation is:\n",
    "\n",
    "$$\\begin{aligned} \\text{edge_diff}_7 =\\,& \\text{edge_diff}_{0,1} = \\text{value_of}(\\text{cell}_0) - \\text{value_of}(\\text{cell}_1) \\end{aligned}$$\n",
    "\n",
    "The sign of the edge difference in the sum of the pseudo-laplacian is always such that the neighbor cell is subtracted from the subject cell, not the other way around.\n",
    "\n",
    "This section approaches the pseudo-laplacian by introducing the required APIs progressively through the following subsections:\n",
    "\n",
    "- [Defining the mesh and the connectivities (adjacencies) between cells and edges](#Defining-the-mesh-and-its-connectivities)\n",
    "- [Using connectivities in field operators](#Using-connectivities-in-field-operators)\n",
    "- [Using reductions on connected mesh elements](#Using-reductions-on-connected-mesh-elements)\n",
    "- [Implementing the actual pseudo-laplacian](#Implementing-the-pseudo-laplacian)"
   ]
  },
  {
   "cell_type": "markdown",
   "id": "bdbbc52a",
   "metadata": {},
   "source": [
    "#### Defining the mesh and its connectivities\n",
    "\n",
    "The examples related to unstructured meshes use the mesh below. The edges (in blue) and the cells (in red) are numbered with zero-based indices.\n",
    "\n",
    "| ![grid_topo](images/connectivity_numbered_grid.svg) |\n",
    "| :-------------------------------------------------: |\n",
    "|             _The mesh with the indices_             |"
   ]
  },
  {
   "cell_type": "markdown",
   "id": "597dd088",
   "metadata": {},
   "source": [
    "The fields in the subsequent code snippets are 1-dimensional, either over the cells or over the edges. The corresponding named dimensions are thus the following:"
   ]
  },
  {
   "cell_type": "code",
   "execution_count": 8,
   "id": "eeb4455c",
   "metadata": {},
   "outputs": [],
   "source": [
    "CellDim = gtx.Dimension(\"Cell\")\n",
    "EdgeDim = gtx.Dimension(\"Edge\")"
   ]
  },
  {
   "cell_type": "markdown",
   "id": "79519a6d",
   "metadata": {},
   "source": [
    "You can express connectivity between elements (i.e. cells or edges) of the mesh using connectivity (a.k.a. adjacency or neighborhood) tables. The table below, `edge_to_cell_table`, has one row for every edge where it lists the indices of cells adjacent to that edge. For example, this table says that edge \\#6 connects to cells \\#0 and \\#5. Similarly, `cell_to_edge_table` lists the edges that are neighbors to a particular cell.\n",
    "\n",
    "Note, however, that the tables are dense matrices, so if an edge has fewer than 2 neighbor cells, the remaining entries are filled with -1. You can also specify all kinds of connectivities like edge-to-edge, cell-to-edge or even cell-to-cell. The adjacency relationships don't have to be reciprocal, so it's possible for example that a cell lists an edge as its neighbour, but the edge does not list that particular cell.\n",
    "\n",
    "The edge-to-cell and cell-to-edge connectivity tables for the mesh are the following:"
   ]
  },
  {
   "cell_type": "code",
   "execution_count": 9,
   "id": "893191ea",
   "metadata": {},
   "outputs": [],
   "source": [
    "edge_to_cell_table = np.array([\n",
    "    [0, -1], # edge 0 (neighbours: cell 0)\n",
    "    [2, -1], # edge 1\n",
    "    [2, -1], # edge 2\n",
    "    [3, -1], # edge 3\n",
    "    [4, -1], # edge 4\n",
    "    [5, -1], # edge 5\n",
    "    [0, 5],  # edge 6 (neighbours: cell 0, cell 5)\n",
    "    [0, 1],  # edge 7\n",
    "    [1, 2],  # edge 8\n",
    "    [1, 3],  # edge 9\n",
    "    [3, 4],  # edge 10\n",
    "    [4, 5]   # edge 11\n",
    "])\n",
    "\n",
    "cell_to_edge_table = np.array([\n",
    "    [0, 6, 7],   # cell 0 (neighbors: edge 0, edge 6, edge 7)\n",
    "    [7, 8, 9],   # cell 1\n",
    "    [1, 2, 8],   # cell 2\n",
    "    [3, 9, 10],  # cell 3\n",
    "    [4, 10, 11], # cell 4\n",
    "    [5, 6, 11],  # cell 5\n",
    "])"
   ]
  },
  {
   "cell_type": "markdown",
   "id": "371bbaa3",
   "metadata": {},
   "source": [
    "#### Using connectivities in field operators\n",
    "\n",
    "Let's start by defining two fields: one over the cells and another one over the edges. The field over cells serves input for subsequent calculations and is therefore filled up with values, whereas the field over the edges stores the output of the calculations and is therefore left blank."
   ]
  },
  {
   "cell_type": "code",
   "execution_count": 10,
   "id": "94d9f1a9",
   "metadata": {},
   "outputs": [],
   "source": [
    "cell_values = gtx.as_field([CellDim], np.array([1.0, 1.0, 2.0, 3.0, 5.0, 8.0]))\n",
    "edge_values = gtx.as_field([EdgeDim], np.zeros((12,)))"
   ]
  },
  {
   "cell_type": "markdown",
   "id": "3c8ee3cc",
   "metadata": {},
   "source": [
    "| ![cell_values](images/connectivity_cell_field.svg) |\n",
    "| :------------------------------------------------: |\n",
    "|                   _Cell values_                    |"
   ]
  },
  {
   "cell_type": "markdown",
   "id": "5b530ddb",
   "metadata": {},
   "source": [
    "You can transform fields (or tuples of fields) over one domain to another domain by using the call operator of the source field with a _field offset_ as argument. This transform uses the connectivity between the source and target domains to find the values of adjacent mesh elements.\n",
    "\n",
    "To understand this transform, you can look at the edge-to-cell connectivity table `edge_to_cell_table` listed above. This table has the same shape as the output of the transform, that is, one dimension over the edges and another _local_ dimension. The table stores indices into a field over cells, the transform essentially gives you another field where the indices have been replaced with the values in the cell field at the corresponding indices.\n",
    "\n",
    "Another way to look at it is that transform uses the edge-to-cell connectivity to look up all the cell neighbors of edges, and associates the values of those neighbor cells with each edge.\n",
    "\n",
    "You can use the field offset `E2C` below to transform a field over cells to a field over edges using the edge-to-cell connectivities:"
   ]
  },
  {
   "cell_type": "code",
   "execution_count": 11,
   "id": "43ccaa2d",
   "metadata": {},
   "outputs": [],
   "source": [
    "E2CDim = gtx.Dimension(\"E2C\", kind=gtx.DimensionKind.LOCAL)\n",
    "E2C = gtx.FieldOffset(\"E2C\", source=CellDim, target=(EdgeDim,E2CDim))"
   ]
  },
  {
   "cell_type": "markdown",
   "id": "9380713a",
   "metadata": {},
   "source": [
    "Note that the field offset does not contain the actual connectivity table, that's provided through an _offset provider_:"
   ]
  },
  {
   "cell_type": "code",
   "execution_count": 12,
   "id": "21149daf",
   "metadata": {},
   "outputs": [],
   "source": [
    "E2C_offset_provider = gtx.NeighborTableOffsetProvider(edge_to_cell_table, EdgeDim, CellDim, 2, has_skip_values=False)"
   ]
  },
  {
   "cell_type": "markdown",
   "id": "1dc81464",
   "metadata": {},
   "source": [
    "The field operator `nearest_cell_to_edge` below shows an example of applying this transform. There is a little twist though: the subscript in `E2C[0]` means that only the value of the first connected cell is taken, the second (if exists) is ignored.\n",
    "\n",
    "Pay attention to the syntax where the field offset `E2C` can be freely accessed in the field operator, but the offset provider `E2C_offset_provider` is passed in a dictionary to the program."
   ]
  },
  {
   "cell_type": "code",
   "execution_count": 13,
   "id": "589bf623",
   "metadata": {},
   "outputs": [
    {
     "name": "stdout",
     "output_type": "stream",
     "text": [
      "0th adjacent cell's value: [1. 2. 2. 3. 5. 8. 1. 1. 1. 1. 3. 5.]\n"
     ]
    },
    {
     "name": "stderr",
     "output_type": "stream",
     "text": [
      "/var/folders/2b/_2y31vzs4sl_7rngh2yghbpw0000gn/T/ipykernel_54076/3392457558.py:9: UserWarning: Field View Program 'run_nearest_cell_to_edge': Using Python execution, consider selecting a perfomance backend.\n",
      "  run_nearest_cell_to_edge(cell_values, edge_values, offset_provider={\"E2C\": E2C_offset_provider})\n"
     ]
    }
   ],
   "source": [
    "@gtx.field_operator\n",
    "def nearest_cell_to_edge(cell_values: gtx.Field[Dims[CellDim], float64]) -> gtx.Field[Dims[EdgeDim], float64]:\n",
    "    return cell_values(E2C[0])\n",
    "\n",
    "@gtx.program\n",
    "def run_nearest_cell_to_edge(cell_values: gtx.Field[Dims[CellDim], float64], out : gtx.Field[Dims[EdgeDim], float64]):\n",
    "    nearest_cell_to_edge(cell_values, out=out)\n",
    "\n",
    "run_nearest_cell_to_edge(cell_values, edge_values, offset_provider={\"E2C\": E2C_offset_provider})\n",
    "\n",
    "print(\"0th adjacent cell's value: {}\".format(edge_values.asnumpy()))"
   ]
  },
  {
   "cell_type": "markdown",
   "id": "7770035a",
   "metadata": {},
   "source": [
    "Running the above snippet results in the following edge field:\n",
    "\n",
    "| ![nearest_cell_values](images/connectivity_numbered_grid.svg) | $\\mapsto$ | ![grid_topo](images/connectivity_edge_0th_cell.svg) |\n",
    "| :-----------------------------------------------------------: | :-------: | :-------------------------------------------------: |\n",
    "|                       _Domain (edges)_                        |           |                    _Edge values_                    |"
   ]
  },
  {
   "cell_type": "markdown",
   "id": "e0ed38b4",
   "metadata": {},
   "source": [
    "#### Using reductions on connected mesh elements\n",
    "\n",
    "Similarly to the previous example, the output is once again a field on edges. The difference is that this field operator does not take the first column of the transformed field, but sums the columns. In other words, the result is the sum of all the cells adjacent to an edge. You can achieve this by first transforming the cell field to a field over the cell neighbors of edges (i.e. a field of dimensions Edge × E2CDim) using `cells(E2C)`, then calling the `neighbor_sum` builtin function to sum along the `E2CDim` dimension."
   ]
  },
  {
   "cell_type": "code",
   "execution_count": 15,
   "id": "92a8e0c6",
   "metadata": {},
   "outputs": [
    {
     "name": "stderr",
     "output_type": "stream",
     "text": [
      "/var/folders/2b/_2y31vzs4sl_7rngh2yghbpw0000gn/T/ipykernel_54076/2775003901.py:10: UserWarning: Field View Program 'run_sum_adjacent_cells': Using Python execution, consider selecting a perfomance backend.\n",
      "  run_sum_adjacent_cells(cell_values, edge_values, offset_provider={\"E2C\": E2C_offset_provider})\n"
     ]
    },
    {
     "ename": "ValueError",
     "evalue": "Restriction generates non-contiguous dimensions.",
     "output_type": "error",
     "traceback": [
      "\u001b[0;31m---------------------------------------------------------------------------\u001b[0m",
      "\u001b[0;31mValueError\u001b[0m                                Traceback (most recent call last)",
      "Cell \u001b[0;32mIn[15], line 10\u001b[0m\n\u001b[1;32m      6\u001b[0m \u001b[38;5;129m@gtx\u001b[39m\u001b[38;5;241m.\u001b[39mprogram\n\u001b[1;32m      7\u001b[0m \u001b[38;5;28;01mdef\u001b[39;00m \u001b[38;5;21mrun_sum_adjacent_cells\u001b[39m(cells : gtx\u001b[38;5;241m.\u001b[39mField[Dims[CellDim], float64], out : gtx\u001b[38;5;241m.\u001b[39mField[Dims[EdgeDim], float64]):\n\u001b[1;32m      8\u001b[0m     sum_adjacent_cells(cells, out\u001b[38;5;241m=\u001b[39mout)\n\u001b[0;32m---> 10\u001b[0m \u001b[43mrun_sum_adjacent_cells\u001b[49m\u001b[43m(\u001b[49m\u001b[43mcell_values\u001b[49m\u001b[43m,\u001b[49m\u001b[43m \u001b[49m\u001b[43medge_values\u001b[49m\u001b[43m,\u001b[49m\u001b[43m \u001b[49m\u001b[43moffset_provider\u001b[49m\u001b[38;5;241;43m=\u001b[39;49m\u001b[43m{\u001b[49m\u001b[38;5;124;43m\"\u001b[39;49m\u001b[38;5;124;43mE2C\u001b[39;49m\u001b[38;5;124;43m\"\u001b[39;49m\u001b[43m:\u001b[49m\u001b[43m \u001b[49m\u001b[43mE2C_offset_provider\u001b[49m\u001b[43m}\u001b[49m\u001b[43m)\u001b[49m\n\u001b[1;32m     12\u001b[0m \u001b[38;5;28mprint\u001b[39m(\u001b[38;5;124m\"\u001b[39m\u001b[38;5;124msum of adjacent cells: \u001b[39m\u001b[38;5;132;01m{}\u001b[39;00m\u001b[38;5;124m\"\u001b[39m\u001b[38;5;241m.\u001b[39mformat(edge_values\u001b[38;5;241m.\u001b[39masnumpy()))\n",
      "File \u001b[0;32m~/gt4py-update_types/gt4py/src/gt4py/next/ffront/decorator.py:305\u001b[0m, in \u001b[0;36mProgram.__call__\u001b[0;34m(self, offset_provider, *args, **kwargs)\u001b[0m\n\u001b[1;32m    298\u001b[0m     warnings\u001b[38;5;241m.\u001b[39mwarn(\n\u001b[1;32m    299\u001b[0m         \u001b[38;5;167;01mUserWarning\u001b[39;00m(\n\u001b[1;32m    300\u001b[0m             \u001b[38;5;124mf\u001b[39m\u001b[38;5;124m\"\u001b[39m\u001b[38;5;124mField View Program \u001b[39m\u001b[38;5;124m'\u001b[39m\u001b[38;5;132;01m{\u001b[39;00m\u001b[38;5;28mself\u001b[39m\u001b[38;5;241m.\u001b[39mitir\u001b[38;5;241m.\u001b[39mid\u001b[38;5;132;01m}\u001b[39;00m\u001b[38;5;124m'\u001b[39m\u001b[38;5;124m: Using Python execution, consider selecting a perfomance backend.\u001b[39m\u001b[38;5;124m\"\u001b[39m\n\u001b[1;32m    301\u001b[0m         ),\n\u001b[1;32m    302\u001b[0m         stacklevel\u001b[38;5;241m=\u001b[39m\u001b[38;5;241m2\u001b[39m,\n\u001b[1;32m    303\u001b[0m     )\n\u001b[1;32m    304\u001b[0m     \u001b[38;5;28;01mwith\u001b[39;00m next_embedded\u001b[38;5;241m.\u001b[39mcontext\u001b[38;5;241m.\u001b[39mnew_context(offset_provider\u001b[38;5;241m=\u001b[39moffset_provider) \u001b[38;5;28;01mas\u001b[39;00m ctx:\n\u001b[0;32m--> 305\u001b[0m         \u001b[43mctx\u001b[49m\u001b[38;5;241;43m.\u001b[39;49m\u001b[43mrun\u001b[49m\u001b[43m(\u001b[49m\u001b[38;5;28;43mself\u001b[39;49m\u001b[38;5;241;43m.\u001b[39;49m\u001b[43mdefinition\u001b[49m\u001b[43m,\u001b[49m\u001b[43m \u001b[49m\u001b[38;5;241;43m*\u001b[39;49m\u001b[43mrewritten_args\u001b[49m\u001b[43m,\u001b[49m\u001b[43m \u001b[49m\u001b[38;5;241;43m*\u001b[39;49m\u001b[38;5;241;43m*\u001b[39;49m\u001b[43mkwargs\u001b[49m\u001b[43m)\u001b[49m\n\u001b[1;32m    306\u001b[0m     \u001b[38;5;28;01mreturn\u001b[39;00m\n\u001b[1;32m    308\u001b[0m ppi\u001b[38;5;241m.\u001b[39mensure_processor_kind(\u001b[38;5;28mself\u001b[39m\u001b[38;5;241m.\u001b[39mbackend, ppi\u001b[38;5;241m.\u001b[39mProgramExecutor)\n",
      "Cell \u001b[0;32mIn[15], line 8\u001b[0m, in \u001b[0;36mrun_sum_adjacent_cells\u001b[0;34m(cells, out)\u001b[0m\n\u001b[1;32m      6\u001b[0m \u001b[38;5;129m@gtx\u001b[39m\u001b[38;5;241m.\u001b[39mprogram\n\u001b[1;32m      7\u001b[0m \u001b[38;5;28;01mdef\u001b[39;00m \u001b[38;5;21mrun_sum_adjacent_cells\u001b[39m(cells : gtx\u001b[38;5;241m.\u001b[39mField[Dims[CellDim], float64], out : gtx\u001b[38;5;241m.\u001b[39mField[Dims[EdgeDim], float64]):\n\u001b[0;32m----> 8\u001b[0m     \u001b[43msum_adjacent_cells\u001b[49m\u001b[43m(\u001b[49m\u001b[43mcells\u001b[49m\u001b[43m,\u001b[49m\u001b[43m \u001b[49m\u001b[43mout\u001b[49m\u001b[38;5;241;43m=\u001b[39;49m\u001b[43mout\u001b[49m\u001b[43m)\u001b[49m\n",
      "File \u001b[0;32m~/gt4py-update_types/gt4py/src/gt4py/next/ffront/decorator.py:757\u001b[0m, in \u001b[0;36mFieldOperator.__call__\u001b[0;34m(self, *args, **kwargs)\u001b[0m\n\u001b[1;32m    755\u001b[0m \u001b[38;5;28;01melse\u001b[39;00m:\n\u001b[1;32m    756\u001b[0m     op \u001b[38;5;241m=\u001b[39m embedded_operators\u001b[38;5;241m.\u001b[39mEmbeddedOperator(\u001b[38;5;28mself\u001b[39m\u001b[38;5;241m.\u001b[39mdefinition)\n\u001b[0;32m--> 757\u001b[0m \u001b[38;5;28;01mreturn\u001b[39;00m \u001b[43membedded_operators\u001b[49m\u001b[38;5;241;43m.\u001b[39;49m\u001b[43mfield_operator_call\u001b[49m\u001b[43m(\u001b[49m\u001b[43mop\u001b[49m\u001b[43m,\u001b[49m\u001b[43m \u001b[49m\u001b[43margs\u001b[49m\u001b[43m,\u001b[49m\u001b[43m \u001b[49m\u001b[43mkwargs\u001b[49m\u001b[43m)\u001b[49m\n",
      "File \u001b[0;32m~/gt4py-update_types/gt4py/src/gt4py/next/embedded/operators.py:113\u001b[0m, in \u001b[0;36mfield_operator_call\u001b[0;34m(op, args, kwargs)\u001b[0m\n\u001b[1;32m    110\u001b[0m     new_context_kwargs[\u001b[38;5;124m\"\u001b[39m\u001b[38;5;124mclosure_column_range\u001b[39m\u001b[38;5;124m\"\u001b[39m] \u001b[38;5;241m=\u001b[39m _get_vertical_range(out_domain)\n\u001b[1;32m    112\u001b[0m     \u001b[38;5;28;01mwith\u001b[39;00m embedded_context\u001b[38;5;241m.\u001b[39mnew_context(\u001b[38;5;241m*\u001b[39m\u001b[38;5;241m*\u001b[39mnew_context_kwargs) \u001b[38;5;28;01mas\u001b[39;00m ctx:\n\u001b[0;32m--> 113\u001b[0m         res \u001b[38;5;241m=\u001b[39m \u001b[43mctx\u001b[49m\u001b[38;5;241;43m.\u001b[39;49m\u001b[43mrun\u001b[49m\u001b[43m(\u001b[49m\u001b[43mop\u001b[49m\u001b[43m,\u001b[49m\u001b[43m \u001b[49m\u001b[38;5;241;43m*\u001b[39;49m\u001b[43margs\u001b[49m\u001b[43m,\u001b[49m\u001b[43m \u001b[49m\u001b[38;5;241;43m*\u001b[39;49m\u001b[38;5;241;43m*\u001b[39;49m\u001b[43mkwargs\u001b[49m\u001b[43m)\u001b[49m\n\u001b[1;32m    114\u001b[0m         _tuple_assign_field(\n\u001b[1;32m    115\u001b[0m             out,\n\u001b[1;32m    116\u001b[0m             res,\n\u001b[1;32m    117\u001b[0m             domain\u001b[38;5;241m=\u001b[39mout_domain,\n\u001b[1;32m    118\u001b[0m         )\n\u001b[1;32m    119\u001b[0m \u001b[38;5;28;01melse\u001b[39;00m:\n\u001b[1;32m    120\u001b[0m     \u001b[38;5;66;03m# called from other field_operator or missing `out` argument\u001b[39;00m\n",
      "File \u001b[0;32m~/gt4py-update_types/gt4py/src/gt4py/next/embedded/operators.py:36\u001b[0m, in \u001b[0;36mEmbeddedOperator.__call__\u001b[0;34m(self, *args, **kwargs)\u001b[0m\n\u001b[1;32m     35\u001b[0m \u001b[38;5;28;01mdef\u001b[39;00m \u001b[38;5;21m__call__\u001b[39m(\u001b[38;5;28mself\u001b[39m, \u001b[38;5;241m*\u001b[39margs: _P\u001b[38;5;241m.\u001b[39margs, \u001b[38;5;241m*\u001b[39m\u001b[38;5;241m*\u001b[39mkwargs: _P\u001b[38;5;241m.\u001b[39mkwargs) \u001b[38;5;241m-\u001b[39m\u001b[38;5;241m>\u001b[39m _R:\n\u001b[0;32m---> 36\u001b[0m     \u001b[38;5;28;01mreturn\u001b[39;00m \u001b[38;5;28;43mself\u001b[39;49m\u001b[38;5;241;43m.\u001b[39;49m\u001b[43mfun\u001b[49m\u001b[43m(\u001b[49m\u001b[38;5;241;43m*\u001b[39;49m\u001b[43margs\u001b[49m\u001b[43m,\u001b[49m\u001b[43m \u001b[49m\u001b[38;5;241;43m*\u001b[39;49m\u001b[38;5;241;43m*\u001b[39;49m\u001b[43mkwargs\u001b[49m\u001b[43m)\u001b[49m\n",
      "Cell \u001b[0;32mIn[15], line 4\u001b[0m, in \u001b[0;36msum_adjacent_cells\u001b[0;34m(cells)\u001b[0m\n\u001b[1;32m      1\u001b[0m \u001b[38;5;129m@gtx\u001b[39m\u001b[38;5;241m.\u001b[39mfield_operator\n\u001b[1;32m      2\u001b[0m \u001b[38;5;28;01mdef\u001b[39;00m \u001b[38;5;21msum_adjacent_cells\u001b[39m(cells : gtx\u001b[38;5;241m.\u001b[39mField[Dims[CellDim], float64]) \u001b[38;5;241m-\u001b[39m\u001b[38;5;241m>\u001b[39m gtx\u001b[38;5;241m.\u001b[39mField[Dims[EdgeDim], float64]:\n\u001b[1;32m      3\u001b[0m     \u001b[38;5;66;03m# type of cells(E2C) is gtx.Field[Dims[CellDim, E2CDim], float64]\u001b[39;00m\n\u001b[0;32m----> 4\u001b[0m     \u001b[38;5;28;01mreturn\u001b[39;00m neighbor_sum(\u001b[43mcells\u001b[49m\u001b[43m(\u001b[49m\u001b[43mE2C\u001b[49m\u001b[43m)\u001b[49m, axis\u001b[38;5;241m=\u001b[39mE2CDim)\n",
      "File \u001b[0;32m~/gt4py-update_types/gt4py/src/gt4py/next/embedded/nd_array_field.py:194\u001b[0m, in \u001b[0;36mNdArrayField.remap\u001b[0;34m(self, connectivity)\u001b[0m\n\u001b[1;32m    191\u001b[0m     \u001b[38;5;28;01mraise\u001b[39;00m \u001b[38;5;167;01mValueError\u001b[39;00m(\u001b[38;5;124mf\u001b[39m\u001b[38;5;124m\"\u001b[39m\u001b[38;5;124mIncompatible index field, expected a field with dimension \u001b[39m\u001b[38;5;124m'\u001b[39m\u001b[38;5;132;01m{\u001b[39;00mdim\u001b[38;5;132;01m}\u001b[39;00m\u001b[38;5;124m'\u001b[39m\u001b[38;5;124m.\u001b[39m\u001b[38;5;124m\"\u001b[39m)\n\u001b[1;32m    193\u001b[0m current_range: common\u001b[38;5;241m.\u001b[39mUnitRange \u001b[38;5;241m=\u001b[39m \u001b[38;5;28mself\u001b[39m\u001b[38;5;241m.\u001b[39mdomain[dim_idx][\u001b[38;5;241m1\u001b[39m]\n\u001b[0;32m--> 194\u001b[0m new_ranges \u001b[38;5;241m=\u001b[39m \u001b[43mconnectivity\u001b[49m\u001b[38;5;241;43m.\u001b[39;49m\u001b[43minverse_image\u001b[49m\u001b[43m(\u001b[49m\u001b[43mcurrent_range\u001b[49m\u001b[43m)\u001b[49m\n\u001b[1;32m    195\u001b[0m new_domain \u001b[38;5;241m=\u001b[39m \u001b[38;5;28mself\u001b[39m\u001b[38;5;241m.\u001b[39mdomain\u001b[38;5;241m.\u001b[39mreplace(dim_idx, \u001b[38;5;241m*\u001b[39mnew_ranges)\n\u001b[1;32m    197\u001b[0m \u001b[38;5;66;03m# perform contramap\u001b[39;00m\n",
      "File \u001b[0;32m~/gt4py-update_types/gt4py/src/gt4py/next/embedded/nd_array_field.py:424\u001b[0m, in \u001b[0;36mNdArrayConnectivityField.inverse_image\u001b[0;34m(self, image_range)\u001b[0m\n\u001b[1;32m    421\u001b[0m relative_ranges \u001b[38;5;241m=\u001b[39m _hypercube(\u001b[38;5;28mself\u001b[39m\u001b[38;5;241m.\u001b[39m_ndarray, image_range, xp, \u001b[38;5;28mself\u001b[39m\u001b[38;5;241m.\u001b[39mskip_value)\n\u001b[1;32m    423\u001b[0m \u001b[38;5;28;01mif\u001b[39;00m relative_ranges \u001b[38;5;129;01mis\u001b[39;00m \u001b[38;5;28;01mNone\u001b[39;00m:\n\u001b[0;32m--> 424\u001b[0m     \u001b[38;5;28;01mraise\u001b[39;00m \u001b[38;5;167;01mValueError\u001b[39;00m(\u001b[38;5;124m\"\u001b[39m\u001b[38;5;124mRestriction generates non-contiguous dimensions.\u001b[39m\u001b[38;5;124m\"\u001b[39m)\n\u001b[1;32m    426\u001b[0m new_dims \u001b[38;5;241m=\u001b[39m [\n\u001b[1;32m    427\u001b[0m     common\u001b[38;5;241m.\u001b[39mnamed_range((d, rr \u001b[38;5;241m+\u001b[39m ar\u001b[38;5;241m.\u001b[39mstart))\n\u001b[1;32m    428\u001b[0m     \u001b[38;5;28;01mfor\u001b[39;00m d, ar, rr \u001b[38;5;129;01min\u001b[39;00m \u001b[38;5;28mzip\u001b[39m(\u001b[38;5;28mself\u001b[39m\u001b[38;5;241m.\u001b[39mdomain\u001b[38;5;241m.\u001b[39mdims, \u001b[38;5;28mself\u001b[39m\u001b[38;5;241m.\u001b[39mdomain\u001b[38;5;241m.\u001b[39mranges, relative_ranges)\n\u001b[1;32m    429\u001b[0m ]\n\u001b[1;32m    431\u001b[0m \u001b[38;5;28mself\u001b[39m\u001b[38;5;241m.\u001b[39m_cache[cache_key] \u001b[38;5;241m=\u001b[39m new_dims\n",
      "\u001b[0;31mValueError\u001b[0m: Restriction generates non-contiguous dimensions."
     ]
    }
   ],
   "source": [
    "@gtx.field_operator\n",
    "def sum_adjacent_cells(cells : gtx.Field[Dims[CellDim], float64]) -> gtx.Field[Dims[EdgeDim], float64]:\n",
    "    # type of cells(E2C) is gtx.Field[Dims[CellDim, E2CDim], float64]\n",
    "    return neighbor_sum(cells(E2C), axis=E2CDim)\n",
    "\n",
    "@gtx.program\n",
    "def run_sum_adjacent_cells(cells : gtx.Field[Dims[CellDim], float64], out : gtx.Field[Dims[EdgeDim], float64]):\n",
    "    sum_adjacent_cells(cells, out=out)\n",
    "\n",
    "run_sum_adjacent_cells(cell_values, edge_values, offset_provider={\"E2C\": E2C_offset_provider})\n",
    "\n",
    "print(\"sum of adjacent cells: {}\".format(edge_values.asnumpy()))"
   ]
  },
  {
   "cell_type": "markdown",
   "id": "f7eaff7b",
   "metadata": {},
   "source": [
    "For the border edges, the results are unchanged compared to the previous example, but the inner edges now contain the sum of the two adjacent cells:\n",
    "\n",
    "| ![nearest_cell_values](images/connectivity_numbered_grid.svg) | $\\mapsto$ | ![cell_values](images/connectivity_edge_cell_sum.svg) |\n",
    "| :-----------------------------------------------------------: | :-------: | :---------------------------------------------------: |\n",
    "|                       _Domain (edges)_                        |           |                     _Edge values_                     |"
   ]
  },
  {
   "cell_type": "markdown",
   "id": "b7fc6011",
   "metadata": {},
   "source": [
    "#### Using conditionals on fields\n",
    "\n",
    "Additionally to the `neighbor_sum` function, other builtins have been implemented. One of these is the `where`.\n",
    "This function takes 3 input arguments:\n",
    "\n",
    "- mask: a field with dtype boolean\n",
    "- true branch: a tuple, a field, or a scalar\n",
    "- false branch: a tuple, a field, of a scalar\n",
    "  The mask can be directly a field of booleans (e.g. `gtx.Field[Dims[CellDim], bool]`) or an expression evaluating to this type (e.g. `gtx.Field[[CellDim], float64] > 3`).\n",
    "  The `where` builtin loops over each entry of the mask and returns values corresponding to the same indexes of either the true or the false branch.\n",
    "  In the case where the true and false branches are either fields or scalars, the resulting output will be a field including all dimensions from all inputs. For example:"
   ]
  },
  {
   "cell_type": "code",
   "execution_count": 16,
   "id": "61712723",
   "metadata": {},
   "outputs": [
    {
     "name": "stdout",
     "output_type": "stream",
     "text": [
      "where return: [[6. 6. 6. 6. 6. 6.]\n",
      " [6. 6. 6. 6. 6. 6.]\n",
      " [6. 6. 6. 6. 6. 6.]\n",
      " [6. 6. 6. 6. 6. 6.]\n",
      " [6. 6. 6. 6. 6. 6.]]\n"
     ]
    }
   ],
   "source": [
    "mask = gtx.as_field([CellDim, KDim], np.zeros(shape=grid_shape, dtype=bool))\n",
    "result_where = gtx.as_field([CellDim, KDim], np.zeros(shape=grid_shape))\n",
    "b = 6.0\n",
    "\n",
    "@gtx.field_operator\n",
    "def conditional(mask: gtx.Field[Dims[CellDim, KDim], bool], a: gtx.Field[Dims[CellDim, KDim], float64], b: float\n",
    ") -> gtx.Field[Dims[CellDim, KDim], float64]:\n",
    "    return where(mask, a, b)\n",
    "\n",
    "conditional(mask, a, b, out=result_where, offset_provider={})\n",
    "print(\"where return: {}\".format(result_where.asnumpy()))"
   ]
  },
  {
   "cell_type": "markdown",
   "id": "5d5961bc",
   "metadata": {},
   "source": [
    "**Tuple implementation:**\n",
    "\n",
    "The `where` supports the return of tuples of fields. To perform promotion of dimensions and dtype of the output, all arguments are analyzed and promoted as in the above section."
   ]
  },
  {
   "cell_type": "code",
   "execution_count": 17,
   "id": "13b85e77",
   "metadata": {},
   "outputs": [
    {
     "name": "stdout",
     "output_type": "stream",
     "text": [
      "where tuple return: (array([[6., 6., 6., 6., 6., 6.],\n",
      "       [6., 6., 6., 6., 6., 6.],\n",
      "       [6., 6., 6., 6., 6., 6.],\n",
      "       [6., 6., 6., 6., 6., 6.],\n",
      "       [6., 6., 6., 6., 6., 6.]]), array([[2., 2., 2., 2., 2., 2.],\n",
      "       [2., 2., 2., 2., 2., 2.],\n",
      "       [2., 2., 2., 2., 2., 2.],\n",
      "       [2., 2., 2., 2., 2., 2.],\n",
      "       [2., 2., 2., 2., 2., 2.]]))\n"
     ]
    },
    {
     "name": "stderr",
     "output_type": "stream",
     "text": [
      "/var/folders/2b/_2y31vzs4sl_7rngh2yghbpw0000gn/T/ipykernel_54076/1884111463.py:15: UserWarning: Field View Program 'conditional_tuple': Using Python execution, consider selecting a perfomance backend.\n",
      "  conditional_tuple(mask, a, b, result_1, result_2, offset_provider={})\n"
     ]
    }
   ],
   "source": [
    "result_1 = gtx.as_field([CellDim, KDim], np.zeros(shape=grid_shape))\n",
    "result_2 = gtx.as_field([CellDim, KDim], np.zeros(shape=grid_shape))\n",
    "\n",
    "@gtx.field_operator\n",
    "def _conditional_tuple(mask: gtx.Field[Dims[CellDim, KDim], bool], a: gtx.Field[Dims[CellDim, KDim], float64], b: float\n",
    ") -> tuple[gtx.Field[Dims[CellDim, KDim], float64], gtx.Field[Dims[CellDim, KDim], float64]]:\n",
    "    return where(mask, (a, b), (b, a))\n",
    "\n",
    "@gtx.program\n",
    "def conditional_tuple(mask: gtx.Field[Dims[CellDim, KDim], bool], a: gtx.Field[Dims[CellDim, KDim], float64], b: float,\n",
    "result_1: gtx.Field[Dims[CellDim, KDim], float64], result_2: gtx.Field[Dims[CellDim, KDim], float64]\n",
    "):\n",
    "     _conditional_tuple(mask, a, b, out=(result_1, result_2))\n",
    "\n",
    "conditional_tuple(mask, a, b, result_1, result_2, offset_provider={})\n",
    "print(\"where tuple return: {}\".format((result_1.asnumpy(), result_2.asnumpy())))"
   ]
  },
  {
   "cell_type": "markdown",
   "id": "5630e85e",
   "metadata": {},
   "source": [
    "The `where` builtin also allows for nesting of tuples. In this scenario, it will first perform an unrolling:\n",
    "\n",
    "`where(mask, ((a, b), (b, a)), ((c, d), (d, c)))` --> `where(mask, (a, b), (c, d))` and `where(mask, (b, a), (d, c))`\n",
    "\n",
    "and then combine results to match the return type:"
   ]
  },
  {
   "cell_type": "code",
   "execution_count": 18,
   "id": "e47859ec",
   "metadata": {},
   "outputs": [
    {
     "name": "stdout",
     "output_type": "stream",
     "text": [
      "where nested tuple return: ((array([[4., 4., 4., 4., 4., 4.],\n",
      "       [4., 4., 4., 4., 4., 4.],\n",
      "       [4., 4., 4., 4., 4., 4.],\n",
      "       [4., 4., 4., 4., 4., 4.],\n",
      "       [4., 4., 4., 4., 4., 4.]]), array([[5., 5., 5., 5., 5., 5.],\n",
      "       [5., 5., 5., 5., 5., 5.],\n",
      "       [5., 5., 5., 5., 5., 5.],\n",
      "       [5., 5., 5., 5., 5., 5.],\n",
      "       [5., 5., 5., 5., 5., 5.]])), (array([[5., 5., 5., 5., 5., 5.],\n",
      "       [5., 5., 5., 5., 5., 5.],\n",
      "       [5., 5., 5., 5., 5., 5.],\n",
      "       [5., 5., 5., 5., 5., 5.],\n",
      "       [5., 5., 5., 5., 5., 5.]]), array([[4., 4., 4., 4., 4., 4.],\n",
      "       [4., 4., 4., 4., 4., 4.],\n",
      "       [4., 4., 4., 4., 4., 4.],\n",
      "       [4., 4., 4., 4., 4., 4.],\n",
      "       [4., 4., 4., 4., 4., 4.]])))\n"
     ]
    },
    {
     "name": "stderr",
     "output_type": "stream",
     "text": [
      "/var/folders/2b/_2y31vzs4sl_7rngh2yghbpw0000gn/T/ipykernel_54076/2733611767.py:25: UserWarning: Field View Program 'conditional_tuple_nested': Using Python execution, consider selecting a perfomance backend.\n",
      "  conditional_tuple_nested(mask, a, b, c, d, result_1, result_2, offset_provider={})\n"
     ]
    }
   ],
   "source": [
    "a = gtx.as_field([CellDim, KDim], np.full(shape=grid_shape, fill_value=2.0, dtype=np.float64))\n",
    "b = gtx.as_field([CellDim, KDim], np.full(shape=grid_shape, fill_value=3.0, dtype=np.float64))\n",
    "c = gtx.as_field([CellDim, KDim], np.full(shape=grid_shape, fill_value=4.0, dtype=np.float64))\n",
    "d = gtx.as_field([CellDim, KDim], np.full(shape=grid_shape, fill_value=5.0, dtype=np.float64))\n",
    "\n",
    "result_1 = gtx.as_field([CellDim, KDim], np.zeros(shape=grid_shape))\n",
    "result_2 = gtx.as_field([CellDim, KDim], np.zeros(shape=grid_shape))\n",
    "\n",
    "@gtx.field_operator\n",
    "def _conditional_tuple_nested(\n",
    "    mask: gtx.Field[Dims[CellDim, KDim], bool], a: gtx.Field[Dims[CellDim, KDim], float64], b: gtx.Field[Dims[CellDim, KDim], float64], c: gtx.Field[Dims[CellDim, KDim], float64], d: gtx.Field[Dims[CellDim, KDim], float64]\n",
    ") -> tuple[\n",
    "    tuple[gtx.Field[Dims[CellDim, KDim], float64], gtx.Field[Dims[CellDim, KDim], float64]],\n",
    "    tuple[gtx.Field[Dims[CellDim, KDim], float64], gtx.Field[Dims[CellDim, KDim], float64]],\n",
    "]:\n",
    "    return where(mask, ((a, b), (b, a)), ((c, d), (d, c)))\n",
    "\n",
    "@gtx.program\n",
    "def conditional_tuple_nested(\n",
    "    mask: gtx.Field[Dims[CellDim, KDim], bool], a: gtx.Field[Dims[CellDim, KDim], float64], b: gtx.Field[Dims[CellDim, KDim], float64], c: gtx.Field[Dims[CellDim, KDim], float64], d: gtx.Field[Dims[CellDim, KDim], float64],\n",
    "    result_1: gtx.Field[Dims[CellDim, KDim], float64], result_2: gtx.Field[Dims[CellDim, KDim], float64]\n",
    "):\n",
    "    _conditional_tuple_nested(mask, a, b, c, d, out=((result_1, result_2), (result_2, result_1)))\n",
    "\n",
    "conditional_tuple_nested(mask, a, b, c, d, result_1, result_2, offset_provider={})\n",
    "print(\"where nested tuple return: {}\".format(((result_1.asnumpy(), result_2.asnumpy()), (result_2.asnumpy(), result_1.asnumpy()))))"
   ]
  },
  {
   "cell_type": "markdown",
   "id": "e84a2ab0",
   "metadata": {},
   "source": [
    "#### Implementing the pseudo-laplacian\n",
    "\n",
    "As explained in the section outline, the pseudo-laplacian needs the cell-to-edge connectivities as well in addition to the edge-to-cell connectivities. Though the connectivity table has been filled in above, you still need to define the local dimension, the field offset, and the offset provider that describe how to use the connectivity table. The procedure is identical to the edge-to-cell connectivity from before:"
   ]
  },
  {
   "cell_type": "code",
   "execution_count": 19,
   "id": "6d29d55e",
   "metadata": {},
   "outputs": [],
   "source": [
    "C2EDim = gtx.Dimension(\"C2E\", kind=gtx.DimensionKind.LOCAL)\n",
    "C2E = gtx.FieldOffset(\"C2E\", source=EdgeDim, target=(CellDim, C2EDim))\n",
    "\n",
    "C2E_offset_provider = gtx.NeighborTableOffsetProvider(cell_to_edge_table, CellDim, EdgeDim, 3, False)"
   ]
  },
  {
   "cell_type": "markdown",
   "id": "f05223a2",
   "metadata": {},
   "source": [
    "**Weights of edge differences:**\n",
    "\n",
    "Revisiting the example from the beginning of the section, the equation of the pseudo-laplacian for cell \\#1 is:\n",
    "$$\\text{pseudolap}(cell_1) = -\\text{edge_diff}_{0,1} + \\text{edge_diff}_{1,2} + \\text{edge_diff}_{1,3}$$\n",
    "\n",
    "Notice how $\\text{edge_diff}_{0,1}$ is actually subtracted from the sum rather than added. This is because the edge to cell connectivity table lists cell \\#1 as the second argument to the subtraction rather than the first, so the difference calculated on the edge will be the opposite sign for this particular cell. To fix this, a table that has three elements for every cell is needed, specifying the sign of the difference on the three adjacent edges. If you look for cell \\#1 in the `edge_weights` table below, you can see that the sign is negative for the first edge difference and positive for the second and third, just like in the equation above."
   ]
  },
  {
   "cell_type": "markdown",
   "id": "72aa615a",
   "metadata": {},
   "source": [
    "In addition to the signs, there is an issue with the border edges as well for which the edge difference is undefined because they only have one cell neighbor. For the pseudo-laplacian, the edge difference for border edges is considered zero. You can achieve this in the calculations by zeroing out the weights for the border edges in the edge weight table."
   ]
  },
  {
   "cell_type": "markdown",
   "id": "77108acd",
   "metadata": {},
   "source": [
    "Incorporating both the signs and the zeros for the border edges, the final edge weights are the following:"
   ]
  },
  {
   "cell_type": "code",
   "execution_count": 20,
   "id": "7624e74c",
   "metadata": {},
   "outputs": [],
   "source": [
    "edge_weights = np.array([\n",
    "    [0, 1, 1],   # cell 0\n",
    "    [-1, 1, 1],  # cell 1\n",
    "    [0, 0, -1],  # cell 2\n",
    "    [0, -1, 1],  # cell 3\n",
    "    [0, -1, 1],  # cell 4\n",
    "    [0, -1, -1], # cell 5\n",
    "], dtype=np.float64)\n",
    "\n",
    "edge_weight_field = gtx.as_field([CellDim, C2EDim], edge_weights)"
   ]
  },
  {
   "cell_type": "markdown",
   "id": "e34a4392",
   "metadata": {},
   "source": [
    "Now you have everything to implement the pseudo-laplacian. Its field operator requires the cell field and the edge weights as inputs, and outputs a cell field of the same shape as the input.\n",
    "\n",
    "The first line of the field operator calculates the edge difference for all edges. This is done by creating a temporary field over edges with the value of the first cell neighbour and another temporary field with the value of the second, and the difference of the two fields gives the `edge_differences`.\n",
    "\n",
    "The second lines first creates a temporary field using `edge_differences(C2E)`, which contains the three adjacent edge differences for every cell. This table is then multiplied elementwise with the `edge_weights`. The final result is a field over cells that contains the pseudo-laplacian."
   ]
  },
  {
   "cell_type": "code",
   "execution_count": 21,
   "id": "edaf8479",
   "metadata": {},
   "outputs": [],
   "source": [
    "@gtx.field_operator\n",
    "def pseudo_lap(cells : gtx.Field[Dims[CellDim], float64],\n",
    "               edge_weights : gtx.Field[Dims[CellDim, C2EDim], float64]) -> gtx.Field[Dims[CellDim], float64]:\n",
    "    edge_differences = cells(E2C[0]) - cells(E2C[1]) # type: gtx.Field[Dims[EdgeDim], float64]\n",
    "    return neighbor_sum(edge_differences(C2E) * edge_weights, axis=C2EDim)"
   ]
  },
  {
   "cell_type": "markdown",
   "id": "0e4e9e82",
   "metadata": {},
   "source": [
    "The program itself is just a shallow wrapper over the `pseudo_lap` field operator. The significant part is how offset providers for both the edge-to-cell and cell-to-edge connectivities are supplied when the program is called:"
   ]
  },
  {
   "cell_type": "code",
   "execution_count": 22,
   "id": "d1ae76a9",
   "metadata": {},
   "outputs": [
    {
     "name": "stderr",
     "output_type": "stream",
     "text": [
      "/var/folders/2b/_2y31vzs4sl_7rngh2yghbpw0000gn/T/ipykernel_54076/1009201932.py:9: UserWarning: Field View Program 'run_pseudo_laplacian': Using Python execution, consider selecting a perfomance backend.\n",
      "  run_pseudo_laplacian(cell_values,\n"
     ]
    },
    {
     "ename": "ValueError",
     "evalue": "Restriction generates non-contiguous dimensions.",
     "output_type": "error",
     "traceback": [
      "\u001b[0;31m---------------------------------------------------------------------------\u001b[0m",
      "\u001b[0;31mValueError\u001b[0m                                Traceback (most recent call last)",
      "Cell \u001b[0;32mIn[22], line 9\u001b[0m\n\u001b[1;32m      5\u001b[0m     pseudo_lap(cells, edge_weights, out\u001b[38;5;241m=\u001b[39mout)\n\u001b[1;32m      7\u001b[0m result_pseudo_lap \u001b[38;5;241m=\u001b[39m gtx\u001b[38;5;241m.\u001b[39mas_field([CellDim], np\u001b[38;5;241m.\u001b[39mzeros(shape\u001b[38;5;241m=\u001b[39m(\u001b[38;5;241m6\u001b[39m,)))\n\u001b[0;32m----> 9\u001b[0m \u001b[43mrun_pseudo_laplacian\u001b[49m\u001b[43m(\u001b[49m\u001b[43mcell_values\u001b[49m\u001b[43m,\u001b[49m\n\u001b[1;32m     10\u001b[0m \u001b[43m                     \u001b[49m\u001b[43medge_weight_field\u001b[49m\u001b[43m,\u001b[49m\n\u001b[1;32m     11\u001b[0m \u001b[43m                     \u001b[49m\u001b[43mresult_pseudo_lap\u001b[49m\u001b[43m,\u001b[49m\n\u001b[1;32m     12\u001b[0m \u001b[43m                     \u001b[49m\u001b[43moffset_provider\u001b[49m\u001b[38;5;241;43m=\u001b[39;49m\u001b[43m{\u001b[49m\u001b[38;5;124;43m\"\u001b[39;49m\u001b[38;5;124;43mE2C\u001b[39;49m\u001b[38;5;124;43m\"\u001b[39;49m\u001b[43m:\u001b[49m\u001b[43m \u001b[49m\u001b[43mE2C_offset_provider\u001b[49m\u001b[43m,\u001b[49m\u001b[43m \u001b[49m\u001b[38;5;124;43m\"\u001b[39;49m\u001b[38;5;124;43mC2E\u001b[39;49m\u001b[38;5;124;43m\"\u001b[39;49m\u001b[43m:\u001b[49m\u001b[43m \u001b[49m\u001b[43mC2E_offset_provider\u001b[49m\u001b[43m}\u001b[49m\u001b[43m)\u001b[49m\n\u001b[1;32m     14\u001b[0m \u001b[38;5;28mprint\u001b[39m(\u001b[38;5;124m\"\u001b[39m\u001b[38;5;124mpseudo-laplacian: \u001b[39m\u001b[38;5;132;01m{}\u001b[39;00m\u001b[38;5;124m\"\u001b[39m\u001b[38;5;241m.\u001b[39mformat(result_pseudo_lap\u001b[38;5;241m.\u001b[39masnumpy()))\n",
      "File \u001b[0;32m~/gt4py-update_types/gt4py/src/gt4py/next/ffront/decorator.py:305\u001b[0m, in \u001b[0;36mProgram.__call__\u001b[0;34m(self, offset_provider, *args, **kwargs)\u001b[0m\n\u001b[1;32m    298\u001b[0m     warnings\u001b[38;5;241m.\u001b[39mwarn(\n\u001b[1;32m    299\u001b[0m         \u001b[38;5;167;01mUserWarning\u001b[39;00m(\n\u001b[1;32m    300\u001b[0m             \u001b[38;5;124mf\u001b[39m\u001b[38;5;124m\"\u001b[39m\u001b[38;5;124mField View Program \u001b[39m\u001b[38;5;124m'\u001b[39m\u001b[38;5;132;01m{\u001b[39;00m\u001b[38;5;28mself\u001b[39m\u001b[38;5;241m.\u001b[39mitir\u001b[38;5;241m.\u001b[39mid\u001b[38;5;132;01m}\u001b[39;00m\u001b[38;5;124m'\u001b[39m\u001b[38;5;124m: Using Python execution, consider selecting a perfomance backend.\u001b[39m\u001b[38;5;124m\"\u001b[39m\n\u001b[1;32m    301\u001b[0m         ),\n\u001b[1;32m    302\u001b[0m         stacklevel\u001b[38;5;241m=\u001b[39m\u001b[38;5;241m2\u001b[39m,\n\u001b[1;32m    303\u001b[0m     )\n\u001b[1;32m    304\u001b[0m     \u001b[38;5;28;01mwith\u001b[39;00m next_embedded\u001b[38;5;241m.\u001b[39mcontext\u001b[38;5;241m.\u001b[39mnew_context(offset_provider\u001b[38;5;241m=\u001b[39moffset_provider) \u001b[38;5;28;01mas\u001b[39;00m ctx:\n\u001b[0;32m--> 305\u001b[0m         \u001b[43mctx\u001b[49m\u001b[38;5;241;43m.\u001b[39;49m\u001b[43mrun\u001b[49m\u001b[43m(\u001b[49m\u001b[38;5;28;43mself\u001b[39;49m\u001b[38;5;241;43m.\u001b[39;49m\u001b[43mdefinition\u001b[49m\u001b[43m,\u001b[49m\u001b[43m \u001b[49m\u001b[38;5;241;43m*\u001b[39;49m\u001b[43mrewritten_args\u001b[49m\u001b[43m,\u001b[49m\u001b[43m \u001b[49m\u001b[38;5;241;43m*\u001b[39;49m\u001b[38;5;241;43m*\u001b[39;49m\u001b[43mkwargs\u001b[49m\u001b[43m)\u001b[49m\n\u001b[1;32m    306\u001b[0m     \u001b[38;5;28;01mreturn\u001b[39;00m\n\u001b[1;32m    308\u001b[0m ppi\u001b[38;5;241m.\u001b[39mensure_processor_kind(\u001b[38;5;28mself\u001b[39m\u001b[38;5;241m.\u001b[39mbackend, ppi\u001b[38;5;241m.\u001b[39mProgramExecutor)\n",
      "Cell \u001b[0;32mIn[22], line 5\u001b[0m, in \u001b[0;36mrun_pseudo_laplacian\u001b[0;34m(cells, edge_weights, out)\u001b[0m\n\u001b[1;32m      1\u001b[0m \u001b[38;5;129m@gtx\u001b[39m\u001b[38;5;241m.\u001b[39mprogram\n\u001b[1;32m      2\u001b[0m \u001b[38;5;28;01mdef\u001b[39;00m \u001b[38;5;21mrun_pseudo_laplacian\u001b[39m(cells : gtx\u001b[38;5;241m.\u001b[39mField[Dims[CellDim], float64],\n\u001b[1;32m      3\u001b[0m                          edge_weights : gtx\u001b[38;5;241m.\u001b[39mField[Dims[CellDim, C2EDim], float64],\n\u001b[1;32m      4\u001b[0m                          out : gtx\u001b[38;5;241m.\u001b[39mField[Dims[CellDim], float64]):\n\u001b[0;32m----> 5\u001b[0m     \u001b[43mpseudo_lap\u001b[49m\u001b[43m(\u001b[49m\u001b[43mcells\u001b[49m\u001b[43m,\u001b[49m\u001b[43m \u001b[49m\u001b[43medge_weights\u001b[49m\u001b[43m,\u001b[49m\u001b[43m \u001b[49m\u001b[43mout\u001b[49m\u001b[38;5;241;43m=\u001b[39;49m\u001b[43mout\u001b[49m\u001b[43m)\u001b[49m\n",
      "File \u001b[0;32m~/gt4py-update_types/gt4py/src/gt4py/next/ffront/decorator.py:757\u001b[0m, in \u001b[0;36mFieldOperator.__call__\u001b[0;34m(self, *args, **kwargs)\u001b[0m\n\u001b[1;32m    755\u001b[0m \u001b[38;5;28;01melse\u001b[39;00m:\n\u001b[1;32m    756\u001b[0m     op \u001b[38;5;241m=\u001b[39m embedded_operators\u001b[38;5;241m.\u001b[39mEmbeddedOperator(\u001b[38;5;28mself\u001b[39m\u001b[38;5;241m.\u001b[39mdefinition)\n\u001b[0;32m--> 757\u001b[0m \u001b[38;5;28;01mreturn\u001b[39;00m \u001b[43membedded_operators\u001b[49m\u001b[38;5;241;43m.\u001b[39;49m\u001b[43mfield_operator_call\u001b[49m\u001b[43m(\u001b[49m\u001b[43mop\u001b[49m\u001b[43m,\u001b[49m\u001b[43m \u001b[49m\u001b[43margs\u001b[49m\u001b[43m,\u001b[49m\u001b[43m \u001b[49m\u001b[43mkwargs\u001b[49m\u001b[43m)\u001b[49m\n",
      "File \u001b[0;32m~/gt4py-update_types/gt4py/src/gt4py/next/embedded/operators.py:113\u001b[0m, in \u001b[0;36mfield_operator_call\u001b[0;34m(op, args, kwargs)\u001b[0m\n\u001b[1;32m    110\u001b[0m     new_context_kwargs[\u001b[38;5;124m\"\u001b[39m\u001b[38;5;124mclosure_column_range\u001b[39m\u001b[38;5;124m\"\u001b[39m] \u001b[38;5;241m=\u001b[39m _get_vertical_range(out_domain)\n\u001b[1;32m    112\u001b[0m     \u001b[38;5;28;01mwith\u001b[39;00m embedded_context\u001b[38;5;241m.\u001b[39mnew_context(\u001b[38;5;241m*\u001b[39m\u001b[38;5;241m*\u001b[39mnew_context_kwargs) \u001b[38;5;28;01mas\u001b[39;00m ctx:\n\u001b[0;32m--> 113\u001b[0m         res \u001b[38;5;241m=\u001b[39m \u001b[43mctx\u001b[49m\u001b[38;5;241;43m.\u001b[39;49m\u001b[43mrun\u001b[49m\u001b[43m(\u001b[49m\u001b[43mop\u001b[49m\u001b[43m,\u001b[49m\u001b[43m \u001b[49m\u001b[38;5;241;43m*\u001b[39;49m\u001b[43margs\u001b[49m\u001b[43m,\u001b[49m\u001b[43m \u001b[49m\u001b[38;5;241;43m*\u001b[39;49m\u001b[38;5;241;43m*\u001b[39;49m\u001b[43mkwargs\u001b[49m\u001b[43m)\u001b[49m\n\u001b[1;32m    114\u001b[0m         _tuple_assign_field(\n\u001b[1;32m    115\u001b[0m             out,\n\u001b[1;32m    116\u001b[0m             res,\n\u001b[1;32m    117\u001b[0m             domain\u001b[38;5;241m=\u001b[39mout_domain,\n\u001b[1;32m    118\u001b[0m         )\n\u001b[1;32m    119\u001b[0m \u001b[38;5;28;01melse\u001b[39;00m:\n\u001b[1;32m    120\u001b[0m     \u001b[38;5;66;03m# called from other field_operator or missing `out` argument\u001b[39;00m\n",
      "File \u001b[0;32m~/gt4py-update_types/gt4py/src/gt4py/next/embedded/operators.py:36\u001b[0m, in \u001b[0;36mEmbeddedOperator.__call__\u001b[0;34m(self, *args, **kwargs)\u001b[0m\n\u001b[1;32m     35\u001b[0m \u001b[38;5;28;01mdef\u001b[39;00m \u001b[38;5;21m__call__\u001b[39m(\u001b[38;5;28mself\u001b[39m, \u001b[38;5;241m*\u001b[39margs: _P\u001b[38;5;241m.\u001b[39margs, \u001b[38;5;241m*\u001b[39m\u001b[38;5;241m*\u001b[39mkwargs: _P\u001b[38;5;241m.\u001b[39mkwargs) \u001b[38;5;241m-\u001b[39m\u001b[38;5;241m>\u001b[39m _R:\n\u001b[0;32m---> 36\u001b[0m     \u001b[38;5;28;01mreturn\u001b[39;00m \u001b[38;5;28;43mself\u001b[39;49m\u001b[38;5;241;43m.\u001b[39;49m\u001b[43mfun\u001b[49m\u001b[43m(\u001b[49m\u001b[38;5;241;43m*\u001b[39;49m\u001b[43margs\u001b[49m\u001b[43m,\u001b[49m\u001b[43m \u001b[49m\u001b[38;5;241;43m*\u001b[39;49m\u001b[38;5;241;43m*\u001b[39;49m\u001b[43mkwargs\u001b[49m\u001b[43m)\u001b[49m\n",
      "Cell \u001b[0;32mIn[21], line 5\u001b[0m, in \u001b[0;36mpseudo_lap\u001b[0;34m(cells, edge_weights)\u001b[0m\n\u001b[1;32m      1\u001b[0m \u001b[38;5;129m@gtx\u001b[39m\u001b[38;5;241m.\u001b[39mfield_operator\n\u001b[1;32m      2\u001b[0m \u001b[38;5;28;01mdef\u001b[39;00m \u001b[38;5;21mpseudo_lap\u001b[39m(cells : gtx\u001b[38;5;241m.\u001b[39mField[Dims[CellDim], float64],\n\u001b[1;32m      3\u001b[0m                edge_weights : gtx\u001b[38;5;241m.\u001b[39mField[Dims[CellDim, C2EDim], float64]) \u001b[38;5;241m-\u001b[39m\u001b[38;5;241m>\u001b[39m gtx\u001b[38;5;241m.\u001b[39mField[Dims[CellDim], float64]:\n\u001b[1;32m      4\u001b[0m     edge_differences \u001b[38;5;241m=\u001b[39m cells(E2C[\u001b[38;5;241m0\u001b[39m]) \u001b[38;5;241m-\u001b[39m cells(E2C[\u001b[38;5;241m1\u001b[39m]) \u001b[38;5;66;03m# type: gtx.Field[Dims[EdgeDim], float64]\u001b[39;00m\n\u001b[0;32m----> 5\u001b[0m     \u001b[38;5;28;01mreturn\u001b[39;00m neighbor_sum(\u001b[43medge_differences\u001b[49m\u001b[43m(\u001b[49m\u001b[43mC2E\u001b[49m\u001b[43m)\u001b[49m \u001b[38;5;241m*\u001b[39m edge_weights, axis\u001b[38;5;241m=\u001b[39mC2EDim)\n",
      "File \u001b[0;32m~/gt4py-update_types/gt4py/src/gt4py/next/embedded/nd_array_field.py:194\u001b[0m, in \u001b[0;36mNdArrayField.remap\u001b[0;34m(self, connectivity)\u001b[0m\n\u001b[1;32m    191\u001b[0m     \u001b[38;5;28;01mraise\u001b[39;00m \u001b[38;5;167;01mValueError\u001b[39;00m(\u001b[38;5;124mf\u001b[39m\u001b[38;5;124m\"\u001b[39m\u001b[38;5;124mIncompatible index field, expected a field with dimension \u001b[39m\u001b[38;5;124m'\u001b[39m\u001b[38;5;132;01m{\u001b[39;00mdim\u001b[38;5;132;01m}\u001b[39;00m\u001b[38;5;124m'\u001b[39m\u001b[38;5;124m.\u001b[39m\u001b[38;5;124m\"\u001b[39m)\n\u001b[1;32m    193\u001b[0m current_range: common\u001b[38;5;241m.\u001b[39mUnitRange \u001b[38;5;241m=\u001b[39m \u001b[38;5;28mself\u001b[39m\u001b[38;5;241m.\u001b[39mdomain[dim_idx][\u001b[38;5;241m1\u001b[39m]\n\u001b[0;32m--> 194\u001b[0m new_ranges \u001b[38;5;241m=\u001b[39m \u001b[43mconnectivity\u001b[49m\u001b[38;5;241;43m.\u001b[39;49m\u001b[43minverse_image\u001b[49m\u001b[43m(\u001b[49m\u001b[43mcurrent_range\u001b[49m\u001b[43m)\u001b[49m\n\u001b[1;32m    195\u001b[0m new_domain \u001b[38;5;241m=\u001b[39m \u001b[38;5;28mself\u001b[39m\u001b[38;5;241m.\u001b[39mdomain\u001b[38;5;241m.\u001b[39mreplace(dim_idx, \u001b[38;5;241m*\u001b[39mnew_ranges)\n\u001b[1;32m    197\u001b[0m \u001b[38;5;66;03m# perform contramap\u001b[39;00m\n",
      "File \u001b[0;32m~/gt4py-update_types/gt4py/src/gt4py/next/embedded/nd_array_field.py:424\u001b[0m, in \u001b[0;36mNdArrayConnectivityField.inverse_image\u001b[0;34m(self, image_range)\u001b[0m\n\u001b[1;32m    421\u001b[0m relative_ranges \u001b[38;5;241m=\u001b[39m _hypercube(\u001b[38;5;28mself\u001b[39m\u001b[38;5;241m.\u001b[39m_ndarray, image_range, xp, \u001b[38;5;28mself\u001b[39m\u001b[38;5;241m.\u001b[39mskip_value)\n\u001b[1;32m    423\u001b[0m \u001b[38;5;28;01mif\u001b[39;00m relative_ranges \u001b[38;5;129;01mis\u001b[39;00m \u001b[38;5;28;01mNone\u001b[39;00m:\n\u001b[0;32m--> 424\u001b[0m     \u001b[38;5;28;01mraise\u001b[39;00m \u001b[38;5;167;01mValueError\u001b[39;00m(\u001b[38;5;124m\"\u001b[39m\u001b[38;5;124mRestriction generates non-contiguous dimensions.\u001b[39m\u001b[38;5;124m\"\u001b[39m)\n\u001b[1;32m    426\u001b[0m new_dims \u001b[38;5;241m=\u001b[39m [\n\u001b[1;32m    427\u001b[0m     common\u001b[38;5;241m.\u001b[39mnamed_range((d, rr \u001b[38;5;241m+\u001b[39m ar\u001b[38;5;241m.\u001b[39mstart))\n\u001b[1;32m    428\u001b[0m     \u001b[38;5;28;01mfor\u001b[39;00m d, ar, rr \u001b[38;5;129;01min\u001b[39;00m \u001b[38;5;28mzip\u001b[39m(\u001b[38;5;28mself\u001b[39m\u001b[38;5;241m.\u001b[39mdomain\u001b[38;5;241m.\u001b[39mdims, \u001b[38;5;28mself\u001b[39m\u001b[38;5;241m.\u001b[39mdomain\u001b[38;5;241m.\u001b[39mranges, relative_ranges)\n\u001b[1;32m    429\u001b[0m ]\n\u001b[1;32m    431\u001b[0m \u001b[38;5;28mself\u001b[39m\u001b[38;5;241m.\u001b[39m_cache[cache_key] \u001b[38;5;241m=\u001b[39m new_dims\n",
      "\u001b[0;31mValueError\u001b[0m: Restriction generates non-contiguous dimensions."
     ]
    }
   ],
   "source": [
    "@gtx.program\n",
    "def run_pseudo_laplacian(cells : gtx.Field[Dims[CellDim], float64],\n",
    "                         edge_weights : gtx.Field[Dims[CellDim, C2EDim], float64],\n",
    "                         out : gtx.Field[Dims[CellDim], float64]):\n",
    "    pseudo_lap(cells, edge_weights, out=out)\n",
    "\n",
    "result_pseudo_lap = gtx.as_field([CellDim], np.zeros(shape=(6,)))\n",
    "\n",
    "run_pseudo_laplacian(cell_values,\n",
    "                     edge_weight_field,\n",
    "                     result_pseudo_lap,\n",
    "                     offset_provider={\"E2C\": E2C_offset_provider, \"C2E\": C2E_offset_provider})\n",
    "\n",
    "print(\"pseudo-laplacian: {}\".format(result_pseudo_lap.asnumpy()))"
   ]
  },
  {
   "cell_type": "markdown",
   "id": "f557f630",
   "metadata": {},
   "source": [
    "As a closure, here is an example of chaining field operators, which is very simple to do when working with fields. The field operator below executes the pseudo-laplacian, and then calls the pseudo-laplacian on the result of the first, in effect, calculating the laplacian of a laplacian."
   ]
  },
  {
   "cell_type": "code",
   "execution_count": 23,
   "id": "256f60df",
   "metadata": {},
   "outputs": [],
   "source": [
    "@gtx.field_operator\n",
    "def pseudo_laplap(cells : gtx.Field[Dims[CellDim], float64],\n",
    "                  edge_weights : gtx.Field[Dims[CellDim, C2EDim], float64]) -> gtx.Field[Dims[CellDim], float64]:\n",
    "    return pseudo_lap(pseudo_lap(cells, edge_weights), edge_weights)"
   ]
  },
  {
   "cell_type": "code",
   "execution_count": null,
   "id": "ec7d6431-bcc5-4543-a689-37e486dce1c6",
   "metadata": {},
   "outputs": [],
   "source": []
  }
 ],
 "metadata": {
  "jupytext": {
   "formats": "ipynb,md:myst"
  },
  "kernelspec": {
   "display_name": "Python 3 (ipykernel)",
   "language": "python",
   "name": "python3"
  },
  "language_info": {
   "codemirror_mode": {
    "name": "ipython",
    "version": 3
   },
   "file_extension": ".py",
   "mimetype": "text/x-python",
   "name": "python",
   "nbconvert_exporter": "python",
   "pygments_lexer": "ipython3",
   "version": "3.10.0"
  }
 },
 "nbformat": 4,
 "nbformat_minor": 5
}

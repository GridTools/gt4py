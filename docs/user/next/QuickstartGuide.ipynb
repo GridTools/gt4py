{
 "cells": [
  {
   "cell_type": "markdown",
   "id": "c61a91e0",
   "metadata": {},
   "source": [
    "# Getting started with the GT4Py declarative frontend"
   ]
  },
  {
   "cell_type": "markdown",
   "id": "fff5fb73",
   "metadata": {},
   "source": [
    "## Installation\n",
    "\n",
    "You can install the library directly from GitHub using pip:"
   ]
  },
  {
   "cell_type": "raw",
   "id": "1c7fcf0f",
   "metadata": {},
   "source": [
    "pip install --upgrade git+https://github.com/gridtools/gt4py.git"
   ]
  },
  {
   "cell_type": "markdown",
   "id": "5ca3fabe",
   "metadata": {},
   "source": [
    "## Programming guide\n",
    "\n",
    "### Key concepts and application structure\n",
    "\n",
    "This section introduces three concepts for storing and manipulating data:\n",
    "\n",
    "- [Fields](#Fields),\n",
    "- [Field operators](#Field-operators), and\n",
    "- [Programs](#Programs).\n",
    "\n",
    "The concepts are demonstrated through a simple application that adds two fields."
   ]
  },
  {
   "cell_type": "markdown",
   "id": "c4b905fa",
   "metadata": {},
   "source": [
    "#### Importing features\n",
    "\n",
    "The following snippet imports the most commonly used features that are needed to run the code in this document. Numpy is also required by the examples."
   ]
  },
  {
   "cell_type": "code",
   "execution_count": null,
   "id": "9293a63d",
   "metadata": {},
   "outputs": [],
   "source": [
    "import numpy as np\n",
    "\n",
    "import gt4py.next as gtx\n",
    "from gt4py.next import float64, neighbor_sum, where, Dims"
   ]
  },
  {
   "cell_type": "markdown",
   "id": "f8f2e323",
   "metadata": {},
   "source": [
    "#### Fields\n",
    "\n",
    "Fields store data as a multi-dimensional array, and are defined over a set of named dimensions. The code snippet below defines two named dimensions, _Cell_ and _K_, and creates the fields `a` and `b` over their cartesian product using the `gtx.as_field` helper function. The fields contain the values 2 for `a` and 3 for `b` for all entries."
   ]
  },
  {
   "cell_type": "code",
   "execution_count": null,
   "id": "6158e99f",
   "metadata": {},
   "outputs": [],
   "source": [
    "CellDim = gtx.Dimension(\"Cell\")\n",
    "KDim = gtx.Dimension(\"K\")\n",
    "\n",
    "num_cells = 5\n",
    "num_layers = 6\n",
    "grid_shape = (num_cells, num_layers)\n",
    "\n",
    "a_value = 2.0\n",
    "b_value = 3.0\n",
    "a = gtx.as_field([CellDim, KDim], np.full(shape=grid_shape, fill_value=a_value, dtype=np.float64))\n",
    "b = gtx.as_field([CellDim, KDim], np.full(shape=grid_shape, fill_value=b_value, dtype=np.float64))"
   ]
  },
  {
   "cell_type": "markdown",
   "id": "c9dd4c5f",
   "metadata": {},
   "source": [
    "Additional numpy-equivalent constructors are available, namely `ones`, `zeros`, `empty`, `full`. These require domain, dtype, and allocator (e.g. a backend) specifications."
   ]
  },
  {
   "cell_type": "code",
   "execution_count": null,
   "id": "4f632c69",
   "metadata": {},
   "outputs": [],
   "source": [
    "I = gtx.Dimension(\"I\")\n",
    "J = gtx.Dimension(\"J\")\n",
    "\n",
    "array_of_ones_numpy = np.ones((grid_shape[0], grid_shape[1]))\n",
    "field_of_ones = gtx.ones(\n",
    "    domain={I: range(grid_shape[0]), J: range(grid_shape[0])},\n",
    "    dtype=np.float64,\n",
    "    allocator=gtx.itir_python,\n",
    ")"
   ]
  },
  {
   "cell_type": "markdown",
   "id": "7e5bc602",
   "metadata": {},
   "source": [
    "#### Field operators\n",
    "\n",
    "Field operators perform operations on a set of fields, for example, elementwise addition or reduction along a dimension. You can write field operators as Python functions by using the `@field_operator` decorator. Field operators cannot have side effects, therefore you cannot modify its arguments within their body. Only a subset of the Python syntax is allowed inside field operators—the library checks for correctness.\n",
    "\n",
    "Let's see an example for a field operator that adds two fields elementwise:"
   ]
  },
  {
   "cell_type": "code",
   "execution_count": null,
   "id": "ca7005ef",
   "metadata": {},
   "outputs": [],
   "source": [
    "@gtx.field_operator\n",
    "def add(\n",
    "    a: gtx.Field[Dims[CellDim, KDim], float64], b: gtx.Field[Dims[CellDim, KDim], float64]\n",
    ") -> gtx.Field[Dims[CellDim, KDim], float64]:\n",
    "    return a + b"
   ]
  },
  {
   "cell_type": "markdown",
   "id": "706ad52f",
   "metadata": {},
   "source": [
    "\\_Note: for now `Dims` is not mandatory, hence this type hint is also accepted: `gtx.Field[[CellDim, KDim], float64]`\n",
    "You can call field operators from [programs](#Programs), other field operators, or directly. The code snippet below shows a direct call, in which case you have to supply two additional arguments: `out`, which is a field to write the return value to, and `offset_provider`, which is left empty for now. The result of the field operator is a field with all entries equal to 5, but for brevity, only the average and the standard deviation of the entries are printed:"
   ]
  },
  {
   "cell_type": "code",
   "execution_count": null,
   "id": "62d7c326",
   "metadata": {},
   "outputs": [],
   "source": [
    "result = gtx.as_field([CellDim, KDim], np.zeros(shape=grid_shape))\n",
    "add(a, b, out=result, offset_provider={})\n",
    "\n",
    "print(\n",
    "    \"{} + {} = {} ± {}\".format(\n",
    "        a_value, b_value, np.average(result.asnumpy()), np.std(result.asnumpy())\n",
    "    )\n",
    ")"
   ]
  },
  {
   "cell_type": "markdown",
   "id": "40976c61",
   "metadata": {},
   "source": [
    "#### Programs"
   ]
  },
  {
   "cell_type": "markdown",
   "id": "2e6ab31f",
   "metadata": {},
   "source": [
    "Programs let you group together multiple field operator calls as a sequence of operations. They are similar to field operators in that they also use a decorator (`@program`) and that they can only use a subset of the Python syntax, but programs can mutate their arguments. Currently, the syntax inside programs is limited to calling field operators.\n",
    "\n",
    "This example program below calls the above elementwise addition field operator twice:"
   ]
  },
  {
   "cell_type": "code",
   "execution_count": null,
   "id": "aa41648c",
   "metadata": {},
   "outputs": [],
   "source": [
    "@gtx.program\n",
    "def run_add(\n",
    "    a: gtx.Field[Dims[CellDim, KDim], float64],\n",
    "    b: gtx.Field[Dims[CellDim, KDim], float64],\n",
    "    result: gtx.Field[Dims[CellDim, KDim], float64],\n",
    "):\n",
    "    add(a, b, out=result)\n",
    "    add(b, result, out=result)"
   ]
  },
  {
   "cell_type": "markdown",
   "id": "84e00703",
   "metadata": {},
   "source": [
    "You can execute the program by simply calling it:"
   ]
  },
  {
   "cell_type": "code",
   "execution_count": null,
   "id": "c6258083",
   "metadata": {},
   "outputs": [],
   "source": [
    "result = gtx.as_field([CellDim, KDim], np.zeros(shape=grid_shape))\n",
    "run_add(a, b, result, offset_provider={})\n",
    "\n",
    "print(\n",
    "    \"{} + {} = {} ± {}\".format(\n",
    "        b_value, (a_value + b_value), np.average(result.asnumpy()), np.std(result.asnumpy())\n",
    "    )\n",
    ")"
   ]
  },
  {
   "cell_type": "markdown",
   "id": "16aa95e5",
   "metadata": {},
   "source": [
    "#### Composing field operators and programs\n",
    "\n",
    "When writing complex applications, you have to decompose it into _field operators_, _programs_, and Python (or other) code that glues it all together. The general advice is to follow best practices and write short and concise field operators that serve a single purpose. To maximise automatic optimization, use external glue code sparingly and group your field operators inside _programs_ as much as you can. Consequently, directly calling field operators is primarily used for debugging purposes."
   ]
  },
  {
   "cell_type": "markdown",
   "id": "2ab03626",
   "metadata": {},
   "source": [
    "### Operations on unstructured meshes\n",
    "\n",
    "This section introduces additional APIs through a slightly more elaborate application that performs a laplacian-like operation on an unstructured mesh. Within the context of this guide, we define the _pseudo-laplacian_ for a cell as the sum of the _edge differences_ around the cell. For example, the pseudo-laplacian for cell \\#1, which is surrounded by edges \\#7, \\#8 and \\#9, is expressed by the formula:\n",
    "\n",
    "$$\\begin{aligned}\\text{pseudolap}(cell_1) =\\,& \\text{edge_diff}_7 + \\text{edge_diff}_8 + \\text{edge_diff}_9 \\end{aligned}$$.\n",
    "\n",
    "The edge difference above is defined as the difference between the two cells adjacent to and edge, so for edge \\#7 the equation is:\n",
    "\n",
    "$$\\begin{aligned} \\text{edge_diff}_7 =\\,& \\text{edge_diff}_{0,1} = \\text{value_of}(\\text{cell}_0) - \\text{value_of}(\\text{cell}_1) \\end{aligned}$$\n",
    "\n",
    "The sign of the edge difference in the sum of the pseudo-laplacian is always such that the neighbor cell is subtracted from the subject cell, not the other way around.\n",
    "\n",
    "This section approaches the pseudo-laplacian by introducing the required APIs progressively through the following subsections:\n",
    "\n",
    "- [Getting started with the GT4Py declarative frontend](#getting-started-with-the-gt4py-declarative-frontend)\n",
    "  - [Installation](#installation)\n",
    "  - [Programming guide](#programming-guide)\n",
    "    - [Key concepts and application structure](#key-concepts-and-application-structure)\n",
    "      - [Importing features](#importing-features)\n",
    "      - [Fields](#fields)\n",
    "      - [Field operators](#field-operators)\n",
    "      - [Programs](#programs)\n",
    "      - [Composing field operators and programs](#composing-field-operators-and-programs)\n",
    "    - [Operations on unstructured meshes](#operations-on-unstructured-meshes)\n",
    "      - [Defining the mesh and its connectivities](#defining-the-mesh-and-its-connectivities)\n",
    "      - [Using connectivities in field operators](#using-connectivities-in-field-operators)\n",
    "      - [Using reductions on connected mesh elements](#using-reductions-on-connected-mesh-elements)\n",
    "      - [Using conditionals on fields](#using-conditionals-on-fields)\n",
    "      - [Implementing the pseudo-laplacian](#implementing-the-pseudo-laplacian)"
   ]
  },
  {
   "cell_type": "markdown",
   "id": "6a43ce9c",
   "metadata": {},
   "source": [
    "#### Defining the mesh and its connectivities\n",
    "\n",
    "The examples related to unstructured meshes use the mesh below. The edges (in blue) and the cells (in red) are numbered with zero-based indices.\n",
    "\n",
    "| ![grid_topo](workshop/images/connectivity_numbered_grid.svg) |\n",
    "| :----------------------------------------------------------: |\n",
    "|                 _The mesh with the indices_                  |"
   ]
  },
  {
   "cell_type": "markdown",
   "id": "88a7405b",
   "metadata": {},
   "source": [
    "The fields in the subsequent code snippets are 1-dimensional, either over the cells or over the edges. The corresponding named dimensions are thus the following:"
   ]
  },
  {
   "cell_type": "code",
   "execution_count": null,
   "id": "9ad2b8b3",
   "metadata": {},
   "outputs": [],
   "source": [
    "CellDim = gtx.Dimension(\"Cell\")\n",
    "EdgeDim = gtx.Dimension(\"Edge\")"
   ]
  },
  {
   "cell_type": "markdown",
   "id": "8c97a80a",
   "metadata": {},
   "source": [
    "You can express connectivity between elements (i.e. cells or edges) of the mesh using connectivity (a.k.a. adjacency or neighborhood) tables. The table below, `edge_to_cell_table`, has one row for every edge where it lists the indices of cells adjacent to that edge. For example, this table says that edge \\#6 connects to cells \\#0 and \\#5. Similarly, `cell_to_edge_table` lists the edges that are neighbors to a particular cell.\n",
    "\n",
    "Note, however, that the tables are dense matrices, so if an edge has fewer than 2 neighbor cells, the remaining entries are filled with -1. You can also specify all kinds of connectivities like edge-to-edge, cell-to-edge or even cell-to-cell. The adjacency relationships don't have to be reciprocal, so it's possible for example that a cell lists an edge as its neighbour, but the edge does not list that particular cell.\n",
    "\n",
    "The edge-to-cell and cell-to-edge connectivity tables for the mesh are the following:"
   ]
  },
  {
   "cell_type": "code",
   "execution_count": null,
   "id": "7f80e905",
   "metadata": {},
   "outputs": [],
   "source": [
    "edge_to_cell_table = np.array(\n",
    "    [\n",
    "        [0, -1],  # edge 0 (neighbours: cell 0)\n",
    "        [2, -1],  # edge 1\n",
    "        [2, -1],  # edge 2\n",
    "        [3, -1],  # edge 3\n",
    "        [4, -1],  # edge 4\n",
    "        [5, -1],  # edge 5\n",
    "        [0, 5],  # edge 6 (neighbours: cell 0, cell 5)\n",
    "        [0, 1],  # edge 7\n",
    "        [1, 2],  # edge 8\n",
    "        [1, 3],  # edge 9\n",
    "        [3, 4],  # edge 10\n",
    "        [4, 5],  # edge 11\n",
    "    ]\n",
    ")\n",
    "\n",
    "cell_to_edge_table = np.array(\n",
    "    [\n",
    "        [0, 6, 7],  # cell 0 (neighbors: edge 0, edge 6, edge 7)\n",
    "        [7, 8, 9],  # cell 1\n",
    "        [1, 2, 8],  # cell 2\n",
    "        [3, 9, 10],  # cell 3\n",
    "        [4, 10, 11],  # cell 4\n",
    "        [5, 6, 11],  # cell 5\n",
    "    ]\n",
    ")"
   ]
  },
  {
   "cell_type": "markdown",
   "id": "c51410ca",
   "metadata": {},
   "source": [
    "#### Using connectivities in field operators\n",
    "\n",
    "Let's start by defining two fields: one over the cells and another one over the edges. The field over cells serves input for subsequent calculations and is therefore filled up with values, whereas the field over the edges stores the output of the calculations and is therefore left blank."
   ]
  },
  {
   "cell_type": "code",
   "execution_count": null,
   "id": "b4ac26cc",
   "metadata": {},
   "outputs": [],
   "source": [
    "cell_values = gtx.as_field([CellDim], np.array([1.0, 1.0, 2.0, 3.0, 5.0, 8.0]))\n",
    "edge_values = gtx.as_field([EdgeDim], np.zeros((12,)))"
   ]
  },
  {
   "cell_type": "markdown",
   "id": "21a09b87",
   "metadata": {},
   "source": [
    "| ![cell_values](workshop/images/connectivity_cell_field.svg) |\n",
    "| :---------------------------------------------------------: |\n",
    "|                        _Cell values_                        |"
   ]
  },
  {
   "cell_type": "markdown",
   "id": "59b82d59",
   "metadata": {},
   "source": [
    "You can transform fields (or tuples of fields) over one domain to another domain by using the call operator of the source field with a _field offset_ as argument. This transform uses the connectivity between the source and target domains to find the values of adjacent mesh elements.\n",
    "\n",
    "To understand this transform, you can look at the edge-to-cell connectivity table `edge_to_cell_table` listed above. This table has the same shape as the output of the transform, that is, one dimension over the edges and another _local_ dimension. The table stores indices into a field over cells, the transform essentially gives you another field where the indices have been replaced with the values in the cell field at the corresponding indices.\n",
    "\n",
    "Another way to look at it is that transform uses the edge-to-cell connectivity to look up all the cell neighbors of edges, and associates the values of those neighbor cells with each edge.\n",
    "\n",
    "You can use the field offset `E2C` below to transform a field over cells to a field over edges using the edge-to-cell connectivities:"
   ]
  },
  {
   "cell_type": "code",
   "execution_count": null,
   "id": "7fd6279f",
   "metadata": {},
   "outputs": [],
   "source": [
    "E2CDim = gtx.Dimension(\"E2C\", kind=gtx.DimensionKind.LOCAL)\n",
    "E2C = gtx.FieldOffset(\"E2C\", source=CellDim, target=(EdgeDim, E2CDim))"
   ]
  },
  {
   "cell_type": "markdown",
   "id": "056b24f0",
   "metadata": {},
   "source": [
    "Note that the field offset does not contain the actual connectivity table, that's provided through an _offset provider_:"
   ]
  },
  {
   "cell_type": "code",
   "execution_count": null,
   "id": "f67a6199",
   "metadata": {},
   "outputs": [],
   "source": [
    "E2C_offset_provider = gtx.as_connectivity(\n",
    "    [EdgeDim, E2CDim], codomain=CellDim, data=edge_to_cell_table, skip_value=-1\n",
    ")"
   ]
  },
  {
   "cell_type": "markdown",
   "id": "d8534c2b",
   "metadata": {},
   "source": [
    "The field operator `nearest_cell_to_edge` below shows an example of applying this transform. There is a little twist though: the subscript in `E2C[0]` means that only the value of the first connected cell is taken, the second (if exists) is ignored.\n",
    "\n",
    "Pay attention to the syntax where the field offset `E2C` can be freely accessed in the field operator, but the offset provider `E2C_offset_provider` is passed in a dictionary to the program."
   ]
  },
  {
   "cell_type": "code",
   "execution_count": null,
   "id": "c56d784b",
   "metadata": {},
   "outputs": [],
   "source": [
    "@gtx.field_operator\n",
    "def nearest_cell_to_edge(\n",
    "    cell_values: gtx.Field[Dims[CellDim], float64],\n",
    ") -> gtx.Field[Dims[EdgeDim], float64]:\n",
    "    return cell_values(E2C[0])\n",
    "\n",
    "\n",
    "@gtx.program\n",
    "def run_nearest_cell_to_edge(\n",
    "    cell_values: gtx.Field[Dims[CellDim], float64], out: gtx.Field[Dims[EdgeDim], float64]\n",
    "):\n",
    "    nearest_cell_to_edge(cell_values, out=out)\n",
    "\n",
    "\n",
    "run_nearest_cell_to_edge(cell_values, edge_values, offset_provider={\"E2C\": E2C_offset_provider})\n",
    "\n",
    "print(\"0th adjacent cell's value: {}\".format(edge_values.asnumpy()))"
   ]
  },
  {
   "cell_type": "markdown",
   "id": "24d13180",
   "metadata": {},
   "source": [
    "Running the above snippet results in the following edge field:\n",
    "\n",
    "| ![nearest_cell_values](workshop/images/connectivity_numbered_grid.svg) | $\\mapsto$ | ![grid_topo](workshop/images/connectivity_edge_0th_cell.svg) |\n",
    "| :--------------------------------------------------------------------: | :-------: | :----------------------------------------------------------: |\n",
    "|                            _Domain (edges)_                            |           |                        _Edge values_                         |"
   ]
  },
  {
   "cell_type": "markdown",
   "id": "a0211939",
   "metadata": {},
   "source": [
    "#### Using reductions on connected mesh elements\n",
    "\n",
    "Similarly to the previous example, the output is once again a field on edges. The difference is that this field operator does not take the first column of the transformed field, but sums the columns. In other words, the result is the sum of all the cells adjacent to an edge. You can achieve this by first transforming the cell field to a field over the cell neighbors of edges (i.e. a field of dimensions Edge × E2CDim) using `cells(E2C)`, then calling the `neighbor_sum` builtin function to sum along the `E2CDim` dimension."
   ]
  },
  {
   "cell_type": "code",
   "execution_count": null,
   "id": "81a89924",
   "metadata": {},
   "outputs": [],
   "source": [
    "@gtx.field_operator\n",
    "def sum_adjacent_cells(\n",
    "    cells: gtx.Field[Dims[CellDim], float64],\n",
    ") -> gtx.Field[Dims[EdgeDim], float64]:\n",
    "    # type of cells(E2C) is gtx.Field[Dims[EdgeDim, E2CDim], float64]\n",
    "    return neighbor_sum(cells(E2C), axis=E2CDim)\n",
    "\n",
    "\n",
    "@gtx.program\n",
    "def run_sum_adjacent_cells(\n",
    "    cells: gtx.Field[Dims[CellDim], float64], out: gtx.Field[Dims[EdgeDim], float64]\n",
    "):\n",
    "    sum_adjacent_cells(cells, out=out)\n",
    "\n",
    "\n",
    "run_sum_adjacent_cells(cell_values, edge_values, offset_provider={\"E2C\": E2C_offset_provider})\n",
    "\n",
    "print(\"sum of adjacent cells: {}\".format(edge_values.asnumpy()))"
   ]
  },
  {
   "cell_type": "markdown",
   "id": "a7a89830",
   "metadata": {},
   "source": [
    "For the border edges, the results are unchanged compared to the previous example, but the inner edges now contain the sum of the two adjacent cells:\n",
    "\n",
    "| ![nearest_cell_values](workshop/images/connectivity_numbered_grid.svg) | $\\mapsto$ | ![cell_values](workshop/images/connectivity_edge_cell_sum.svg) |\n",
    "| :--------------------------------------------------------------------: | :-------: | :------------------------------------------------------------: |\n",
    "|                            _Domain (edges)_                            |           |                         _Edge values_                          |"
   ]
  },
  {
   "cell_type": "markdown",
   "id": "c263849c",
   "metadata": {},
   "source": [
    "#### Using conditionals on fields\n",
    "\n",
    "Additionally to the `neighbor_sum` function, other builtins have been implemented. One of these is the `where`.\n",
    "This function takes 3 input arguments:\n",
    "\n",
    "- mask: a field with dtype boolean\n",
    "- true branch: a tuple, a field, or a scalar\n",
    "- false branch: a tuple, a field, of a scalar\n",
    "  The mask can be directly a field of booleans (e.g. `gtx.Field[Dims[CellDim], bool]`) or an expression evaluating to this type (e.g. `gtx.Field[[CellDim], float64] > 3`).\n",
    "  The `where` builtin loops over each entry of the mask and returns values corresponding to the same indexes of either the true or the false branch.\n",
    "  In the case where the true and false branches are either fields or scalars, the resulting output will be a field including all dimensions from all inputs. For example:"
   ]
  },
  {
   "cell_type": "code",
   "execution_count": null,
   "id": "7dfcb5ec",
   "metadata": {},
   "outputs": [],
   "source": [
    "mask = gtx.as_field([CellDim, KDim], np.zeros(shape=grid_shape, dtype=bool))\n",
    "result_where = gtx.as_field([CellDim, KDim], np.zeros(shape=grid_shape))\n",
    "b = 6.0\n",
    "\n",
    "\n",
    "@gtx.field_operator\n",
    "def conditional(\n",
    "    mask: gtx.Field[Dims[CellDim, KDim], bool], a: gtx.Field[Dims[CellDim, KDim], float64], b: float\n",
    ") -> gtx.Field[Dims[CellDim, KDim], float64]:\n",
    "    return where(mask, a, b)\n",
    "\n",
    "\n",
    "conditional(mask, a, b, out=result_where, offset_provider={})\n",
    "print(\"where return: {}\".format(result_where.asnumpy()))"
   ]
  },
  {
   "cell_type": "markdown",
   "id": "dc5be121",
   "metadata": {},
   "source": [
    "**Tuple implementation:**\n",
    "\n",
    "The `where` supports the return of tuples of fields. To perform promotion of dimensions and dtype of the output, all arguments are analyzed and promoted as in the above section."
   ]
  },
  {
   "cell_type": "code",
   "execution_count": null,
   "id": "217228fa",
   "metadata": {},
   "outputs": [],
   "source": [
    "result_1 = gtx.as_field([CellDim, KDim], np.zeros(shape=grid_shape))\n",
    "result_2 = gtx.as_field([CellDim, KDim], np.zeros(shape=grid_shape))\n",
    "\n",
    "\n",
    "@gtx.field_operator\n",
    "def _conditional_tuple(\n",
    "    mask: gtx.Field[Dims[CellDim, KDim], bool], a: gtx.Field[Dims[CellDim, KDim], float64], b: float\n",
    ") -> tuple[gtx.Field[Dims[CellDim, KDim], float64], gtx.Field[Dims[CellDim, KDim], float64]]:\n",
    "    return where(mask, (a, b), (b, a))\n",
    "\n",
    "\n",
    "@gtx.program\n",
    "def conditional_tuple(\n",
    "    mask: gtx.Field[Dims[CellDim, KDim], bool],\n",
    "    a: gtx.Field[Dims[CellDim, KDim], float64],\n",
    "    b: float,\n",
    "    result_1: gtx.Field[Dims[CellDim, KDim], float64],\n",
    "    result_2: gtx.Field[Dims[CellDim, KDim], float64],\n",
    "):\n",
    "    _conditional_tuple(mask, a, b, out=(result_1, result_2))\n",
    "\n",
    "\n",
    "conditional_tuple(mask, a, b, result_1, result_2, offset_provider={})\n",
    "print(\"where tuple return: {}\".format((result_1.asnumpy(), result_2.asnumpy())))"
   ]
  },
  {
   "cell_type": "markdown",
   "id": "7e10ffc7",
   "metadata": {},
   "source": [
    "The `where` builtin also allows for nesting of tuples. In this scenario, it will first perform an unrolling:\n",
    "\n",
    "`where(mask, ((a, b), (b, a)), ((c, d), (d, c)))` --> `where(mask, (a, b), (c, d))` and `where(mask, (b, a), (d, c))`\n",
    "\n",
    "and then combine results to match the return type:"
   ]
  },
  {
   "cell_type": "code",
   "execution_count": null,
   "id": "acc250e5",
   "metadata": {},
   "outputs": [],
   "source": [
    "a = gtx.as_field([CellDim, KDim], np.full(shape=grid_shape, fill_value=2.0, dtype=np.float64))\n",
    "b = gtx.as_field([CellDim, KDim], np.full(shape=grid_shape, fill_value=3.0, dtype=np.float64))\n",
    "c = gtx.as_field([CellDim, KDim], np.full(shape=grid_shape, fill_value=4.0, dtype=np.float64))\n",
    "d = gtx.as_field([CellDim, KDim], np.full(shape=grid_shape, fill_value=5.0, dtype=np.float64))\n",
    "\n",
    "result_1 = gtx.as_field([CellDim, KDim], np.zeros(shape=grid_shape))\n",
    "result_2 = gtx.as_field([CellDim, KDim], np.zeros(shape=grid_shape))\n",
    "\n",
    "\n",
    "@gtx.field_operator\n",
    "def _conditional_tuple_nested(\n",
    "    mask: gtx.Field[Dims[CellDim, KDim], bool],\n",
    "    a: gtx.Field[Dims[CellDim, KDim], float64],\n",
    "    b: gtx.Field[Dims[CellDim, KDim], float64],\n",
    "    c: gtx.Field[Dims[CellDim, KDim], float64],\n",
    "    d: gtx.Field[Dims[CellDim, KDim], float64],\n",
    ") -> tuple[\n",
    "    tuple[gtx.Field[Dims[CellDim, KDim], float64], gtx.Field[Dims[CellDim, KDim], float64]],\n",
    "    tuple[gtx.Field[Dims[CellDim, KDim], float64], gtx.Field[Dims[CellDim, KDim], float64]],\n",
    "]:\n",
    "    return where(mask, ((a, b), (b, a)), ((c, d), (d, c)))\n",
    "\n",
    "\n",
    "@gtx.program\n",
    "def conditional_tuple_nested(\n",
    "    mask: gtx.Field[Dims[CellDim, KDim], bool],\n",
    "    a: gtx.Field[Dims[CellDim, KDim], float64],\n",
    "    b: gtx.Field[Dims[CellDim, KDim], float64],\n",
    "    c: gtx.Field[Dims[CellDim, KDim], float64],\n",
    "    d: gtx.Field[Dims[CellDim, KDim], float64],\n",
    "    result_1: gtx.Field[Dims[CellDim, KDim], float64],\n",
    "    result_2: gtx.Field[Dims[CellDim, KDim], float64],\n",
    "):\n",
    "    _conditional_tuple_nested(mask, a, b, c, d, out=((result_1, result_2), (result_2, result_1)))\n",
    "\n",
    "\n",
    "conditional_tuple_nested(mask, a, b, c, d, result_1, result_2, offset_provider={})\n",
    "print(\n",
    "    \"where nested tuple return: {}\".format(\n",
    "        ((result_1.asnumpy(), result_2.asnumpy()), (result_2.asnumpy(), result_1.asnumpy()))\n",
    "    )\n",
    ")"
   ]
  },
  {
   "cell_type": "markdown",
   "id": "05f8c3d9",
   "metadata": {},
   "source": [
    "#### Implementing the pseudo-laplacian\n",
    "\n",
    "As explained in the section outline, the pseudo-laplacian needs the cell-to-edge connectivities as well in addition to the edge-to-cell connectivities. Though the connectivity table has been filled in above, you still need to define the local dimension, the field offset, and the offset provider that describe how to use the connectivity table. The procedure is identical to the edge-to-cell connectivity from before:"
   ]
  },
  {
   "cell_type": "code",
   "execution_count": null,
   "id": "9979cc70",
   "metadata": {},
   "outputs": [],
   "source": [
    "C2EDim = gtx.Dimension(\"C2E\", kind=gtx.DimensionKind.LOCAL)\n",
    "C2E = gtx.FieldOffset(\"C2E\", source=EdgeDim, target=(CellDim, C2EDim))\n",
    "\n",
    "C2E_offset_provider = gtx.as_connectivity(\n",
    "    [CellDim, C2EDim], codomain=EdgeDim, data=cell_to_edge_table, skip_value=-1\n",
    ")"
   ]
  },
  {
   "cell_type": "markdown",
   "id": "5d68596c",
   "metadata": {},
   "source": [
    "**Weights of edge differences:**\n",
    "\n",
    "Revisiting the example from the beginning of the section, the equation of the pseudo-laplacian for cell \\#1 is:\n",
    "$$\\text{pseudolap}(cell_1) = -\\text{edge_diff}_{0,1} + \\text{edge_diff}_{1,2} + \\text{edge_diff}_{1,3}$$\n",
    "\n",
    "Notice how $\\text{edge_diff}_{0,1}$ is actually subtracted from the sum rather than added. This is because the edge to cell connectivity table lists cell \\#1 as the second argument to the subtraction rather than the first, so the difference calculated on the edge will be the opposite sign for this particular cell. To fix this, a table that has three elements for every cell is needed, specifying the sign of the difference on the three adjacent edges. If you look for cell \\#1 in the `edge_weights` table below, you can see that the sign is negative for the first edge difference and positive for the second and third, just like in the equation above."
   ]
  },
  {
   "cell_type": "markdown",
   "id": "8a1a8181",
   "metadata": {},
   "source": [
    "In addition to the signs, there is an issue with the border edges as well for which the edge difference is undefined because they only have one cell neighbor. For the pseudo-laplacian, the edge difference for border edges is considered zero. You can achieve this in the calculations by zeroing out the weights for the border edges in the edge weight table."
   ]
  },
  {
   "cell_type": "markdown",
   "id": "8f8b9741",
   "metadata": {},
   "source": [
    "Incorporating both the signs and the zeros for the border edges, the final edge weights are the following:"
   ]
  },
  {
   "cell_type": "code",
   "execution_count": null,
   "id": "95f18e31",
   "metadata": {},
   "outputs": [],
   "source": [
    "edge_weights = np.array(\n",
    "    [\n",
    "        [0, 1, 1],  # cell 0\n",
    "        [-1, 1, 1],  # cell 1\n",
    "        [0, 0, -1],  # cell 2\n",
    "        [0, -1, 1],  # cell 3\n",
    "        [0, -1, 1],  # cell 4\n",
    "        [0, -1, -1],  # cell 5\n",
    "    ],\n",
    "    dtype=np.float64,\n",
    ")\n",
    "\n",
    "edge_weight_field = gtx.as_field([CellDim, C2EDim], edge_weights)"
   ]
  },
  {
   "cell_type": "markdown",
   "id": "bf74735b",
   "metadata": {},
   "source": [
    "Now you have everything to implement the pseudo-laplacian. Its field operator requires the cell field and the edge weights as inputs, and outputs a cell field of the same shape as the input.\n",
    "\n",
    "The first line of the field operator calculates the edge difference for all edges. This is done by creating a temporary field over edges with the value of the first cell neighbour and another temporary field with the value of the second, and the difference of the two fields gives the `edge_differences`.\n",
    "\n",
    "The second lines first creates a temporary field using `edge_differences(C2E)`, which contains the three adjacent edge differences for every cell. This table is then multiplied elementwise with the `edge_weights`. The final result is a field over cells that contains the pseudo-laplacian."
   ]
  },
  {
   "cell_type": "code",
   "execution_count": null,
   "id": "c56421ad",
   "metadata": {},
   "outputs": [],
   "source": [
    "@gtx.field_operator\n",
    "def pseudo_lap(\n",
    "    cells: gtx.Field[Dims[CellDim], float64],\n",
    "    edge_weights: gtx.Field[Dims[CellDim, C2EDim], float64],\n",
    ") -> gtx.Field[Dims[CellDim], float64]:\n",
    "    edges = cells(E2C[0])  # type: gtx.Field[Dims[EdgeDim], float64]\n",
    "    return neighbor_sum(edges(C2E) * edge_weights, axis=C2EDim)"
   ]
  },
  {
   "cell_type": "markdown",
   "id": "a60541fa",
   "metadata": {},
   "source": [
    "The program itself is just a shallow wrapper over the `pseudo_lap` field operator. The significant part is how offset providers for both the edge-to-cell and cell-to-edge connectivities are supplied when the program is called:"
   ]
  },
  {
   "cell_type": "code",
   "execution_count": null,
   "id": "909533ea",
   "metadata": {},
   "outputs": [],
   "source": [
    "@gtx.program\n",
    "def run_pseudo_laplacian(\n",
    "    cells: gtx.Field[Dims[CellDim], float64],\n",
    "    edge_weights: gtx.Field[Dims[CellDim, C2EDim], float64],\n",
    "    out: gtx.Field[Dims[CellDim], float64],\n",
    "):\n",
    "    pseudo_lap(cells, edge_weights, out=out)\n",
    "\n",
    "\n",
    "result_pseudo_lap = gtx.as_field([CellDim], np.zeros(shape=(6,)))\n",
    "\n",
    "run_pseudo_laplacian(\n",
    "    cell_values,\n",
    "    edge_weight_field,\n",
    "    result_pseudo_lap,\n",
    "    offset_provider={\"E2C\": E2C_offset_provider, \"C2E\": C2E_offset_provider},\n",
    ")\n",
    "\n",
    "print(\"pseudo-laplacian: {}\".format(result_pseudo_lap.asnumpy()))"
   ]
  },
  {
   "cell_type": "markdown",
   "id": "6d0d6aec",
   "metadata": {},
   "source": [
    "As a closure, here is an example of chaining field operators, which is very simple to do when working with fields. The field operator below executes the pseudo-laplacian, and then calls the pseudo-laplacian on the result of the first, in effect, calculating the laplacian of a laplacian."
   ]
  },
  {
   "cell_type": "code",
   "execution_count": null,
   "id": "6e52a1cb",
   "metadata": {},
   "outputs": [],
   "source": [
    "@gtx.field_operator\n",
    "def pseudo_laplap(\n",
    "    cells: gtx.Field[Dims[CellDim], float64],\n",
    "    edge_weights: gtx.Field[Dims[CellDim, C2EDim], float64],\n",
    ") -> gtx.Field[Dims[CellDim], float64]:\n",
    "    return pseudo_lap(pseudo_lap(cells, edge_weights), edge_weights)"
   ]
  },
  {
   "cell_type": "code",
   "execution_count": null,
   "id": "2e2ed303",
   "metadata": {},
   "outputs": [],
   "source": []
  }
 ],
 "metadata": {
  "jupytext": {
   "formats": "ipynb,md:myst"
  },
  "kernelspec": {
   "display_name": "Python 3 (ipykernel)",
   "language": "python",
   "name": "python3"
  }
 },
 "nbformat": 4,
 "nbformat_minor": 5
}
